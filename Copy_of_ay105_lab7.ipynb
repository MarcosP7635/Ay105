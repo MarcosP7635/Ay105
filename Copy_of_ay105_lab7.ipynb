{
  "nbformat": 4,
  "nbformat_minor": 0,
  "metadata": {
    "colab": {
      "provenance": []
    },
    "kernelspec": {
      "name": "python3",
      "display_name": "Python 3"
    },
    "language_info": {
      "name": "python"
    }
  },
  "cells": [
    {
      "cell_type": "code",
      "execution_count": 1,
      "metadata": {
        "colab": {
          "base_uri": "https://localhost:8080/"
        },
        "id": "T8jwMWX4rrRZ",
        "outputId": "ca621213-ba2a-44a9-ce9b-22e893a15b8a"
      },
      "outputs": [
        {
          "output_type": "stream",
          "name": "stdout",
          "text": [
            "Cloning into 'Computing-and-Formatting'...\n",
            "remote: Enumerating objects: 226, done.\u001b[K\n",
            "remote: Counting objects: 100% (226/226), done.\u001b[K\n",
            "remote: Compressing objects: 100% (169/169), done.\u001b[K\n",
            "remote: Total 226 (delta 102), reused 172 (delta 51), pack-reused 0\u001b[K\n",
            "Receiving objects: 100% (226/226), 8.71 MiB | 20.22 MiB/s, done.\n",
            "Resolving deltas: 100% (102/102), done.\n"
          ]
        }
      ],
      "source": [
        "!git clone https://github.com/MarcosP7635/Computing-and-Formatting\n",
        "!mv /content/Computing-and-Formatting/error_propagation.py /content/error_propagation.py"
      ]
    },
    {
      "cell_type": "code",
      "source": [
        "!pip install SymPy"
      ],
      "metadata": {
        "colab": {
          "base_uri": "https://localhost:8080/"
        },
        "id": "0fdWookps5l3",
        "outputId": "d253a001-451a-4a8a-b315-7e5d5d75f777"
      },
      "execution_count": 2,
      "outputs": [
        {
          "output_type": "stream",
          "name": "stdout",
          "text": [
            "Looking in indexes: https://pypi.org/simple, https://us-python.pkg.dev/colab-wheels/public/simple/\n",
            "Requirement already satisfied: SymPy in /usr/local/lib/python3.10/dist-packages (1.11.1)\n",
            "Requirement already satisfied: mpmath>=0.19 in /usr/local/lib/python3.10/dist-packages (from SymPy) (1.3.0)\n"
          ]
        }
      ]
    },
    {
      "cell_type": "code",
      "source": [
        "from error_propagation import *"
      ],
      "metadata": {
        "id": "lt6tV4DhtOK1",
        "colab": {
          "base_uri": "https://localhost:8080/"
        },
        "outputId": "ff68fd32-bc2b-4661-bba1-f45ccee155b9"
      },
      "execution_count": 3,
      "outputs": [
        {
          "output_type": "stream",
          "name": "stdout",
          "text": [
            "2.1459505607619285\n",
            "3.0730730555044836\n",
            "3.3370598254672865\n",
            "(a + 2)/(a + b*cos(pi*c/45))\n",
            "(3.50656581341894, 1.8267621151828408)\n"
          ]
        }
      ]
    },
    {
      "cell_type": "markdown",
      "source": [
        "s is the suppression, a is the brightest pixel value off-axis and b is the brightest pixel value on-axis\n",
        "\n",
        "Now to use the data we gathered in lab. https://docs.google.com/spreadsheets/d/1fLVuApN13zPYLhRTuFA6Mk44rkFdnLf2cU0qIMMxTrM/edit?usp=sharing"
      ],
      "metadata": {
        "id": "07meNH_9sydM"
      }
    },
    {
      "cell_type": "code",
      "source": [
        "from sympy.abc import *\n",
        "from sympy import *\n",
        "s = (a - b) / (c - b) #(off_axis - flat) / (on_axis - flat)\n",
        "general({228:.5, 20:.5, 46:.5}, s) "
      ],
      "metadata": {
        "colab": {
          "base_uri": "https://localhost:8080/"
        },
        "id": "mp6rQnh1rxaD",
        "outputId": "e6d3170b-5bce-4605-f48e-48360055e3a0"
      },
      "execution_count": 6,
      "outputs": [
        {
          "output_type": "stream",
          "name": "stdout",
          "text": [
            "0.00036982248520710064\n",
            "0.018491124260355034\n",
            "0.042159763313609475\n",
            "(a - b)/(-b + c)\n"
          ]
        },
        {
          "output_type": "execute_result",
          "data": {
            "text/plain": [
              "(8.0, 0.20532842792367909)"
            ]
          },
          "metadata": {},
          "execution_count": 6
        }
      ]
    }
  ]
}