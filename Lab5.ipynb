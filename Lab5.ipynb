{
 "cells": [
  {
   "cell_type": "markdown",
   "id": "c8ce434e",
   "metadata": {},
   "source": [
    "How the light diffracts through an aperture is simply the Fourier transform of the open telescope aperture, which for a circular aperture is the Airy function. The resolution is 1.22 times the number of wavelengths that make up the aperture's diameter. "
   ]
  },
  {
   "cell_type": "code",
   "execution_count": 3,
   "id": "81bda954",
   "metadata": {},
   "outputs": [],
   "source": [
    "x = 1.22 * 5 * 10**-7 / 10"
   ]
  },
  {
   "cell_type": "code",
   "execution_count": 4,
   "id": "c95d1cc5",
   "metadata": {},
   "outputs": [
    {
     "data": {
      "text/plain": [
       "3.496815286624204e-05"
      ]
     },
     "execution_count": 4,
     "metadata": {},
     "output_type": "execute_result"
    }
   ],
   "source": [
    "x * 3600 / (2*3.14)"
   ]
  },
  {
   "cell_type": "markdown",
   "id": "b8b113b7",
   "metadata": {},
   "source": [
    "Seeing is called by turbulence. The atmosphere can be imagined to be a boiling liquid. The best sites in the world have seeing limited to 0.5 arcseconds. Lucky imaging (lots of samples to capture the brief moments where seeing is good). Turbulence is defined by the Fried parameter, and the larger the aperture, the  more independent turbulence we have. This creates lots of speckles. AO has much better technology in the military, and astronomers are very behind. We can use a Na D laser to make a closed loop so we can characterize the atmosphere. The Strethl ratio $\\frac{P(0)}{?}$\n",
    "\n",
    "The Fried parameter $r_0\\propto\\lambda^{6/5}$ \n",
    "\n",
    "Seeing $\\theta_0 = \\frac{r_0}{\\lambda}\\propto \\lambda^{1/5}$ \n",
    "\n",
    "Coherence time $\\tau_0=0.31 r_0/V\\propto\\lambda^{6/5}$ \n",
    "\n",
    "Greenwood Frequency \n",
    "\n",
    "Deformable mirrors apply the opposite distortion that the atmosphere does as a function of phase. \n",
    "\n",
    "Shack-Hartman Wave Front Sensor: how do you measure the distortion of the atmosphere? Generate a set of a dots through which the wavefront propagates. Shack added the idea of using micro-lenses to efficiently control the wavefront errors on a very fine scale. Separate the light into different paths using a lenselet. \n",
    "\n",
    "Adaptive optics attempts to distort the mirror in real time. There are multiple types of distortable mirrors: continuous facesheet, segmented, and liquid crystal. The control computer will distort a mirror and the goal is to close the loop. The premise is that there was a magnitude 6 earthquake. \n"
   ]
  },
  {
   "cell_type": "markdown",
   "id": "f394cce5",
   "metadata": {},
   "source": [
    "Clarification: \n",
    "\n",
    "More lenient with earlier reports. The quantitative uncertainty must be justified for each measurement (e.g. systematic error from the instrument or statistical or both). Every time you show a component you should give both the component number and the relevant distances. The data analysis section should be very mathematically detailed, and so the equation should be as well. The part numbers can be identified if it's special but one sentence saying \"I used TR3 posts\" is good. The photos are supplementary, you should hand draw images. You still need to incorporate the information from a sketch, including distances and distance references. Your work should be replicable. Record changes, and if the same drawing gets messy, and describe the final set up in detail. \n",
    "\n",
    "Error propagation! Systematic and statistical error. As long as you capture what you use. Explicity write the analytic form for the equation you use in addition to the Python script! Compare the measured result to the theoretical result that you would expect. \n",
    "Handwriting make it legible!! \n",
    "\n",
    "The rubric! The pre lab questions aren't being graded, and everyone should still do it! Get a head start on all of the lab exercises! You don't have to write it up neatly, but doing it quickly is good. Everything in the lab report should be hand written. .25 points increments for not handwriting. "
   ]
  },
  {
   "cell_type": "code",
   "execution_count": 5,
   "id": "f1e29824",
   "metadata": {},
   "outputs": [
    {
     "data": {
      "text/plain": [
       "5.083333333333334e-05"
      ]
     },
     "execution_count": 5,
     "metadata": {},
     "output_type": "execute_result"
    }
   ],
   "source": [
    "x / (1.2 * 10**-3)"
   ]
  },
  {
   "cell_type": "code",
   "execution_count": null,
   "id": "075dc08b",
   "metadata": {},
   "outputs": [],
   "source": []
  }
 ],
 "metadata": {
  "kernelspec": {
   "display_name": "Python 3 (ipykernel)",
   "language": "python",
   "name": "python3"
  },
  "language_info": {
   "codemirror_mode": {
    "name": "ipython",
    "version": 3
   },
   "file_extension": ".py",
   "mimetype": "text/x-python",
   "name": "python",
   "nbconvert_exporter": "python",
   "pygments_lexer": "ipython3",
   "version": "3.9.13"
  },
  "latex_envs": {
   "LaTeX_envs_menu_present": true,
   "autoclose": false,
   "autocomplete": true,
   "bibliofile": "biblio.bib",
   "cite_by": "apalike",
   "current_citInitial": 1,
   "eqLabelWithNumbers": true,
   "eqNumInitial": 1,
   "hotkeys": {
    "equation": "Ctrl-E",
    "itemize": "Ctrl-I"
   },
   "labels_anchors": false,
   "latex_user_defs": false,
   "report_style_numbering": false,
   "user_envs_cfg": false
  },
  "toc": {
   "base_numbering": 1,
   "nav_menu": {},
   "number_sections": true,
   "sideBar": true,
   "skip_h1_title": false,
   "title_cell": "Table of Contents",
   "title_sidebar": "Contents",
   "toc_cell": false,
   "toc_position": {},
   "toc_section_display": true,
   "toc_window_display": true
  },
  "varInspector": {
   "cols": {
    "lenName": 16,
    "lenType": 16,
    "lenVar": 40
   },
   "kernels_config": {
    "python": {
     "delete_cmd_postfix": "",
     "delete_cmd_prefix": "del ",
     "library": "var_list.py",
     "varRefreshCmd": "print(var_dic_list())"
    },
    "r": {
     "delete_cmd_postfix": ") ",
     "delete_cmd_prefix": "rm(",
     "library": "var_list.r",
     "varRefreshCmd": "cat(var_dic_list()) "
    }
   },
   "types_to_exclude": [
    "module",
    "function",
    "builtin_function_or_method",
    "instance",
    "_Feature"
   ],
   "window_display": false
  }
 },
 "nbformat": 4,
 "nbformat_minor": 5
}
