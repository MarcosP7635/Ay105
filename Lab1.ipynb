{
 "cells": [
  {
   "cell_type": "code",
   "execution_count": 236,
   "id": "ea1733e2",
   "metadata": {
    "scrolled": false
   },
   "outputs": [
    {
     "data": {
      "text/latex": [
       "$\\displaystyle \\hbar$"
      ],
      "text/plain": [
       "hbar"
      ]
     },
     "execution_count": 236,
     "metadata": {},
     "output_type": "execute_result"
    }
   ],
   "source": [
    "import numpy as np;\n",
    "import matplotlib.pyplot as plt\n",
    "from astropy.io import fits\n",
    "import math\n",
    "from scipy.optimize import curve_fit\n",
    "import glob\n",
    "import os\n",
    "import sys\n",
    "import matplotlib.backends.backend_pdf\n",
    "import matplotlib.gridspec as gridspec\n",
    "from scipy.stats import norm\n",
    "from scipy.stats import lognorm\n",
    "from scipy import linalg\n",
    "import pprint\n",
    "import re\n",
    "plt.rc('font', family='serif')\n",
    "from matplotlib import rc\n",
    "import pandas as pd\n",
    "from astropy import constants as const\n",
    "from astropy import units as units\n",
    "from IPython.display import Markdown as md\n",
    "import sympy\n",
    "from sympy import integrate, diff, sqrt, cos, sin, pi, exp, log\n",
    "from sympy.abc import * \n",
    "i = sqrt(-1)\n",
    "import numpy as np\n",
    "import sympy.printing as printing\n",
    "latp = printing.latex\n",
    "hbar = sympy.symbols(\"hbar\", real=True)\n",
    "import mpmath \n",
    "import plotly.express as px\n",
    "hbar"
   ]
  },
  {
   "cell_type": "markdown",
   "id": "8bf3ec80",
   "metadata": {},
   "source": [
    "Where $B$ is the spectral radiance and $f$ is the frequency, we have Planck's law of Blackbody Radiation. We will be using CGS units."
   ]
  },
  {
   "cell_type": "code",
   "execution_count": 244,
   "id": "8b4080a1",
   "metadata": {
    "scrolled": false
   },
   "outputs": [
    {
     "data": {
      "text/markdown": [
       "We have the Planck Blackbody Law\\begin{equation} B_l = \\frac{2 h v^{3}}{c^{2} \\left(e^{\\frac{h v}{T k_{B}}} - 1\\right)}\\end{equation}"
      ],
      "text/plain": [
       "<IPython.core.display.Markdown object>"
      ]
     },
     "execution_count": 244,
     "metadata": {},
     "output_type": "execute_result"
    }
   ],
   "source": [
    "def B(T, l, number = False, dps=50):\n",
    "    if number:\n",
    "        mpmath.mp.dps = dps\n",
    "        k_B = const.k_B.value\n",
    "        h = const.h.value\n",
    "        c = const.c.value\n",
    "        T = mpmath.mpmathify(T)\n",
    "        return 2*h* ( ( c / l )**3 ) / (\n",
    "            c**2 * (mpmath.exp(h * c/ (l * k_B * T)) - 1))\n",
    "    else:\n",
    "        k_B, h, c = sympy.symbols(\"k_B h c\")\n",
    "        return 2*h* ( ( c / l )**3 ) / (\n",
    "            c**2 * (exp(h * c/ (l * k_B * T)) - 1))\n",
    "md(\"We have the Planck Blackbody Law\" + \"\\\\begin{equation} B_l = \" + latp(B(T,c/v))\n",
    "   + \"\\\\end{equation}\")"
   ]
  },
  {
   "cell_type": "code",
   "execution_count": 263,
   "id": "a7ba59a4",
   "metadata": {},
   "outputs": [],
   "source": [
    "from sympy.plotting import plot\n",
    "def plot_planck(T):\n",
    "    #plt.figure(figsize=(5,5))\n",
    "    plt.figure(dpi = 800)\n",
    "    wavelengths = np.linspace(350 * 10**-9, 1600 * 10**-9, 10**5)\n",
    "    radiances = [B(T, l, True) for l in wavelengths]\n",
    "    plt.scatter(wavelengths, radiances)\n",
    "    plt.xlabel(\"Wavelength (m)\")\n",
    "    plt.grid()\n",
    "    plt.ylabel(\"Spectral Radiance (W Hz$^{-1}$ sr$^{-1}$ m$^2$)\") \n",
    "    plt.title(str(T) + \" Kelvin Ideal Blackbody\")\n",
    "    '''\n",
    "    plot(b_fun, xlim = (350 * 10**-9, 1600 * 10**-9), ylim=(.9,10),\n",
    "        adaptive = False, nb_of_points = 10**8, yscale=\"log\", xlabel = \"Wavelength (nm)\",\n",
    "        title = \"Planck Function for Blackbody at \" + str(T) + \" Kelvin\",\n",
    "        ylabel = \"Spectral Radiance (W Hz$^{-1}$ sr$^{-1}$ m$^2$)\")\n",
    "    '''\n",
    "    return plt"
   ]
  },
  {
   "cell_type": "code",
   "execution_count": null,
   "id": "55ab5c88",
   "metadata": {
    "scrolled": true
   },
   "outputs": [],
   "source": [
    "plot_planck(300)"
   ]
  },
  {
   "cell_type": "code",
   "execution_count": null,
   "id": "4d7c56f4",
   "metadata": {},
   "outputs": [],
   "source": [
    "plot_planck(1000)"
   ]
  },
  {
   "cell_type": "code",
   "execution_count": null,
   "id": "e09b322c",
   "metadata": {
    "scrolled": false
   },
   "outputs": [],
   "source": [
    "plot_planck(3000)"
   ]
  },
  {
   "cell_type": "code",
   "execution_count": null,
   "id": "1841d7c3",
   "metadata": {},
   "outputs": [],
   "source": [
    "plot_planck(5000)"
   ]
  },
  {
   "cell_type": "code",
   "execution_count": 259,
   "id": "301964dc",
   "metadata": {
    "scrolled": false
   },
   "outputs": [
    {
     "name": "stdout",
     "output_type": "stream",
     "text": [
      "-4.9999999999999999644733850823019973008295631257525 -11.480132488738328539155182878367842691858105964728\n",
      "-5.5228787452803375517024728445662672420376910518749 -9.9114962528973159081789007475600640111092417400786\n",
      "-6.0000000000000000196526453297206160616919506824173 -8.4801324887383286630048454686219256681457103788396\n",
      "-6.2218487496163563871438785317410077257236319367645 -7.8145862398892592686797972725455481807151190300996\n"
     ]
    }
   ],
   "source": [
    "temp_list = [300, 1000, 3000, 5000]\n",
    "for T in temp_list:\n",
    "    peak = (3 * units.mm / T).to(units.m).value\n",
    "    print(mpmath.log10(peak), mpmath.log10(B(T, peak, True)))"
   ]
  },
  {
   "cell_type": "code",
   "execution_count": null,
   "id": "7d71b19f",
   "metadata": {},
   "outputs": [],
   "source": []
  }
 ],
 "metadata": {
  "kernelspec": {
   "display_name": "Python 3 (ipykernel)",
   "language": "python",
   "name": "python3"
  },
  "language_info": {
   "codemirror_mode": {
    "name": "ipython",
    "version": 3
   },
   "file_extension": ".py",
   "mimetype": "text/x-python",
   "name": "python",
   "nbconvert_exporter": "python",
   "pygments_lexer": "ipython3",
   "version": "3.9.13"
  },
  "latex_envs": {
   "LaTeX_envs_menu_present": true,
   "autoclose": false,
   "autocomplete": true,
   "bibliofile": "biblio.bib",
   "cite_by": "apalike",
   "current_citInitial": 1,
   "eqLabelWithNumbers": true,
   "eqNumInitial": 1,
   "hotkeys": {
    "equation": "Ctrl-E",
    "itemize": "Ctrl-I"
   },
   "labels_anchors": false,
   "latex_user_defs": false,
   "report_style_numbering": false,
   "user_envs_cfg": false
  },
  "varInspector": {
   "cols": {
    "lenName": 16,
    "lenType": 16,
    "lenVar": 40
   },
   "kernels_config": {
    "python": {
     "delete_cmd_postfix": "",
     "delete_cmd_prefix": "del ",
     "library": "var_list.py",
     "varRefreshCmd": "print(var_dic_list())"
    },
    "r": {
     "delete_cmd_postfix": ") ",
     "delete_cmd_prefix": "rm(",
     "library": "var_list.r",
     "varRefreshCmd": "cat(var_dic_list()) "
    }
   },
   "types_to_exclude": [
    "module",
    "function",
    "builtin_function_or_method",
    "instance",
    "_Feature"
   ],
   "window_display": false
  }
 },
 "nbformat": 4,
 "nbformat_minor": 5
}
