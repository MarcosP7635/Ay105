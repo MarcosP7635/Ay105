{
 "cells": [
  {
   "cell_type": "code",
   "execution_count": 15,
   "id": "5aa9d8af",
   "metadata": {
    "scrolled": true
   },
   "outputs": [
    {
     "data": {
      "text/latex": [
       "$\\displaystyle \\hbar$"
      ],
      "text/plain": [
       "hbar"
      ]
     },
     "execution_count": 15,
     "metadata": {},
     "output_type": "execute_result"
    }
   ],
   "source": [
    "from astropy import constants as const\n",
    "from astropy import units as units\n",
    "from IPython.display import Markdown as md\n",
    "import sympy\n",
    "from sympy import integrate, diff, sqrt, cos, sin, pi, exp, log\n",
    "from sympy.abc import * \n",
    "i = sqrt(-1)\n",
    "import numpy as np\n",
    "import sympy.printing as printing\n",
    "latp = printing.latex\n",
    "hbar = sympy.symbols(\"hbar\", real=True)\n",
    "hbar"
   ]
  },
  {
   "cell_type": "code",
   "execution_count": 17,
   "id": "67873ff8",
   "metadata": {},
   "outputs": [
    {
     "data": {
      "text/plain": [
       "10.476820702927927"
      ]
     },
     "execution_count": 17,
     "metadata": {},
     "output_type": "execute_result"
    }
   ],
   "source": []
  },
  {
   "cell_type": "markdown",
   "id": "cb9eecc1",
   "metadata": {},
   "source": [
    "Where $B$ is the spectral radiance and $f$ is the frequency, we have Planck's law of Blackbody Radiation. We will be using CGS units."
   ]
  },
  {
   "cell_type": "code",
   "execution_count": 18,
   "id": "3e06c1ca",
   "metadata": {},
   "outputs": [
    {
     "data": {
      "text/markdown": [
       "In CGS units, we have \\begin{equation} B = \\frac{1.32521403 \\cdot 10^{-26} f^{3}}{8.98755178736818 \\cdot 10^{20} e^{\\frac{4.79924307336622 \\cdot 10^{-11} f}{T}} - 8.98755178736818 \\cdot 10^{20}}\\end{equation}"
      ],
      "text/plain": [
       "<IPython.core.display.Markdown object>"
      ]
     },
     "execution_count": 18,
     "metadata": {},
     "output_type": "execute_result"
    }
   ],
   "source": [
    "k_B = const.k_B.to(units.erg/units.Kelvin).value\n",
    "h = const.h.to(units.erg * units.second).value\n",
    "c = const.c.to(units.cm / units.second).value\n",
    "B = 2*h* (f**3) / (c**2 * (exp(h * f/ (k_B * T)) - 1))\n",
    "md(\"In CGS units, we have \" + \"\\\\begin{equation} B = \" + latp(B)\n",
    "   + \"\\\\end{equation}\")"
   ]
  },
  {
   "cell_type": "code",
   "execution_count": 11,
   "id": "7f905f74",
   "metadata": {},
   "outputs": [
    {
     "data": {
      "text/plain": [
       "6.62607015e-27"
      ]
     },
     "execution_count": 11,
     "metadata": {},
     "output_type": "execute_result"
    }
   ],
   "source": [
    "from sympy.plotting import plot\n",
    "plot_img = plot(sympy.cos( t ) ** 2, ylabel = \"Probability\")"
   ]
  },
  {
   "cell_type": "code",
   "execution_count": null,
   "id": "9ff1e1ac",
   "metadata": {},
   "outputs": [],
   "source": []
  }
 ],
 "metadata": {
  "kernelspec": {
   "display_name": "Python 3 (ipykernel)",
   "language": "python",
   "name": "python3"
  },
  "language_info": {
   "codemirror_mode": {
    "name": "ipython",
    "version": 3
   },
   "file_extension": ".py",
   "mimetype": "text/x-python",
   "name": "python",
   "nbconvert_exporter": "python",
   "pygments_lexer": "ipython3",
   "version": "3.9.13"
  },
  "latex_envs": {
   "LaTeX_envs_menu_present": true,
   "autoclose": false,
   "autocomplete": true,
   "bibliofile": "biblio.bib",
   "cite_by": "apalike",
   "current_citInitial": 1,
   "eqLabelWithNumbers": true,
   "eqNumInitial": 1,
   "hotkeys": {
    "equation": "Ctrl-E",
    "itemize": "Ctrl-I"
   },
   "labels_anchors": false,
   "latex_user_defs": false,
   "report_style_numbering": false,
   "user_envs_cfg": false
  },
  "varInspector": {
   "cols": {
    "lenName": 16,
    "lenType": 16,
    "lenVar": 40
   },
   "kernels_config": {
    "python": {
     "delete_cmd_postfix": "",
     "delete_cmd_prefix": "del ",
     "library": "var_list.py",
     "varRefreshCmd": "print(var_dic_list())"
    },
    "r": {
     "delete_cmd_postfix": ") ",
     "delete_cmd_prefix": "rm(",
     "library": "var_list.r",
     "varRefreshCmd": "cat(var_dic_list()) "
    }
   },
   "types_to_exclude": [
    "module",
    "function",
    "builtin_function_or_method",
    "instance",
    "_Feature"
   ],
   "window_display": false
  }
 },
 "nbformat": 4,
 "nbformat_minor": 5
}
