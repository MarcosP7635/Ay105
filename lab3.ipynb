{
 "cells": [
  {
   "cell_type": "code",
   "execution_count": 1,
   "id": "88b643bc",
   "metadata": {
    "ExecuteTime": {
     "end_time": "2023-06-18T08:53:49.594179Z",
     "start_time": "2023-06-18T08:53:45.335672Z"
    }
   },
   "outputs": [
    {
     "data": {
      "text/latex": [
       "$\\displaystyle \\hbar$"
      ],
      "text/plain": [
       "hbar"
      ]
     },
     "execution_count": 1,
     "metadata": {},
     "output_type": "execute_result"
    }
   ],
   "source": [
    "import numpy as np\n",
    "import matplotlib.pyplot as plt\n",
    "from astropy.io import fits\n",
    "import math\n",
    "from scipy.optimize import curve_fit\n",
    "import glob\n",
    "import os\n",
    "import sys\n",
    "import matplotlib.backends.backend_pdf\n",
    "import matplotlib.gridspec as gridspec\n",
    "from scipy.stats import norm\n",
    "from scipy.stats import lognorm\n",
    "from scipy import linalg\n",
    "import pprint\n",
    "import re\n",
    "plt.rc('font', family='serif')\n",
    "from matplotlib import rc\n",
    "import pandas as pd\n",
    "from astropy import constants as const\n",
    "from astropy import units as units\n",
    "from IPython.display import Markdown as md\n",
    "import sympy\n",
    "import pandas\n",
    "from sympy import integrate, diff, sqrt, cos, sin, pi, exp, log\n",
    "from sympy.abc import * \n",
    "i = sqrt(-1)\n",
    "import numpy as np\n",
    "import sympy.printing as printing\n",
    "latp = printing.latex\n",
    "hbar = sympy.symbols(\"hbar\", real=True)\n",
    "import mpmath \n",
    "import plotly.express as px\n",
    "import plotly.graph_objs as go\n",
    "hbar"
   ]
  },
  {
   "cell_type": "code",
   "execution_count": 2,
   "id": "cf6b9e2d",
   "metadata": {
    "ExecuteTime": {
     "end_time": "2023-06-18T08:53:49.753463Z",
     "start_time": "2023-06-18T08:53:49.596629Z"
    }
   },
   "outputs": [
    {
     "name": "stdout",
     "output_type": "stream",
     "text": [
      "2.1459505607619285\n",
      "3.0730730555044836\n",
      "3.3370598254672865\n",
      "(a + 2)/(a + b*cos(pi*c/45))\n",
      "(3.50656581341894, 1.8267621151828408)\n"
     ]
    }
   ],
   "source": [
    "from error_propagation import *"
   ]
  },
  {
   "cell_type": "markdown",
   "id": "89a7d78a",
   "metadata": {},
   "source": [
    "The above output is correct"
   ]
  },
  {
   "cell_type": "code",
   "execution_count": 3,
   "id": "29f594a8",
   "metadata": {
    "ExecuteTime": {
     "end_time": "2023-06-18T08:53:49.799658Z",
     "start_time": "2023-06-18T08:53:49.755399Z"
    }
   },
   "outputs": [
    {
     "data": {
      "text/html": [
       "<div>\n",
       "<style scoped>\n",
       "    .dataframe tbody tr th:only-of-type {\n",
       "        vertical-align: middle;\n",
       "    }\n",
       "\n",
       "    .dataframe tbody tr th {\n",
       "        vertical-align: top;\n",
       "    }\n",
       "\n",
       "    .dataframe thead th {\n",
       "        text-align: right;\n",
       "    }\n",
       "</style>\n",
       "<table border=\"1\" class=\"dataframe\">\n",
       "  <thead>\n",
       "    <tr style=\"text-align: right;\">\n",
       "      <th></th>\n",
       "      <th>Unnamed: 0</th>\n",
       "      <th>Part 2: Wavelength of Laser</th>\n",
       "      <th>Unnamed: 2</th>\n",
       "      <th>Unnamed: 3</th>\n",
       "      <th>Unnamed: 4</th>\n",
       "      <th>Unnamed: 5</th>\n",
       "      <th>Unnamed: 6</th>\n",
       "    </tr>\n",
       "  </thead>\n",
       "  <tbody>\n",
       "    <tr>\n",
       "      <th>0</th>\n",
       "      <td>NaN</td>\n",
       "      <td>Count of min (\\pm sqrt) [LEFT]</td>\n",
       "      <td>Count of min (\\pm sqrt) [RIGHT]</td>\n",
       "      <td>\\Delta s \\pm .5 um</td>\n",
       "      <td>\\n+x towards wall on left when walking in,+y a...</td>\n",
       "      <td>NaN</td>\n",
       "      <td>NaN</td>\n",
       "    </tr>\n",
       "    <tr>\n",
       "      <th>1</th>\n",
       "      <td>NaN</td>\n",
       "      <td>30</td>\n",
       "      <td>30</td>\n",
       "      <td>10.5</td>\n",
       "      <td>NaN</td>\n",
       "      <td>after the first measurement we moved the scree...</td>\n",
       "      <td>NaN</td>\n",
       "    </tr>\n",
       "    <tr>\n",
       "      <th>2</th>\n",
       "      <td>NaN</td>\n",
       "      <td>34</td>\n",
       "      <td>34</td>\n",
       "      <td>10.5</td>\n",
       "      <td>NaN</td>\n",
       "      <td>every delta s should be 10.5</td>\n",
       "      <td>NaN</td>\n",
       "    </tr>\n",
       "    <tr>\n",
       "      <th>3</th>\n",
       "      <td>NaN</td>\n",
       "      <td>35</td>\n",
       "      <td>35</td>\n",
       "      <td>11.5</td>\n",
       "      <td>NaN</td>\n",
       "      <td>red laser!</td>\n",
       "      <td>in reality it is green</td>\n",
       "    </tr>\n",
       "    <tr>\n",
       "      <th>4</th>\n",
       "      <td>NaN</td>\n",
       "      <td>50</td>\n",
       "      <td>51?</td>\n",
       "      <td>16.5</td>\n",
       "      <td>NaN</td>\n",
       "      <td>error in counts is sqrt n because standard dev...</td>\n",
       "      <td>NaN</td>\n",
       "    </tr>\n",
       "    <tr>\n",
       "      <th>5</th>\n",
       "      <td>NaN</td>\n",
       "      <td>50</td>\n",
       "      <td>51?</td>\n",
       "      <td>17</td>\n",
       "      <td>NaN</td>\n",
       "      <td>make sure phase shift is in the right units an...</td>\n",
       "      <td>NaN</td>\n",
       "    </tr>\n",
       "    <tr>\n",
       "      <th>6</th>\n",
       "      <td>NaN</td>\n",
       "      <td>47</td>\n",
       "      <td>49</td>\n",
       "      <td>17</td>\n",
       "      <td>NaN</td>\n",
       "      <td>jonah counted 49 for the right projection</td>\n",
       "      <td>NaN</td>\n",
       "    </tr>\n",
       "    <tr>\n",
       "      <th>7</th>\n",
       "      <td>NaN</td>\n",
       "      <td>80</td>\n",
       "      <td>80</td>\n",
       "      <td>22.5</td>\n",
       "      <td>NaN</td>\n",
       "      <td>note: limited by the setup. the last measureme...</td>\n",
       "      <td>NaN</td>\n",
       "    </tr>\n",
       "    <tr>\n",
       "      <th>8</th>\n",
       "      <td>trust the arcminutes!</td>\n",
       "      <td>NaN</td>\n",
       "      <td>NaN</td>\n",
       "      <td>NaN</td>\n",
       "      <td>NaN</td>\n",
       "      <td>counting fringes corresponds to change in path...</td>\n",
       "      <td>NaN</td>\n",
       "    </tr>\n",
       "    <tr>\n",
       "      <th>9</th>\n",
       "      <td>start angle (degrees, arcmin if known)</td>\n",
       "      <td>Part III: Refractive Index</td>\n",
       "      <td>using thorlabs cr1 rotational stage</td>\n",
       "      <td>\\pm 1 because human eyeballs and small tick marks</td>\n",
       "      <td>NaN</td>\n",
       "      <td>lots of realigning. Jonah and Carlos have pict...</td>\n",
       "      <td>NaN</td>\n",
       "    </tr>\n",
       "    <tr>\n",
       "      <th>10</th>\n",
       "      <td>NaN</td>\n",
       "      <td>Count of min (\\pm sqrt) [LEFT]</td>\n",
       "      <td>Count of min (\\pm sqrt) [RIGHT]</td>\n",
       "      <td>top number (angle degrees)</td>\n",
       "      <td>bottom number (arcminutes)</td>\n",
       "      <td>plexiglass should be co-rotating</td>\n",
       "      <td>NaN</td>\n",
       "    </tr>\n",
       "    <tr>\n",
       "      <th>11</th>\n",
       "      <td>0</td>\n",
       "      <td>8</td>\n",
       "      <td>8</td>\n",
       "      <td>2</td>\n",
       "      <td>?</td>\n",
       "      <td>t is the thickness of the plexiglass</td>\n",
       "      <td>NaN</td>\n",
       "    </tr>\n",
       "    <tr>\n",
       "      <th>12</th>\n",
       "      <td>-0.5</td>\n",
       "      <td>13</td>\n",
       "      <td>14-15</td>\n",
       "      <td>3</td>\n",
       "      <td>25</td>\n",
       "      <td>get the part number of the rotational stage</td>\n",
       "      <td>NaN</td>\n",
       "    </tr>\n",
       "    <tr>\n",
       "      <th>13</th>\n",
       "      <td>-0.5, -10</td>\n",
       "      <td>15</td>\n",
       "      <td>15</td>\n",
       "      <td>2</td>\n",
       "      <td>20</td>\n",
       "      <td>THROUGHOUT THIS SHEET WE ARE COUNTING THE NUMB...</td>\n",
       "      <td>NaN</td>\n",
       "    </tr>\n",
       "    <tr>\n",
       "      <th>14</th>\n",
       "      <td>0, -10</td>\n",
       "      <td>17</td>\n",
       "      <td>17</td>\n",
       "      <td>3</td>\n",
       "      <td>35</td>\n",
       "      <td>NaN</td>\n",
       "      <td>NaN</td>\n",
       "    </tr>\n",
       "    <tr>\n",
       "      <th>15</th>\n",
       "      <td>0, -5</td>\n",
       "      <td>16</td>\n",
       "      <td>16</td>\n",
       "      <td>3</td>\n",
       "      <td>30</td>\n",
       "      <td>NaN</td>\n",
       "      <td>NaN</td>\n",
       "    </tr>\n",
       "    <tr>\n",
       "      <th>16</th>\n",
       "      <td>NaN</td>\n",
       "      <td>NaN</td>\n",
       "      <td>NaN</td>\n",
       "      <td>NaN</td>\n",
       "      <td>NaN</td>\n",
       "      <td>NaN</td>\n",
       "      <td>NaN</td>\n",
       "    </tr>\n",
       "    <tr>\n",
       "      <th>17</th>\n",
       "      <td>Part IV</td>\n",
       "      <td>NaN</td>\n",
       "      <td>NaN</td>\n",
       "      <td>NaN</td>\n",
       "      <td>NaN</td>\n",
       "      <td>NaN</td>\n",
       "      <td>NaN</td>\n",
       "    </tr>\n",
       "    <tr>\n",
       "      <th>18</th>\n",
       "      <td>just write down your expectations. couldn't ge...</td>\n",
       "      <td>NaN</td>\n",
       "      <td>NaN</td>\n",
       "      <td>NaN</td>\n",
       "      <td>NaN</td>\n",
       "      <td>NaN</td>\n",
       "      <td>NaN</td>\n",
       "    </tr>\n",
       "  </tbody>\n",
       "</table>\n",
       "</div>"
      ],
      "text/plain": [
       "                                           Unnamed: 0  \\\n",
       "0                                                 NaN   \n",
       "1                                                 NaN   \n",
       "2                                                 NaN   \n",
       "3                                                 NaN   \n",
       "4                                                 NaN   \n",
       "5                                                 NaN   \n",
       "6                                                 NaN   \n",
       "7                                                 NaN   \n",
       "8                               trust the arcminutes!   \n",
       "9              start angle (degrees, arcmin if known)   \n",
       "10                                                NaN   \n",
       "11                                                  0   \n",
       "12                                               -0.5   \n",
       "13                                          -0.5, -10   \n",
       "14                                             0, -10   \n",
       "15                                              0, -5   \n",
       "16                                                NaN   \n",
       "17                                            Part IV   \n",
       "18  just write down your expectations. couldn't ge...   \n",
       "\n",
       "       Part 2: Wavelength of Laser                           Unnamed: 2  \\\n",
       "0   Count of min (\\pm sqrt) [LEFT]      Count of min (\\pm sqrt) [RIGHT]   \n",
       "1                               30                                   30   \n",
       "2                               34                                   34   \n",
       "3                               35                                   35   \n",
       "4                               50                                  51?   \n",
       "5                               50                                  51?   \n",
       "6                               47                                   49   \n",
       "7                               80                                   80   \n",
       "8                              NaN                                  NaN   \n",
       "9       Part III: Refractive Index  using thorlabs cr1 rotational stage   \n",
       "10  Count of min (\\pm sqrt) [LEFT]      Count of min (\\pm sqrt) [RIGHT]   \n",
       "11                               8                                    8   \n",
       "12                              13                                14-15   \n",
       "13                              15                                   15   \n",
       "14                              17                                   17   \n",
       "15                              16                                   16   \n",
       "16                             NaN                                  NaN   \n",
       "17                             NaN                                  NaN   \n",
       "18                             NaN                                  NaN   \n",
       "\n",
       "                                           Unnamed: 3  \\\n",
       "0                                  \\Delta s \\pm .5 um   \n",
       "1                                                10.5   \n",
       "2                                                10.5   \n",
       "3                                                11.5   \n",
       "4                                                16.5   \n",
       "5                                                  17   \n",
       "6                                                  17   \n",
       "7                                                22.5   \n",
       "8                                                 NaN   \n",
       "9   \\pm 1 because human eyeballs and small tick marks   \n",
       "10                         top number (angle degrees)   \n",
       "11                                                  2   \n",
       "12                                                  3   \n",
       "13                                                  2   \n",
       "14                                                  3   \n",
       "15                                                  3   \n",
       "16                                                NaN   \n",
       "17                                                NaN   \n",
       "18                                                NaN   \n",
       "\n",
       "                                           Unnamed: 4  \\\n",
       "0   \\n+x towards wall on left when walking in,+y a...   \n",
       "1                                                 NaN   \n",
       "2                                                 NaN   \n",
       "3                                                 NaN   \n",
       "4                                                 NaN   \n",
       "5                                                 NaN   \n",
       "6                                                 NaN   \n",
       "7                                                 NaN   \n",
       "8                                                 NaN   \n",
       "9                                                 NaN   \n",
       "10                         bottom number (arcminutes)   \n",
       "11                                                  ?   \n",
       "12                                                 25   \n",
       "13                                                 20   \n",
       "14                                                 35   \n",
       "15                                                 30   \n",
       "16                                                NaN   \n",
       "17                                                NaN   \n",
       "18                                                NaN   \n",
       "\n",
       "                                           Unnamed: 5              Unnamed: 6  \n",
       "0                                                 NaN                     NaN  \n",
       "1   after the first measurement we moved the scree...                     NaN  \n",
       "2                        every delta s should be 10.5                     NaN  \n",
       "3                                          red laser!  in reality it is green  \n",
       "4   error in counts is sqrt n because standard dev...                     NaN  \n",
       "5   make sure phase shift is in the right units an...                     NaN  \n",
       "6           jonah counted 49 for the right projection                     NaN  \n",
       "7   note: limited by the setup. the last measureme...                     NaN  \n",
       "8   counting fringes corresponds to change in path...                     NaN  \n",
       "9   lots of realigning. Jonah and Carlos have pict...                     NaN  \n",
       "10                  plexiglass should be co-rotating                      NaN  \n",
       "11               t is the thickness of the plexiglass                     NaN  \n",
       "12        get the part number of the rotational stage                     NaN  \n",
       "13  THROUGHOUT THIS SHEET WE ARE COUNTING THE NUMB...                     NaN  \n",
       "14                                                NaN                     NaN  \n",
       "15                                                NaN                     NaN  \n",
       "16                                                NaN                     NaN  \n",
       "17                                                NaN                     NaN  \n",
       "18                                                NaN                     NaN  "
      ]
     },
     "execution_count": 3,
     "metadata": {},
     "output_type": "execute_result"
    }
   ],
   "source": [
    "raw_data = pd.read_csv(glob.os.getcwd() + \"\\\\ay105lab3.csv\")\n",
    "raw_data"
   ]
  },
  {
   "cell_type": "markdown",
   "id": "41c8eaea",
   "metadata": {},
   "source": [
    "# Part 2"
   ]
  },
  {
   "cell_type": "code",
   "execution_count": 4,
   "id": "a2ed4f52",
   "metadata": {
    "ExecuteTime": {
     "end_time": "2023-06-18T08:53:49.814510Z",
     "start_time": "2023-06-18T08:53:49.802828Z"
    }
   },
   "outputs": [
    {
     "data": {
      "text/html": [
       "<div>\n",
       "<style scoped>\n",
       "    .dataframe tbody tr th:only-of-type {\n",
       "        vertical-align: middle;\n",
       "    }\n",
       "\n",
       "    .dataframe tbody tr th {\n",
       "        vertical-align: top;\n",
       "    }\n",
       "\n",
       "    .dataframe thead th {\n",
       "        text-align: right;\n",
       "    }\n",
       "</style>\n",
       "<table border=\"1\" class=\"dataframe\">\n",
       "  <thead>\n",
       "    <tr style=\"text-align: right;\">\n",
       "      <th></th>\n",
       "      <th>Count of min (\\pm sqrt) [LEFT]</th>\n",
       "      <th>Count of min (\\pm sqrt) [RIGHT]</th>\n",
       "      <th>\\Delta s \\pm .5 um</th>\n",
       "    </tr>\n",
       "  </thead>\n",
       "  <tbody>\n",
       "    <tr>\n",
       "      <th>1</th>\n",
       "      <td>30</td>\n",
       "      <td>30</td>\n",
       "      <td>10.5</td>\n",
       "    </tr>\n",
       "    <tr>\n",
       "      <th>2</th>\n",
       "      <td>34</td>\n",
       "      <td>34</td>\n",
       "      <td>10.5</td>\n",
       "    </tr>\n",
       "    <tr>\n",
       "      <th>3</th>\n",
       "      <td>35</td>\n",
       "      <td>35</td>\n",
       "      <td>11.5</td>\n",
       "    </tr>\n",
       "    <tr>\n",
       "      <th>4</th>\n",
       "      <td>50</td>\n",
       "      <td>51?</td>\n",
       "      <td>16.5</td>\n",
       "    </tr>\n",
       "    <tr>\n",
       "      <th>5</th>\n",
       "      <td>50</td>\n",
       "      <td>51?</td>\n",
       "      <td>17</td>\n",
       "    </tr>\n",
       "    <tr>\n",
       "      <th>6</th>\n",
       "      <td>47</td>\n",
       "      <td>49</td>\n",
       "      <td>17</td>\n",
       "    </tr>\n",
       "    <tr>\n",
       "      <th>7</th>\n",
       "      <td>80</td>\n",
       "      <td>80</td>\n",
       "      <td>22.5</td>\n",
       "    </tr>\n",
       "  </tbody>\n",
       "</table>\n",
       "</div>"
      ],
      "text/plain": [
       "0 Count of min (\\pm sqrt) [LEFT] Count of min (\\pm sqrt) [RIGHT]  \\\n",
       "1                             30                              30   \n",
       "2                             34                              34   \n",
       "3                             35                              35   \n",
       "4                             50                             51?   \n",
       "5                             50                             51?   \n",
       "6                             47                              49   \n",
       "7                             80                              80   \n",
       "\n",
       "0 \\Delta s \\pm .5 um  \n",
       "1               10.5  \n",
       "2               10.5  \n",
       "3               11.5  \n",
       "4               16.5  \n",
       "5                 17  \n",
       "6                 17  \n",
       "7               22.5  "
      ]
     },
     "execution_count": 4,
     "metadata": {},
     "output_type": "execute_result"
    }
   ],
   "source": [
    "part2_df = raw_data.iloc[1:8,1:4]\n",
    "#raw_data.iloc[0, 5:] = [\"comments\" for x in range(raw_data.shape[1]-5)]\n",
    "part2_df.columns = raw_data.iloc[0,1:4]\n",
    "part2_df"
   ]
  },
  {
   "cell_type": "code",
   "execution_count": 5,
   "id": "43f890f6",
   "metadata": {
    "ExecuteTime": {
     "end_time": "2023-06-18T08:53:49.830090Z",
     "start_time": "2023-06-18T08:53:49.815937Z"
    }
   },
   "outputs": [
    {
     "data": {
      "text/html": [
       "<div>\n",
       "<style scoped>\n",
       "    .dataframe tbody tr th:only-of-type {\n",
       "        vertical-align: middle;\n",
       "    }\n",
       "\n",
       "    .dataframe tbody tr th {\n",
       "        vertical-align: top;\n",
       "    }\n",
       "\n",
       "    .dataframe thead th {\n",
       "        text-align: right;\n",
       "    }\n",
       "</style>\n",
       "<table border=\"1\" class=\"dataframe\">\n",
       "  <thead>\n",
       "    <tr style=\"text-align: right;\">\n",
       "      <th></th>\n",
       "      <th>Count of min (\\pm sqrt) [LEFT]</th>\n",
       "      <th>Count of min (\\pm sqrt) [RIGHT]</th>\n",
       "      <th>\\Delta s \\pm .5 um</th>\n",
       "    </tr>\n",
       "  </thead>\n",
       "  <tbody>\n",
       "    <tr>\n",
       "      <th>1</th>\n",
       "      <td>30</td>\n",
       "      <td>30</td>\n",
       "      <td>10.5</td>\n",
       "    </tr>\n",
       "    <tr>\n",
       "      <th>2</th>\n",
       "      <td>34</td>\n",
       "      <td>34</td>\n",
       "      <td>10.5</td>\n",
       "    </tr>\n",
       "    <tr>\n",
       "      <th>3</th>\n",
       "      <td>35</td>\n",
       "      <td>35</td>\n",
       "      <td>11.5</td>\n",
       "    </tr>\n",
       "    <tr>\n",
       "      <th>4</th>\n",
       "      <td>50</td>\n",
       "      <td>51</td>\n",
       "      <td>16.5</td>\n",
       "    </tr>\n",
       "    <tr>\n",
       "      <th>5</th>\n",
       "      <td>50</td>\n",
       "      <td>51</td>\n",
       "      <td>17.0</td>\n",
       "    </tr>\n",
       "    <tr>\n",
       "      <th>6</th>\n",
       "      <td>47</td>\n",
       "      <td>49</td>\n",
       "      <td>17.0</td>\n",
       "    </tr>\n",
       "    <tr>\n",
       "      <th>7</th>\n",
       "      <td>80</td>\n",
       "      <td>80</td>\n",
       "      <td>22.5</td>\n",
       "    </tr>\n",
       "  </tbody>\n",
       "</table>\n",
       "</div>"
      ],
      "text/plain": [
       "0  Count of min (\\pm sqrt) [LEFT]  Count of min (\\pm sqrt) [RIGHT]  \\\n",
       "1                              30                               30   \n",
       "2                              34                               34   \n",
       "3                              35                               35   \n",
       "4                              50                               51   \n",
       "5                              50                               51   \n",
       "6                              47                               49   \n",
       "7                              80                               80   \n",
       "\n",
       "0  \\Delta s \\pm .5 um  \n",
       "1                10.5  \n",
       "2                10.5  \n",
       "3                11.5  \n",
       "4                16.5  \n",
       "5                17.0  \n",
       "6                17.0  \n",
       "7                22.5  "
      ]
     },
     "execution_count": 5,
     "metadata": {},
     "output_type": "execute_result"
    }
   ],
   "source": [
    "if object in [x for x in part2_df.dtypes]:    \n",
    "    part2_df.iloc[3, 1], part2_df.iloc[4, 1] = part2_df.iloc[3, 1][:-1], part2_df.iloc[4, 1][:-1]\n",
    "for x in part2_df:\n",
    "    if \"Count\" in x or \"count\" in x:\n",
    "        part2_df[x] = part2_df[x].astype(int)\n",
    "    else:\n",
    "        part2_df[x] = part2_df[x].astype(float)\n",
    "part2_df"
   ]
  },
  {
   "cell_type": "markdown",
   "id": "9576aa86",
   "metadata": {},
   "source": [
    "Recall from the notes that \n",
    "\\begin{align}\n",
    "\\Delta\\phi = \\frac{2\\pi}{\\lambda}\\Delta x\n",
    "\\end{align}\n",
    "where $\\Delta\\phi$ is the change in phase, $\\lambda$ is the wavelength, and $\\Delta s$ is the difference in path length. Rearranging and solving for the wavelength yields\n",
    "\\begin{align}\n",
    "\\lambda = \\frac{2\\pi}{\\Delta\\phi}\\Delta x\n",
    "\\end{align}\n",
    "For minima we have $\\Delta\\phi=(2n+1)\\phi$ and for maxima we have  $\\Delta\\pi=2n\\pi$ where $n\\in\\mathbb{Z}$ in order for the minima and maxima to correspond to complete destructive and constructive interference, respectively. Since we counted minimum we have $\\Delta\\phi=(2n+1)\\pi$. Substituting this phase difference yields\n",
    "\\begin{align}\n",
    "\\lambda = \\frac{2}{2n+1}\\Delta x\n",
    "\\end{align}\n",
    "For the zeroeth order mode we have \n",
    "\\begin{align}\n",
    "\\lambda = 2\\Delta x\n",
    "\\end{align}\n",
    "Since we know that $\\frac{\\Delta s}{N} = \\Delta x$ we have\n",
    "\\begin{align}\\label{eq:part2}\n",
    "\\lambda = 2\\frac{\\Delta s}{N}\n",
    "\\end{align}"
   ]
  },
  {
   "cell_type": "code",
   "execution_count": 6,
   "id": "28ecd877",
   "metadata": {
    "ExecuteTime": {
     "end_time": "2023-06-18T08:53:49.845759Z",
     "start_time": "2023-06-18T08:53:49.832147Z"
    }
   },
   "outputs": [
    {
     "data": {
      "text/html": [
       "<div>\n",
       "<style scoped>\n",
       "    .dataframe tbody tr th:only-of-type {\n",
       "        vertical-align: middle;\n",
       "    }\n",
       "\n",
       "    .dataframe tbody tr th {\n",
       "        vertical-align: top;\n",
       "    }\n",
       "\n",
       "    .dataframe thead th {\n",
       "        text-align: right;\n",
       "    }\n",
       "</style>\n",
       "<table border=\"1\" class=\"dataframe\">\n",
       "  <thead>\n",
       "    <tr style=\"text-align: right;\">\n",
       "      <th></th>\n",
       "      <th>Count of min (\\pm sqrt) [LEFT]</th>\n",
       "      <th>Count of min (\\pm sqrt) [RIGHT]</th>\n",
       "      <th>\\Delta s \\pm .5 um</th>\n",
       "      <th>Wavelength (𝜇m)</th>\n",
       "    </tr>\n",
       "  </thead>\n",
       "  <tbody>\n",
       "    <tr>\n",
       "      <th>1</th>\n",
       "      <td>30</td>\n",
       "      <td>30</td>\n",
       "      <td>10.5</td>\n",
       "      <td>0.700000</td>\n",
       "    </tr>\n",
       "    <tr>\n",
       "      <th>2</th>\n",
       "      <td>34</td>\n",
       "      <td>34</td>\n",
       "      <td>10.5</td>\n",
       "      <td>0.617647</td>\n",
       "    </tr>\n",
       "    <tr>\n",
       "      <th>3</th>\n",
       "      <td>35</td>\n",
       "      <td>35</td>\n",
       "      <td>11.5</td>\n",
       "      <td>0.657143</td>\n",
       "    </tr>\n",
       "    <tr>\n",
       "      <th>4</th>\n",
       "      <td>50</td>\n",
       "      <td>51</td>\n",
       "      <td>16.5</td>\n",
       "      <td>0.653465</td>\n",
       "    </tr>\n",
       "    <tr>\n",
       "      <th>5</th>\n",
       "      <td>50</td>\n",
       "      <td>51</td>\n",
       "      <td>17.0</td>\n",
       "      <td>0.673267</td>\n",
       "    </tr>\n",
       "    <tr>\n",
       "      <th>6</th>\n",
       "      <td>47</td>\n",
       "      <td>49</td>\n",
       "      <td>17.0</td>\n",
       "      <td>0.708333</td>\n",
       "    </tr>\n",
       "    <tr>\n",
       "      <th>7</th>\n",
       "      <td>80</td>\n",
       "      <td>80</td>\n",
       "      <td>22.5</td>\n",
       "      <td>0.562500</td>\n",
       "    </tr>\n",
       "  </tbody>\n",
       "</table>\n",
       "</div>"
      ],
      "text/plain": [
       "0  Count of min (\\pm sqrt) [LEFT]  Count of min (\\pm sqrt) [RIGHT]  \\\n",
       "1                              30                               30   \n",
       "2                              34                               34   \n",
       "3                              35                               35   \n",
       "4                              50                               51   \n",
       "5                              50                               51   \n",
       "6                              47                               49   \n",
       "7                              80                               80   \n",
       "\n",
       "0  \\Delta s \\pm .5 um  Wavelength (𝜇m)  \n",
       "1                10.5         0.700000  \n",
       "2                10.5         0.617647  \n",
       "3                11.5         0.657143  \n",
       "4                16.5         0.653465  \n",
       "5                17.0         0.673267  \n",
       "6                17.0         0.708333  \n",
       "7                22.5         0.562500  "
      ]
     },
     "execution_count": 6,
     "metadata": {},
     "output_type": "execute_result"
    }
   ],
   "source": [
    "part2_df[\"Wavelength (𝜇m)\"] = (4 * part2_df[\"\\Delta s \\pm .5 um\"] / \n",
    "    (part2_df[\"Count of min (\\pm sqrt) [LEFT]\"] + \n",
    "     part2_df[\"Count of min (\\pm sqrt) [RIGHT]\"]))\n",
    "part2_df"
   ]
  },
  {
   "cell_type": "markdown",
   "id": "92567443",
   "metadata": {
    "ExecuteTime": {
     "end_time": "2023-06-17T23:55:03.148222Z",
     "start_time": "2023-06-17T23:55:03.135689Z"
    }
   },
   "source": [
    "## Calculation Part 2"
   ]
  },
  {
   "cell_type": "code",
   "execution_count": 7,
   "id": "2add3b27",
   "metadata": {
    "ExecuteTime": {
     "end_time": "2023-06-18T08:53:49.861720Z",
     "start_time": "2023-06-18T08:53:49.845759Z"
    }
   },
   "outputs": [
    {
     "data": {
      "text/markdown": [
       "0.65 𝜇m"
      ],
      "text/plain": [
       "<IPython.core.display.Markdown object>"
      ]
     },
     "execution_count": 7,
     "metadata": {},
     "output_type": "execute_result"
    }
   ],
   "source": [
    "final_wavelength = np.average(part2_df.iloc[:,-1])\n",
    "md(latp(np.round(final_wavelength, 2)) + \" 𝜇m\")"
   ]
  },
  {
   "cell_type": "markdown",
   "id": "d56b61e7",
   "metadata": {},
   "source": [
    "Now to find the average number of minima and the corresponding uncertainty. Since we were simply counting, the uncertainty is 1 over the square root of the counts. "
   ]
  },
  {
   "cell_type": "code",
   "execution_count": 8,
   "id": "ef1905da",
   "metadata": {
    "ExecuteTime": {
     "end_time": "2023-06-18T08:53:49.892189Z",
     "start_time": "2023-06-18T08:53:49.863205Z"
    }
   },
   "outputs": [
    {
     "data": {
      "text/plain": [
       "([30.0, 34.0, 35.0, 50.5, 50.5, 48.0, 80.0],\n",
       " [0.12909944487358055,\n",
       "  0.12126781251816647,\n",
       "  0.11952286093343935,\n",
       "  0.09950859653474027,\n",
       "  0.09950859653474027,\n",
       "  0.1020842287157852,\n",
       "  0.07905694150420949])"
      ]
     },
     "execution_count": 8,
     "metadata": {},
     "output_type": "execute_result"
    }
   ],
   "source": [
    "fun = ( a + b ) / 2\n",
    "counts_averages, counts_uncertainties = [], []\n",
    "row_list = range(part2_df.shape[0])\n",
    "for row in row_list:\n",
    "    left, right = part2_df.iloc[row, 0], part2_df.iloc[row, 1]\n",
    "    expct, unc = general_with_arrays([left, right], [1/np.sqrt(left), 1/np.sqrt(right)], fun)\n",
    "    counts_averages.append(expct)\n",
    "    counts_uncertainties.append(unc)\n",
    "counts_averages, counts_uncertainties"
   ]
  },
  {
   "cell_type": "markdown",
   "id": "2ef27f11",
   "metadata": {},
   "source": [
    "Since we averaged the number of minima observed from each interference pattern we now use equation \\ref{eq:part2}\n",
    "\n",
    "Note that the function named general_with_arrays uses the following the find the best estimate: \n",
    "\n",
    "lambdify(symbol_list[:2 * len(row_list)], fun)(*symbol_list[:2 * len(row_list)])\n"
   ]
  },
  {
   "cell_type": "code",
   "execution_count": 9,
   "id": "c77b69d3",
   "metadata": {
    "ExecuteTime": {
     "end_time": "2023-06-18T08:53:50.072714Z",
     "start_time": "2023-06-18T08:53:49.894544Z"
    }
   },
   "outputs": [
    {
     "data": {
      "text/latex": [
       "$\\displaystyle \\frac{2 a}{7 h} + \\frac{2 b}{7 i} + \\frac{2 c}{7 j} + \\frac{2 d}{7 k} + \\frac{2 e}{7 l} + \\frac{2 f}{7 m} + \\frac{2 g}{7 n}$"
      ],
      "text/plain": [
       "2*a/(7*h) + 2*b/(7*i) + 2*c/(7*j) + 2*d/(7*k) + 2*e/(7*l) + 2*f/(7*m) + 2*g/(7*n)"
      ]
     },
     "execution_count": 9,
     "metadata": {},
     "output_type": "execute_result"
    }
   ],
   "source": [
    "fun = 0 \n",
    "for row in row_list:\n",
    "    fun += 2*(symbol_list[row] / symbol_list[row + len(row_list)]) / (len(row_list))\n",
    "fun"
   ]
  },
  {
   "cell_type": "markdown",
   "id": "2872ffa1",
   "metadata": {},
   "source": [
    "In alphabetical order, a through g are the values for $\\Delta s$, whereas h through n are the values for $N$, and this sum is the expectation value of the wavelength of the LASER."
   ]
  },
  {
   "cell_type": "code",
   "execution_count": 10,
   "id": "4f3d5f4a",
   "metadata": {
    "ExecuteTime": {
     "end_time": "2023-06-18T08:53:50.152038Z",
     "start_time": "2023-06-18T08:53:50.075501Z"
    }
   },
   "outputs": [
    {
     "data": {
      "text/markdown": [
       "Thus we have for the wavelength \\begin{equation} \\lambda = 0.65\\pm 0.009 \\text{ 𝜇m} \\end{equation}"
      ],
      "text/plain": [
       "<IPython.core.display.Markdown object>"
      ]
     },
     "execution_count": 10,
     "metadata": {},
     "output_type": "execute_result"
    }
   ],
   "source": [
    "part2_expectation_inputs = [x for x in part2_df[\"\\Delta s \\pm .5 um\"]]\n",
    "part2_uncertainty_inputs = len(row_list) * [.5]\n",
    "for row in row_list:\n",
    "    part2_expectation_inputs.append(counts_averages[row])\n",
    "    part2_uncertainty_inputs.append(counts_uncertainties[row])\n",
    "part2_wavelength, part2_unc = general_with_arrays(part2_expectation_inputs, part2_uncertainty_inputs, fun)\n",
    "md(\"Thus we have for the wavelength \\\\begin{equation} \\\\lambda = \" \n",
    "   + latp(np.round(part2_wavelength, 2)) + \"\\\\pm \" + latp(np.round(part2_unc, 3)) + \" \\\\text{ 𝜇m} \"\n",
    "  + \"\\\\end{equation}\")"
   ]
  },
  {
   "cell_type": "markdown",
   "id": "f3b1ee66",
   "metadata": {},
   "source": [
    "# Part 3\n",
    "Recall from the lab handout we have for the index of refraction $n$\n",
    "\\begin{align}\n",
    "b \\equiv \\frac{N\\lambda}{2t} \\quad\\ n = \\frac{(b+\\cos(\\alpha) - 1)^2 + \\sin^2\\alpha}{2(-b-\\cos(\\alpha)+1)}\n",
    "\\end{align}"
   ]
  },
  {
   "cell_type": "code",
   "execution_count": 11,
   "id": "8ac9397f",
   "metadata": {
    "ExecuteTime": {
     "end_time": "2023-06-18T08:53:50.168089Z",
     "start_time": "2023-06-18T08:53:50.152038Z"
    }
   },
   "outputs": [
    {
     "data": {
      "text/html": [
       "<div>\n",
       "<style scoped>\n",
       "    .dataframe tbody tr th:only-of-type {\n",
       "        vertical-align: middle;\n",
       "    }\n",
       "\n",
       "    .dataframe tbody tr th {\n",
       "        vertical-align: top;\n",
       "    }\n",
       "\n",
       "    .dataframe thead th {\n",
       "        text-align: right;\n",
       "    }\n",
       "</style>\n",
       "<table border=\"1\" class=\"dataframe\">\n",
       "  <thead>\n",
       "    <tr style=\"text-align: right;\">\n",
       "      <th></th>\n",
       "      <th>Unnamed: 0</th>\n",
       "      <th>Part 2: Wavelength of Laser</th>\n",
       "      <th>Unnamed: 2</th>\n",
       "      <th>Unnamed: 3</th>\n",
       "      <th>Unnamed: 4</th>\n",
       "    </tr>\n",
       "  </thead>\n",
       "  <tbody>\n",
       "    <tr>\n",
       "      <th>11</th>\n",
       "      <td>0</td>\n",
       "      <td>8</td>\n",
       "      <td>8</td>\n",
       "      <td>2</td>\n",
       "      <td>?</td>\n",
       "    </tr>\n",
       "    <tr>\n",
       "      <th>12</th>\n",
       "      <td>-0.5</td>\n",
       "      <td>13</td>\n",
       "      <td>14-15</td>\n",
       "      <td>3</td>\n",
       "      <td>25</td>\n",
       "    </tr>\n",
       "    <tr>\n",
       "      <th>13</th>\n",
       "      <td>-0.5, -10</td>\n",
       "      <td>15</td>\n",
       "      <td>15</td>\n",
       "      <td>2</td>\n",
       "      <td>20</td>\n",
       "    </tr>\n",
       "    <tr>\n",
       "      <th>14</th>\n",
       "      <td>0, -10</td>\n",
       "      <td>17</td>\n",
       "      <td>17</td>\n",
       "      <td>3</td>\n",
       "      <td>35</td>\n",
       "    </tr>\n",
       "  </tbody>\n",
       "</table>\n",
       "</div>"
      ],
      "text/plain": [
       "   Unnamed: 0 Part 2: Wavelength of Laser Unnamed: 2 Unnamed: 3 Unnamed: 4\n",
       "11          0                           8          8          2          ?\n",
       "12       -0.5                          13      14-15          3         25\n",
       "13  -0.5, -10                          15         15          2         20\n",
       "14     0, -10                          17         17          3         35"
      ]
     },
     "execution_count": 11,
     "metadata": {},
     "output_type": "execute_result"
    }
   ],
   "source": [
    "part3_df = raw_data.iloc[11:15, :5]\n",
    "part3_df"
   ]
  },
  {
   "cell_type": "markdown",
   "id": "23a07804",
   "metadata": {},
   "source": [
    "The first column is the reference angle in degree, arcminutes\n",
    "\n",
    "The second column is the number of minima counted on the left\n",
    "\n",
    "The third column is the number of minima counted on the right\n",
    "\n",
    "The fourth column is the final angle in degrees\n",
    "\n",
    "The fifth column is the final angle's arcminute measurement"
   ]
  },
  {
   "cell_type": "markdown",
   "id": "a65acb2b",
   "metadata": {},
   "source": [
    "## Error Progation and Angle Estimation"
   ]
  },
  {
   "cell_type": "code",
   "execution_count": 23,
   "id": "0b9821d7",
   "metadata": {
    "ExecuteTime": {
     "end_time": "2023-06-18T09:10:48.099858Z",
     "start_time": "2023-06-18T09:10:48.076551Z"
    }
   },
   "outputs": [
    {
     "data": {
      "text/html": [
       "<div>\n",
       "<style scoped>\n",
       "    .dataframe tbody tr th:only-of-type {\n",
       "        vertical-align: middle;\n",
       "    }\n",
       "\n",
       "    .dataframe tbody tr th {\n",
       "        vertical-align: top;\n",
       "    }\n",
       "\n",
       "    .dataframe thead th {\n",
       "        text-align: right;\n",
       "    }\n",
       "</style>\n",
       "<table border=\"1\" class=\"dataframe\">\n",
       "  <thead>\n",
       "    <tr style=\"text-align: right;\">\n",
       "      <th></th>\n",
       "      <th>Ref_angle_deg_arcmin</th>\n",
       "      <th>left_counts</th>\n",
       "      <th>right_counts</th>\n",
       "      <th>final_angle_deg</th>\n",
       "      <th>final_angle_arcmin</th>\n",
       "    </tr>\n",
       "  </thead>\n",
       "  <tbody>\n",
       "    <tr>\n",
       "      <th>11</th>\n",
       "      <td>0, 0</td>\n",
       "      <td>8</td>\n",
       "      <td>8</td>\n",
       "      <td>2</td>\n",
       "      <td>30</td>\n",
       "    </tr>\n",
       "    <tr>\n",
       "      <th>12</th>\n",
       "      <td>-.5, 0</td>\n",
       "      <td>13</td>\n",
       "      <td>14</td>\n",
       "      <td>3</td>\n",
       "      <td>25</td>\n",
       "    </tr>\n",
       "    <tr>\n",
       "      <th>13</th>\n",
       "      <td>-0.5, -10</td>\n",
       "      <td>15</td>\n",
       "      <td>15</td>\n",
       "      <td>2</td>\n",
       "      <td>20</td>\n",
       "    </tr>\n",
       "    <tr>\n",
       "      <th>14</th>\n",
       "      <td>0, -10</td>\n",
       "      <td>17</td>\n",
       "      <td>17</td>\n",
       "      <td>3</td>\n",
       "      <td>35</td>\n",
       "    </tr>\n",
       "  </tbody>\n",
       "</table>\n",
       "</div>"
      ],
      "text/plain": [
       "   Ref_angle_deg_arcmin left_counts right_counts final_angle_deg  \\\n",
       "11                 0, 0           8            8               2   \n",
       "12               -.5, 0          13           14               3   \n",
       "13            -0.5, -10          15           15               2   \n",
       "14               0, -10          17           17               3   \n",
       "\n",
       "   final_angle_arcmin  \n",
       "11                 30  \n",
       "12                 25  \n",
       "13                 20  \n",
       "14                 35  "
      ]
     },
     "execution_count": 23,
     "metadata": {},
     "output_type": "execute_result"
    }
   ],
   "source": [
    "part3_df.columns = [\"Ref_angle_deg_arcmin\", \"left_counts\", \"right_counts\", \"final_angle_deg\", \n",
    "                   \"final_angle_arcmin\"]\n",
    "part3_df.iloc[1, 2], part3_df.iloc[0, -1] = 14, 30 \n",
    "part3_df.iloc[0, 0], part3_df.iloc[1, 0] = \"0, 0\", \"-.5, 0\" \n",
    "part3_df"
   ]
  },
  {
   "cell_type": "markdown",
   "id": "fc8f0ec6",
   "metadata": {},
   "source": [
    "Since each of those angle measurements was read by eye from a scale, each of them has an uncertainty of 0.5, with the exception of the final_angle_arcminute measurement in the 11th row, since we did not yet know to note this value, so it will have a value of $30\\pm30$ arcminutes."
   ]
  },
  {
   "cell_type": "code",
   "execution_count": 26,
   "id": "e98440b0",
   "metadata": {
    "ExecuteTime": {
     "end_time": "2023-06-18T09:13:18.652314Z",
     "start_time": "2023-06-18T09:13:18.608735Z"
    }
   },
   "outputs": [
    {
     "data": {
      "text/html": [
       "<div>\n",
       "<style scoped>\n",
       "    .dataframe tbody tr th:only-of-type {\n",
       "        vertical-align: middle;\n",
       "    }\n",
       "\n",
       "    .dataframe tbody tr th {\n",
       "        vertical-align: top;\n",
       "    }\n",
       "\n",
       "    .dataframe thead th {\n",
       "        text-align: right;\n",
       "    }\n",
       "</style>\n",
       "<table border=\"1\" class=\"dataframe\">\n",
       "  <thead>\n",
       "    <tr style=\"text-align: right;\">\n",
       "      <th></th>\n",
       "      <th>Angle_Radians</th>\n",
       "      <th>Angle_Uncertainty_Radians</th>\n",
       "    </tr>\n",
       "  </thead>\n",
       "  <tbody>\n",
       "    <tr>\n",
       "      <th>11</th>\n",
       "      <td>0.043633</td>\n",
       "      <td>0.017453</td>\n",
       "    </tr>\n",
       "    <tr>\n",
       "      <th>12</th>\n",
       "      <td>0.068359</td>\n",
       "      <td>0.017453</td>\n",
       "    </tr>\n",
       "    <tr>\n",
       "      <th>13</th>\n",
       "      <td>0.052360</td>\n",
       "      <td>0.012343</td>\n",
       "    </tr>\n",
       "    <tr>\n",
       "      <th>14</th>\n",
       "      <td>0.065450</td>\n",
       "      <td>0.012343</td>\n",
       "    </tr>\n",
       "  </tbody>\n",
       "</table>\n",
       "</div>"
      ],
      "text/plain": [
       "    Angle_Radians  Angle_Uncertainty_Radians\n",
       "11       0.043633                   0.017453\n",
       "12       0.068359                   0.017453\n",
       "13       0.052360                   0.012343\n",
       "14       0.065450                   0.012343"
      ]
     },
     "execution_count": 26,
     "metadata": {},
     "output_type": "execute_result"
    }
   ],
   "source": [
    "fun = pi * ((a+(b/60)) - (c+(d/60))) / 180\n",
    "angle_expct_arr = []\n",
    "angle_unc_arr = []\n",
    "for row in part3_df.index:\n",
    "    prelim_unc_angle_arr = [.5, .5, .5, .5]\n",
    "    if row==11 or row==12:\n",
    "        prelim_unc_angle_arr = [.5, 30, .5, 30]\n",
    "    ref_angle_deg, ref_angle_arcmin = [float(x) for x in part3_df.loc[row, \n",
    "                                            \"Ref_angle_deg_arcmin\"].split(\",\")]\n",
    "    end_angle_deg = float(part3_df.loc[row, \"final_angle_deg\"]) \n",
    "    end_angle_arcmin = float(part3_df.loc[row, \"final_angle_arcmin\"])\n",
    "    angle_expct, angle_unc= general_with_arrays(\n",
    "        [end_angle_deg, end_angle_arcmin, ref_angle_deg, ref_angle_arcmin],\n",
    "        prelim_unc_angle_arr, fun)\n",
    "    angle_expct_arr.append(angle_expct)\n",
    "    angle_unc_arr.append(angle_unc)\n",
    "part3_df[\"Angle_Radians\"] = angle_expct_arr\n",
    "part3_df[\"Angle_Uncertainty_Radians\"] = angle_unc_arr\n",
    "part3_df.iloc[:,-2:]"
   ]
  },
  {
   "cell_type": "code",
   "execution_count": null,
   "id": "c7ed919e",
   "metadata": {
    "ExecuteTime": {
     "end_time": "2023-06-18T08:53:50.441746Z",
     "start_time": "2023-06-18T08:53:50.441746Z"
    }
   },
   "outputs": [],
   "source": [
    "my_factor = c *  (d + e) / (4*f)\n",
    "fun = ((my_factor + cos(a-b) - 1)**2 + sin(a-b)**2) / (2*(-my_factor - cos(a-b) + 1))\n",
    "fun"
   ]
  },
  {
   "cell_type": "markdown",
   "id": "57557abe",
   "metadata": {},
   "source": []
  },
  {
   "cell_type": "code",
   "execution_count": null,
   "id": "cfd01ba3",
   "metadata": {
    "ExecuteTime": {
     "end_time": "2023-06-18T08:53:50.443079Z",
     "start_time": "2023-06-18T08:53:50.443079Z"
    }
   },
   "outputs": [],
   "source": [
    "lambdify(symbol_list[:2 * len(row_list)], fun)(*symbol_list[:2 * len(row_list)])"
   ]
  },
  {
   "cell_type": "markdown",
   "id": "7b3407a3",
   "metadata": {},
   "source": []
  },
  {
   "cell_type": "markdown",
   "id": "29c9a575",
   "metadata": {},
   "source": [
    "For the sake of time, only the last measurement will be used because it has the highest number of counts and thus the highest resolution. Ideally, all of the measurements would be taken into account in order to achieve the lowest uncertainty possible. This would be done in a manner similar to the analysis for part 2, and would involve using the newly improved error propagation python script. "
   ]
  },
  {
   "cell_type": "code",
   "execution_count": null,
   "id": "e0df20d3",
   "metadata": {
    "ExecuteTime": {
     "end_time": "2023-06-18T08:53:50.443079Z",
     "start_time": "2023-06-18T08:53:50.443079Z"
    }
   },
   "outputs": [],
   "source": [
    "def estimate_n(row):\n",
    "    left_counts, right_counts = np.float64(part3_df.iloc[-1, 1]), np.float64(part3_df.iloc[-1, 1])\n",
    "    thickness = 8000 #micron, checked with collaborators\n",
    "    ref_angle = pi * (np.float64(part3_df.iloc[-1, 0].split(\",\")[0]) \n",
    "                 + (np.float64(part3_df.iloc[-1, 0].split(\",\")[1])/60) ) / 180\n",
    "    final_angle = pi * ( \n",
    "                    np.float64(part3_df.iloc[-1, 3]) + (np.float64(part3_df.iloc[-1, 4][1])/60) ) / 180\n",
    "    expct_inputs = [ref_angle, final_angle, part2_wavelength, left_counts, right_counts, thickness]\n",
    "    fun.subs([(d, left_counts), (e, right_counts), (f , thickness), (a, ref_angle), (b, final_angle),\n",
    "             (c, part2_wavelength)])  "
   ]
  },
  {
   "cell_type": "code",
   "execution_count": null,
   "id": "4bf5be3f",
   "metadata": {
    "ExecuteTime": {
     "end_time": "2023-06-18T08:53:50.446394Z",
     "start_time": "2023-06-18T08:53:50.446394Z"
    }
   },
   "outputs": [],
   "source": [
    "fun"
   ]
  },
  {
   "cell_type": "code",
   "execution_count": null,
   "id": "413f61a9",
   "metadata": {
    "ExecuteTime": {
     "end_time": "2023-06-18T08:53:50.447672Z",
     "start_time": "2023-06-18T08:53:50.447672Z"
    }
   },
   "outputs": [],
   "source": [
    "sympy.N(cos(90))"
   ]
  },
  {
   "cell_type": "code",
   "execution_count": null,
   "id": "f7d0ded3",
   "metadata": {},
   "outputs": [],
   "source": []
  }
 ],
 "metadata": {
  "kernelspec": {
   "display_name": "Python 3 (ipykernel)",
   "language": "python",
   "name": "python3"
  },
  "language_info": {
   "codemirror_mode": {
    "name": "ipython",
    "version": 3
   },
   "file_extension": ".py",
   "mimetype": "text/x-python",
   "name": "python",
   "nbconvert_exporter": "python",
   "pygments_lexer": "ipython3",
   "version": "3.9.13"
  },
  "latex_envs": {
   "LaTeX_envs_menu_present": true,
   "autoclose": false,
   "autocomplete": true,
   "bibliofile": "biblio.bib",
   "cite_by": "apalike",
   "current_citInitial": 1,
   "eqLabelWithNumbers": true,
   "eqNumInitial": 1,
   "hotkeys": {
    "equation": "Ctrl-E",
    "itemize": "Ctrl-I"
   },
   "labels_anchors": false,
   "latex_user_defs": false,
   "report_style_numbering": false,
   "user_envs_cfg": false
  },
  "toc": {
   "base_numbering": 1,
   "nav_menu": {},
   "number_sections": true,
   "sideBar": false,
   "skip_h1_title": false,
   "title_cell": "Table of Contents",
   "title_sidebar": "Contents",
   "toc_cell": false,
   "toc_position": {
    "height": "168px",
    "left": "856.533px",
    "top": "63.9px",
    "width": "156.8px"
   },
   "toc_section_display": true,
   "toc_window_display": true
  },
  "varInspector": {
   "cols": {
    "lenName": 16,
    "lenType": 16,
    "lenVar": 40
   },
   "kernels_config": {
    "python": {
     "delete_cmd_postfix": "",
     "delete_cmd_prefix": "del ",
     "library": "var_list.py",
     "varRefreshCmd": "print(var_dic_list())"
    },
    "r": {
     "delete_cmd_postfix": ") ",
     "delete_cmd_prefix": "rm(",
     "library": "var_list.r",
     "varRefreshCmd": "cat(var_dic_list()) "
    }
   },
   "types_to_exclude": [
    "module",
    "function",
    "builtin_function_or_method",
    "instance",
    "_Feature"
   ],
   "window_display": false
  }
 },
 "nbformat": 4,
 "nbformat_minor": 5
}
