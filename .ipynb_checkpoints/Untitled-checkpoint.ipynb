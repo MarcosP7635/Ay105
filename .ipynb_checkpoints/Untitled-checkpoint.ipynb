{
 "cells": [
  {
   "cell_type": "markdown",
   "id": "be93113d",
   "metadata": {},
   "source": [
    "AO but no coronagraph to look at the first images of a giant planet candidate. \n",
    "Dark exposures, master flat, subtract instrument frame from science frame. \n",
    "Compare results to Chauvin et al. 2004. JPL did a lot of fundamental work on CCDs and invented at Bell Labs. Human eye has a quantum efficiency of 1%, and it drops very sharply in blue and red wavelengths. band gap dictates the responsiveness of silicon. Electron multiplier and CMOS technologies have great benefits. Doing imaging not spectroscopy. Remove sky background using dithering (don't need to know the pattern, but people usually use ABBA). It takes longer to read out larger CCDs but so there's a tradeoff between a faster ADC (analog to digital converter) that has more Johnson noise. Cool CCDs to reduce dark current and this can be done by measuring the thermal noise.  "
   ]
  },
  {
   "cell_type": "markdown",
   "id": "6bcea923",
   "metadata": {},
   "source": [
    "noise = \\sqrt{read^2 + photon^2 + dark^2} \n",
    "\n",
    "dust on the sensor changes the color efficiency and will create a position dependent stability, which you can avoid by flat fielding. Dynamic range would ideally be in the linear regime for your sensor. 13 magnitudes. Ideally you use the flat (long exposure of the dome or twilight sky) to depict pixel-to-pixel differences. Fringing in  CCDs is a pain. (Science - Dark) / (Flat - bias) \n",
    "use flat field to correct for optical effects. \n",
    "\n",
    "Bias is caused by variation in read noise and prevents negative values but still has shot noise (1000 frames stacked together) and it is a DC offset for each pixel. "
   ]
  },
  {
   "cell_type": "code",
   "execution_count": 1,
   "id": "1ebca9e6",
   "metadata": {
    "ExecuteTime": {
     "end_time": "2023-05-30T20:32:04.999914Z",
     "start_time": "2023-05-30T20:32:04.978003Z"
    }
   },
   "outputs": [
    {
     "data": {
      "text/plain": [
       "15.848931924611133"
      ]
     },
     "execution_count": 1,
     "metadata": {},
     "output_type": "execute_result"
    }
   ],
   "source": [
    "100**.6"
   ]
  },
  {
   "cell_type": "code",
   "execution_count": null,
   "id": "b428a3c3",
   "metadata": {},
   "outputs": [],
   "source": []
  }
 ],
 "metadata": {
  "kernelspec": {
   "display_name": "Python 3 (ipykernel)",
   "language": "python",
   "name": "python3"
  },
  "language_info": {
   "codemirror_mode": {
    "name": "ipython",
    "version": 3
   },
   "file_extension": ".py",
   "mimetype": "text/x-python",
   "name": "python",
   "nbconvert_exporter": "python",
   "pygments_lexer": "ipython3",
   "version": "3.9.13"
  },
  "latex_envs": {
   "LaTeX_envs_menu_present": true,
   "autoclose": false,
   "autocomplete": true,
   "bibliofile": "biblio.bib",
   "cite_by": "apalike",
   "current_citInitial": 1,
   "eqLabelWithNumbers": true,
   "eqNumInitial": 1,
   "hotkeys": {
    "equation": "Ctrl-E",
    "itemize": "Ctrl-I"
   },
   "labels_anchors": false,
   "latex_user_defs": false,
   "report_style_numbering": false,
   "user_envs_cfg": false
  },
  "toc": {
   "base_numbering": 1,
   "nav_menu": {},
   "number_sections": true,
   "sideBar": false,
   "skip_h1_title": false,
   "title_cell": "Table of Contents",
   "title_sidebar": "Contents",
   "toc_cell": false,
   "toc_position": {},
   "toc_section_display": true,
   "toc_window_display": true
  },
  "varInspector": {
   "cols": {
    "lenName": 16,
    "lenType": 16,
    "lenVar": 40
   },
   "kernels_config": {
    "python": {
     "delete_cmd_postfix": "",
     "delete_cmd_prefix": "del ",
     "library": "var_list.py",
     "varRefreshCmd": "print(var_dic_list())"
    },
    "r": {
     "delete_cmd_postfix": ") ",
     "delete_cmd_prefix": "rm(",
     "library": "var_list.r",
     "varRefreshCmd": "cat(var_dic_list()) "
    }
   },
   "types_to_exclude": [
    "module",
    "function",
    "builtin_function_or_method",
    "instance",
    "_Feature"
   ],
   "window_display": false
  }
 },
 "nbformat": 4,
 "nbformat_minor": 5
}
