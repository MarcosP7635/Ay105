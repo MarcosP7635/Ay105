{
 "cells": [
  {
   "cell_type": "markdown",
   "id": "74127dd9",
   "metadata": {},
   "source": [
    "# Import Data"
   ]
  },
  {
   "cell_type": "code",
   "execution_count": 46,
   "id": "0312b330",
   "metadata": {
    "ExecuteTime": {
     "end_time": "2023-05-23T15:48:41.175028Z",
     "start_time": "2023-05-23T15:48:40.095909Z"
    }
   },
   "outputs": [],
   "source": [
    "import pandas as pd"
   ]
  },
  {
   "cell_type": "code",
   "execution_count": 4,
   "id": "0a97a6df",
   "metadata": {
    "ExecuteTime": {
     "end_time": "2023-05-23T15:33:33.298249Z",
     "start_time": "2023-05-23T15:33:33.286457Z"
    }
   },
   "outputs": [
    {
     "data": {
      "text/plain": [
       "['Z6 = 1',\n",
       " 'Shack Hartman Amplitude RMS = .401 +/- .01 um ',\n",
       " 'Wavefront Generator RMS = .411  +/- .01 um ',\n",
       " 'Shack Hartman Amplitude PV = .6 +/- .01 um ',\n",
       " 'Wavefront Generator PV = 1.883 +.001 um',\n",
       " 'Peak intensity = 237',\n",
       " 'Z6 = -1',\n",
       " 'Shack Hartman Amplitude RMS = .415 +/- .01 um ',\n",
       " 'Wavefront Generator RMS = .411  +/- .01 um ',\n",
       " 'Shack Hartman Amplitude PV = .6 +/- .01 um ',\n",
       " 'Wavefront Generator PV = 1.883 +.001 um',\n",
       " 'Peak intensity = 236',\n",
       " 'Z7 = 1',\n",
       " 'Shack Hartman Amplitude RMS = .642 +/- .01 um ',\n",
       " 'Wavefront Generator RMS = 1.036  +/- .01 um ',\n",
       " 'Shack Hartman Amplitude PV = 1.891 +/- .01 um ',\n",
       " 'Wavefront Generator PV = 3.543 +.001 um',\n",
       " 'Peak intensity = 235',\n",
       " 'Z7 = -1',\n",
       " 'Shack Hartman Amplitude RMS = .652 +/- .01 um ',\n",
       " 'Wavefront Generator RMS = 1.036  +/- .01 um ',\n",
       " 'Shack Hartman Amplitude PV = 1.805 +/- .01 um ',\n",
       " 'Wavefront Generator PV = 3.543 +.001 um',\n",
       " 'Peak intensity = 238',\n",
       " 'Z8 = 1',\n",
       " 'Shack Hartman Amplitude RMS = .651 +/- .01 um ',\n",
       " 'Wavefront Generator RMS = 1.053  +/- .01 um ',\n",
       " 'Shack Hartman Amplitude PV = 1.727 +/- .01 um ',\n",
       " 'Wavefront Generator PV = 3.542 +.001 um',\n",
       " 'Peak intensity = 237',\n",
       " 'Z8 = -1',\n",
       " 'Shack Hartman Amplitude RMS = .652 +/- .01 um ',\n",
       " 'Wavefront Generator RMS = 1.035  +/- .01 um ',\n",
       " 'Shack Hartman Amplitude PV = 1.800 +/- .01 um ',\n",
       " 'Wavefront Generator PV = 3.542 +.001 um',\n",
       " 'Peak intensity = 240',\n",
       " 'Z9 = 1',\n",
       " 'Shack Hartman Amplitude RMS = .410 +/- .01 um ',\n",
       " 'Wavefront Generator RMS = .417  +/- .01 um ',\n",
       " 'Shack Hartman Amplitude PV = .504 +/- .01 um ',\n",
       " 'Wavefront Generator PV = 2.759 +.001 um',\n",
       " 'Peak intensity = 240',\n",
       " 'Z9 = -1',\n",
       " 'Shack Hartman Amplitude RMS = .396 +/- .01 um ',\n",
       " 'Wavefront Generator RMS = .417  +/- .01 um ',\n",
       " 'Shack Hartman Amplitude PV = .521 +/- .01 um ',\n",
       " 'Wavefront Generator PV = 2.759 +.001 um',\n",
       " 'Peak intensity = 237',\n",
       " 'Z10 = 1',\n",
       " 'Shack Hartman Amplitude RMS = .394 +/- .01 um ',\n",
       " 'Wavefront Generator RMS = .414  +/- .01 um ',\n",
       " 'Shack Hartman Amplitude PV = .517 +/- .01 um ',\n",
       " 'Wavefront Generator PV = 2.626 +.001 um',\n",
       " 'Peak intensity = 237',\n",
       " 'Z10 = -1',\n",
       " 'Shack Hartman Amplitude RMS = .401 +/- .01 um ',\n",
       " 'Wavefront Generator RMS = .414  +/- .01 um ',\n",
       " 'Shack Hartman Amplitude PV = .521 +/- .01 um ',\n",
       " 'Wavefront Generator PV = 2.626 +.001 um',\n",
       " 'Peak intensity = 239',\n",
       " 'Z11 = 1',\n",
       " 'Shack Hartman Amplitude RMS = 1.090 +/- .01 um ',\n",
       " 'Wavefront Generator RMS = .990  +/- .01 um ',\n",
       " 'Shack Hartman Amplitude PV = .505 +/- .01 um ',\n",
       " 'Wavefront Generator PV = 3.342 +.001 um',\n",
       " 'Peak intensity = 239',\n",
       " 'Z11 = -1',\n",
       " 'Shack Hartman Amplitude RMS = .895 +/- .01 um ',\n",
       " 'Wavefront Generator RMS = .990  +/- .01 um ',\n",
       " 'Shack Hartman Amplitude PV = .563 +/- .01 um ',\n",
       " 'Wavefront Generator PV = 3.342 +.001 um',\n",
       " 'Peak intensity = 240',\n",
       " 'Z12 = 1',\n",
       " 'Shack Hartman Amplitude RMS = .927 +/- .01 um ',\n",
       " 'Wavefront Generator RMS = .893  +/- .01 um ',\n",
       " 'Shack Hartman Amplitude PV = .522 +/- .01 um ',\n",
       " 'Wavefront Generator PV = 3.546 +.001 um',\n",
       " 'Peak intensity = 240']"
      ]
     },
     "execution_count": 4,
     "metadata": {},
     "output_type": "execute_result"
    }
   ],
   "source": [
    "data_str = [x for x in open(\"data_lab6_ay105.txt\", 'r').read().split(\"\\n\")\n",
    "            if len(x)>0]\n",
    "data_str"
   ]
  },
  {
   "cell_type": "code",
   "execution_count": 36,
   "id": "504e1034",
   "metadata": {
    "ExecuteTime": {
     "end_time": "2023-05-23T15:44:13.056472Z",
     "start_time": "2023-05-23T15:44:13.037860Z"
    },
    "collapsed": true
   },
   "outputs": [
    {
     "data": {
      "text/plain": [
       "['order',\n",
       " 'Shack Hartman Amplitude RMS',\n",
       " 'Wavefront Generator RMS',\n",
       " 'Shack Hartman Amplitude PV',\n",
       " 'Wavefront Generator PV',\n",
       " 'Peak intensity']"
      ]
     },
     "execution_count": 36,
     "metadata": {},
     "output_type": "execute_result"
    }
   ],
   "source": [
    "colnames = [ 'order', 'Shack Hartman Amplitude RMS','Wavefront Generator RMS', \n",
    "            'Shack Hartman Amplitude PV', \n",
    "            'Wavefront Generator PV', 'Peak intensity']\n",
    "colnames"
   ]
  },
  {
   "cell_type": "markdown",
   "id": "fdcb94f1",
   "metadata": {},
   "source": [
    "Now to extract the order of the Zernicke polynomial term for each measurement."
   ]
  },
  {
   "cell_type": "code",
   "execution_count": 47,
   "id": "503e2831",
   "metadata": {
    "ExecuteTime": {
     "end_time": "2023-05-23T15:48:44.597937Z",
     "start_time": "2023-05-23T15:48:44.559735Z"
    }
   },
   "outputs": [
    {
     "data": {
      "text/html": [
       "<div>\n",
       "<style scoped>\n",
       "    .dataframe tbody tr th:only-of-type {\n",
       "        vertical-align: middle;\n",
       "    }\n",
       "\n",
       "    .dataframe tbody tr th {\n",
       "        vertical-align: top;\n",
       "    }\n",
       "\n",
       "    .dataframe thead th {\n",
       "        text-align: right;\n",
       "    }\n",
       "</style>\n",
       "<table border=\"1\" class=\"dataframe\">\n",
       "  <thead>\n",
       "    <tr style=\"text-align: right;\">\n",
       "      <th></th>\n",
       "      <th>order</th>\n",
       "    </tr>\n",
       "  </thead>\n",
       "  <tbody>\n",
       "    <tr>\n",
       "      <th>0</th>\n",
       "      <td>6</td>\n",
       "    </tr>\n",
       "    <tr>\n",
       "      <th>1</th>\n",
       "      <td>6</td>\n",
       "    </tr>\n",
       "    <tr>\n",
       "      <th>2</th>\n",
       "      <td>7</td>\n",
       "    </tr>\n",
       "    <tr>\n",
       "      <th>3</th>\n",
       "      <td>7</td>\n",
       "    </tr>\n",
       "    <tr>\n",
       "      <th>4</th>\n",
       "      <td>8</td>\n",
       "    </tr>\n",
       "    <tr>\n",
       "      <th>5</th>\n",
       "      <td>8</td>\n",
       "    </tr>\n",
       "    <tr>\n",
       "      <th>6</th>\n",
       "      <td>9</td>\n",
       "    </tr>\n",
       "    <tr>\n",
       "      <th>7</th>\n",
       "      <td>9</td>\n",
       "    </tr>\n",
       "    <tr>\n",
       "      <th>8</th>\n",
       "      <td>10</td>\n",
       "    </tr>\n",
       "    <tr>\n",
       "      <th>9</th>\n",
       "      <td>10</td>\n",
       "    </tr>\n",
       "    <tr>\n",
       "      <th>10</th>\n",
       "      <td>11</td>\n",
       "    </tr>\n",
       "    <tr>\n",
       "      <th>11</th>\n",
       "      <td>11</td>\n",
       "    </tr>\n",
       "    <tr>\n",
       "      <th>12</th>\n",
       "      <td>12</td>\n",
       "    </tr>\n",
       "  </tbody>\n",
       "</table>\n",
       "</div>"
      ],
      "text/plain": [
       "   order\n",
       "0      6\n",
       "1      6\n",
       "2      7\n",
       "3      7\n",
       "4      8\n",
       "5      8\n",
       "6      9\n",
       "7      9\n",
       "8     10\n",
       "9     10\n",
       "10    11\n",
       "11    11\n",
       "12    12"
      ]
     },
     "execution_count": 47,
     "metadata": {},
     "output_type": "execute_result"
    }
   ],
   "source": [
    "total_rows = int(len(data_str) / len(colnames))\n",
    "df = pd.DataFrame()\n",
    "colname = colnames[0]\n",
    "df[colnames[0]] = [data_str[ index * len(colnames)].split(\"Z\")[1].split(\" \")[0] \n",
    "            for index in list(range(total_rows))] \n",
    "df"
   ]
  },
  {
   "cell_type": "code",
   "execution_count": 48,
   "id": "f5f31aab",
   "metadata": {
    "ExecuteTime": {
     "end_time": "2023-05-23T15:49:43.996726Z",
     "start_time": "2023-05-23T15:49:43.982512Z"
    }
   },
   "outputs": [],
   "source": [
    "df[\"Coefficients\"] =  [data_str[ index * len(colnames)].split(\" \")[-1] \n",
    "            for index in list(range(total_rows))] "
   ]
  },
  {
   "cell_type": "code",
   "execution_count": 52,
   "id": "e2802ac2",
   "metadata": {
    "ExecuteTime": {
     "end_time": "2023-05-23T15:51:40.225655Z",
     "start_time": "2023-05-23T15:51:40.202535Z"
    }
   },
   "outputs": [
    {
     "data": {
      "text/html": [
       "<div>\n",
       "<style scoped>\n",
       "    .dataframe tbody tr th:only-of-type {\n",
       "        vertical-align: middle;\n",
       "    }\n",
       "\n",
       "    .dataframe tbody tr th {\n",
       "        vertical-align: top;\n",
       "    }\n",
       "\n",
       "    .dataframe thead th {\n",
       "        text-align: right;\n",
       "    }\n",
       "</style>\n",
       "<table border=\"1\" class=\"dataframe\">\n",
       "  <thead>\n",
       "    <tr style=\"text-align: right;\">\n",
       "      <th></th>\n",
       "      <th>order</th>\n",
       "      <th>Coefficients</th>\n",
       "      <th>Shack Hartman Amplitude RMS</th>\n",
       "      <th>Wavefront Generator RMS</th>\n",
       "      <th>Shack Hartman Amplitude PV</th>\n",
       "      <th>Wavefront Generator PV</th>\n",
       "      <th>Peak intensity</th>\n",
       "    </tr>\n",
       "  </thead>\n",
       "  <tbody>\n",
       "    <tr>\n",
       "      <th>0</th>\n",
       "      <td>6</td>\n",
       "      <td>1</td>\n",
       "      <td>.401 +/- .01 um</td>\n",
       "      <td>.411  +/- .01 um</td>\n",
       "      <td>.6 +/- .01 um</td>\n",
       "      <td>1.883 +.001 um</td>\n",
       "      <td>237</td>\n",
       "    </tr>\n",
       "    <tr>\n",
       "      <th>1</th>\n",
       "      <td>6</td>\n",
       "      <td>-1</td>\n",
       "      <td>.415 +/- .01 um</td>\n",
       "      <td>.411  +/- .01 um</td>\n",
       "      <td>.6 +/- .01 um</td>\n",
       "      <td>1.883 +.001 um</td>\n",
       "      <td>236</td>\n",
       "    </tr>\n",
       "    <tr>\n",
       "      <th>2</th>\n",
       "      <td>7</td>\n",
       "      <td>1</td>\n",
       "      <td>.642 +/- .01 um</td>\n",
       "      <td>1.036  +/- .01 um</td>\n",
       "      <td>1.891 +/- .01 um</td>\n",
       "      <td>3.543 +.001 um</td>\n",
       "      <td>235</td>\n",
       "    </tr>\n",
       "    <tr>\n",
       "      <th>3</th>\n",
       "      <td>7</td>\n",
       "      <td>-1</td>\n",
       "      <td>.652 +/- .01 um</td>\n",
       "      <td>1.036  +/- .01 um</td>\n",
       "      <td>1.805 +/- .01 um</td>\n",
       "      <td>3.543 +.001 um</td>\n",
       "      <td>238</td>\n",
       "    </tr>\n",
       "    <tr>\n",
       "      <th>4</th>\n",
       "      <td>8</td>\n",
       "      <td>1</td>\n",
       "      <td>.651 +/- .01 um</td>\n",
       "      <td>1.053  +/- .01 um</td>\n",
       "      <td>1.727 +/- .01 um</td>\n",
       "      <td>3.542 +.001 um</td>\n",
       "      <td>237</td>\n",
       "    </tr>\n",
       "    <tr>\n",
       "      <th>5</th>\n",
       "      <td>8</td>\n",
       "      <td>-1</td>\n",
       "      <td>.652 +/- .01 um</td>\n",
       "      <td>1.035  +/- .01 um</td>\n",
       "      <td>1.800 +/- .01 um</td>\n",
       "      <td>3.542 +.001 um</td>\n",
       "      <td>240</td>\n",
       "    </tr>\n",
       "    <tr>\n",
       "      <th>6</th>\n",
       "      <td>9</td>\n",
       "      <td>1</td>\n",
       "      <td>.410 +/- .01 um</td>\n",
       "      <td>.417  +/- .01 um</td>\n",
       "      <td>.504 +/- .01 um</td>\n",
       "      <td>2.759 +.001 um</td>\n",
       "      <td>240</td>\n",
       "    </tr>\n",
       "    <tr>\n",
       "      <th>7</th>\n",
       "      <td>9</td>\n",
       "      <td>-1</td>\n",
       "      <td>.396 +/- .01 um</td>\n",
       "      <td>.417  +/- .01 um</td>\n",
       "      <td>.521 +/- .01 um</td>\n",
       "      <td>2.759 +.001 um</td>\n",
       "      <td>237</td>\n",
       "    </tr>\n",
       "    <tr>\n",
       "      <th>8</th>\n",
       "      <td>10</td>\n",
       "      <td>1</td>\n",
       "      <td>.394 +/- .01 um</td>\n",
       "      <td>.414  +/- .01 um</td>\n",
       "      <td>.517 +/- .01 um</td>\n",
       "      <td>2.626 +.001 um</td>\n",
       "      <td>237</td>\n",
       "    </tr>\n",
       "    <tr>\n",
       "      <th>9</th>\n",
       "      <td>10</td>\n",
       "      <td>-1</td>\n",
       "      <td>.401 +/- .01 um</td>\n",
       "      <td>.414  +/- .01 um</td>\n",
       "      <td>.521 +/- .01 um</td>\n",
       "      <td>2.626 +.001 um</td>\n",
       "      <td>239</td>\n",
       "    </tr>\n",
       "    <tr>\n",
       "      <th>10</th>\n",
       "      <td>11</td>\n",
       "      <td>1</td>\n",
       "      <td>1.090 +/- .01 um</td>\n",
       "      <td>.990  +/- .01 um</td>\n",
       "      <td>.505 +/- .01 um</td>\n",
       "      <td>3.342 +.001 um</td>\n",
       "      <td>239</td>\n",
       "    </tr>\n",
       "    <tr>\n",
       "      <th>11</th>\n",
       "      <td>11</td>\n",
       "      <td>-1</td>\n",
       "      <td>.895 +/- .01 um</td>\n",
       "      <td>.990  +/- .01 um</td>\n",
       "      <td>.563 +/- .01 um</td>\n",
       "      <td>3.342 +.001 um</td>\n",
       "      <td>240</td>\n",
       "    </tr>\n",
       "    <tr>\n",
       "      <th>12</th>\n",
       "      <td>12</td>\n",
       "      <td>1</td>\n",
       "      <td>.927 +/- .01 um</td>\n",
       "      <td>.893  +/- .01 um</td>\n",
       "      <td>.522 +/- .01 um</td>\n",
       "      <td>3.546 +.001 um</td>\n",
       "      <td>240</td>\n",
       "    </tr>\n",
       "  </tbody>\n",
       "</table>\n",
       "</div>"
      ],
      "text/plain": [
       "   order Coefficients Shack Hartman Amplitude RMS Wavefront Generator RMS  \\\n",
       "0      6            1            .401 +/- .01 um        .411  +/- .01 um    \n",
       "1      6           -1            .415 +/- .01 um        .411  +/- .01 um    \n",
       "2      7            1            .642 +/- .01 um       1.036  +/- .01 um    \n",
       "3      7           -1            .652 +/- .01 um       1.036  +/- .01 um    \n",
       "4      8            1            .651 +/- .01 um       1.053  +/- .01 um    \n",
       "5      8           -1            .652 +/- .01 um       1.035  +/- .01 um    \n",
       "6      9            1            .410 +/- .01 um        .417  +/- .01 um    \n",
       "7      9           -1            .396 +/- .01 um        .417  +/- .01 um    \n",
       "8     10            1            .394 +/- .01 um        .414  +/- .01 um    \n",
       "9     10           -1            .401 +/- .01 um        .414  +/- .01 um    \n",
       "10    11            1           1.090 +/- .01 um        .990  +/- .01 um    \n",
       "11    11           -1            .895 +/- .01 um        .990  +/- .01 um    \n",
       "12    12            1            .927 +/- .01 um        .893  +/- .01 um    \n",
       "\n",
       "   Shack Hartman Amplitude PV Wavefront Generator PV Peak intensity  \n",
       "0              .6 +/- .01 um          1.883 +.001 um            237  \n",
       "1              .6 +/- .01 um          1.883 +.001 um            236  \n",
       "2           1.891 +/- .01 um          3.543 +.001 um            235  \n",
       "3           1.805 +/- .01 um          3.543 +.001 um            238  \n",
       "4           1.727 +/- .01 um          3.542 +.001 um            237  \n",
       "5           1.800 +/- .01 um          3.542 +.001 um            240  \n",
       "6            .504 +/- .01 um          2.759 +.001 um            240  \n",
       "7            .521 +/- .01 um          2.759 +.001 um            237  \n",
       "8            .517 +/- .01 um          2.626 +.001 um            237  \n",
       "9            .521 +/- .01 um          2.626 +.001 um            239  \n",
       "10           .505 +/- .01 um          3.342 +.001 um            239  \n",
       "11           .563 +/- .01 um          3.342 +.001 um            240  \n",
       "12           .522 +/- .01 um          3.546 +.001 um            240  "
      ]
     },
     "execution_count": 52,
     "metadata": {},
     "output_type": "execute_result"
    }
   ],
   "source": [
    "for colnumber, colname in enumerate(colnames[1:]):\n",
    "     df[colname] = [data_str[ index * len(colnames) + colnumber + 1].split(colname + \" = \")[-1] \n",
    "            for index in list(range(total_rows))] \n",
    "df"
   ]
  },
  {
   "cell_type": "code",
   "execution_count": null,
   "id": "d919d3f2",
   "metadata": {},
   "outputs": [],
   "source": []
  },
  {
   "cell_type": "code",
   "execution_count": null,
   "id": "1d2adb75",
   "metadata": {},
   "outputs": [],
   "source": []
  }
 ],
 "metadata": {
  "kernelspec": {
   "display_name": "Python 3 (ipykernel)",
   "language": "python",
   "name": "python3"
  },
  "language_info": {
   "codemirror_mode": {
    "name": "ipython",
    "version": 3
   },
   "file_extension": ".py",
   "mimetype": "text/x-python",
   "name": "python",
   "nbconvert_exporter": "python",
   "pygments_lexer": "ipython3",
   "version": "3.9.13"
  },
  "latex_envs": {
   "LaTeX_envs_menu_present": true,
   "autoclose": false,
   "autocomplete": true,
   "bibliofile": "biblio.bib",
   "cite_by": "apalike",
   "current_citInitial": 1,
   "eqLabelWithNumbers": true,
   "eqNumInitial": 1,
   "hotkeys": {
    "equation": "Ctrl-E",
    "itemize": "Ctrl-I"
   },
   "labels_anchors": false,
   "latex_user_defs": false,
   "report_style_numbering": false,
   "user_envs_cfg": false
  },
  "toc": {
   "base_numbering": 1,
   "nav_menu": {},
   "number_sections": true,
   "sideBar": false,
   "skip_h1_title": false,
   "title_cell": "Table of Contents",
   "title_sidebar": "Contents",
   "toc_cell": false,
   "toc_position": {
    "height": "207.6px",
    "left": "1165px",
    "top": "53.8px",
    "width": "184.317px"
   },
   "toc_section_display": true,
   "toc_window_display": true
  },
  "varInspector": {
   "cols": {
    "lenName": 16,
    "lenType": 16,
    "lenVar": 40
   },
   "kernels_config": {
    "python": {
     "delete_cmd_postfix": "",
     "delete_cmd_prefix": "del ",
     "library": "var_list.py",
     "varRefreshCmd": "print(var_dic_list())"
    },
    "r": {
     "delete_cmd_postfix": ") ",
     "delete_cmd_prefix": "rm(",
     "library": "var_list.r",
     "varRefreshCmd": "cat(var_dic_list()) "
    }
   },
   "types_to_exclude": [
    "module",
    "function",
    "builtin_function_or_method",
    "instance",
    "_Feature"
   ],
   "window_display": false
  }
 },
 "nbformat": 4,
 "nbformat_minor": 5
}
