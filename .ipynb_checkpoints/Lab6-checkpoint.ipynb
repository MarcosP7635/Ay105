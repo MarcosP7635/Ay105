{
 "cells": [
  {
   "cell_type": "markdown",
   "id": "3c88827b",
   "metadata": {},
   "source": [
    "# Introduction, Background, and Equipment\n",
    "Adaptive optics is a key tool in addressing the affect of the Earth's atmosphere on observational astrophysics. Specifically, the ability to deform a mirror on the scale of angstroms in real-time to account for atmospheric disturbance can circumvent the seeing-caused minimum of angular resolution. Here we demonstrate but a few measurements to describe on-bench effectiveness  <a href=\"#thorlabs\">of an adaptive optics set up from Thorlabs</a> in conjunction with a <a href=\"#coronagraph\"> custom-made vortex coronagraph </a>. We gauge the effectiveness by calculating the Strehl ratio, which is a ratio between the theoretical and empirical PSF (point-spread function). \n",
    "\n",
    "\n",
    "\n",
    "<p id=\"thorlabs\">[1]\n",
    "<a href= https://www.thorlabs.com/drawings/b54c6658bffc0f9-EB51238F-BA38-DB79-97A29CFB16C0C2D3/AOK5_M-Manual.pdf> https://www.thorlabs.com/drawings/b54c6658bffc0f9-EB51238F-BA38-DB79-97A29CFB16C0C2D3/AOK5_M-Manual.pdf </a>\n",
    "</p>\n",
    "\n",
    "<p id=\"coronagraph\">[2]\n",
    "    <a href=https://doi.org/10.1086/462409> DOI:10.1086/462409 </a>\n",
    "</p>\n"
   ]
  },
  {
   "cell_type": "markdown",
   "id": "1a1cf358",
   "metadata": {},
   "source": [
    "# Experimental setup\n",
    "## Sketches and photos with descriptions and labels"
   ]
  },
  {
   "cell_type": "code",
   "execution_count": null,
   "id": "6cf67cae",
   "metadata": {},
   "outputs": [],
   "source": []
  },
  {
   "cell_type": "markdown",
   "id": "f3203375",
   "metadata": {},
   "source": [
    "# Recorded Data\n",
    "First we import the data as a <a href=https://pandas.pydata.org/pandas-docs/stable/reference/api/pandas.DataFrame.html>Panda Dataframe</a>, which essentially a spreadsheet that has many supported functions for data analysis in Python. "
   ]
  },
  {
   "cell_type": "code",
   "execution_count": 1,
   "id": "85d4bf5b",
   "metadata": {
    "ExecuteTime": {
     "end_time": "2023-05-23T21:14:43.319039Z",
     "start_time": "2023-05-23T21:14:42.397957Z"
    }
   },
   "outputs": [],
   "source": [
    "import pandas as pd\n",
    "import numpy as np"
   ]
  },
  {
   "cell_type": "code",
   "execution_count": 2,
   "id": "0a97a6df",
   "metadata": {
    "ExecuteTime": {
     "end_time": "2023-05-23T21:14:43.351005Z",
     "start_time": "2023-05-23T21:14:43.322626Z"
    }
   },
   "outputs": [
    {
     "data": {
      "text/plain": [
       "['Z6 = 1',\n",
       " 'Shack Hartman Amplitude RMS = .401 +/- .01 um ',\n",
       " 'Wavefront Generator RMS = .411  +/- .01 um ',\n",
       " 'Shack Hartman Amplitude PV = .6 +/- .01 um ',\n",
       " 'Wavefront Generator PV = 1.883 +.001 um',\n",
       " 'Peak intensity = 237',\n",
       " 'Z6 = -1',\n",
       " 'Shack Hartman Amplitude RMS = .415 +/- .01 um ',\n",
       " 'Wavefront Generator RMS = .411  +/- .01 um ',\n",
       " 'Shack Hartman Amplitude PV = .6 +/- .01 um ',\n",
       " 'Wavefront Generator PV = 1.883 +.001 um',\n",
       " 'Peak intensity = 236',\n",
       " 'Z7 = 1',\n",
       " 'Shack Hartman Amplitude RMS = .642 +/- .01 um ',\n",
       " 'Wavefront Generator RMS = 1.036  +/- .01 um ',\n",
       " 'Shack Hartman Amplitude PV = 1.891 +/- .01 um ',\n",
       " 'Wavefront Generator PV = 3.543 +.001 um',\n",
       " 'Peak intensity = 235',\n",
       " 'Z7 = -1',\n",
       " 'Shack Hartman Amplitude RMS = .652 +/- .01 um ',\n",
       " 'Wavefront Generator RMS = 1.036  +/- .01 um ',\n",
       " 'Shack Hartman Amplitude PV = 1.805 +/- .01 um ',\n",
       " 'Wavefront Generator PV = 3.543 +.001 um',\n",
       " 'Peak intensity = 238',\n",
       " 'Z8 = 1',\n",
       " 'Shack Hartman Amplitude RMS = .651 +/- .01 um ',\n",
       " 'Wavefront Generator RMS = 1.053  +/- .01 um ',\n",
       " 'Shack Hartman Amplitude PV = 1.727 +/- .01 um ',\n",
       " 'Wavefront Generator PV = 3.542 +.001 um',\n",
       " 'Peak intensity = 237',\n",
       " 'Z8 = -1',\n",
       " 'Shack Hartman Amplitude RMS = .652 +/- .01 um ',\n",
       " 'Wavefront Generator RMS = 1.035  +/- .01 um ',\n",
       " 'Shack Hartman Amplitude PV = 1.800 +/- .01 um ',\n",
       " 'Wavefront Generator PV = 3.542 +.001 um',\n",
       " 'Peak intensity = 240',\n",
       " 'Z9 = 1',\n",
       " 'Shack Hartman Amplitude RMS = .410 +/- .01 um ',\n",
       " 'Wavefront Generator RMS = .417  +/- .01 um ',\n",
       " 'Shack Hartman Amplitude PV = .504 +/- .01 um ',\n",
       " 'Wavefront Generator PV = 2.759 +.001 um',\n",
       " 'Peak intensity = 240',\n",
       " 'Z9 = -1',\n",
       " 'Shack Hartman Amplitude RMS = .396 +/- .01 um ',\n",
       " 'Wavefront Generator RMS = .417  +/- .01 um ',\n",
       " 'Shack Hartman Amplitude PV = .521 +/- .01 um ',\n",
       " 'Wavefront Generator PV = 2.759 +.001 um',\n",
       " 'Peak intensity = 237',\n",
       " 'Z10 = 1',\n",
       " 'Shack Hartman Amplitude RMS = .394 +/- .01 um ',\n",
       " 'Wavefront Generator RMS = .414  +/- .01 um ',\n",
       " 'Shack Hartman Amplitude PV = .517 +/- .01 um ',\n",
       " 'Wavefront Generator PV = 2.626 +.001 um',\n",
       " 'Peak intensity = 237',\n",
       " 'Z10 = -1',\n",
       " 'Shack Hartman Amplitude RMS = .401 +/- .01 um ',\n",
       " 'Wavefront Generator RMS = .414  +/- .01 um ',\n",
       " 'Shack Hartman Amplitude PV = .521 +/- .01 um ',\n",
       " 'Wavefront Generator PV = 2.626 +.001 um',\n",
       " 'Peak intensity = 239',\n",
       " 'Z11 = 1',\n",
       " 'Shack Hartman Amplitude RMS = 1.090 +/- .01 um ',\n",
       " 'Wavefront Generator RMS = .990  +/- .01 um ',\n",
       " 'Shack Hartman Amplitude PV = .505 +/- .01 um ',\n",
       " 'Wavefront Generator PV = 3.342 +.001 um',\n",
       " 'Peak intensity = 239',\n",
       " 'Z11 = -1',\n",
       " 'Shack Hartman Amplitude RMS = .895 +/- .01 um ',\n",
       " 'Wavefront Generator RMS = .990  +/- .01 um ',\n",
       " 'Shack Hartman Amplitude PV = .563 +/- .01 um ',\n",
       " 'Wavefront Generator PV = 3.342 +.001 um',\n",
       " 'Peak intensity = 240',\n",
       " 'Z12 = 1',\n",
       " 'Shack Hartman Amplitude RMS = .927 +/- .01 um ',\n",
       " 'Wavefront Generator RMS = .893  +/- .01 um ',\n",
       " 'Shack Hartman Amplitude PV = .522 +/- .01 um ',\n",
       " 'Wavefront Generator PV = 3.546 +.001 um',\n",
       " 'Peak intensity = 240']"
      ]
     },
     "execution_count": 2,
     "metadata": {},
     "output_type": "execute_result"
    }
   ],
   "source": [
    "data_str = [x for x in open(\"data_lab6_ay105.txt\", 'r').read().split(\"\\n\")\n",
    "            if len(x)>0]\n",
    "data_str"
   ]
  },
  {
   "cell_type": "code",
   "execution_count": 3,
   "id": "504e1034",
   "metadata": {
    "ExecuteTime": {
     "end_time": "2023-05-23T21:14:43.366962Z",
     "start_time": "2023-05-23T21:14:43.351519Z"
    }
   },
   "outputs": [
    {
     "data": {
      "text/plain": [
       "['order',\n",
       " 'Shack Hartman Amplitude RMS',\n",
       " 'Wavefront Generator RMS',\n",
       " 'Shack Hartman Amplitude PV',\n",
       " 'Wavefront Generator PV',\n",
       " 'Peak intensity']"
      ]
     },
     "execution_count": 3,
     "metadata": {},
     "output_type": "execute_result"
    }
   ],
   "source": [
    "colnames = [ 'order', 'Shack Hartman Amplitude RMS','Wavefront Generator RMS', \n",
    "            'Shack Hartman Amplitude PV', \n",
    "            'Wavefront Generator PV', 'Peak intensity']\n",
    "colnames"
   ]
  },
  {
   "cell_type": "markdown",
   "id": "c9c4d114",
   "metadata": {},
   "source": [
    "Now to extract the order of the Zernicke polynomial term for each measurement, which is just labelled as order. The coefficient of each polynomial is labelled as Coefficients."
   ]
  },
  {
   "cell_type": "code",
   "execution_count": 4,
   "id": "b59d9bdc",
   "metadata": {
    "ExecuteTime": {
     "end_time": "2023-05-23T21:14:43.398847Z",
     "start_time": "2023-05-23T21:14:43.369216Z"
    }
   },
   "outputs": [
    {
     "data": {
      "text/html": [
       "<div>\n",
       "<style scoped>\n",
       "    .dataframe tbody tr th:only-of-type {\n",
       "        vertical-align: middle;\n",
       "    }\n",
       "\n",
       "    .dataframe tbody tr th {\n",
       "        vertical-align: top;\n",
       "    }\n",
       "\n",
       "    .dataframe thead th {\n",
       "        text-align: right;\n",
       "    }\n",
       "</style>\n",
       "<table border=\"1\" class=\"dataframe\">\n",
       "  <thead>\n",
       "    <tr style=\"text-align: right;\">\n",
       "      <th></th>\n",
       "      <th>order</th>\n",
       "    </tr>\n",
       "  </thead>\n",
       "  <tbody>\n",
       "    <tr>\n",
       "      <th>0</th>\n",
       "      <td>6</td>\n",
       "    </tr>\n",
       "    <tr>\n",
       "      <th>1</th>\n",
       "      <td>6</td>\n",
       "    </tr>\n",
       "    <tr>\n",
       "      <th>2</th>\n",
       "      <td>7</td>\n",
       "    </tr>\n",
       "    <tr>\n",
       "      <th>3</th>\n",
       "      <td>7</td>\n",
       "    </tr>\n",
       "    <tr>\n",
       "      <th>4</th>\n",
       "      <td>8</td>\n",
       "    </tr>\n",
       "    <tr>\n",
       "      <th>5</th>\n",
       "      <td>8</td>\n",
       "    </tr>\n",
       "    <tr>\n",
       "      <th>6</th>\n",
       "      <td>9</td>\n",
       "    </tr>\n",
       "    <tr>\n",
       "      <th>7</th>\n",
       "      <td>9</td>\n",
       "    </tr>\n",
       "    <tr>\n",
       "      <th>8</th>\n",
       "      <td>10</td>\n",
       "    </tr>\n",
       "    <tr>\n",
       "      <th>9</th>\n",
       "      <td>10</td>\n",
       "    </tr>\n",
       "    <tr>\n",
       "      <th>10</th>\n",
       "      <td>11</td>\n",
       "    </tr>\n",
       "    <tr>\n",
       "      <th>11</th>\n",
       "      <td>11</td>\n",
       "    </tr>\n",
       "    <tr>\n",
       "      <th>12</th>\n",
       "      <td>12</td>\n",
       "    </tr>\n",
       "  </tbody>\n",
       "</table>\n",
       "</div>"
      ],
      "text/plain": [
       "   order\n",
       "0      6\n",
       "1      6\n",
       "2      7\n",
       "3      7\n",
       "4      8\n",
       "5      8\n",
       "6      9\n",
       "7      9\n",
       "8     10\n",
       "9     10\n",
       "10    11\n",
       "11    11\n",
       "12    12"
      ]
     },
     "execution_count": 4,
     "metadata": {},
     "output_type": "execute_result"
    }
   ],
   "source": [
    "total_rows = int(len(data_str) / len(colnames))\n",
    "df = pd.DataFrame()\n",
    "colname = colnames[0]\n",
    "df[colnames[0]] = [data_str[ index * len(colnames)].split(\"Z\")[1].split(\" \")[0] \n",
    "            for index in list(range(total_rows))] \n",
    "df"
   ]
  },
  {
   "cell_type": "code",
   "execution_count": 7,
   "id": "53f7625e",
   "metadata": {
    "ExecuteTime": {
     "end_time": "2023-05-23T23:46:14.858831Z",
     "start_time": "2023-05-23T23:46:14.803088Z"
    }
   },
   "outputs": [],
   "source": [
    "df[\"Coefficients\"] =  [data_str[ index * len(colnames)].split(\" \")[-1] \n",
    "            for index in list(range(total_rows))] "
   ]
  },
  {
   "cell_type": "markdown",
   "id": "47d3527c",
   "metadata": {
    "ExecuteTime": {
     "end_time": "2023-05-23T23:46:56.516896Z",
     "start_time": "2023-05-23T23:46:56.493298Z"
    }
   },
   "source": [
    "Now we finally construct the dataframe. Each measurement has the same unit as its corresponding error. The peak intensity and its error both have units of pixel values (ranging from 0 to 255)"
   ]
  },
  {
   "cell_type": "code",
   "execution_count": 6,
   "id": "6064b83d",
   "metadata": {
    "ExecuteTime": {
     "end_time": "2023-05-23T21:14:43.460858Z",
     "start_time": "2023-05-23T21:14:43.414537Z"
    }
   },
   "outputs": [
    {
     "data": {
      "text/html": [
       "<div>\n",
       "<style scoped>\n",
       "    .dataframe tbody tr th:only-of-type {\n",
       "        vertical-align: middle;\n",
       "    }\n",
       "\n",
       "    .dataframe tbody tr th {\n",
       "        vertical-align: top;\n",
       "    }\n",
       "\n",
       "    .dataframe thead th {\n",
       "        text-align: right;\n",
       "    }\n",
       "</style>\n",
       "<table border=\"1\" class=\"dataframe\">\n",
       "  <thead>\n",
       "    <tr style=\"text-align: right;\">\n",
       "      <th></th>\n",
       "      <th>order</th>\n",
       "      <th>Coefficients</th>\n",
       "      <th>Shack Hartman Amplitude RMS error</th>\n",
       "      <th>Shack Hartman Amplitude RMS</th>\n",
       "      <th>Wavefront Generator RMS error</th>\n",
       "      <th>Wavefront Generator RMS</th>\n",
       "      <th>Shack Hartman Amplitude PV error</th>\n",
       "      <th>Shack Hartman Amplitude PV</th>\n",
       "      <th>Wavefront Generator PV error</th>\n",
       "      <th>Wavefront Generator PV</th>\n",
       "      <th>Peak intensity error</th>\n",
       "      <th>Peak intensity</th>\n",
       "    </tr>\n",
       "  </thead>\n",
       "  <tbody>\n",
       "    <tr>\n",
       "      <th>0</th>\n",
       "      <td>6</td>\n",
       "      <td>1</td>\n",
       "      <td>.01 um</td>\n",
       "      <td>0.401</td>\n",
       "      <td>.01 um</td>\n",
       "      <td>0.411</td>\n",
       "      <td>.01 um</td>\n",
       "      <td>0.600</td>\n",
       "      <td>+.001 um</td>\n",
       "      <td>1.883</td>\n",
       "      <td>5</td>\n",
       "      <td>237.0</td>\n",
       "    </tr>\n",
       "    <tr>\n",
       "      <th>1</th>\n",
       "      <td>6</td>\n",
       "      <td>-1</td>\n",
       "      <td>.01 um</td>\n",
       "      <td>0.415</td>\n",
       "      <td>.01 um</td>\n",
       "      <td>0.411</td>\n",
       "      <td>.01 um</td>\n",
       "      <td>0.600</td>\n",
       "      <td>+.001 um</td>\n",
       "      <td>1.883</td>\n",
       "      <td>5</td>\n",
       "      <td>236.0</td>\n",
       "    </tr>\n",
       "    <tr>\n",
       "      <th>2</th>\n",
       "      <td>7</td>\n",
       "      <td>1</td>\n",
       "      <td>.01 um</td>\n",
       "      <td>0.642</td>\n",
       "      <td>.01 um</td>\n",
       "      <td>1.036</td>\n",
       "      <td>.01 um</td>\n",
       "      <td>1.891</td>\n",
       "      <td>+.001 um</td>\n",
       "      <td>3.543</td>\n",
       "      <td>5</td>\n",
       "      <td>235.0</td>\n",
       "    </tr>\n",
       "    <tr>\n",
       "      <th>3</th>\n",
       "      <td>7</td>\n",
       "      <td>-1</td>\n",
       "      <td>.01 um</td>\n",
       "      <td>0.652</td>\n",
       "      <td>.01 um</td>\n",
       "      <td>1.036</td>\n",
       "      <td>.01 um</td>\n",
       "      <td>1.805</td>\n",
       "      <td>+.001 um</td>\n",
       "      <td>3.543</td>\n",
       "      <td>5</td>\n",
       "      <td>238.0</td>\n",
       "    </tr>\n",
       "    <tr>\n",
       "      <th>4</th>\n",
       "      <td>8</td>\n",
       "      <td>1</td>\n",
       "      <td>.01 um</td>\n",
       "      <td>0.651</td>\n",
       "      <td>.01 um</td>\n",
       "      <td>1.053</td>\n",
       "      <td>.01 um</td>\n",
       "      <td>1.727</td>\n",
       "      <td>+.001 um</td>\n",
       "      <td>3.542</td>\n",
       "      <td>5</td>\n",
       "      <td>237.0</td>\n",
       "    </tr>\n",
       "    <tr>\n",
       "      <th>5</th>\n",
       "      <td>8</td>\n",
       "      <td>-1</td>\n",
       "      <td>.01 um</td>\n",
       "      <td>0.652</td>\n",
       "      <td>.01 um</td>\n",
       "      <td>1.035</td>\n",
       "      <td>.01 um</td>\n",
       "      <td>1.800</td>\n",
       "      <td>+.001 um</td>\n",
       "      <td>3.542</td>\n",
       "      <td>5</td>\n",
       "      <td>240.0</td>\n",
       "    </tr>\n",
       "    <tr>\n",
       "      <th>6</th>\n",
       "      <td>9</td>\n",
       "      <td>1</td>\n",
       "      <td>.01 um</td>\n",
       "      <td>0.410</td>\n",
       "      <td>.01 um</td>\n",
       "      <td>0.417</td>\n",
       "      <td>.01 um</td>\n",
       "      <td>0.504</td>\n",
       "      <td>+.001 um</td>\n",
       "      <td>2.759</td>\n",
       "      <td>5</td>\n",
       "      <td>240.0</td>\n",
       "    </tr>\n",
       "    <tr>\n",
       "      <th>7</th>\n",
       "      <td>9</td>\n",
       "      <td>-1</td>\n",
       "      <td>.01 um</td>\n",
       "      <td>0.396</td>\n",
       "      <td>.01 um</td>\n",
       "      <td>0.417</td>\n",
       "      <td>.01 um</td>\n",
       "      <td>0.521</td>\n",
       "      <td>+.001 um</td>\n",
       "      <td>2.759</td>\n",
       "      <td>5</td>\n",
       "      <td>237.0</td>\n",
       "    </tr>\n",
       "    <tr>\n",
       "      <th>8</th>\n",
       "      <td>10</td>\n",
       "      <td>1</td>\n",
       "      <td>.01 um</td>\n",
       "      <td>0.394</td>\n",
       "      <td>.01 um</td>\n",
       "      <td>0.414</td>\n",
       "      <td>.01 um</td>\n",
       "      <td>0.517</td>\n",
       "      <td>+.001 um</td>\n",
       "      <td>2.626</td>\n",
       "      <td>5</td>\n",
       "      <td>237.0</td>\n",
       "    </tr>\n",
       "    <tr>\n",
       "      <th>9</th>\n",
       "      <td>10</td>\n",
       "      <td>-1</td>\n",
       "      <td>.01 um</td>\n",
       "      <td>0.401</td>\n",
       "      <td>.01 um</td>\n",
       "      <td>0.414</td>\n",
       "      <td>.01 um</td>\n",
       "      <td>0.521</td>\n",
       "      <td>+.001 um</td>\n",
       "      <td>2.626</td>\n",
       "      <td>5</td>\n",
       "      <td>239.0</td>\n",
       "    </tr>\n",
       "    <tr>\n",
       "      <th>10</th>\n",
       "      <td>11</td>\n",
       "      <td>1</td>\n",
       "      <td>.01 um</td>\n",
       "      <td>1.090</td>\n",
       "      <td>.01 um</td>\n",
       "      <td>0.990</td>\n",
       "      <td>.01 um</td>\n",
       "      <td>0.505</td>\n",
       "      <td>+.001 um</td>\n",
       "      <td>3.342</td>\n",
       "      <td>5</td>\n",
       "      <td>239.0</td>\n",
       "    </tr>\n",
       "    <tr>\n",
       "      <th>11</th>\n",
       "      <td>11</td>\n",
       "      <td>-1</td>\n",
       "      <td>.01 um</td>\n",
       "      <td>0.895</td>\n",
       "      <td>.01 um</td>\n",
       "      <td>0.990</td>\n",
       "      <td>.01 um</td>\n",
       "      <td>0.563</td>\n",
       "      <td>+.001 um</td>\n",
       "      <td>3.342</td>\n",
       "      <td>5</td>\n",
       "      <td>240.0</td>\n",
       "    </tr>\n",
       "    <tr>\n",
       "      <th>12</th>\n",
       "      <td>12</td>\n",
       "      <td>1</td>\n",
       "      <td>.01 um</td>\n",
       "      <td>0.927</td>\n",
       "      <td>.01 um</td>\n",
       "      <td>0.893</td>\n",
       "      <td>.01 um</td>\n",
       "      <td>0.522</td>\n",
       "      <td>+.001 um</td>\n",
       "      <td>3.546</td>\n",
       "      <td>5</td>\n",
       "      <td>240.0</td>\n",
       "    </tr>\n",
       "  </tbody>\n",
       "</table>\n",
       "</div>"
      ],
      "text/plain": [
       "   order Coefficients Shack Hartman Amplitude RMS error  \\\n",
       "0      6            1                            .01 um   \n",
       "1      6           -1                            .01 um   \n",
       "2      7            1                            .01 um   \n",
       "3      7           -1                            .01 um   \n",
       "4      8            1                            .01 um   \n",
       "5      8           -1                            .01 um   \n",
       "6      9            1                            .01 um   \n",
       "7      9           -1                            .01 um   \n",
       "8     10            1                            .01 um   \n",
       "9     10           -1                            .01 um   \n",
       "10    11            1                            .01 um   \n",
       "11    11           -1                            .01 um   \n",
       "12    12            1                            .01 um   \n",
       "\n",
       "    Shack Hartman Amplitude RMS Wavefront Generator RMS error  \\\n",
       "0                         0.401                        .01 um   \n",
       "1                         0.415                        .01 um   \n",
       "2                         0.642                        .01 um   \n",
       "3                         0.652                        .01 um   \n",
       "4                         0.651                        .01 um   \n",
       "5                         0.652                        .01 um   \n",
       "6                         0.410                        .01 um   \n",
       "7                         0.396                        .01 um   \n",
       "8                         0.394                        .01 um   \n",
       "9                         0.401                        .01 um   \n",
       "10                        1.090                        .01 um   \n",
       "11                        0.895                        .01 um   \n",
       "12                        0.927                        .01 um   \n",
       "\n",
       "    Wavefront Generator RMS Shack Hartman Amplitude PV error  \\\n",
       "0                     0.411                           .01 um   \n",
       "1                     0.411                           .01 um   \n",
       "2                     1.036                           .01 um   \n",
       "3                     1.036                           .01 um   \n",
       "4                     1.053                           .01 um   \n",
       "5                     1.035                           .01 um   \n",
       "6                     0.417                           .01 um   \n",
       "7                     0.417                           .01 um   \n",
       "8                     0.414                           .01 um   \n",
       "9                     0.414                           .01 um   \n",
       "10                    0.990                           .01 um   \n",
       "11                    0.990                           .01 um   \n",
       "12                    0.893                           .01 um   \n",
       "\n",
       "    Shack Hartman Amplitude PV Wavefront Generator PV error  \\\n",
       "0                        0.600                     +.001 um   \n",
       "1                        0.600                     +.001 um   \n",
       "2                        1.891                     +.001 um   \n",
       "3                        1.805                     +.001 um   \n",
       "4                        1.727                     +.001 um   \n",
       "5                        1.800                     +.001 um   \n",
       "6                        0.504                     +.001 um   \n",
       "7                        0.521                     +.001 um   \n",
       "8                        0.517                     +.001 um   \n",
       "9                        0.521                     +.001 um   \n",
       "10                       0.505                     +.001 um   \n",
       "11                       0.563                     +.001 um   \n",
       "12                       0.522                     +.001 um   \n",
       "\n",
       "    Wavefront Generator PV  Peak intensity error  Peak intensity  \n",
       "0                    1.883                     5           237.0  \n",
       "1                    1.883                     5           236.0  \n",
       "2                    3.543                     5           235.0  \n",
       "3                    3.543                     5           238.0  \n",
       "4                    3.542                     5           237.0  \n",
       "5                    3.542                     5           240.0  \n",
       "6                    2.759                     5           240.0  \n",
       "7                    2.759                     5           237.0  \n",
       "8                    2.626                     5           237.0  \n",
       "9                    2.626                     5           239.0  \n",
       "10                   3.342                     5           239.0  \n",
       "11                   3.342                     5           240.0  \n",
       "12                   3.546                     5           240.0  "
      ]
     },
     "execution_count": 6,
     "metadata": {},
     "output_type": "execute_result"
    }
   ],
   "source": [
    "for colnumber, colname in enumerate(colnames[1:]):\n",
    "    df[colname + \" error\"] = [\n",
    "        \" \".join([x for x in data_str[ index * len(colnames) + colnumber + 1].split(\" \") \n",
    "                  if len(x)>0][-2:]) for index in list(range(total_rows))]\n",
    "    df[colname] = [np.float64(\n",
    "    data_str[index * len(colnames) + colnumber + 1\n",
    "            ].split(colname + \" = \")[-1].split(\" \")[0]) \n",
    "            for index in list(range(total_rows))] \n",
    "colname = df.columns[-2]\n",
    "df[colname] = [5 for x in range(len(df[colname]))]\n",
    "df"
   ]
  },
  {
   "cell_type": "markdown",
   "id": "b47bfabd",
   "metadata": {},
   "source": [
    "## Justification of each uncertainty\n",
    "Per the section in uncertainty when reading scales in \"Introduction to Error Analysis\" by Taylor, our uncertainty is $0.5$ times the last significant digit on said scale. "
   ]
  },
  {
   "cell_type": "markdown",
   "id": "7cecb638",
   "metadata": {
    "ExecuteTime": {
     "end_time": "2023-05-23T16:03:36.660925Z",
     "start_time": "2023-05-23T16:03:36.633976Z"
    }
   },
   "source": [
    "# Mathematical Analysis"
   ]
  },
  {
   "cell_type": "code",
   "execution_count": null,
   "id": "fe967d91",
   "metadata": {},
   "outputs": [],
   "source": []
  },
  {
   "cell_type": "markdown",
   "id": "64d82812",
   "metadata": {},
   "source": [
    "# Interpretation and Discussion"
   ]
  },
  {
   "cell_type": "code",
   "execution_count": null,
   "id": "ef9ce368",
   "metadata": {},
   "outputs": [],
   "source": []
  },
  {
   "cell_type": "code",
   "execution_count": null,
   "id": "86178510",
   "metadata": {},
   "outputs": [],
   "source": []
  },
  {
   "cell_type": "code",
   "execution_count": null,
   "id": "c981f0dc",
   "metadata": {},
   "outputs": [],
   "source": []
  },
  {
   "cell_type": "code",
   "execution_count": null,
   "id": "901de4bc",
   "metadata": {},
   "outputs": [],
   "source": []
  },
  {
   "cell_type": "code",
   "execution_count": null,
   "id": "79d1f279",
   "metadata": {},
   "outputs": [],
   "source": []
  },
  {
   "cell_type": "code",
   "execution_count": null,
   "id": "f24100de",
   "metadata": {},
   "outputs": [],
   "source": []
  },
  {
   "cell_type": "code",
   "execution_count": null,
   "id": "191fa826",
   "metadata": {},
   "outputs": [],
   "source": []
  },
  {
   "cell_type": "code",
   "execution_count": null,
   "id": "f1339ae2",
   "metadata": {},
   "outputs": [],
   "source": []
  },
  {
   "cell_type": "code",
   "execution_count": null,
   "id": "a9b85a2e",
   "metadata": {},
   "outputs": [],
   "source": []
  }
 ],
 "metadata": {
  "kernelspec": {
   "display_name": "Python 3 (ipykernel)",
   "language": "python",
   "name": "python3"
  },
  "language_info": {
   "codemirror_mode": {
    "name": "ipython",
    "version": 3
   },
   "file_extension": ".py",
   "mimetype": "text/x-python",
   "name": "python",
   "nbconvert_exporter": "python",
   "pygments_lexer": "ipython3",
   "version": "3.9.13"
  },
  "latex_envs": {
   "LaTeX_envs_menu_present": true,
   "autoclose": false,
   "autocomplete": true,
   "bibliofile": "biblio.bib",
   "cite_by": "apalike",
   "current_citInitial": 1,
   "eqLabelWithNumbers": true,
   "eqNumInitial": 1,
   "hotkeys": {
    "equation": "Ctrl-E",
    "itemize": "Ctrl-I"
   },
   "labels_anchors": false,
   "latex_user_defs": false,
   "report_style_numbering": false,
   "user_envs_cfg": false
  },
  "toc": {
   "base_numbering": 1,
   "nav_menu": {
    "height": "41px",
    "width": "194px"
   },
   "number_sections": true,
   "sideBar": false,
   "skip_h1_title": false,
   "title_cell": "Table of Contents",
   "title_sidebar": "Contents",
   "toc_cell": false,
   "toc_position": {
    "height": "207.6px",
    "left": "1165px",
    "top": "53.8px",
    "width": "184.317px"
   },
   "toc_section_display": true,
   "toc_window_display": true
  },
  "varInspector": {
   "cols": {
    "lenName": 16,
    "lenType": 16,
    "lenVar": 40
   },
   "kernels_config": {
    "python": {
     "delete_cmd_postfix": "",
     "delete_cmd_prefix": "del ",
     "library": "var_list.py",
     "varRefreshCmd": "print(var_dic_list())"
    },
    "r": {
     "delete_cmd_postfix": ") ",
     "delete_cmd_prefix": "rm(",
     "library": "var_list.r",
     "varRefreshCmd": "cat(var_dic_list()) "
    }
   },
   "types_to_exclude": [
    "module",
    "function",
    "builtin_function_or_method",
    "instance",
    "_Feature"
   ],
   "window_display": false
  }
 },
 "nbformat": 4,
 "nbformat_minor": 5
}
