{
 "cells": [
  {
   "cell_type": "code",
   "execution_count": 1,
   "metadata": {
    "colab": {
     "base_uri": "https://localhost:8080/"
    },
    "id": "T8jwMWX4rrRZ",
    "outputId": "ca621213-ba2a-44a9-ce9b-22e893a15b8a"
   },
   "outputs": [
    {
     "name": "stdout",
     "output_type": "stream",
     "text": [
      "Cloning into 'Computing-and-Formatting'...\n",
      "remote: Enumerating objects: 226, done.\u001b[K\n",
      "remote: Counting objects: 100% (226/226), done.\u001b[K\n",
      "remote: Compressing objects: 100% (169/169), done.\u001b[K\n",
      "remote: Total 226 (delta 102), reused 172 (delta 51), pack-reused 0\u001b[K\n",
      "Receiving objects: 100% (226/226), 8.71 MiB | 20.22 MiB/s, done.\n",
      "Resolving deltas: 100% (102/102), done.\n"
     ]
    }
   ],
   "source": [
    "!git clone https://github.com/MarcosP7635/Computing-and-Formatting\n",
    "!mv /content/Computing-and-Formatting/error_propagation.py /content/error_propagation.py"
   ]
  },
  {
   "cell_type": "code",
   "execution_count": 2,
   "metadata": {
    "colab": {
     "base_uri": "https://localhost:8080/"
    },
    "id": "0fdWookps5l3",
    "outputId": "d253a001-451a-4a8a-b315-7e5d5d75f777"
   },
   "outputs": [
    {
     "name": "stdout",
     "output_type": "stream",
     "text": [
      "Looking in indexes: https://pypi.org/simple, https://us-python.pkg.dev/colab-wheels/public/simple/\n",
      "Requirement already satisfied: SymPy in /usr/local/lib/python3.10/dist-packages (1.11.1)\n",
      "Requirement already satisfied: mpmath>=0.19 in /usr/local/lib/python3.10/dist-packages (from SymPy) (1.3.0)\n"
     ]
    }
   ],
   "source": [
    "!pip install SymPy"
   ]
  },
  {
   "cell_type": "code",
   "execution_count": 3,
   "metadata": {
    "colab": {
     "base_uri": "https://localhost:8080/"
    },
    "id": "lt6tV4DhtOK1",
    "outputId": "ff68fd32-bc2b-4661-bba1-f45ccee155b9"
   },
   "outputs": [
    {
     "name": "stdout",
     "output_type": "stream",
     "text": [
      "2.1459505607619285\n",
      "3.0730730555044836\n",
      "3.3370598254672865\n",
      "(a + 2)/(a + b*cos(pi*c/45))\n",
      "(3.50656581341894, 1.8267621151828408)\n"
     ]
    }
   ],
   "source": [
    "from error_propagation import *"
   ]
  },
  {
   "cell_type": "markdown",
   "metadata": {
    "id": "07meNH_9sydM"
   },
   "source": [
    "s is the suppression, a is the brightest pixel value off-axis and b is the brightest pixel value on-axis\n",
    "\n",
    "Now to use the data we gathered in lab. https://docs.google.com/spreadsheets/d/1fLVuApN13zPYLhRTuFA6Mk44rkFdnLf2cU0qIMMxTrM/edit?usp=sharing"
   ]
  },
  {
   "cell_type": "code",
   "execution_count": 6,
   "metadata": {
    "colab": {
     "base_uri": "https://localhost:8080/"
    },
    "id": "mp6rQnh1rxaD",
    "outputId": "e6d3170b-5bce-4605-f48e-48360055e3a0"
   },
   "outputs": [
    {
     "name": "stdout",
     "output_type": "stream",
     "text": [
      "0.00036982248520710064\n",
      "0.018491124260355034\n",
      "0.042159763313609475\n",
      "(a - b)/(-b + c)\n"
     ]
    },
    {
     "data": {
      "text/plain": [
       "(8.0, 0.20532842792367909)"
      ]
     },
     "execution_count": 6,
     "metadata": {},
     "output_type": "execute_result"
    }
   ],
   "source": [
    "from sympy.abc import *\n",
    "from sympy import *\n",
    "s = (a - b) / (c - b) #(off_axis - flat) / (on_axis - flat)\n",
    "general({228:.5, 20:.5, 46:.5}, s) "
   ]
  }
 ],
 "metadata": {
  "colab": {
   "provenance": []
  },
  "kernelspec": {
   "display_name": "Python 3 (ipykernel)",
   "language": "python",
   "name": "python3"
  },
  "language_info": {
   "codemirror_mode": {
    "name": "ipython",
    "version": 3
   },
   "file_extension": ".py",
   "mimetype": "text/x-python",
   "name": "python",
   "nbconvert_exporter": "python",
   "pygments_lexer": "ipython3",
   "version": "3.9.13"
  },
  "latex_envs": {
   "LaTeX_envs_menu_present": true,
   "autoclose": false,
   "autocomplete": true,
   "bibliofile": "biblio.bib",
   "cite_by": "apalike",
   "current_citInitial": 1,
   "eqLabelWithNumbers": true,
   "eqNumInitial": 1,
   "hotkeys": {
    "equation": "Ctrl-E",
    "itemize": "Ctrl-I"
   },
   "labels_anchors": false,
   "latex_user_defs": false,
   "report_style_numbering": false,
   "user_envs_cfg": false
  },
  "toc": {
   "base_numbering": 1,
   "nav_menu": {},
   "number_sections": true,
   "sideBar": false,
   "skip_h1_title": false,
   "title_cell": "Table of Contents",
   "title_sidebar": "Contents",
   "toc_cell": false,
   "toc_position": {
    "height": "168px",
    "left": "816px",
    "top": "94.15px",
    "width": "204px"
   },
   "toc_section_display": true,
   "toc_window_display": true
  },
  "varInspector": {
   "cols": {
    "lenName": 16,
    "lenType": 16,
    "lenVar": 40
   },
   "kernels_config": {
    "python": {
     "delete_cmd_postfix": "",
     "delete_cmd_prefix": "del ",
     "library": "var_list.py",
     "varRefreshCmd": "print(var_dic_list())"
    },
    "r": {
     "delete_cmd_postfix": ") ",
     "delete_cmd_prefix": "rm(",
     "library": "var_list.r",
     "varRefreshCmd": "cat(var_dic_list()) "
    }
   },
   "types_to_exclude": [
    "module",
    "function",
    "builtin_function_or_method",
    "instance",
    "_Feature"
   ],
   "window_display": false
  }
 },
 "nbformat": 4,
 "nbformat_minor": 1
}
