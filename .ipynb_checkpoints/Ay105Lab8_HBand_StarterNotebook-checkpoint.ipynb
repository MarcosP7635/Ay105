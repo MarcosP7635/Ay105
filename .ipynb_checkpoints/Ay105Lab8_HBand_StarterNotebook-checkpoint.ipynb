{
 "cells": [
  {
   "cell_type": "code",
   "execution_count": 1,
   "metadata": {
    "ExecuteTime": {
     "end_time": "2023-06-05T00:47:25.190184Z",
     "start_time": "2023-06-05T00:47:24.262971Z"
    },
    "id": "X9mi8rGq0-Ss",
    "scrolled": false
   },
   "outputs": [
    {
     "ename": "ModuleNotFoundError",
     "evalue": "No module named 'vip_hci'",
     "output_type": "error",
     "traceback": [
      "\u001b[1;31m---------------------------------------------------------------------------\u001b[0m",
      "\u001b[1;31mModuleNotFoundError\u001b[0m                       Traceback (most recent call last)",
      "Cell \u001b[1;32mIn[1], line 2\u001b[0m\n\u001b[0;32m      1\u001b[0m \u001b[38;5;28;01mimport\u001b[39;00m \u001b[38;5;21;01mnumpy\u001b[39;00m \u001b[38;5;28;01mas\u001b[39;00m \u001b[38;5;21;01mnp\u001b[39;00m\n\u001b[1;32m----> 2\u001b[0m \u001b[38;5;28;01mimport\u001b[39;00m \u001b[38;5;21;01mvip_hci\u001b[39;00m\n\u001b[0;32m      3\u001b[0m \u001b[38;5;28;01mfrom\u001b[39;00m \u001b[38;5;21;01mos\u001b[39;00m \u001b[38;5;28;01mimport\u001b[39;00m mkdir\n\u001b[0;32m      4\u001b[0m \u001b[38;5;28;01mfrom\u001b[39;00m \u001b[38;5;21;01mos\u001b[39;00m\u001b[38;5;21;01m.\u001b[39;00m\u001b[38;5;21;01mpath\u001b[39;00m \u001b[38;5;28;01mimport\u001b[39;00m join, sep,exists\n",
      "\u001b[1;31mModuleNotFoundError\u001b[0m: No module named 'vip_hci'"
     ]
    }
   ],
   "source": [
    "import numpy as np\n",
    "import vip_hci\n",
    "from os import mkdir\n",
    "from os.path import join, sep,exists\n",
    "import glob\n",
    "import matplotlib.pyplot as plt\n",
    "from astropy.io import fits\n",
    "from astropy import stats\n",
    "from scipy.ndimage.filters import median_filter\n",
    "from scipy.ndimage.interpolation import shift"
   ]
  },
  {
   "cell_type": "code",
   "execution_count": 2,
   "metadata": {
    "ExecuteTime": {
     "end_time": "2023-06-05T00:47:36.098449Z",
     "start_time": "2023-06-05T00:47:28.517074Z"
    },
    "colab": {
     "base_uri": "https://localhost:8080/"
    },
    "id": "l3o4tNFf5x6o",
    "outputId": "9a1b6361-472a-4639-8c90-248dd5804d81"
   },
   "outputs": [
    {
     "name": "stdout",
     "output_type": "stream",
     "text": [
      "Collecting matplotlib\n",
      "  Using cached matplotlib-3.7.1-cp311-cp311-win_amd64.whl (7.6 MB)\n",
      "Collecting contourpy>=1.0.1\n",
      "  Using cached contourpy-1.0.7-cp311-cp311-win_amd64.whl (162 kB)\n",
      "Collecting cycler>=0.10\n",
      "  Using cached cycler-0.11.0-py3-none-any.whl (6.4 kB)\n",
      "Collecting fonttools>=4.22.0\n",
      "  Using cached fonttools-4.39.4-py3-none-any.whl (1.0 MB)\n",
      "Collecting kiwisolver>=1.0.1\n",
      "  Using cached kiwisolver-1.4.4-cp311-cp311-win_amd64.whl (55 kB)\n",
      "Requirement already satisfied: numpy>=1.20 in c:\\users\\marco\\anaconda3\\envs\\ay105\\lib\\site-packages (from matplotlib) (1.24.3)\n",
      "Requirement already satisfied: packaging>=20.0 in c:\\users\\marco\\anaconda3\\envs\\ay105\\lib\\site-packages (from matplotlib) (23.0)\n",
      "Collecting pillow>=6.2.0\n",
      "  Using cached Pillow-9.5.0-cp311-cp311-win_amd64.whl (2.5 MB)\n",
      "Collecting pyparsing>=2.3.1\n",
      "  Using cached pyparsing-3.0.9-py3-none-any.whl (98 kB)\n",
      "Requirement already satisfied: python-dateutil>=2.7 in c:\\users\\marco\\anaconda3\\envs\\ay105\\lib\\site-packages (from matplotlib) (2.8.2)\n",
      "Requirement already satisfied: six>=1.5 in c:\\users\\marco\\anaconda3\\envs\\ay105\\lib\\site-packages (from python-dateutil>=2.7->matplotlib) (1.16.0)\n",
      "Installing collected packages: pyparsing, pillow, kiwisolver, fonttools, cycler, contourpy, matplotlib\n",
      "Successfully installed contourpy-1.0.7 cycler-0.11.0 fonttools-4.39.4 kiwisolver-1.4.4 matplotlib-3.7.1 pillow-9.5.0 pyparsing-3.0.9\n"
     ]
    }
   ],
   "source": [
    "!pip install matplotlib "
   ]
  },
  {
   "cell_type": "code",
   "execution_count": null,
   "metadata": {
    "ExecuteTime": {
     "start_time": "2023-06-05T00:48:40.323Z"
    },
    "colab": {
     "base_uri": "https://localhost:8080/"
    },
    "id": "HBq0Wyaf1GJ1",
    "outputId": "8e49e1a9-4a39-49b2-aa12-63f1e6700dbe"
   },
   "outputs": [],
   "source": [
    "!pip install vip_hci"
   ]
  },
  {
   "cell_type": "code",
   "execution_count": 3,
   "metadata": {
    "ExecuteTime": {
     "end_time": "2023-06-05T00:48:11.141505Z",
     "start_time": "2023-06-05T00:47:47.644528Z"
    },
    "colab": {
     "base_uri": "https://localhost:8080/"
    },
    "id": "IpaMDhSvUXk9",
    "outputId": "9c71f3f4-0427-4ac9-f4f4-f83955c20d40"
   },
   "outputs": [
    {
     "name": "stdout",
     "output_type": "stream",
     "text": [
      "Collecting scikit-image\n",
      "  Downloading scikit_image-0.21.0-cp311-cp311-win_amd64.whl (22.8 MB)\n",
      "     ---------------------------------------- 0.0/22.8 MB ? eta -:--:--\n",
      "      --------------------------------------- 0.4/22.8 MB 8.1 MB/s eta 0:00:03\n",
      "     -- ------------------------------------- 1.2/22.8 MB 15.4 MB/s eta 0:00:02\n",
      "     --- ------------------------------------ 1.8/22.8 MB 14.0 MB/s eta 0:00:02\n",
      "     ---- ----------------------------------- 2.3/22.8 MB 14.9 MB/s eta 0:00:02\n",
      "     ----- ---------------------------------- 2.9/22.8 MB 14.4 MB/s eta 0:00:02\n",
      "     ------ --------------------------------- 3.6/22.8 MB 13.7 MB/s eta 0:00:02\n",
      "     ------- -------------------------------- 4.3/22.8 MB 14.3 MB/s eta 0:00:02\n",
      "     -------- ------------------------------- 4.9/22.8 MB 14.1 MB/s eta 0:00:02\n",
      "     --------- ------------------------------ 5.4/22.8 MB 13.3 MB/s eta 0:00:02\n",
      "     ---------- ----------------------------- 6.2/22.8 MB 13.6 MB/s eta 0:00:02\n",
      "     ----------- ---------------------------- 6.7/22.8 MB 13.3 MB/s eta 0:00:02\n",
      "     ------------ --------------------------- 7.0/22.8 MB 13.1 MB/s eta 0:00:02\n",
      "     ------------- -------------------------- 7.5/22.8 MB 12.5 MB/s eta 0:00:02\n",
      "     ------------- -------------------------- 7.8/22.8 MB 12.1 MB/s eta 0:00:02\n",
      "     -------------- ------------------------- 8.1/22.8 MB 11.7 MB/s eta 0:00:02\n",
      "     -------------- ------------------------- 8.3/22.8 MB 11.2 MB/s eta 0:00:02\n",
      "     --------------- ------------------------ 8.6/22.8 MB 11.0 MB/s eta 0:00:02\n",
      "     --------------- ------------------------ 9.0/22.8 MB 10.9 MB/s eta 0:00:02\n",
      "     ---------------- ----------------------- 9.2/22.8 MB 10.6 MB/s eta 0:00:02\n",
      "     ---------------- ----------------------- 9.5/22.8 MB 10.2 MB/s eta 0:00:02\n",
      "     ----------------- ---------------------- 9.9/22.8 MB 10.2 MB/s eta 0:00:02\n",
      "     ----------------- --------------------- 10.4/22.8 MB 10.2 MB/s eta 0:00:02\n",
      "     ------------------ -------------------- 10.9/22.8 MB 10.1 MB/s eta 0:00:02\n",
      "     -------------------- ------------------- 11.4/22.8 MB 9.9 MB/s eta 0:00:02\n",
      "     --------------------- ------------------ 12.0/22.8 MB 9.9 MB/s eta 0:00:02\n",
      "     --------------------- ------------------ 12.4/22.8 MB 9.8 MB/s eta 0:00:02\n",
      "     ---------------------- ----------------- 12.9/22.8 MB 9.6 MB/s eta 0:00:02\n",
      "     ----------------------- ---------------- 13.4/22.8 MB 9.6 MB/s eta 0:00:01\n",
      "     ------------------------ --------------- 13.9/22.8 MB 9.5 MB/s eta 0:00:01\n",
      "     ------------------------- -------------- 14.4/22.8 MB 9.4 MB/s eta 0:00:01\n",
      "     -------------------------- ------------- 14.9/22.8 MB 9.2 MB/s eta 0:00:01\n",
      "     -------------------------- ------------- 15.3/22.8 MB 9.1 MB/s eta 0:00:01\n",
      "     --------------------------- ------------ 15.8/22.8 MB 9.1 MB/s eta 0:00:01\n",
      "     ---------------------------- ----------- 16.2/22.8 MB 9.0 MB/s eta 0:00:01\n",
      "     ----------------------------- ---------- 16.8/22.8 MB 9.0 MB/s eta 0:00:01\n",
      "     ------------------------------ --------- 17.3/22.8 MB 9.1 MB/s eta 0:00:01\n",
      "     ------------------------------- -------- 17.8/22.8 MB 9.2 MB/s eta 0:00:01\n",
      "     -------------------------------- ------- 18.3/22.8 MB 9.6 MB/s eta 0:00:01\n",
      "     --------------------------------- ------ 18.8/22.8 MB 9.9 MB/s eta 0:00:01\n",
      "     --------------------------------- ------ 19.1/22.8 MB 9.8 MB/s eta 0:00:01\n",
      "     --------------------------------- ----- 19.6/22.8 MB 10.2 MB/s eta 0:00:01\n",
      "     ---------------------------------- ---- 20.1/22.8 MB 10.4 MB/s eta 0:00:01\n",
      "     ----------------------------------- --- 20.6/22.8 MB 10.4 MB/s eta 0:00:01\n",
      "     ----------------------------------- --- 20.9/22.8 MB 10.2 MB/s eta 0:00:01\n",
      "     ------------------------------------ -- 21.3/22.8 MB 10.1 MB/s eta 0:00:01\n",
      "     -------------------------------------- - 21.7/22.8 MB 9.9 MB/s eta 0:00:01\n",
      "     -------------------------------------- - 22.1/22.8 MB 9.9 MB/s eta 0:00:01\n",
      "     ---------------------------------------  22.4/22.8 MB 9.8 MB/s eta 0:00:01\n",
      "     ---------------------------------------  22.7/22.8 MB 9.6 MB/s eta 0:00:01\n",
      "     ---------------------------------------- 22.8/22.8 MB 9.1 MB/s eta 0:00:00\n",
      "Requirement already satisfied: numpy>=1.21.1 in c:\\users\\marco\\anaconda3\\envs\\ay105\\lib\\site-packages (from scikit-image) (1.24.3)\n",
      "Collecting scipy>=1.8\n",
      "  Using cached scipy-1.10.1-cp311-cp311-win_amd64.whl (42.2 MB)\n",
      "Collecting networkx>=2.8\n",
      "  Using cached networkx-3.1-py3-none-any.whl (2.1 MB)\n",
      "Requirement already satisfied: pillow>=9.0.1 in c:\\users\\marco\\anaconda3\\envs\\ay105\\lib\\site-packages (from scikit-image) (9.5.0)\n",
      "Collecting imageio>=2.27\n",
      "  Using cached imageio-2.30.0-py3-none-any.whl (312 kB)\n",
      "Collecting tifffile>=2022.8.12\n",
      "  Using cached tifffile-2023.4.12-py3-none-any.whl (219 kB)\n",
      "Collecting PyWavelets>=1.1.1\n",
      "  Using cached PyWavelets-1.4.1-cp311-cp311-win_amd64.whl (4.2 MB)\n",
      "Requirement already satisfied: packaging>=21 in c:\\users\\marco\\anaconda3\\envs\\ay105\\lib\\site-packages (from scikit-image) (23.0)\n",
      "Collecting lazy_loader>=0.2\n",
      "  Using cached lazy_loader-0.2-py3-none-any.whl (8.6 kB)\n",
      "Installing collected packages: tifffile, scipy, PyWavelets, networkx, lazy_loader, imageio, scikit-image\n",
      "Successfully installed PyWavelets-1.4.1 imageio-2.30.0 lazy_loader-0.2 networkx-3.1 scikit-image-0.21.0 scipy-1.10.1 tifffile-2023.4.12\n"
     ]
    }
   ],
   "source": [
    "!python -m pip install -U scikit-image"
   ]
  },
  {
   "cell_type": "markdown",
   "metadata": {
    "id": "1Sksr7Wh0-St"
   },
   "source": [
    "Perform H Band reduction"
   ]
  },
  {
   "cell_type": "code",
   "execution_count": null,
   "metadata": {
    "colab": {
     "base_uri": "https://localhost:8080/"
    },
    "id": "DigcJ56L0-Sv",
    "outputId": "d0492960-60d1-49d1-cf98-ef88ba791959"
   },
   "outputs": [
    {
     "name": "stdout",
     "output_type": "stream",
     "text": [
      "./Hband/\n"
     ]
    }
   ],
   "source": [
    "# Set up paths \n",
    "frameSize = 351\n",
    "band = 'H'\n",
    "tg_name= '2M1207'\n",
    "useRefFrames = False\n",
    "path_input = './Hband/'\n",
    "path_output = path_input + 'out/'\n",
    "sep='/'\n",
    "print(path_input)\n",
    "\n",
    "path_flats = path_input+'flats'+sep\n",
    "path_flats_darks = path_input+'flats/darks'+sep\n",
    "path_sci = path_input+'sci'+sep\n",
    "path_darks = path_input+'darks'+sep"
   ]
  },
  {
   "cell_type": "code",
   "execution_count": null,
   "metadata": {
    "colab": {
     "base_uri": "https://localhost:8080/"
    },
    "id": "PYKjlUgX0-Sw",
    "outputId": "75bc49fa-bb61-4816-a69b-a93e0cddbdaa"
   },
   "outputs": [
    {
     "name": "stdout",
     "output_type": "stream",
     "text": [
      "[]\n"
     ]
    }
   ],
   "source": [
    "# File list\n",
    "filelist_flats = glob.glob(path_flats+'*.fits')\n",
    "filelist_flats_darks = glob.glob(path_flats_darks+'*.fits')\n",
    "filelist_sci = sorted(glob.glob(path_sci+'*.fits'))\n",
    "filelist_darks = glob.glob(path_darks+'*.fits')\n",
    "\n",
    "print((filelist_sci))"
   ]
  },
  {
   "cell_type": "markdown",
   "metadata": {
    "id": "d3iRwEeG0-Sx"
   },
   "source": [
    "H BAND RAW IMAGE"
   ]
  },
  {
   "cell_type": "code",
   "execution_count": null,
   "metadata": {
    "colab": {
     "base_uri": "https://localhost:8080/",
     "height": 238
    },
    "id": "9ASPNCic0-Sy",
    "outputId": "5ee0c962-0e22-4a70-abf5-ae194551c907",
    "scrolled": false
   },
   "outputs": [
    {
     "ename": "IndexError",
     "evalue": "ignored",
     "output_type": "error",
     "traceback": [
      "\u001b[0;31m---------------------------------------------------------------------------\u001b[0m",
      "\u001b[0;31mIndexError\u001b[0m                                Traceback (most recent call last)",
      "\u001b[0;32m<ipython-input-5-4fca22525f32>\u001b[0m in \u001b[0;36m<cell line: 1>\u001b[0;34m()\u001b[0m\n\u001b[0;32m----> 1\u001b[0;31m \u001b[0mraw_sci\u001b[0m \u001b[0;34m=\u001b[0m \u001b[0mfits\u001b[0m\u001b[0;34m.\u001b[0m\u001b[0mopen\u001b[0m\u001b[0;34m(\u001b[0m\u001b[0mfilelist_sci\u001b[0m\u001b[0;34m[\u001b[0m\u001b[0;36m0\u001b[0m\u001b[0;34m]\u001b[0m\u001b[0;34m)\u001b[0m\u001b[0;34m[\u001b[0m\u001b[0;36m0\u001b[0m\u001b[0;34m]\u001b[0m\u001b[0;34m.\u001b[0m\u001b[0mdata\u001b[0m\u001b[0;34m\u001b[0m\u001b[0;34m\u001b[0m\u001b[0m\n\u001b[0m\u001b[1;32m      2\u001b[0m \u001b[0mcrop\u001b[0m \u001b[0;34m=\u001b[0m \u001b[0;36m128\u001b[0m\u001b[0;34m\u001b[0m\u001b[0;34m\u001b[0m\u001b[0m\n\u001b[1;32m      3\u001b[0m \u001b[0mdimx\u001b[0m \u001b[0;34m=\u001b[0m \u001b[0mraw_sci\u001b[0m\u001b[0;34m.\u001b[0m\u001b[0mshape\u001b[0m\u001b[0;34m[\u001b[0m\u001b[0;36m0\u001b[0m\u001b[0;34m]\u001b[0m\u001b[0;34m\u001b[0m\u001b[0;34m\u001b[0m\u001b[0m\n\u001b[1;32m      4\u001b[0m \u001b[0mdimy\u001b[0m \u001b[0;34m=\u001b[0m \u001b[0mraw_sci\u001b[0m\u001b[0;34m.\u001b[0m\u001b[0mshape\u001b[0m\u001b[0;34m[\u001b[0m\u001b[0;36m1\u001b[0m\u001b[0;34m]\u001b[0m\u001b[0;34m\u001b[0m\u001b[0;34m\u001b[0m\u001b[0m\n\u001b[1;32m      5\u001b[0m \u001b[0mx1\u001b[0m \u001b[0;34m=\u001b[0m \u001b[0mint\u001b[0m\u001b[0;34m(\u001b[0m\u001b[0;34m(\u001b[0m\u001b[0mdimx\u001b[0m \u001b[0;34m-\u001b[0m \u001b[0mcrop\u001b[0m\u001b[0;34m)\u001b[0m\u001b[0;34m/\u001b[0m\u001b[0;36m2\u001b[0m\u001b[0;34m)\u001b[0m\u001b[0;34m\u001b[0m\u001b[0;34m\u001b[0m\u001b[0m\n",
      "\u001b[0;31mIndexError\u001b[0m: list index out of range"
     ]
    }
   ],
   "source": [
    "raw_sci = fits.open(filelist_sci[0])[0].data\n",
    "crop = 128\n",
    "dimx = raw_sci.shape[0]\n",
    "dimy = raw_sci.shape[1]\n",
    "x1 = int((dimx - crop)/2)\n",
    "x2 = int(x1 + crop)\n",
    "y1 = int((dimy - crop)/2)\n",
    "y2 = int(y1 + crop)\n",
    "raw_sci = shift(raw_sci,[-100,-100])\n",
    "raw_cropped = raw_sci[x1:x2,y1:y2]\n",
    "raw_cropped.shape\n",
    "plt.figure(figsize=(20,20))\n",
    "plt.imshow(raw_cropped,vmin=0,vmax=200,cmap='hot')\n",
    "plt.colorbar()\n",
    "plt.show();"
   ]
  },
  {
   "cell_type": "markdown",
   "metadata": {
    "id": "I6gw2OfZ0-Sz"
   },
   "source": [
    "H BAND MASTER FLAT"
   ]
  },
  {
   "cell_type": "code",
   "execution_count": null,
   "metadata": {
    "id": "f494w7Sf0-Sz"
   },
   "outputs": [],
   "source": [
    "from photutils import DAOStarFinder\n",
    "from astropy.stats import mad_std\n",
    "bkg_sigma = mad_std(final_image_cropped)\n",
    "filter_fwhm = 206265*1630.0*1.0e-9/8.2 / 0.012\n",
    "daofind = DAOStarFinder(fwhm = filter_fwhm, threshold = 3.0*bkg_sigma)\n",
    "sources = daofind(final_image_cropped)\n",
    "for col in sources.colnames:\n",
    "    sources[col].info.format = '%.8g'\n",
    "print(sources)\n",
    "\n",
    "from photutils import aperture_photometry, CircularAperture\n",
    "positions = np.transpose((sources['xcentroid'], sources['ycentroid']))\n",
    "apertures = CircularAperture(positions, r=filter_fwhm)\n",
    "phot_table = aperture_photometry(final_image_cropped, apertures)\n",
    "for col in phot_table.colnames:\n",
    "    phot_table[col].info.format = '%.8g'\n",
    "print(phot_table)\n",
    "\n",
    "plt.figure(figsize = [20,20])\n",
    "plt.imshow(final_image_cropped,vmin=0,vmax=20,cmap='hot')\n",
    "plt.colorbar()\n",
    "apertures.plot(color = 'cyan', lw = 5, alpha = 0.75)"
   ]
  },
  {
   "cell_type": "code",
   "execution_count": null,
   "metadata": {
    "id": "A6Ap0uGs0-S0"
   },
   "outputs": [],
   "source": [
    "print(bkg_sigma)\n",
    "FluxRatio = phot_table[1][3]/phot_table[2][3]\n",
    "print(\"Planet Mag = \", -2.5*np.log10(FluxRatio) + 12.388)"
   ]
  },
  {
   "cell_type": "code",
   "execution_count": null,
   "metadata": {
    "id": "Zm56qUC20-S2"
   },
   "outputs": [],
   "source": []
  }
 ],
 "metadata": {
  "colab": {
   "provenance": []
  },
  "kernelspec": {
   "display_name": "Python 3 (ipykernel)",
   "language": "python",
   "name": "python3"
  },
  "language_info": {
   "codemirror_mode": {
    "name": "ipython",
    "version": 3
   },
   "file_extension": ".py",
   "mimetype": "text/x-python",
   "name": "python",
   "nbconvert_exporter": "python",
   "pygments_lexer": "ipython3",
   "version": "3.11.3"
  },
  "toc": {
   "base_numbering": 1,
   "nav_menu": {},
   "number_sections": true,
   "sideBar": false,
   "skip_h1_title": false,
   "title_cell": "Table of Contents",
   "title_sidebar": "Contents",
   "toc_cell": false,
   "toc_position": {
    "height": "83.0333px",
    "left": "501px",
    "top": "73.0167px",
    "width": "133.117px"
   },
   "toc_section_display": true,
   "toc_window_display": true
  },
  "varInspector": {
   "cols": {
    "lenName": 16,
    "lenType": 16,
    "lenVar": 40
   },
   "kernels_config": {
    "python": {
     "delete_cmd_postfix": "",
     "delete_cmd_prefix": "del ",
     "library": "var_list.py",
     "varRefreshCmd": "print(var_dic_list())"
    },
    "r": {
     "delete_cmd_postfix": ") ",
     "delete_cmd_prefix": "rm(",
     "library": "var_list.r",
     "varRefreshCmd": "cat(var_dic_list()) "
    }
   },
   "types_to_exclude": [
    "module",
    "function",
    "builtin_function_or_method",
    "instance",
    "_Feature"
   ],
   "window_display": false
  }
 },
 "nbformat": 4,
 "nbformat_minor": 1
}
