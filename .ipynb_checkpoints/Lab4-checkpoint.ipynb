{
 "cells": [
  {
   "cell_type": "markdown",
   "id": "72a3d558",
   "metadata": {},
   "source": [
    "\\section{5/2 Lecture Notes: Spectroscopy}\n",
    "Integral Field spectroscopy can also spatially resolve the spectra. \n",
    "\n",
    "Radio sources are useless without optical spectroscopy since you need to know how far the object is. \n",
    "\n",
    "Fourier transform of the time domain (path length) to get a spectrum.\n",
    "\n",
    "Phase velocity of light depends on the index of refraction $v = c/n$ and $n$ the index of refraction is wavelength dependent. \n",
    "\n",
    "Location of maxima and minima in n-slit experiment is dependent on wavelength. Depending what order you're looking at, $\\sin(\\theta_n) = n\\lambda_n/g$. \n",
    "\n",
    "Spatial resolution $A = \\lambda/\\Delta\\lambda=nN$ where $n$ is the diffraction order and $N$ is the number of slits. \n",
    "\n",
    "\n",
    "Blaze angle (at order 0 there is no wavelength resolution and that's also where most of the light is)\n",
    "so now we have light reflect off of saw tooth triangular cross sections of glass at an angle $\\theta_B$. Common blaze gratings are manufactured in what is called the Littrow configuration. (check out wikipedia). There will be a difference in phase, changing the interference, and the incoming light will then peak where desired.\n",
    "\n",
    "Measure the angle of outgoing light for the index of refraction. Index of refraction decreases with wavelength (1.62/1.60). Even with gloves don't touch the prism, and especially the grating. Don't force the slit to jaw together. Put a ruler in the photo.   \n",
    "\n",
    "##Lab Notes\n"
   ]
  },
  {
   "cell_type": "code",
   "execution_count": 32,
   "id": "e5bbf85c",
   "metadata": {},
   "outputs": [
    {
     "data": {
      "text/latex": [
       "$\\displaystyle \\hbar$"
      ],
      "text/plain": [
       "hbar"
      ]
     },
     "execution_count": 32,
     "metadata": {},
     "output_type": "execute_result"
    }
   ],
   "source": [
    "import numpy as np\n",
    "import matplotlib.pyplot as plt\n",
    "from astropy.io import fits\n",
    "import math\n",
    "from scipy.optimize import curve_fit\n",
    "import glob\n",
    "import os\n",
    "import sys\n",
    "import matplotlib.backends.backend_pdf\n",
    "import matplotlib.gridspec as gridspec\n",
    "from scipy.stats import norm\n",
    "from scipy.stats import lognorm\n",
    "from scipy import linalg\n",
    "import pprint\n",
    "import re\n",
    "plt.rc('font', family='serif')\n",
    "from matplotlib import rc\n",
    "import pandas as pd\n",
    "from astropy import constants as const\n",
    "from astropy import units as units\n",
    "from IPython.display import Markdown as md\n",
    "import sympy\n",
    "import pandas\n",
    "from sympy import integrate, diff, sqrt, cos, sin, pi, exp, log\n",
    "from sympy.abc import * \n",
    "i = sqrt(-1)\n",
    "import numpy as np\n",
    "import sympy.printing as printing\n",
    "latp = printing.latex\n",
    "hbar = sympy.symbols(\"hbar\", real=True)\n",
    "import mpmath \n",
    "import plotly.express as px\n",
    "import plotly.graph_objs as go\n",
    "hbar"
   ]
  },
  {
   "cell_type": "markdown",
   "id": "1cb12dd3",
   "metadata": {},
   "source": [
    "We now follow the directions in the background for the following derivations.\n",
    "\\begin{align}\n",
    "&\\text{Grating Equation}\\quad\\ m\\lambda\\frac{1}{a} = \\sin\\alpha\\pm\\sin\\beta\\\\\n",
    "&\\text{Since we use a reflective grating}\\quad\\ m\\lambda\\frac{1}{a} = \\sin\\alpha+\\sin\\beta\\\\ \n",
    "&\\text{Taking the partial derivative with respect to }\\lambda\\quad\\  \n",
    "\\frac{m}{a} = \\frac{\\partial \\beta}{\\partial \\lambda}\\cos\\beta\\\\ \n",
    "&\\text{Rearranging}\\quad\\  \\frac{m}{a\\cos\\beta} = \\frac{\\partial \\beta}{\\partial \\lambda}\\\\\n",
    "&\\text{Rearranging the grating Equation}\\quad\\ \\lambda = \\frac{a}{m}(\\sin\\alpha+\\sin\\beta)\\\\\n",
    "&\\text{Multiplying the above two lines}\\quad\\  \\frac{m}{a\\cos\\beta}\\frac{a}{m}(\\sin\\alpha+\\sin\\beta) = \\lambda\\frac{\\partial \\beta}{\\partial \\lambda}\\\\\n",
    "&\\text{Simplifying the left side}\\quad\\  \\frac{\\sin\\alpha+\\sin\\beta}{\\cos\\beta } = \\lambda\\frac{\\partial \\beta}{\\partial \\lambda}\\\\\n",
    "&\\text{Since }\\alpha -2\\theta=\\beta \\quad\\ \\frac{\\sin(\\beta+2\\theta)+\\sin\\beta}{\\cos\\beta } = \\lambda\\frac{\\partial \\beta}{\\partial \\lambda}\\\\\n",
    "&\\text{Simplifying and substituting tangent}\\quad\\ \\frac{\\sin(\\beta+2\\theta)}{\\cos\\beta } + \\tan( \\beta) = \\lambda\\frac{\\partial \\beta}{\\partial \\lambda}\\\\\n",
    "&\\text{Since }\\sin(a+b)= \\sin(a)\\cos(b)+\\cos(a)\\sin(b)\\quad\\ \\frac{\\sin(2\\theta)\\cos(\\beta)+\\cos(2\\theta)\\sin(\\beta)}{\\cos\\beta } + \\tan( \\beta) = \\lambda\\frac{\\partial \\beta}{\\partial \\lambda}\\\\\n",
    "&\\text{Simplifying and factoring}\\quad\\  \n",
    "\\sin(2\\theta) + \\tan( \\beta)(1+\\cos(2\\theta)) = \\lambda\\frac{\\partial \\beta}{\\partial \\lambda}\\\\ \n",
    "&\\text{Since }2\\cos^2(\\theta)-1=\\cos(2\\theta)\\quad\\ \n",
    "\\sin(2\\theta) + 2\\tan(\\beta)\\cos^2(\\theta) = \\lambda\\frac{\\partial \\beta}{\\partial \\lambda}\\\\ \n",
    "&\\blacksquare\\nonumber\n",
    "\\end{align}"
   ]
  },
  {
   "cell_type": "markdown",
   "id": "c18fc3f4",
   "metadata": {},
   "source": [
    "Returning to the differentiated equation and solving for $\\alpha$\n",
    "\\begin{align}\n",
    "&\\text{Differentiated Equation}\\quad\\ \\frac{m}{a\\cos\\beta} = \\frac{\\partial \\beta}{\\partial \\lambda}\\\\\n",
    "&\\text{Since }\\beta = \\alpha-2\\theta \\text{ and using our earlier result} \\quad\\ \\frac{m}{a\\cos(\\alpha-2\\beta)} = \\frac{\\sin(2\\theta) + 2\\tan(\\beta)\\cos^2(\\theta)}{\\lambda}\\\\\n",
    "&\\text{Rearranging}\\quad\\ \n",
    "\\frac{m\\lambda}{a(\\sin(2\\theta) + 2\\tan(\\beta)\\cos^2(\\theta))} = \\cos(\\alpha-2\\beta)\\\\\n",
    "&\\text{Solving for }\\alpha\\quad\\  \n",
    "\\arccos\\left(\\frac{m\\lambda}{a(\\sin(2\\theta) + 2\\tan(\\beta)\\cos^2(\\theta))}\\right)+2\\beta = \\alpha\\\\\n",
    "\\end{align}"
   ]
  },
  {
   "cell_type": "markdown",
   "id": "81c6efdb",
   "metadata": {},
   "source": [
    "\\begin{align}\n",
    "    &\\text{We know}\\quad\\ D=i-A+\\arcsin\\left(n\\sin(A-\\arcsin\\left(\\frac{\\sin   i}{n}\\right)\\right)\n",
    "\\end{align}"
   ]
  },
  {
   "cell_type": "code",
   "execution_count": 135,
   "id": "98c673c6",
   "metadata": {},
   "outputs": [
    {
     "data": {
      "text/html": [
       "<div>\n",
       "<style scoped>\n",
       "    .dataframe tbody tr th:only-of-type {\n",
       "        vertical-align: middle;\n",
       "    }\n",
       "\n",
       "    .dataframe tbody tr th {\n",
       "        vertical-align: top;\n",
       "    }\n",
       "\n",
       "    .dataframe thead th {\n",
       "        text-align: right;\n",
       "    }\n",
       "</style>\n",
       "<table border=\"1\" class=\"dataframe\">\n",
       "  <thead>\n",
       "    <tr style=\"text-align: right;\">\n",
       "      <th></th>\n",
       "      <th>Slit Width Microns</th>\n",
       "      <th>Separation Between Each Line (mm) on Screen</th>\n",
       "      <th>Rotational Stage Reading When Blazed</th>\n",
       "      <th>Rotational stage reading when the diffraction grating is normal to the beam</th>\n",
       "      <th>Brighter Further Line Separation From Incoming Beam</th>\n",
       "      <th>Dimmer Closer Line Separation From Incoming Beam</th>\n",
       "    </tr>\n",
       "  </thead>\n",
       "  <tbody>\n",
       "    <tr>\n",
       "      <th>0</th>\n",
       "      <td>15 \\pm .5</td>\n",
       "      <td>5 mm \\pm .5 mm</td>\n",
       "      <td>97 degrees 55 arcminutes \\pm 5 arcminutes</td>\n",
       "      <td>95 degrees 35 arcminutes \\pm 5 arcminutes</td>\n",
       "      <td>74 \\pm .7 mm</td>\n",
       "      <td>64 \\pm .7 mm</td>\n",
       "    </tr>\n",
       "    <tr>\n",
       "      <th>1</th>\n",
       "      <td>19.5 \\pm .5</td>\n",
       "      <td>5 cm \\pm 0.5 mm</td>\n",
       "      <td>98 degrees 10 arcminutes \\pm 5 arcminutes</td>\n",
       "      <td>95 degrees 25 arcminutes \\pm 5 arcminutes</td>\n",
       "      <td>75.5 mm \\pm 0.7 mm</td>\n",
       "      <td>70.0 mm \\pm 0.7 mm</td>\n",
       "    </tr>\n",
       "    <tr>\n",
       "      <th>2</th>\n",
       "      <td>8 \\pm 0.5</td>\n",
       "      <td>Not Recorded</td>\n",
       "      <td>97 degrees and 50 arcminutes \\pm 5 arcminutes</td>\n",
       "      <td>96 degrees and 5 arcminutes \\pm 5 arcminutes</td>\n",
       "      <td>86.0 mm \\pm 0.7 mm</td>\n",
       "      <td>76.5 mm \\pm 0.7 mm</td>\n",
       "    </tr>\n",
       "  </tbody>\n",
       "</table>\n",
       "</div>"
      ],
      "text/plain": [
       "  Slit Width Microns Separation Between Each Line (mm) on Screen  \\\n",
       "0          15 \\pm .5                              5 mm \\pm .5 mm   \n",
       "1        19.5 \\pm .5                             5 cm \\pm 0.5 mm   \n",
       "2          8 \\pm 0.5                                Not Recorded   \n",
       "\n",
       "            Rotational Stage Reading When Blazed  \\\n",
       "0      97 degrees 55 arcminutes \\pm 5 arcminutes   \n",
       "1      98 degrees 10 arcminutes \\pm 5 arcminutes   \n",
       "2  97 degrees and 50 arcminutes \\pm 5 arcminutes   \n",
       "\n",
       "  Rotational stage reading when the diffraction grating is normal to the beam  \\\n",
       "0          95 degrees 35 arcminutes \\pm 5 arcminutes                            \n",
       "1          95 degrees 25 arcminutes \\pm 5 arcminutes                            \n",
       "2       96 degrees and 5 arcminutes \\pm 5 arcminutes                            \n",
       "\n",
       "  Brighter Further Line Separation From Incoming Beam  \\\n",
       "0                                       74 \\pm .7 mm    \n",
       "1                                 75.5 mm \\pm 0.7 mm    \n",
       "2                                 86.0 mm \\pm 0.7 mm    \n",
       "\n",
       "  Dimmer Closer Line Separation From Incoming Beam  \n",
       "0                                     64 \\pm .7 mm  \n",
       "1                               70.0 mm \\pm 0.7 mm  \n",
       "2                               76.5 mm \\pm 0.7 mm  "
      ]
     },
     "execution_count": 135,
     "metadata": {},
     "output_type": "execute_result"
    }
   ],
   "source": [
    "data = pd.read_csv(\"lab4 - The Cooler First Order.csv\")\n",
    "data, end_of_data = data.iloc[:3,:], data.iloc[3:,:]\n",
    "end_of_data = [x for x in end_of_data.iloc[:,0] if len(str(x))>0\n",
    "              if type(x) is str]\n",
    "data"
   ]
  },
  {
   "cell_type": "code",
   "execution_count": 96,
   "id": "5cf0c654",
   "metadata": {},
   "outputs": [
    {
     "name": "stdout",
     "output_type": "stream",
     "text": [
      "distance from diffraction grating to red line on our piece of paper 97.5 \\pm 0.7 mm\n",
      "1200 lines/mm diffraction grating\n"
     ]
    }
   ],
   "source": [
    "for note in end_of_data:\n",
    "    print(note)"
   ]
  },
  {
   "cell_type": "code",
   "execution_count": 144,
   "id": "dac1c5e6",
   "metadata": {},
   "outputs": [
    {
     "data": {
      "text/plain": [
       "{15.0: 0.5, 19.5: 0.5, 8.0: 0.5}"
      ]
     },
     "execution_count": 144,
     "metadata": {},
     "output_type": "execute_result"
    }
   ],
   "source": [
    "def convert_data(element):\n",
    "    try:\n",
    "        expected_val, uncertainty = [float(x) for x \n",
    "            in element.split(\" \")\n",
    "            if len(x)>0 and (x[-1].isnumeric() or x[0].isnumeric())]\n",
    "        return expected_val, uncertainty\n",
    "    except: \n",
    "        try: \n",
    "            expected_val, arcmin, uncertainty = [float(x) for x \n",
    "            in element.split(\" \")\n",
    "            if x[-1].isnumeric() or x[0].isnumeric()]\n",
    "            expected_val = expected_val + arcmin / 60\n",
    "            return expected_val, uncertainty\n",
    "        except:\n",
    "            return \"NA\"\n",
    "def arr_to_dict(arr):\n",
    "    out = {}\n",
    "    for pair in arr:\n",
    "        out[pair[0]] = pair[1]\n",
    "    return out\n",
    "def convert_col(df, col):\n",
    "    return arr_to_dict([convert_data(x) for x in data[col]])\n",
    "slit_widths = convert_col(data, 'Slit Width Microns')\n",
    "slit_widths"
   ]
  },
  {
   "cell_type": "markdown",
   "id": "d3629def",
   "metadata": {},
   "source": [
    "We now perform an average weighted linearly by the slit width, since it should be proportional to the photon flux on the screen. "
   ]
  },
  {
   "cell_type": "code",
   "execution_count": 158,
   "id": "66f83cfd",
   "metadata": {},
   "outputs": [
    {
     "data": {
      "text/plain": [
       "97.91666666666667"
      ]
     },
     "execution_count": 158,
     "metadata": {},
     "output_type": "execute_result"
    }
   ],
   "source": [
    "weights = [x for x in slit_widths.keys()]\n",
    "n = len(weights)"
   ]
  },
  {
   "cell_type": "code",
   "execution_count": 160,
   "id": "09e72dc3",
   "metadata": {
    "scrolled": true
   },
   "outputs": [
    {
     "data": {
      "text/plain": [
       "{98.01568627450982: 2.886751345948129}"
      ]
     },
     "execution_count": 160,
     "metadata": {},
     "output_type": "execute_result"
    }
   ],
   "source": [
    "def weighted_average(data, col, weights):\n",
    "    column = convert_col(data, col)\n",
    "    keys = [x for x in column.keys()]\n",
    "    unc = [x for x in column.values()][0] / np.sqrt(len(weights))\n",
    "    return { np.sum(np.array([weights[col] * keys[col] for \n",
    "            col in range(data.shape[0])])) / np.sum(weights) : unc }\n",
    "average_angle_blazed = weighted_average(data, \n",
    "            'Rotational Stage Reading When Blazed', weights)\n",
    "average_angle_blazed"
   ]
  },
  {
   "cell_type": "code",
   "execution_count": 162,
   "id": "a00c47f2",
   "metadata": {},
   "outputs": [
    {
     "data": {
      "text/plain": [
       "{95.60098039215686: 2.886751345948129}"
      ]
     },
     "execution_count": 162,
     "metadata": {},
     "output_type": "execute_result"
    }
   ],
   "source": [
    "col = 'Rotational stage reading when the diffraction grating is normal to the beam'\n",
    "average_angle_zeroed = weighted_average(data, col, weights)\n",
    "average_angle_zeroed\n"
   ]
  },
  {
   "cell_type": "code",
   "execution_count": 166,
   "id": "a6d007a1",
   "metadata": {},
   "outputs": [
    {
     "data": {
      "text/plain": [
       "{76.94705882352942: 0.40414518843273806}"
      ]
     },
     "execution_count": 166,
     "metadata": {},
     "output_type": "execute_result"
    }
   ],
   "source": [
    "brighter_further = weighted_average(data, \n",
    "    'Brighter Further Line Separation From Incoming Beam', weights)\n",
    "brighter_further"
   ]
  },
  {
   "cell_type": "code",
   "execution_count": 167,
   "id": "8f7918e2",
   "metadata": {},
   "outputs": [
    {
     "data": {
      "text/plain": [
       "{69.10588235294118: 0.40414518843273806}"
      ]
     },
     "execution_count": 167,
     "metadata": {},
     "output_type": "execute_result"
    }
   ],
   "source": [
    "dimmer_closer = weighted_average(data, \n",
    "    'Dimmer Closer Line Separation From Incoming Beam', weights)\n",
    "dimmer_closer"
   ]
  },
  {
   "cell_type": "code",
   "execution_count": null,
   "id": "fb39930e",
   "metadata": {},
   "outputs": [],
   "source": []
  },
  {
   "cell_type": "markdown",
   "id": "553e1c08",
   "metadata": {},
   "source": [
    "The purpose of this file is to have a set of functions that can calculate\n",
    "error propagation.\n",
    "All inputs will be dictionaries of the form\n",
    "\n",
    "dict = {value1: uncertainty1, value2: uncertainty2, ...}\n",
    "\n",
    "All outputs will be lists of the form (value, uncertainty).\n",
    "All uncertanties should be listed as nonnegative real numbers.\n",
    "For the general() function to calculate the exact uncertainty,\n",
    "the syntax for defining functions used here:\n",
    "\n",
    "https://www.askpython.com/python/examples/derivatives-in-python-sympy\n",
    "\n",
    "should be used.\n",
    "The purpose of symbol_list list is to have up to 26 variable names to take\n",
    "partial differentials in general()\n",
    "All functions used in the general function must use the first n letters of\n",
    "the alphabet as their variables"
   ]
  },
  {
   "cell_type": "code",
   "execution_count": 134,
   "id": "a6f519c4",
   "metadata": {
    "scrolled": true
   },
   "outputs": [
    {
     "name": "stdout",
     "output_type": "stream",
     "text": [
      "(a + 2.0)/(a + b*cos(0.0698131700797732*c))\n",
      "(3.50656581341894, 1.8267621151828408)\n"
     ]
    }
   ],
   "source": [
    "a, b, c, d, e, f, g, h, i, j, k, l, m = symbols('a b c d e f g h i j k l m')\n",
    "n, o, p, q, r, s, t, u, v, w, x, y, z = symbols('n o p q r s t u v w x y z')\n",
    "symbol_list = (a, b, c, d, e, f, g, h, i, j, k, l, m, n, o, p, q, r, s, t, u, v,\n",
    "w, x, y, z)\n",
    "\n",
    "def general (dict, fun):\n",
    "    #can only take up to 26 inputs\n",
    "    #its output is of the form (exact uncertainty, maximum uncertainty)\n",
    "    sum_squares = 0\n",
    "\n",
    "    try:\n",
    "        keys = np.array(list(dict.keys()))\n",
    "        values = np.array(list(dict.values()))\n",
    "        for index in range(len(keys)):\n",
    "            diff_f = fun.diff(symbol_list[index])\n",
    "            lam_f = lambdify(symbol_list[0:len(keys)], diff_f)\n",
    "            sum_squares += (lam_f(*keys) * values[index]) ** 2\n",
    "        lam_og = lambdify(symbol_list[0:len(keys)], fun)\n",
    "        best_est = lam_og(*keys)\n",
    "        print(sympy.N(fun))\n",
    "\n",
    "    except:\n",
    "        print(\"Singular uncertainty entered\")\n",
    "        keys = list(dict.keys())\n",
    "        keys = float(keys[0])\n",
    "        values = list(dict.values())\n",
    "        values = float(values[0])\n",
    "        diff_f = fun.diff(symbol_list[0])\n",
    "        lam_f = lambdify(symbol_list[0], diff_f)\n",
    "        sum_squares += (lam_f(keys) * values) ** 2\n",
    "        lam_og = lambdify(symbol_list[0], fun)\n",
    "        lam_og(keys)\n",
    "\n",
    "    uncertainty = math.sqrt(sum_squares)\n",
    "\n",
    "    return (best_est, uncertainty)\n",
    "#a = x, y = b, c = theta\n",
    "fun = (a + 2) / (a + (b * cos(4 * c * np.pi / 180)))\n",
    "dict = {10:2, 7:1, 40:3}\n",
    "print(general(dict, fun))"
   ]
  },
  {
   "cell_type": "code",
   "execution_count": null,
   "id": "159d81ea",
   "metadata": {},
   "outputs": [],
   "source": [
    "alpha_closer, beta_closer, alpha_further, beta_further = {}, {}, {}\n"
   ]
  },
  {
   "cell_type": "markdown",
   "id": "7129c63e",
   "metadata": {},
   "source": [
    "a = l1, b = linear separations (brigth lines)\n",
    "\n",
    "c is the starting angle, d is the grating angle\n",
    "\n",
    "e is $\\alpha$ and will be a function of the c and d. \n",
    "\n",
    "f is $\\beta$ and will be a function of e, a, and b. \n",
    "\n",
    "g is $\\lambda$ will be a function of e and f."
   ]
  },
  {
   "cell_type": "code",
   "execution_count": 45,
   "id": "ef27d40a",
   "metadata": {
    "scrolled": true
   },
   "outputs": [
    {
     "data": {
      "text/latex": [
       "$\\displaystyle - 833.333333333333 \\sin{\\left(c - d \\right)} + 833.333333333333 \\sin{\\left(c - d + \\operatorname{atan}{\\left(\\frac{b}{a} \\right)} \\right)}$"
      ],
      "text/plain": [
       "-833.333333333333*sin(c - d) + 833.333333333333*sin(c - d + atan(b/a))"
      ]
     },
     "execution_count": 45,
     "metadata": {},
     "output_type": "execute_result"
    }
   ],
   "source": [
    "arctan = atan\n",
    "e = d - c  \n",
    "f = arctan( b / a) - e\n",
    "g = 10**6 * (1/1200) * (sin(e) + sin(f))\n",
    "simplify(g)"
   ]
  },
  {
   "cell_type": "code",
   "execution_count": 46,
   "id": "415e8acf",
   "metadata": {},
   "outputs": [
    {
     "name": "stdout",
     "output_type": "stream",
     "text": [
      "-833.333333333333*sin(c - d) + 833.333333333333*sin(c - d + atan(b/a))\n",
      "-833.333333333333*sin(c - d) + 833.333333333333*sin(c - d + atan(b/a))\n",
      "-833.333333333333*sin(c - d) + 833.333333333333*sin(c - d + atan(b/a))\n"
     ]
    },
    {
     "data": {
      "text/plain": [
       "[(510.28905792447017, 3.9222867714998655),\n",
       " (517.9946754817732, 3.887052352269225),\n",
       " (557.3517119714387, 3.4763810423286547)]"
      ]
     },
     "execution_count": 46,
     "metadata": {},
     "output_type": "execute_result"
    }
   ],
   "source": [
    "fun = g\n",
    "b_arr = [74.0, 75.5, 86.0]\n",
    "c_arr = np.pi * np.array([95+35/60, 95 + 25/60, 96 + 5/60]) / 180\n",
    "d_arr = np.pi * np.array([97+55/60, 98 + 10/60, 97 + 50/60]) / 180\n",
    "angle_unc = 5 * np.pi / ( 60 * 180 )\n",
    "output = [general({97.5:.7, b_arr[i]:.7, c_arr[i]:angle_unc, \n",
    "                d_arr[i]:angle_unc}, fun) for i in range(len(b_arr))]\n",
    "output"
   ]
  },
  {
   "cell_type": "code",
   "execution_count": 48,
   "id": "eb768ffd",
   "metadata": {},
   "outputs": [
    {
     "data": {
      "text/plain": [
       "[(510.28905792447017, 3.9222867714998655),\n",
       " (517.9946754817732, 3.887052352269225),\n",
       " (557.3517119714387, 3.4763810423286547)]"
      ]
     },
     "execution_count": 48,
     "metadata": {},
     "output_type": "execute_result"
    }
   ],
   "source": [
    "output"
   ]
  },
  {
   "cell_type": "code",
   "execution_count": 54,
   "id": "f5d29326",
   "metadata": {},
   "outputs": [
    {
     "data": {
      "text/plain": [
       "['distance from diffraction grating to red line on our piece of paper 97.5 \\\\pm 0.7 mm',\n",
       " '1200 lines/mm diffraction grating']"
      ]
     },
     "execution_count": 54,
     "metadata": {},
     "output_type": "execute_result"
    }
   ],
   "source": []
  },
  {
   "cell_type": "code",
   "execution_count": null,
   "id": "be1483f8",
   "metadata": {},
   "outputs": [],
   "source": [
    "    "
   ]
  },
  {
   "cell_type": "markdown",
   "id": "3b14346d",
   "metadata": {},
   "source": []
  },
  {
   "cell_type": "code",
   "execution_count": null,
   "id": "7e1f589f",
   "metadata": {},
   "outputs": [],
   "source": []
  },
  {
   "cell_type": "code",
   "execution_count": null,
   "id": "09f2ca1c",
   "metadata": {},
   "outputs": [],
   "source": []
  },
  {
   "cell_type": "code",
   "execution_count": null,
   "id": "d1e1b0a8",
   "metadata": {},
   "outputs": [],
   "source": []
  },
  {
   "cell_type": "code",
   "execution_count": null,
   "id": "c599acdd",
   "metadata": {},
   "outputs": [],
   "source": []
  },
  {
   "cell_type": "code",
   "execution_count": null,
   "id": "0a6353e7",
   "metadata": {},
   "outputs": [],
   "source": []
  },
  {
   "cell_type": "code",
   "execution_count": null,
   "id": "5b75eb06",
   "metadata": {},
   "outputs": [],
   "source": []
  },
  {
   "cell_type": "code",
   "execution_count": null,
   "id": "391fda67",
   "metadata": {},
   "outputs": [],
   "source": []
  },
  {
   "cell_type": "code",
   "execution_count": null,
   "id": "69a3235b",
   "metadata": {},
   "outputs": [],
   "source": []
  },
  {
   "cell_type": "code",
   "execution_count": null,
   "id": "3825eb97",
   "metadata": {},
   "outputs": [],
   "source": []
  },
  {
   "cell_type": "code",
   "execution_count": null,
   "id": "cd1f0d19",
   "metadata": {},
   "outputs": [],
   "source": []
  },
  {
   "cell_type": "markdown",
   "id": "261c6256",
   "metadata": {},
   "source": []
  }
 ],
 "metadata": {
  "kernelspec": {
   "display_name": "Python 3 (ipykernel)",
   "language": "python",
   "name": "python3"
  },
  "language_info": {
   "codemirror_mode": {
    "name": "ipython",
    "version": 3
   },
   "file_extension": ".py",
   "mimetype": "text/x-python",
   "name": "python",
   "nbconvert_exporter": "python",
   "pygments_lexer": "ipython3",
   "version": "3.9.13"
  },
  "latex_envs": {
   "LaTeX_envs_menu_present": true,
   "autoclose": false,
   "autocomplete": true,
   "bibliofile": "biblio.bib",
   "cite_by": "apalike",
   "current_citInitial": 1,
   "eqLabelWithNumbers": true,
   "eqNumInitial": 1,
   "hotkeys": {
    "equation": "Ctrl-E",
    "itemize": "Ctrl-I"
   },
   "labels_anchors": false,
   "latex_user_defs": false,
   "report_style_numbering": false,
   "user_envs_cfg": false
  },
  "toc": {
   "base_numbering": 1,
   "nav_menu": {},
   "number_sections": true,
   "sideBar": true,
   "skip_h1_title": false,
   "title_cell": "Table of Contents",
   "title_sidebar": "Contents",
   "toc_cell": false,
   "toc_position": {
    "height": "calc(100% - 180px)",
    "left": "10px",
    "top": "150px",
    "width": "165px"
   },
   "toc_section_display": true,
   "toc_window_display": true
  },
  "varInspector": {
   "cols": {
    "lenName": 16,
    "lenType": 16,
    "lenVar": 40
   },
   "kernels_config": {
    "python": {
     "delete_cmd_postfix": "",
     "delete_cmd_prefix": "del ",
     "library": "var_list.py",
     "varRefreshCmd": "print(var_dic_list())"
    },
    "r": {
     "delete_cmd_postfix": ") ",
     "delete_cmd_prefix": "rm(",
     "library": "var_list.r",
     "varRefreshCmd": "cat(var_dic_list()) "
    }
   },
   "types_to_exclude": [
    "module",
    "function",
    "builtin_function_or_method",
    "instance",
    "_Feature"
   ],
   "window_display": false
  }
 },
 "nbformat": 4,
 "nbformat_minor": 5
}
