{
 "cells": [
  {
   "cell_type": "markdown",
   "id": "72a3d558",
   "metadata": {},
   "source": [
    "\\section{5/2 Lecture Notes: Spectroscopy}\n",
    "Integral Field spectroscopy can also spatially resolve the spectra. \n",
    "\n",
    "Radio sources are useless without optical spectroscopy since you need to know how far the object is. \n",
    "\n",
    "Fourier transform of the time domain (path length) to get a spectrum.\n",
    "\n",
    "Phase velocity of light depends on the index of refraction $v = c/n$ and $n$ the index of refraction is wavelength dependent. \n",
    "\n",
    "Location of maxima and minima in n-slit experiment is dependent on wavelength. Depending what order you're looking at, $\\sin(\\theta_n) = n\\lambda_n/g$. \n",
    "\n",
    "Spatial resolution $A = \\lambda/\\Delta\\lambda=nN$ where $n$ is the diffraction order and $N$ is the number of slits. \n",
    "\n",
    "\n",
    "Blaze angle (at order 0 there is no wavelength resolution and that's also where most of the light is)\n",
    "so now we have light reflect off of saw tooth triangular cross sections of glass at an angle $\\theta_B$. Common blaze gratings are manufactured in what is called the Littrow configuration. (check out wikipedia). There will be a difference in phase, changing the interference, and the incoming light will then peak where desired.\n",
    "\n",
    "Measure the angle of outgoing light for the index of refraction. Index of refraction decreases with wavelength (1.62/1.60). Even with gloves don't touch the prism, and especially the grating. Don't force the slit to jaw together. Put a ruler in the photo.   \n",
    "\n",
    "##Lab Notes\n"
   ]
  },
  {
   "cell_type": "code",
   "execution_count": 32,
   "id": "e5bbf85c",
   "metadata": {},
   "outputs": [
    {
     "data": {
      "text/latex": [
       "$\\displaystyle \\hbar$"
      ],
      "text/plain": [
       "hbar"
      ]
     },
     "execution_count": 32,
     "metadata": {},
     "output_type": "execute_result"
    }
   ],
   "source": [
    "import numpy as np\n",
    "import matplotlib.pyplot as plt\n",
    "from astropy.io import fits\n",
    "import math\n",
    "from scipy.optimize import curve_fit\n",
    "import glob\n",
    "import os\n",
    "import sys\n",
    "import matplotlib.backends.backend_pdf\n",
    "import matplotlib.gridspec as gridspec\n",
    "from scipy.stats import norm\n",
    "from scipy.stats import lognorm\n",
    "from scipy import linalg\n",
    "import pprint\n",
    "import re\n",
    "plt.rc('font', family='serif')\n",
    "from matplotlib import rc\n",
    "import pandas as pd\n",
    "from astropy import constants as const\n",
    "from astropy import units as units\n",
    "from IPython.display import Markdown as md\n",
    "import sympy\n",
    "import pandas\n",
    "from sympy import integrate, diff, sqrt, cos, sin, pi, exp, log\n",
    "from sympy.abc import * \n",
    "i = sqrt(-1)\n",
    "import numpy as np\n",
    "import sympy.printing as printing\n",
    "latp = printing.latex\n",
    "hbar = sympy.symbols(\"hbar\", real=True)\n",
    "import mpmath \n",
    "import plotly.express as px\n",
    "import plotly.graph_objs as go\n",
    "hbar"
   ]
  },
  {
   "cell_type": "markdown",
   "id": "30b8a6aa",
   "metadata": {},
   "source": [
    "We now follow the directions in the background for the following derivations.\n",
    "\\begin{align}\n",
    "&\\text{Grating Equation}\\quad\\ m\\lambda\\frac{1}{a} = \\sin\\alpha\\pm\\sin\\beta\\\\\n",
    "&\\text{Since we use a reflective grating}\\quad\\ m\\lambda\\frac{1}{a} = \\sin\\alpha+\\sin\\beta\\\\ \n",
    "&\\text{Taking the partial derivative with respect to }\\lambda\\quad\\  \n",
    "\\frac{m}{a} = \\frac{\\partial \\beta}{\\partial \\lambda}\\cos\\beta\\\\ \n",
    "&\\text{Rearranging}\\quad\\  \\frac{m}{a\\cos\\beta} = \\frac{\\partial \\beta}{\\partial \\lambda}\\\\\n",
    "&\\text{Rearranging the grating Equation}\\quad\\ \\lambda = \\frac{a}{m}(\\sin\\alpha+\\sin\\beta)\\\\\n",
    "&\\text{Multiplying the above two lines}\\quad\\  \\frac{m}{a\\cos\\beta}\\frac{a}{m}(\\sin\\alpha+\\sin\\beta) = \\lambda\\frac{\\partial \\beta}{\\partial \\lambda}\\\\\n",
    "&\\text{Simplifying the left side}\\quad\\  \\frac{\\sin\\alpha+\\sin\\beta}{\\cos\\beta } = \\lambda\\frac{\\partial \\beta}{\\partial \\lambda}\\\\\n",
    "&\\text{Since }\\alpha -2\\theta=\\beta \\quad\\ \\frac{\\sin(\\beta+2\\theta)+\\sin\\beta}{\\cos\\beta } = \\lambda\\frac{\\partial \\beta}{\\partial \\lambda}\\\\\n",
    "&\\text{Simplifying and substituting tangent}\\quad\\ \\frac{\\sin(\\beta+2\\theta)}{\\cos\\beta } + \\tan( \\beta) = \\lambda\\frac{\\partial \\beta}{\\partial \\lambda}\\\\\n",
    "&\\text{Since }\\sin(a+b)= \\sin(a)\\cos(b)+\\cos(a)\\sin(b)\\quad\\ \\frac{\\sin(2\\theta)\\cos(\\beta)+\\cos(2\\theta)\\sin(\\beta)}{\\cos\\beta } + \\tan( \\beta) = \\lambda\\frac{\\partial \\beta}{\\partial \\lambda}\\\\\n",
    "&\\text{Simplifying and factoring}\\quad\\  \n",
    "\\sin(2\\theta) + \\tan( \\beta)(1+\\cos(2\\theta)) = \\lambda\\frac{\\partial \\beta}{\\partial \\lambda}\\\\ \n",
    "&\\text{Since }2\\cos^2(\\theta)-1=\\cos(2\\theta)\\quad\\ \n",
    "\\sin(2\\theta) + 2\\tan(\\beta)\\cos^2(\\theta) = \\lambda\\frac{\\partial \\beta}{\\partial \\lambda}\\\\ \n",
    "&\\blacksquare\\nonumber\n",
    "\\end{align}"
   ]
  },
  {
   "cell_type": "markdown",
   "id": "129d0986",
   "metadata": {},
   "source": [
    "Returning to the differentiated equation and solving for $\\alpha$\n",
    "\\begin{align}\n",
    "&\\text{Differentiated Equation}\\quad\\ \\frac{m}{a\\cos\\beta} = \\frac{\\partial \\beta}{\\partial \\lambda}\\\\\n",
    "&\\text{Since }\\beta = \\alpha-2\\theta \\text{ and using our earlier result} \\quad\\ \\frac{m}{a\\cos(\\alpha-2\\beta)} = \\frac{\\sin(2\\theta) + 2\\tan(\\beta)\\cos^2(\\theta)}{\\lambda}\\\\\n",
    "&\\text{Rearranging}\\quad\\ \n",
    "\\frac{m\\lambda}{a(\\sin(2\\theta) + 2\\tan(\\beta)\\cos^2(\\theta))} = \\cos(\\alpha-2\\beta)\\\\\n",
    "&\\text{Solving for }\\alpha\\quad\\  \n",
    "\\arccos\\left(\\frac{m\\lambda}{a(\\sin(2\\theta) + 2\\tan(\\beta)\\cos^2(\\theta))}\\right)+2\\beta = \\alpha\\\\\n",
    "\\end{align}"
   ]
  },
  {
   "cell_type": "markdown",
   "id": "9f18a85c",
   "metadata": {},
   "source": [
    "\\begin{align}\n",
    "    &\\text{We know}\\quad\\ D=i-A+\\arcsin\\left(n\\sin(A-\\arcsin\\left(\\frac{\\sin   i}{n}\\right)\\right)\n",
    "\\end{align}"
   ]
  },
  {
   "cell_type": "code",
   "execution_count": 119,
   "id": "37a25cf6",
   "metadata": {},
   "outputs": [
    {
     "data": {
      "text/html": [
       "<div>\n",
       "<style scoped>\n",
       "    .dataframe tbody tr th:only-of-type {\n",
       "        vertical-align: middle;\n",
       "    }\n",
       "\n",
       "    .dataframe tbody tr th {\n",
       "        vertical-align: top;\n",
       "    }\n",
       "\n",
       "    .dataframe thead th {\n",
       "        text-align: right;\n",
       "    }\n",
       "</style>\n",
       "<table border=\"1\" class=\"dataframe\">\n",
       "  <thead>\n",
       "    <tr style=\"text-align: right;\">\n",
       "      <th></th>\n",
       "      <th>Slit Width Microns</th>\n",
       "      <th>Separation Between Each Line (mm) on Screen</th>\n",
       "      <th>Rotational Stage Reading When Blazed</th>\n",
       "      <th>Rotational stage reading when the diffraction grating is normal to the beam</th>\n",
       "      <th>Brighter Further Line Separation From Incoming Beam</th>\n",
       "      <th>Dimmer Closer Line Separation From Incoming Beam</th>\n",
       "    </tr>\n",
       "  </thead>\n",
       "  <tbody>\n",
       "    <tr>\n",
       "      <th>0</th>\n",
       "      <td>15 \\pm .5</td>\n",
       "      <td>5 mm \\pm .5 mm</td>\n",
       "      <td>97 degrees 55 arcminutes \\pm 5 arcminutes</td>\n",
       "      <td>95 degrees 35 arcminutes \\pm 5 arcminutes</td>\n",
       "      <td>74 \\pm .7 mm</td>\n",
       "      <td>64 \\pm .7 mm</td>\n",
       "    </tr>\n",
       "    <tr>\n",
       "      <th>1</th>\n",
       "      <td>19.5 \\pm .5</td>\n",
       "      <td>5 cm \\pm 0.5 mm</td>\n",
       "      <td>98 degrees 10 arcminutes \\pm 5 arcminutes</td>\n",
       "      <td>95 degrees 25 arcminutes \\pm 5 arcminutes</td>\n",
       "      <td>75.5 mm \\pm 0.7 mm</td>\n",
       "      <td>70.0 mm \\pm 0.7 mm</td>\n",
       "    </tr>\n",
       "    <tr>\n",
       "      <th>2</th>\n",
       "      <td>8 \\pm 0.5</td>\n",
       "      <td>Not Recorded</td>\n",
       "      <td>97 degrees and 50 arcminutes \\pm 5 arcminutes</td>\n",
       "      <td>96 degrees and 5 arcminutes \\pm 5 arcminutes</td>\n",
       "      <td>86.0 mm \\pm 0.7 mm</td>\n",
       "      <td>76.5 mm \\pm 0.7 mm</td>\n",
       "    </tr>\n",
       "  </tbody>\n",
       "</table>\n",
       "</div>"
      ],
      "text/plain": [
       "  Slit Width Microns Separation Between Each Line (mm) on Screen  \\\n",
       "0          15 \\pm .5                              5 mm \\pm .5 mm   \n",
       "1        19.5 \\pm .5                             5 cm \\pm 0.5 mm   \n",
       "2          8 \\pm 0.5                                Not Recorded   \n",
       "\n",
       "            Rotational Stage Reading When Blazed  \\\n",
       "0      97 degrees 55 arcminutes \\pm 5 arcminutes   \n",
       "1      98 degrees 10 arcminutes \\pm 5 arcminutes   \n",
       "2  97 degrees and 50 arcminutes \\pm 5 arcminutes   \n",
       "\n",
       "  Rotational stage reading when the diffraction grating is normal to the beam  \\\n",
       "0          95 degrees 35 arcminutes \\pm 5 arcminutes                            \n",
       "1          95 degrees 25 arcminutes \\pm 5 arcminutes                            \n",
       "2       96 degrees and 5 arcminutes \\pm 5 arcminutes                            \n",
       "\n",
       "  Brighter Further Line Separation From Incoming Beam  \\\n",
       "0                                       74 \\pm .7 mm    \n",
       "1                                 75.5 mm \\pm 0.7 mm    \n",
       "2                                 86.0 mm \\pm 0.7 mm    \n",
       "\n",
       "  Dimmer Closer Line Separation From Incoming Beam  \n",
       "0                                     64 \\pm .7 mm  \n",
       "1                               70.0 mm \\pm 0.7 mm  \n",
       "2                               76.5 mm \\pm 0.7 mm  "
      ]
     },
     "execution_count": 119,
     "metadata": {},
     "output_type": "execute_result"
    }
   ],
   "source": [
    "data = pd.read_csv(\"lab4 - The Cooler First Order.csv\")\n",
    "data, end_of_data = data.iloc[:3,:], data.iloc[3:,:]\n",
    "end_of_data = [x for x in end_of_data.iloc[:,0] if len(str(x))>0\n",
    "              if type(x) is str]\n",
    "data"
   ]
  },
  {
   "cell_type": "code",
   "execution_count": 96,
   "id": "9542c366",
   "metadata": {},
   "outputs": [
    {
     "name": "stdout",
     "output_type": "stream",
     "text": [
      "distance from diffraction grating to red line on our piece of paper 97.5 \\pm 0.7 mm\n",
      "1200 lines/mm diffraction grating\n"
     ]
    }
   ],
   "source": [
    "for note in end_of_data:\n",
    "    print(note)"
   ]
  },
  {
   "cell_type": "code",
   "execution_count": 128,
   "id": "0fcb9798",
   "metadata": {},
   "outputs": [
    {
     "data": {
      "text/plain": [
       "{15.0: 0.5, 19.5: 0.5, 8.0: 0.5}"
      ]
     },
     "execution_count": 128,
     "metadata": {},
     "output_type": "execute_result"
    }
   ],
   "source": [
    "def convert_data(element):\n",
    "    try:\n",
    "        expected_val, uncertainty = [float(x) for x \n",
    "            in element.split(\" \")\n",
    "            if len(x)>0 and (x[-1].isnumeric() or x[0].isnumeric())]\n",
    "        return expected_val, uncertainty\n",
    "    except: \n",
    "        try: \n",
    "            expected_val, arcmin, uncertainty = [float(x) for x \n",
    "            in element.split(\" \")\n",
    "            if x[-1].isnumeric() or x[0].isnumeric()]\n",
    "            expected_val = expected_val + arcmin / 60\n",
    "            return expected_val, uncertainty\n",
    "        except:\n",
    "            return \"NA\"\n",
    "def arr_to_dict(arr):\n",
    "    out = {}\n",
    "    for pair in arr:\n",
    "        out[pair[0]] = pair[1]\n",
    "    return out\n",
    "def convert_col(df, col):\n",
    "    return arr_to_dict([convert_data(x) for x in data[col]])\n",
    "slit_widths = convert_col(data, 'Slit Width Microns')\n",
    "slit_widths"
   ]
  },
  {
   "cell_type": "code",
   "execution_count": 114,
   "id": "d0428496",
   "metadata": {},
   "outputs": [
    {
     "data": {
      "text/plain": [
       "{5.0: 0.5, 'N': 'A'}"
      ]
     },
     "execution_count": 114,
     "metadata": {},
     "output_type": "execute_result"
    }
   ],
   "source": [
    "screen_seps = convert_col(data, 'Separation Between Each Line (mm) on Screen')\n",
    "screen_seps"
   ]
  },
  {
   "cell_type": "code",
   "execution_count": 115,
   "id": "d7858a97",
   "metadata": {},
   "outputs": [
    {
     "data": {
      "text/plain": [
       "{97.91666666666667: 5.0, 98.16666666666667: 5.0, 97.83333333333333: 5.0}"
      ]
     },
     "execution_count": 115,
     "metadata": {},
     "output_type": "execute_result"
    }
   ],
   "source": [
    "angle_blazed = convert_col(data,'Rotational Stage Reading When Blazed')\n",
    "angle_blazed\n"
   ]
  },
  {
   "cell_type": "code",
   "execution_count": 116,
   "id": "5449140d",
   "metadata": {},
   "outputs": [
    {
     "data": {
      "text/plain": [
       "{95.58333333333333: 5.0, 95.41666666666667: 5.0, 96.08333333333333: 5.0}"
      ]
     },
     "execution_count": 116,
     "metadata": {},
     "output_type": "execute_result"
    }
   ],
   "source": [
    "col = 'Rotational stage reading when the diffraction grating is normal to the beam'\n",
    "angle_zeroed = convert_col(data, col)\n",
    "angle_zeroed\n"
   ]
  },
  {
   "cell_type": "code",
   "execution_count": 117,
   "id": "781e20c9",
   "metadata": {},
   "outputs": [
    {
     "data": {
      "text/plain": [
       "{74.0: 0.7, 75.5: 0.7, 86.0: 0.7}"
      ]
     },
     "execution_count": 117,
     "metadata": {},
     "output_type": "execute_result"
    }
   ],
   "source": [
    "further = convert_col(data, \n",
    "            'Brighter Further Line Separation From Incoming Beam')\n",
    "further"
   ]
  },
  {
   "cell_type": "code",
   "execution_count": 129,
   "id": "f155258b",
   "metadata": {},
   "outputs": [
    {
     "data": {
      "text/plain": [
       "{64.0: 0.7, 70.0: 0.7, 76.5: 0.7}"
      ]
     },
     "execution_count": 129,
     "metadata": {},
     "output_type": "execute_result"
    }
   ],
   "source": [
    "closer = convert_col(data, \n",
    "            'Dimmer Closer Line Separation From Incoming Beam')\n",
    "closer"
   ]
  },
  {
   "cell_type": "code",
   "execution_count": null,
   "id": "e41ecee8",
   "metadata": {},
   "outputs": [],
   "source": []
  },
  {
   "cell_type": "markdown",
   "id": "f994ce63",
   "metadata": {},
   "source": [
    "The purpose of this file is to have a set of functions that can calculate\n",
    "error propagation.\n",
    "All inputs will be dictionaries of the form\n",
    "\n",
    "dict = {value1: uncertainty1, value2: uncertainty2, ...}\n",
    "\n",
    "All outputs will be lists of the form (value, uncertainty).\n",
    "All uncertanties should be listed as nonnegative real numbers.\n",
    "For the general() function to calculate the exact uncertainty,\n",
    "the syntax for defining functions used here:\n",
    "\n",
    "https://www.askpython.com/python/examples/derivatives-in-python-sympy\n",
    "\n",
    "should be used.\n",
    "The purpose of symbol_list list is to have up to 26 variable names to take\n",
    "partial differentials in general()\n",
    "All functions used in the general function must use the first n letters of\n",
    "the alphabet as their variables"
   ]
  },
  {
   "cell_type": "code",
   "execution_count": null,
   "id": "53c764b7",
   "metadata": {},
   "outputs": [],
   "source": []
  },
  {
   "cell_type": "code",
   "execution_count": 51,
   "id": "0fb81c56",
   "metadata": {
    "scrolled": true
   },
   "outputs": [
    {
     "name": "stdout",
     "output_type": "stream",
     "text": [
      "(a + 2.0)/(a + b*cos(0.0698131700797732*c))\n",
      "(3.50656581341894, 1.8267621151828408)\n"
     ]
    }
   ],
   "source": [
    "a, b, c, d, e, f, g, h, i, j, k, l, m = symbols('a b c d e f g h i j k l m')\n",
    "n, o, p, q, r, s, t, u, v, w, x, y, z = symbols('n o p q r s t u v w x y z')\n",
    "symbol_list = (a, b, c, d, e, f, g, h, i, j, k, l, m, n, o, p, q, r, s, t, u, v,\n",
    "w, x, y, z)\n",
    "\n",
    "def general (dict, fun):\n",
    "    #can only take up to 26 inputs\n",
    "    #its output is of the form (exact uncertainty, maximum uncertainty)\n",
    "    sum_squares = 0\n",
    "\n",
    "    try:\n",
    "        keys = np.array(list(dict.keys()))\n",
    "        values = np.array(list(dict.values()))\n",
    "        for index in range(len(keys)):\n",
    "            diff_f = fun.diff(symbol_list[index])\n",
    "            lam_f = lambdify(symbol_list[0:len(keys)], diff_f)\n",
    "            sum_squares += (lam_f(*keys) * values[index]) ** 2\n",
    "        lam_og = lambdify(symbol_list[0:len(keys)], fun)\n",
    "        best_est = lam_og(*keys)\n",
    "        print(sympy.N(fun))\n",
    "\n",
    "    except:\n",
    "        print(\"Singular uncertainty entered\")\n",
    "        keys = list(dict.keys())\n",
    "        keys = float(keys[0])\n",
    "        values = list(dict.values())\n",
    "        values = float(values[0])\n",
    "        diff_f = fun.diff(symbol_list[0])\n",
    "        lam_f = lambdify(symbol_list[0], diff_f)\n",
    "        sum_squares += (lam_f(keys) * values) ** 2\n",
    "        lam_og = lambdify(symbol_list[0], fun)\n",
    "        lam_og(keys)\n",
    "\n",
    "    uncertainty = math.sqrt(sum_squares)\n",
    "\n",
    "    return (best_est, uncertainty)\n",
    "#a = x, y = b, c = theta\n",
    "fun = (a + 2) / (a + (b * cos(4 * c * np.pi / 180)))\n",
    "dict = {10:2, 7:1, 40:3}\n",
    "print(general(dict, fun))"
   ]
  },
  {
   "cell_type": "markdown",
   "id": "87f00a55",
   "metadata": {},
   "source": [
    "a = l1, b = linear separations (brigth lines)\n",
    "\n",
    "c is the starting angle, d is the grating angle\n",
    "\n",
    "e is $\\alpha$ and will be a function of the c and d. \n",
    "\n",
    "f is $\\beta$ and will be a function of e, a, and b. \n",
    "\n",
    "g is $\\lambda$ will be a function of e and f."
   ]
  },
  {
   "cell_type": "code",
   "execution_count": 45,
   "id": "622e56f7",
   "metadata": {
    "scrolled": true
   },
   "outputs": [
    {
     "data": {
      "text/latex": [
       "$\\displaystyle - 833.333333333333 \\sin{\\left(c - d \\right)} + 833.333333333333 \\sin{\\left(c - d + \\operatorname{atan}{\\left(\\frac{b}{a} \\right)} \\right)}$"
      ],
      "text/plain": [
       "-833.333333333333*sin(c - d) + 833.333333333333*sin(c - d + atan(b/a))"
      ]
     },
     "execution_count": 45,
     "metadata": {},
     "output_type": "execute_result"
    }
   ],
   "source": [
    "arctan = atan\n",
    "e = d - c  \n",
    "f = arctan( b / a) - e\n",
    "g = 10**6 * (1/1200) * (sin(e) + sin(f))\n",
    "simplify(g)"
   ]
  },
  {
   "cell_type": "code",
   "execution_count": 46,
   "id": "0dc57b0b",
   "metadata": {},
   "outputs": [
    {
     "name": "stdout",
     "output_type": "stream",
     "text": [
      "-833.333333333333*sin(c - d) + 833.333333333333*sin(c - d + atan(b/a))\n",
      "-833.333333333333*sin(c - d) + 833.333333333333*sin(c - d + atan(b/a))\n",
      "-833.333333333333*sin(c - d) + 833.333333333333*sin(c - d + atan(b/a))\n"
     ]
    },
    {
     "data": {
      "text/plain": [
       "[(510.28905792447017, 3.9222867714998655),\n",
       " (517.9946754817732, 3.887052352269225),\n",
       " (557.3517119714387, 3.4763810423286547)]"
      ]
     },
     "execution_count": 46,
     "metadata": {},
     "output_type": "execute_result"
    }
   ],
   "source": [
    "fun = g\n",
    "b_arr = [74.0, 75.5, 86.0]\n",
    "c_arr = np.pi * np.array([95+35/60, 95 + 25/60, 96 + 5/60]) / 180\n",
    "d_arr = np.pi * np.array([97+55/60, 98 + 10/60, 97 + 50/60]) / 180\n",
    "angle_unc = 5 * np.pi / ( 60 * 180 )\n",
    "output = [general({97.5:.7, b_arr[i]:.7, c_arr[i]:angle_unc, \n",
    "                d_arr[i]:angle_unc}, fun) for i in range(len(b_arr))]\n",
    "output"
   ]
  },
  {
   "cell_type": "code",
   "execution_count": 48,
   "id": "1d9a39f6",
   "metadata": {},
   "outputs": [
    {
     "data": {
      "text/plain": [
       "[(510.28905792447017, 3.9222867714998655),\n",
       " (517.9946754817732, 3.887052352269225),\n",
       " (557.3517119714387, 3.4763810423286547)]"
      ]
     },
     "execution_count": 48,
     "metadata": {},
     "output_type": "execute_result"
    }
   ],
   "source": [
    "output"
   ]
  },
  {
   "cell_type": "code",
   "execution_count": 54,
   "id": "81140c66",
   "metadata": {},
   "outputs": [
    {
     "data": {
      "text/plain": [
       "['distance from diffraction grating to red line on our piece of paper 97.5 \\\\pm 0.7 mm',\n",
       " '1200 lines/mm diffraction grating']"
      ]
     },
     "execution_count": 54,
     "metadata": {},
     "output_type": "execute_result"
    }
   ],
   "source": []
  },
  {
   "cell_type": "code",
   "execution_count": null,
   "id": "6948eabe",
   "metadata": {},
   "outputs": [],
   "source": [
    "    "
   ]
  },
  {
   "cell_type": "markdown",
   "id": "1d342e09",
   "metadata": {},
   "source": []
  },
  {
   "cell_type": "code",
   "execution_count": null,
   "id": "41013aee",
   "metadata": {},
   "outputs": [],
   "source": []
  },
  {
   "cell_type": "code",
   "execution_count": null,
   "id": "cf6c449f",
   "metadata": {},
   "outputs": [],
   "source": []
  },
  {
   "cell_type": "code",
   "execution_count": null,
   "id": "2d3d8223",
   "metadata": {},
   "outputs": [],
   "source": []
  },
  {
   "cell_type": "code",
   "execution_count": null,
   "id": "0959618e",
   "metadata": {},
   "outputs": [],
   "source": []
  },
  {
   "cell_type": "code",
   "execution_count": null,
   "id": "f760a4ca",
   "metadata": {},
   "outputs": [],
   "source": []
  },
  {
   "cell_type": "code",
   "execution_count": null,
   "id": "834b23bf",
   "metadata": {},
   "outputs": [],
   "source": []
  },
  {
   "cell_type": "code",
   "execution_count": null,
   "id": "b6544f9b",
   "metadata": {},
   "outputs": [],
   "source": []
  },
  {
   "cell_type": "code",
   "execution_count": null,
   "id": "b6175e65",
   "metadata": {},
   "outputs": [],
   "source": []
  },
  {
   "cell_type": "code",
   "execution_count": null,
   "id": "9153dd91",
   "metadata": {},
   "outputs": [],
   "source": []
  },
  {
   "cell_type": "code",
   "execution_count": null,
   "id": "6642b2ee",
   "metadata": {},
   "outputs": [],
   "source": []
  },
  {
   "cell_type": "markdown",
   "id": "31ea18bf",
   "metadata": {},
   "source": []
  }
 ],
 "metadata": {
  "kernelspec": {
   "display_name": "Python 3 (ipykernel)",
   "language": "python",
   "name": "python3"
  },
  "language_info": {
   "codemirror_mode": {
    "name": "ipython",
    "version": 3
   },
   "file_extension": ".py",
   "mimetype": "text/x-python",
   "name": "python",
   "nbconvert_exporter": "python",
   "pygments_lexer": "ipython3",
   "version": "3.9.13"
  },
  "latex_envs": {
   "LaTeX_envs_menu_present": true,
   "autoclose": false,
   "autocomplete": true,
   "bibliofile": "biblio.bib",
   "cite_by": "apalike",
   "current_citInitial": 1,
   "eqLabelWithNumbers": true,
   "eqNumInitial": 1,
   "hotkeys": {
    "equation": "Ctrl-E",
    "itemize": "Ctrl-I"
   },
   "labels_anchors": false,
   "latex_user_defs": false,
   "report_style_numbering": false,
   "user_envs_cfg": false
  },
  "toc": {
   "base_numbering": 1,
   "nav_menu": {},
   "number_sections": true,
   "sideBar": true,
   "skip_h1_title": false,
   "title_cell": "Table of Contents",
   "title_sidebar": "Contents",
   "toc_cell": false,
   "toc_position": {
    "height": "calc(100% - 180px)",
    "left": "10px",
    "top": "150px",
    "width": "165px"
   },
   "toc_section_display": true,
   "toc_window_display": true
  },
  "varInspector": {
   "cols": {
    "lenName": 16,
    "lenType": 16,
    "lenVar": 40
   },
   "kernels_config": {
    "python": {
     "delete_cmd_postfix": "",
     "delete_cmd_prefix": "del ",
     "library": "var_list.py",
     "varRefreshCmd": "print(var_dic_list())"
    },
    "r": {
     "delete_cmd_postfix": ") ",
     "delete_cmd_prefix": "rm(",
     "library": "var_list.r",
     "varRefreshCmd": "cat(var_dic_list()) "
    }
   },
   "types_to_exclude": [
    "module",
    "function",
    "builtin_function_or_method",
    "instance",
    "_Feature"
   ],
   "window_display": false
  }
 },
 "nbformat": 4,
 "nbformat_minor": 5
}
