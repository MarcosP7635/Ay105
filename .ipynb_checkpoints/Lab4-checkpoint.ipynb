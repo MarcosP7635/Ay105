{
 "cells": [
  {
   "cell_type": "markdown",
   "id": "72a3d558",
   "metadata": {},
   "source": [
    "\\section{5/2 Lecture Notes: Spectroscopy}\n",
    "Integral Field spectroscopy can also spatially resolve the spectra. \n",
    "\n",
    "Radio sources are useless without optical spectroscopy since you need to know how far the object is. \n",
    "\n",
    "Fourier transform of the time domain (path length) to get a spectrum.\n",
    "\n",
    "Phase velocity of light depends on the index of refraction $v = c/n$ and $n$ the index of refraction is wavelength dependent. \n",
    "\n",
    "Location of maxima and minima in n-slit experiment is dependent on wavelength. Depending what order you're looking at, $\\sin(\\theta_n) = n\\lambda_n/g$. \n",
    "\n",
    "Spatial resolution $A = \\lambda/\\Delta\\lambda=nN$ where $n$ is the diffraction order and $N$ is the number of slits. \n",
    "\n",
    "\n",
    "Blaze angle (at order 0 there is no wavelength resolution and that's also where most of the light is)\n",
    "so now we have light reflect off of saw tooth triangular cross sections of glass at an angle $\\theta_B$. Common blaze gratings are manufactured in what is called the Littrow configuration. (check out wikipedia). There will be a difference in phase, changing the interference, and the incoming light will then peak where desired.\n",
    "\n",
    "Measure the angle of outgoing light for the index of refraction. Index of refraction decreases with wavelength (1.62/1.60). Even with gloves don't touch the prism, and especially the grating. Don't force the slit to jaw together. Put a ruler in the photo.   \n",
    "\n",
    "##Lab Notes\n"
   ]
  },
  {
   "cell_type": "code",
   "execution_count": 35,
   "id": "e5bbf85c",
   "metadata": {},
   "outputs": [
    {
     "data": {
      "text/latex": [
       "$\\displaystyle \\hbar$"
      ],
      "text/plain": [
       "hbar"
      ]
     },
     "execution_count": 35,
     "metadata": {},
     "output_type": "execute_result"
    }
   ],
   "source": [
    "import numpy as np\n",
    "import matplotlib.pyplot as plt\n",
    "from astropy.io import fits\n",
    "import math\n",
    "from scipy.optimize import curve_fit\n",
    "import glob\n",
    "import os\n",
    "import sys\n",
    "import matplotlib.backends.backend_pdf\n",
    "import matplotlib.gridspec as gridspec\n",
    "from scipy.stats import norm\n",
    "from scipy.stats import lognorm\n",
    "from scipy import linalg\n",
    "import pprint\n",
    "import re\n",
    "plt.rc('font', family='serif')\n",
    "from matplotlib import rc\n",
    "import pandas as pd\n",
    "from astropy import constants as const\n",
    "from astropy import units as units\n",
    "from IPython.display import Markdown as md\n",
    "import sympy\n",
    "import pandas\n",
    "from sympy import integrate, diff, sqrt, cos, sin, pi, exp, log\n",
    "from sympy.abc import * \n",
    "i = sqrt(-1)\n",
    "import numpy as np\n",
    "import sympy.printing as printing\n",
    "latp = printing.latex\n",
    "hbar = sympy.symbols(\"hbar\", real=True)\n",
    "import mpmath \n",
    "import plotly.express as px\n",
    "import plotly.graph_objs as go\n",
    "Whbar"
   ]
  },
  {
   "cell_type": "markdown",
   "id": "3e205253",
   "metadata": {},
   "source": [
    "We now follow the directions in the background for the following derivations.\n",
    "\\begin{align}\n",
    "&\\text{Grating Equation}\\quad\\ m\\lambda\\frac{1}{a} = \\sin\\alpha\\pm\\sin\\beta\\\\\n",
    "&\\text{Since we use a reflective grating}\\quad\\ m\\lambda\\frac{1}{a} = \\sin\\alpha+\\sin\\beta\\\\ \n",
    "&\\text{Taking the partial derivative with respect to }\\lambda\\quad\\  \n",
    "\\frac{m}{a} = \\frac{\\partial \\beta}{\\partial \\lambda}\\cos\\beta\\\\ \n",
    "&\\text{Rearranging}\\quad\\  \\frac{m}{a\\cos\\beta} = \\frac{\\partial \\beta}{\\partial \\lambda}\\\\\n",
    "&\\text{Rearranging the grating Equation}\\quad\\ \\lambda = \\frac{a}{m}(\\sin\\alpha+\\sin\\beta)\\\\\n",
    "&\\text{Multiplying the above two lines}\\quad\\  \\frac{m}{a\\cos\\beta}\\frac{a}{m}(\\sin\\alpha+\\sin\\beta) = \\lambda\\frac{\\partial \\beta}{\\partial \\lambda}\\\\\n",
    "&\\text{Simplifying the left side}\\quad\\  \\frac{\\sin\\alpha+\\sin\\beta}{\\cos\\beta } = \\lambda\\frac{\\partial \\beta}{\\partial \\lambda}\\\\\n",
    "&\\text{Since }\\alpha -2\\theta=\\beta \\quad\\ \\frac{\\sin(\\beta+2\\theta)+\\sin\\beta}{\\cos\\beta } = \\lambda\\frac{\\partial \\beta}{\\partial \\lambda}\\\\\n",
    "&\\text{Simplifying and substituting tangent}\\quad\\ \\frac{\\sin(\\beta+2\\theta)}{\\cos\\beta } + \\tan( \\beta) = \\lambda\\frac{\\partial \\beta}{\\partial \\lambda}\\\\\n",
    "&\\text{Since }\\sin(a+b)= \\sin(a)\\cos(b)+\\cos(a)\\sin(b)\\quad\\ \\frac{\\sin(2\\theta)\\cos(\\beta)+\\cos(2\\theta)\\sin(\\beta)}{\\cos\\beta } + \\tan( \\beta) = \\lambda\\frac{\\partial \\beta}{\\partial \\lambda}\\\\\n",
    "&\\text{Simplifying and factoring}\\quad\\  \n",
    "\\sin(2\\theta) + \\tan( \\beta)(1+\\cos(2\\theta)) = \\lambda\\frac{\\partial \\beta}{\\partial \\lambda}\\\\ \n",
    "&\\text{Since }2\\cos^2(\\theta)-1=\\cos(2\\theta)\\quad\\ \n",
    "\\sin(2\\theta) + 2\\tan(\\beta)\\cos^2(\\theta) = \\lambda\\frac{\\partial \\beta}{\\partial \\lambda}\\\\ \n",
    "&\\blacksquare\\nonumber\n",
    "\\end{align}"
   ]
  },
  {
   "cell_type": "markdown",
   "id": "0c435be3",
   "metadata": {},
   "source": [
    "Returning to the differentiated equation and solving for $\\alpha$\n",
    "\\begin{align}\n",
    "&\\text{Differentiated Equation}\\quad\\ \\frac{m}{a\\cos\\beta} = \\frac{\\partial \\beta}{\\partial \\lambda}\\\\\n",
    "&\\text{Since }\\beta = \\alpha-2\\theta \\text{and using our earlier result} \\quad\\ \\frac{m}{a\\cos(\\alpha-2\\beta)} = \\frac{\\sin(2\\theta) + 2\\tan(\\beta)\\cos^2(\\theta)}{\\lambda}\\\\\n",
    "&\\text{Rearranging}\\quad\\ \n",
    "\\frac{m\\lambda}{a(\\sin(2\\theta) + 2\\tan(\\beta)\\cos^2(\\theta))} = \\cos(\\alpha-2\\beta)\\\\\n",
    "&\\text{Solving for }\\alpha\\quad\\  \n",
    "\\arccos\\left(\\frac{m\\lambda}{a(\\sin(2\\theta) + 2\\tan(\\beta)\\cos^2(\\theta))}\\right)+2\\beta = \\alpha\\\\\n",
    "\\end{align}"
   ]
  },
  {
   "cell_type": "code",
   "execution_count": 7,
   "id": "1a147247",
   "metadata": {},
   "outputs": [
    {
     "name": "stdout",
     "output_type": "stream",
     "text": [
      "2.1459505607619285\n",
      "3.0730730555044836\n",
      "3.3370598254672865\n",
      "(a + 2)/(a + b*cos(pi*c/45))\n",
      "(3.50656581341894, 1.8267621151828408)\n"
     ]
    }
   ],
   "source": [
    "from error_propagation import *"
   ]
  },
  {
   "cell_type": "code",
   "execution_count": 11,
   "id": "9e227296",
   "metadata": {},
   "outputs": [
    {
     "data": {
      "text/plain": [
       "(<function error_propagation.general(dict, fun)>,)"
      ]
     },
     "execution_count": 11,
     "metadata": {},
     "output_type": "execute_result"
    }
   ],
   "source": [
    "arctan = atan\n",
    "general, "
   ]
  },
  {
   "cell_type": "code",
   "execution_count": 32,
   "id": "d13d3131",
   "metadata": {
    "scrolled": true
   },
   "outputs": [
    {
     "data": {
      "text/html": [
       "<div>\n",
       "<style scoped>\n",
       "    .dataframe tbody tr th:only-of-type {\n",
       "        vertical-align: middle;\n",
       "    }\n",
       "\n",
       "    .dataframe tbody tr th {\n",
       "        vertical-align: top;\n",
       "    }\n",
       "\n",
       "    .dataframe thead th {\n",
       "        text-align: right;\n",
       "    }\n",
       "</style>\n",
       "<table border=\"1\" class=\"dataframe\">\n",
       "  <thead>\n",
       "    <tr style=\"text-align: right;\">\n",
       "      <th></th>\n",
       "      <th>Slit Width Microns</th>\n",
       "      <th>Separation Between Each Line (mm) on Screen</th>\n",
       "      <th>Rotational Stage Reading When Blazed</th>\n",
       "      <th>Rotational stage reading when the diffraction grating is normal to the beam</th>\n",
       "      <th>Brighter Further Line Separation From Incoming Beam</th>\n",
       "      <th>Dimmer Closer Line Separation From Incoming Beam</th>\n",
       "    </tr>\n",
       "  </thead>\n",
       "  <tbody>\n",
       "    <tr>\n",
       "      <th>0</th>\n",
       "      <td>15</td>\n",
       "      <td>5 mm \\pm .5 mm</td>\n",
       "      <td>97 degrees 55 arcminutes \\pm 5 arcminutes</td>\n",
       "      <td>95 degrees 35 arcminutes \\pm 5 arcminutes</td>\n",
       "      <td>74 \\pm .7 mm</td>\n",
       "      <td>64 \\pm .7 mm</td>\n",
       "    </tr>\n",
       "    <tr>\n",
       "      <th>1</th>\n",
       "      <td>19.5</td>\n",
       "      <td>5 cm \\pm 0.5 mm</td>\n",
       "      <td>98 degrees 10 arcminutes</td>\n",
       "      <td>95 degrees 25 arcminutes \\pm 5 arcminutes</td>\n",
       "      <td>75.5 mm \\pm 0.7mm</td>\n",
       "      <td>70.0 mm \\pm 0.7 mm</td>\n",
       "    </tr>\n",
       "    <tr>\n",
       "      <th>2</th>\n",
       "      <td>8 \\pm 0.5</td>\n",
       "      <td>Not Recorded</td>\n",
       "      <td>97 degrees and 50 arcminutes \\pm 5 arcminutes</td>\n",
       "      <td>96 degrees and 5 arcminutes \\pm 5 arcminutes</td>\n",
       "      <td>86.0 mm \\pm 0.7 mm</td>\n",
       "      <td>76.5 mm \\pm 0.7 mm</td>\n",
       "    </tr>\n",
       "  </tbody>\n",
       "</table>\n",
       "</div>"
      ],
      "text/plain": [
       "  Slit Width Microns Separation Between Each Line (mm) on Screen  \\\n",
       "0                 15                              5 mm \\pm .5 mm   \n",
       "1               19.5                             5 cm \\pm 0.5 mm   \n",
       "2          8 \\pm 0.5                                Not Recorded   \n",
       "\n",
       "            Rotational Stage Reading When Blazed  \\\n",
       "0      97 degrees 55 arcminutes \\pm 5 arcminutes   \n",
       "1                       98 degrees 10 arcminutes   \n",
       "2  97 degrees and 50 arcminutes \\pm 5 arcminutes   \n",
       "\n",
       "  Rotational stage reading when the diffraction grating is normal to the beam  \\\n",
       "0          95 degrees 35 arcminutes \\pm 5 arcminutes                            \n",
       "1          95 degrees 25 arcminutes \\pm 5 arcminutes                            \n",
       "2       96 degrees and 5 arcminutes \\pm 5 arcminutes                            \n",
       "\n",
       "  Brighter Further Line Separation From Incoming Beam  \\\n",
       "0                                       74 \\pm .7 mm    \n",
       "1                                  75.5 mm \\pm 0.7mm    \n",
       "2                                 86.0 mm \\pm 0.7 mm    \n",
       "\n",
       "  Dimmer Closer Line Separation From Incoming Beam  \n",
       "0                                     64 \\pm .7 mm  \n",
       "1                               70.0 mm \\pm 0.7 mm  \n",
       "2                               76.5 mm \\pm 0.7 mm  "
      ]
     },
     "execution_count": 32,
     "metadata": {},
     "output_type": "execute_result"
    }
   ],
   "source": [
    "data = pd.read_csv(\"lab4 - The Cooler First Order.csv\")\n",
    "data, end_of_data = data.iloc[:3,:], data.iloc[3:,:]\n",
    "data"
   ]
  },
  {
   "cell_type": "code",
   "execution_count": 34,
   "id": "5267222e",
   "metadata": {},
   "outputs": [
    {
     "data": {
      "text/plain": [
       "[nan,\n",
       " 'distance from diffraction grating to red line on our piece of paper 97.5 \\\\pm 0.7 mm',\n",
       " nan,\n",
       " '1200 lines/mm diffraction grating']"
      ]
     },
     "execution_count": 34,
     "metadata": {},
     "output_type": "execute_result"
    }
   ],
   "source": [
    "end_of_data = [x for x in end_of_data.iloc[:,0] if len(str(x))>0]\n",
    "end_of_data"
   ]
  },
  {
   "cell_type": "markdown",
   "id": "e00b21cf",
   "metadata": {},
   "source": []
  },
  {
   "cell_type": "code",
   "execution_count": null,
   "id": "745500ab",
   "metadata": {},
   "outputs": [],
   "source": []
  },
  {
   "cell_type": "code",
   "execution_count": null,
   "id": "b58a4a9c",
   "metadata": {},
   "outputs": [],
   "source": []
  },
  {
   "cell_type": "code",
   "execution_count": null,
   "id": "a52afef8",
   "metadata": {},
   "outputs": [],
   "source": []
  },
  {
   "cell_type": "code",
   "execution_count": null,
   "id": "9499ab08",
   "metadata": {},
   "outputs": [],
   "source": []
  },
  {
   "cell_type": "code",
   "execution_count": null,
   "id": "2cb8b8b9",
   "metadata": {},
   "outputs": [],
   "source": []
  },
  {
   "cell_type": "code",
   "execution_count": null,
   "id": "778e2797",
   "metadata": {},
   "outputs": [],
   "source": []
  },
  {
   "cell_type": "code",
   "execution_count": null,
   "id": "55672fed",
   "metadata": {},
   "outputs": [],
   "source": []
  },
  {
   "cell_type": "code",
   "execution_count": null,
   "id": "ff31b8d3",
   "metadata": {},
   "outputs": [],
   "source": []
  },
  {
   "cell_type": "code",
   "execution_count": null,
   "id": "d868ec42",
   "metadata": {},
   "outputs": [],
   "source": []
  },
  {
   "cell_type": "code",
   "execution_count": null,
   "id": "c609ac8a",
   "metadata": {},
   "outputs": [],
   "source": []
  },
  {
   "cell_type": "markdown",
   "id": "e83df3a4",
   "metadata": {},
   "source": []
  }
 ],
 "metadata": {
  "kernelspec": {
   "display_name": "Python 3 (ipykernel)",
   "language": "python",
   "name": "python3"
  },
  "language_info": {
   "codemirror_mode": {
    "name": "ipython",
    "version": 3
   },
   "file_extension": ".py",
   "mimetype": "text/x-python",
   "name": "python",
   "nbconvert_exporter": "python",
   "pygments_lexer": "ipython3",
   "version": "3.9.13"
  },
  "latex_envs": {
   "LaTeX_envs_menu_present": true,
   "autoclose": false,
   "autocomplete": true,
   "bibliofile": "biblio.bib",
   "cite_by": "apalike",
   "current_citInitial": 1,
   "eqLabelWithNumbers": true,
   "eqNumInitial": 1,
   "hotkeys": {
    "equation": "Ctrl-E",
    "itemize": "Ctrl-I"
   },
   "labels_anchors": false,
   "latex_user_defs": false,
   "report_style_numbering": false,
   "user_envs_cfg": false
  },
  "toc": {
   "base_numbering": 1,
   "nav_menu": {},
   "number_sections": true,
   "sideBar": true,
   "skip_h1_title": false,
   "title_cell": "Table of Contents",
   "title_sidebar": "Contents",
   "toc_cell": false,
   "toc_position": {
    "height": "calc(100% - 180px)",
    "left": "10px",
    "top": "150px",
    "width": "165px"
   },
   "toc_section_display": true,
   "toc_window_display": true
  },
  "varInspector": {
   "cols": {
    "lenName": 16,
    "lenType": 16,
    "lenVar": 40
   },
   "kernels_config": {
    "python": {
     "delete_cmd_postfix": "",
     "delete_cmd_prefix": "del ",
     "library": "var_list.py",
     "varRefreshCmd": "print(var_dic_list())"
    },
    "r": {
     "delete_cmd_postfix": ") ",
     "delete_cmd_prefix": "rm(",
     "library": "var_list.r",
     "varRefreshCmd": "cat(var_dic_list()) "
    }
   },
   "types_to_exclude": [
    "module",
    "function",
    "builtin_function_or_method",
    "instance",
    "_Feature"
   ],
   "window_display": false
  }
 },
 "nbformat": 4,
 "nbformat_minor": 5
}
