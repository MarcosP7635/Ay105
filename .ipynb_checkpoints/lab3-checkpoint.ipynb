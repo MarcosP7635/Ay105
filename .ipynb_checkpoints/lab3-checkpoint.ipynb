{
 "cells": [
  {
   "cell_type": "code",
   "execution_count": 1,
   "id": "88b643bc",
   "metadata": {
    "ExecuteTime": {
     "end_time": "2023-06-18T02:30:55.285187Z",
     "start_time": "2023-06-18T02:30:51.322968Z"
    }
   },
   "outputs": [
    {
     "data": {
      "text/latex": [
       "$\\displaystyle \\hbar$"
      ],
      "text/plain": [
       "hbar"
      ]
     },
     "execution_count": 1,
     "metadata": {},
     "output_type": "execute_result"
    }
   ],
   "source": [
    "import numpy as np\n",
    "import matplotlib.pyplot as plt\n",
    "from astropy.io import fits\n",
    "import math\n",
    "from scipy.optimize import curve_fit\n",
    "import glob\n",
    "import os\n",
    "import sys\n",
    "import matplotlib.backends.backend_pdf\n",
    "import matplotlib.gridspec as gridspec\n",
    "from scipy.stats import norm\n",
    "from scipy.stats import lognorm\n",
    "from scipy import linalg\n",
    "import pprint\n",
    "import re\n",
    "plt.rc('font', family='serif')\n",
    "from matplotlib import rc\n",
    "import pandas as pd\n",
    "from astropy import constants as const\n",
    "from astropy import units as units\n",
    "from IPython.display import Markdown as md\n",
    "import sympy\n",
    "import pandas\n",
    "from sympy import integrate, diff, sqrt, cos, sin, pi, exp, log\n",
    "from sympy.abc import * \n",
    "i = sqrt(-1)\n",
    "import numpy as np\n",
    "import sympy.printing as printing\n",
    "latp = printing.latex\n",
    "hbar = sympy.symbols(\"hbar\", real=True)\n",
    "import mpmath \n",
    "import plotly.express as px\n",
    "import plotly.graph_objs as go\n",
    "hbar"
   ]
  },
  {
   "cell_type": "code",
   "execution_count": 2,
   "id": "cf6b9e2d",
   "metadata": {
    "ExecuteTime": {
     "end_time": "2023-06-18T02:30:55.427740Z",
     "start_time": "2023-06-18T02:30:55.285187Z"
    }
   },
   "outputs": [
    {
     "name": "stdout",
     "output_type": "stream",
     "text": [
      "2.1459505607619285\n",
      "3.0730730555044836\n",
      "3.3370598254672865\n",
      "(a + 2)/(a + b*cos(pi*c/45))\n",
      "(3.50656581341894, 1.8267621151828408)\n"
     ]
    }
   ],
   "source": [
    "from error_propagation import *"
   ]
  },
  {
   "cell_type": "markdown",
   "id": "89a7d78a",
   "metadata": {},
   "source": [
    "The above output is correct"
   ]
  },
  {
   "cell_type": "code",
   "execution_count": 3,
   "id": "29f594a8",
   "metadata": {
    "ExecuteTime": {
     "end_time": "2023-06-18T02:30:55.459926Z",
     "start_time": "2023-06-18T02:30:55.430066Z"
    }
   },
   "outputs": [
    {
     "data": {
      "text/html": [
       "<div>\n",
       "<style scoped>\n",
       "    .dataframe tbody tr th:only-of-type {\n",
       "        vertical-align: middle;\n",
       "    }\n",
       "\n",
       "    .dataframe tbody tr th {\n",
       "        vertical-align: top;\n",
       "    }\n",
       "\n",
       "    .dataframe thead th {\n",
       "        text-align: right;\n",
       "    }\n",
       "</style>\n",
       "<table border=\"1\" class=\"dataframe\">\n",
       "  <thead>\n",
       "    <tr style=\"text-align: right;\">\n",
       "      <th></th>\n",
       "      <th>Unnamed: 0</th>\n",
       "      <th>Part 2: Wavelength of Laser</th>\n",
       "      <th>Unnamed: 2</th>\n",
       "      <th>Unnamed: 3</th>\n",
       "      <th>Unnamed: 4</th>\n",
       "      <th>Unnamed: 5</th>\n",
       "      <th>Unnamed: 6</th>\n",
       "    </tr>\n",
       "  </thead>\n",
       "  <tbody>\n",
       "    <tr>\n",
       "      <th>0</th>\n",
       "      <td>NaN</td>\n",
       "      <td>Count of min (\\pm sqrt) [LEFT]</td>\n",
       "      <td>Count of min (\\pm sqrt) [RIGHT]</td>\n",
       "      <td>\\Delta s \\pm .5 um</td>\n",
       "      <td>\\n+x towards wall on left when walking in,+y a...</td>\n",
       "      <td>NaN</td>\n",
       "      <td>NaN</td>\n",
       "    </tr>\n",
       "    <tr>\n",
       "      <th>1</th>\n",
       "      <td>NaN</td>\n",
       "      <td>30</td>\n",
       "      <td>30</td>\n",
       "      <td>10.5</td>\n",
       "      <td>NaN</td>\n",
       "      <td>after the first measurement we moved the scree...</td>\n",
       "      <td>NaN</td>\n",
       "    </tr>\n",
       "    <tr>\n",
       "      <th>2</th>\n",
       "      <td>NaN</td>\n",
       "      <td>34</td>\n",
       "      <td>34</td>\n",
       "      <td>10.5</td>\n",
       "      <td>NaN</td>\n",
       "      <td>every delta s should be 10.5</td>\n",
       "      <td>NaN</td>\n",
       "    </tr>\n",
       "    <tr>\n",
       "      <th>3</th>\n",
       "      <td>NaN</td>\n",
       "      <td>35</td>\n",
       "      <td>35</td>\n",
       "      <td>11.5</td>\n",
       "      <td>NaN</td>\n",
       "      <td>red laser!</td>\n",
       "      <td>in reality it is green</td>\n",
       "    </tr>\n",
       "    <tr>\n",
       "      <th>4</th>\n",
       "      <td>NaN</td>\n",
       "      <td>50</td>\n",
       "      <td>51?</td>\n",
       "      <td>16.5</td>\n",
       "      <td>NaN</td>\n",
       "      <td>error in counts is sqrt n because standard dev...</td>\n",
       "      <td>NaN</td>\n",
       "    </tr>\n",
       "    <tr>\n",
       "      <th>5</th>\n",
       "      <td>NaN</td>\n",
       "      <td>50</td>\n",
       "      <td>51?</td>\n",
       "      <td>17</td>\n",
       "      <td>NaN</td>\n",
       "      <td>make sure phase shift is in the right units an...</td>\n",
       "      <td>NaN</td>\n",
       "    </tr>\n",
       "    <tr>\n",
       "      <th>6</th>\n",
       "      <td>NaN</td>\n",
       "      <td>47</td>\n",
       "      <td>49</td>\n",
       "      <td>17</td>\n",
       "      <td>NaN</td>\n",
       "      <td>jonah counted 49 for the right projection</td>\n",
       "      <td>NaN</td>\n",
       "    </tr>\n",
       "    <tr>\n",
       "      <th>7</th>\n",
       "      <td>NaN</td>\n",
       "      <td>80</td>\n",
       "      <td>80</td>\n",
       "      <td>22.5</td>\n",
       "      <td>NaN</td>\n",
       "      <td>note: limited by the setup. the last measureme...</td>\n",
       "      <td>NaN</td>\n",
       "    </tr>\n",
       "    <tr>\n",
       "      <th>8</th>\n",
       "      <td>trust the arcminutes!</td>\n",
       "      <td>NaN</td>\n",
       "      <td>NaN</td>\n",
       "      <td>NaN</td>\n",
       "      <td>NaN</td>\n",
       "      <td>counting fringes corresponds to change in path...</td>\n",
       "      <td>NaN</td>\n",
       "    </tr>\n",
       "    <tr>\n",
       "      <th>9</th>\n",
       "      <td>start angle (degrees, arcmin if known)</td>\n",
       "      <td>Part III: Refractive Index</td>\n",
       "      <td>using thorlabs cr1 rotational stage</td>\n",
       "      <td>\\pm 1 because human eyeballs and small tick marks</td>\n",
       "      <td>NaN</td>\n",
       "      <td>lots of realigning. Jonah and Carlos have pict...</td>\n",
       "      <td>NaN</td>\n",
       "    </tr>\n",
       "    <tr>\n",
       "      <th>10</th>\n",
       "      <td>NaN</td>\n",
       "      <td>Count of min (\\pm sqrt) [LEFT]</td>\n",
       "      <td>Count of min (\\pm sqrt) [RIGHT]</td>\n",
       "      <td>top number (angle degrees)</td>\n",
       "      <td>bottom number (arcminutes)</td>\n",
       "      <td>plexiglass should be co-rotating</td>\n",
       "      <td>NaN</td>\n",
       "    </tr>\n",
       "    <tr>\n",
       "      <th>11</th>\n",
       "      <td>0</td>\n",
       "      <td>8</td>\n",
       "      <td>8</td>\n",
       "      <td>2</td>\n",
       "      <td>?</td>\n",
       "      <td>t is the thickness of the plexiglass</td>\n",
       "      <td>NaN</td>\n",
       "    </tr>\n",
       "    <tr>\n",
       "      <th>12</th>\n",
       "      <td>-0.5</td>\n",
       "      <td>13</td>\n",
       "      <td>14-15</td>\n",
       "      <td>3</td>\n",
       "      <td>25</td>\n",
       "      <td>get the part number of the rotational stage</td>\n",
       "      <td>NaN</td>\n",
       "    </tr>\n",
       "    <tr>\n",
       "      <th>13</th>\n",
       "      <td>-0.5, -10</td>\n",
       "      <td>15</td>\n",
       "      <td>15</td>\n",
       "      <td>2</td>\n",
       "      <td>20</td>\n",
       "      <td>THROUGHOUT THIS SHEET WE ARE COUNTING THE NUMB...</td>\n",
       "      <td>NaN</td>\n",
       "    </tr>\n",
       "    <tr>\n",
       "      <th>14</th>\n",
       "      <td>0, -10</td>\n",
       "      <td>17</td>\n",
       "      <td>17</td>\n",
       "      <td>3</td>\n",
       "      <td>35</td>\n",
       "      <td>NaN</td>\n",
       "      <td>NaN</td>\n",
       "    </tr>\n",
       "    <tr>\n",
       "      <th>15</th>\n",
       "      <td>0, -5</td>\n",
       "      <td>16</td>\n",
       "      <td>16</td>\n",
       "      <td>3</td>\n",
       "      <td>30</td>\n",
       "      <td>NaN</td>\n",
       "      <td>NaN</td>\n",
       "    </tr>\n",
       "    <tr>\n",
       "      <th>16</th>\n",
       "      <td>NaN</td>\n",
       "      <td>NaN</td>\n",
       "      <td>NaN</td>\n",
       "      <td>NaN</td>\n",
       "      <td>NaN</td>\n",
       "      <td>NaN</td>\n",
       "      <td>NaN</td>\n",
       "    </tr>\n",
       "    <tr>\n",
       "      <th>17</th>\n",
       "      <td>Part IV</td>\n",
       "      <td>NaN</td>\n",
       "      <td>NaN</td>\n",
       "      <td>NaN</td>\n",
       "      <td>NaN</td>\n",
       "      <td>NaN</td>\n",
       "      <td>NaN</td>\n",
       "    </tr>\n",
       "    <tr>\n",
       "      <th>18</th>\n",
       "      <td>just write down your expectations. couldn't ge...</td>\n",
       "      <td>NaN</td>\n",
       "      <td>NaN</td>\n",
       "      <td>NaN</td>\n",
       "      <td>NaN</td>\n",
       "      <td>NaN</td>\n",
       "      <td>NaN</td>\n",
       "    </tr>\n",
       "  </tbody>\n",
       "</table>\n",
       "</div>"
      ],
      "text/plain": [
       "                                           Unnamed: 0  \\\n",
       "0                                                 NaN   \n",
       "1                                                 NaN   \n",
       "2                                                 NaN   \n",
       "3                                                 NaN   \n",
       "4                                                 NaN   \n",
       "5                                                 NaN   \n",
       "6                                                 NaN   \n",
       "7                                                 NaN   \n",
       "8                               trust the arcminutes!   \n",
       "9              start angle (degrees, arcmin if known)   \n",
       "10                                                NaN   \n",
       "11                                                  0   \n",
       "12                                               -0.5   \n",
       "13                                          -0.5, -10   \n",
       "14                                             0, -10   \n",
       "15                                              0, -5   \n",
       "16                                                NaN   \n",
       "17                                            Part IV   \n",
       "18  just write down your expectations. couldn't ge...   \n",
       "\n",
       "       Part 2: Wavelength of Laser                           Unnamed: 2  \\\n",
       "0   Count of min (\\pm sqrt) [LEFT]      Count of min (\\pm sqrt) [RIGHT]   \n",
       "1                               30                                   30   \n",
       "2                               34                                   34   \n",
       "3                               35                                   35   \n",
       "4                               50                                  51?   \n",
       "5                               50                                  51?   \n",
       "6                               47                                   49   \n",
       "7                               80                                   80   \n",
       "8                              NaN                                  NaN   \n",
       "9       Part III: Refractive Index  using thorlabs cr1 rotational stage   \n",
       "10  Count of min (\\pm sqrt) [LEFT]      Count of min (\\pm sqrt) [RIGHT]   \n",
       "11                               8                                    8   \n",
       "12                              13                                14-15   \n",
       "13                              15                                   15   \n",
       "14                              17                                   17   \n",
       "15                              16                                   16   \n",
       "16                             NaN                                  NaN   \n",
       "17                             NaN                                  NaN   \n",
       "18                             NaN                                  NaN   \n",
       "\n",
       "                                           Unnamed: 3  \\\n",
       "0                                  \\Delta s \\pm .5 um   \n",
       "1                                                10.5   \n",
       "2                                                10.5   \n",
       "3                                                11.5   \n",
       "4                                                16.5   \n",
       "5                                                  17   \n",
       "6                                                  17   \n",
       "7                                                22.5   \n",
       "8                                                 NaN   \n",
       "9   \\pm 1 because human eyeballs and small tick marks   \n",
       "10                         top number (angle degrees)   \n",
       "11                                                  2   \n",
       "12                                                  3   \n",
       "13                                                  2   \n",
       "14                                                  3   \n",
       "15                                                  3   \n",
       "16                                                NaN   \n",
       "17                                                NaN   \n",
       "18                                                NaN   \n",
       "\n",
       "                                           Unnamed: 4  \\\n",
       "0   \\n+x towards wall on left when walking in,+y a...   \n",
       "1                                                 NaN   \n",
       "2                                                 NaN   \n",
       "3                                                 NaN   \n",
       "4                                                 NaN   \n",
       "5                                                 NaN   \n",
       "6                                                 NaN   \n",
       "7                                                 NaN   \n",
       "8                                                 NaN   \n",
       "9                                                 NaN   \n",
       "10                         bottom number (arcminutes)   \n",
       "11                                                  ?   \n",
       "12                                                 25   \n",
       "13                                                 20   \n",
       "14                                                 35   \n",
       "15                                                 30   \n",
       "16                                                NaN   \n",
       "17                                                NaN   \n",
       "18                                                NaN   \n",
       "\n",
       "                                           Unnamed: 5              Unnamed: 6  \n",
       "0                                                 NaN                     NaN  \n",
       "1   after the first measurement we moved the scree...                     NaN  \n",
       "2                        every delta s should be 10.5                     NaN  \n",
       "3                                          red laser!  in reality it is green  \n",
       "4   error in counts is sqrt n because standard dev...                     NaN  \n",
       "5   make sure phase shift is in the right units an...                     NaN  \n",
       "6           jonah counted 49 for the right projection                     NaN  \n",
       "7   note: limited by the setup. the last measureme...                     NaN  \n",
       "8   counting fringes corresponds to change in path...                     NaN  \n",
       "9   lots of realigning. Jonah and Carlos have pict...                     NaN  \n",
       "10                  plexiglass should be co-rotating                      NaN  \n",
       "11               t is the thickness of the plexiglass                     NaN  \n",
       "12        get the part number of the rotational stage                     NaN  \n",
       "13  THROUGHOUT THIS SHEET WE ARE COUNTING THE NUMB...                     NaN  \n",
       "14                                                NaN                     NaN  \n",
       "15                                                NaN                     NaN  \n",
       "16                                                NaN                     NaN  \n",
       "17                                                NaN                     NaN  \n",
       "18                                                NaN                     NaN  "
      ]
     },
     "execution_count": 3,
     "metadata": {},
     "output_type": "execute_result"
    }
   ],
   "source": [
    "raw_data = pd.read_csv(glob.os.getcwd() + \"\\\\ay105lab3.csv\")\n",
    "raw_data"
   ]
  },
  {
   "cell_type": "markdown",
   "id": "41c8eaea",
   "metadata": {},
   "source": [
    "# Part 2"
   ]
  },
  {
   "cell_type": "code",
   "execution_count": 4,
   "id": "a2ed4f52",
   "metadata": {
    "ExecuteTime": {
     "end_time": "2023-06-18T02:30:55.475959Z",
     "start_time": "2023-06-18T02:30:55.460530Z"
    }
   },
   "outputs": [
    {
     "data": {
      "text/html": [
       "<div>\n",
       "<style scoped>\n",
       "    .dataframe tbody tr th:only-of-type {\n",
       "        vertical-align: middle;\n",
       "    }\n",
       "\n",
       "    .dataframe tbody tr th {\n",
       "        vertical-align: top;\n",
       "    }\n",
       "\n",
       "    .dataframe thead th {\n",
       "        text-align: right;\n",
       "    }\n",
       "</style>\n",
       "<table border=\"1\" class=\"dataframe\">\n",
       "  <thead>\n",
       "    <tr style=\"text-align: right;\">\n",
       "      <th></th>\n",
       "      <th>Count of min (\\pm sqrt) [LEFT]</th>\n",
       "      <th>Count of min (\\pm sqrt) [RIGHT]</th>\n",
       "      <th>\\Delta s \\pm .5 um</th>\n",
       "    </tr>\n",
       "  </thead>\n",
       "  <tbody>\n",
       "    <tr>\n",
       "      <th>1</th>\n",
       "      <td>30</td>\n",
       "      <td>30</td>\n",
       "      <td>10.5</td>\n",
       "    </tr>\n",
       "    <tr>\n",
       "      <th>2</th>\n",
       "      <td>34</td>\n",
       "      <td>34</td>\n",
       "      <td>10.5</td>\n",
       "    </tr>\n",
       "    <tr>\n",
       "      <th>3</th>\n",
       "      <td>35</td>\n",
       "      <td>35</td>\n",
       "      <td>11.5</td>\n",
       "    </tr>\n",
       "    <tr>\n",
       "      <th>4</th>\n",
       "      <td>50</td>\n",
       "      <td>51?</td>\n",
       "      <td>16.5</td>\n",
       "    </tr>\n",
       "    <tr>\n",
       "      <th>5</th>\n",
       "      <td>50</td>\n",
       "      <td>51?</td>\n",
       "      <td>17</td>\n",
       "    </tr>\n",
       "    <tr>\n",
       "      <th>6</th>\n",
       "      <td>47</td>\n",
       "      <td>49</td>\n",
       "      <td>17</td>\n",
       "    </tr>\n",
       "    <tr>\n",
       "      <th>7</th>\n",
       "      <td>80</td>\n",
       "      <td>80</td>\n",
       "      <td>22.5</td>\n",
       "    </tr>\n",
       "  </tbody>\n",
       "</table>\n",
       "</div>"
      ],
      "text/plain": [
       "0 Count of min (\\pm sqrt) [LEFT] Count of min (\\pm sqrt) [RIGHT]  \\\n",
       "1                             30                              30   \n",
       "2                             34                              34   \n",
       "3                             35                              35   \n",
       "4                             50                             51?   \n",
       "5                             50                             51?   \n",
       "6                             47                              49   \n",
       "7                             80                              80   \n",
       "\n",
       "0 \\Delta s \\pm .5 um  \n",
       "1               10.5  \n",
       "2               10.5  \n",
       "3               11.5  \n",
       "4               16.5  \n",
       "5                 17  \n",
       "6                 17  \n",
       "7               22.5  "
      ]
     },
     "execution_count": 4,
     "metadata": {},
     "output_type": "execute_result"
    }
   ],
   "source": [
    "part2_df = raw_data.iloc[1:8,1:4]\n",
    "#raw_data.iloc[0, 5:] = [\"comments\" for x in range(raw_data.shape[1]-5)]\n",
    "part2_df.columns = raw_data.iloc[0,1:4]\n",
    "part2_df"
   ]
  },
  {
   "cell_type": "code",
   "execution_count": 5,
   "id": "43f890f6",
   "metadata": {
    "ExecuteTime": {
     "end_time": "2023-06-18T02:30:55.491629Z",
     "start_time": "2023-06-18T02:30:55.475959Z"
    }
   },
   "outputs": [
    {
     "data": {
      "text/html": [
       "<div>\n",
       "<style scoped>\n",
       "    .dataframe tbody tr th:only-of-type {\n",
       "        vertical-align: middle;\n",
       "    }\n",
       "\n",
       "    .dataframe tbody tr th {\n",
       "        vertical-align: top;\n",
       "    }\n",
       "\n",
       "    .dataframe thead th {\n",
       "        text-align: right;\n",
       "    }\n",
       "</style>\n",
       "<table border=\"1\" class=\"dataframe\">\n",
       "  <thead>\n",
       "    <tr style=\"text-align: right;\">\n",
       "      <th></th>\n",
       "      <th>Count of min (\\pm sqrt) [LEFT]</th>\n",
       "      <th>Count of min (\\pm sqrt) [RIGHT]</th>\n",
       "      <th>\\Delta s \\pm .5 um</th>\n",
       "    </tr>\n",
       "  </thead>\n",
       "  <tbody>\n",
       "    <tr>\n",
       "      <th>1</th>\n",
       "      <td>30</td>\n",
       "      <td>30</td>\n",
       "      <td>10.5</td>\n",
       "    </tr>\n",
       "    <tr>\n",
       "      <th>2</th>\n",
       "      <td>34</td>\n",
       "      <td>34</td>\n",
       "      <td>10.5</td>\n",
       "    </tr>\n",
       "    <tr>\n",
       "      <th>3</th>\n",
       "      <td>35</td>\n",
       "      <td>35</td>\n",
       "      <td>11.5</td>\n",
       "    </tr>\n",
       "    <tr>\n",
       "      <th>4</th>\n",
       "      <td>50</td>\n",
       "      <td>51</td>\n",
       "      <td>16.5</td>\n",
       "    </tr>\n",
       "    <tr>\n",
       "      <th>5</th>\n",
       "      <td>50</td>\n",
       "      <td>51</td>\n",
       "      <td>17.0</td>\n",
       "    </tr>\n",
       "    <tr>\n",
       "      <th>6</th>\n",
       "      <td>47</td>\n",
       "      <td>49</td>\n",
       "      <td>17.0</td>\n",
       "    </tr>\n",
       "    <tr>\n",
       "      <th>7</th>\n",
       "      <td>80</td>\n",
       "      <td>80</td>\n",
       "      <td>22.5</td>\n",
       "    </tr>\n",
       "  </tbody>\n",
       "</table>\n",
       "</div>"
      ],
      "text/plain": [
       "0  Count of min (\\pm sqrt) [LEFT]  Count of min (\\pm sqrt) [RIGHT]  \\\n",
       "1                              30                               30   \n",
       "2                              34                               34   \n",
       "3                              35                               35   \n",
       "4                              50                               51   \n",
       "5                              50                               51   \n",
       "6                              47                               49   \n",
       "7                              80                               80   \n",
       "\n",
       "0  \\Delta s \\pm .5 um  \n",
       "1                10.5  \n",
       "2                10.5  \n",
       "3                11.5  \n",
       "4                16.5  \n",
       "5                17.0  \n",
       "6                17.0  \n",
       "7                22.5  "
      ]
     },
     "execution_count": 5,
     "metadata": {},
     "output_type": "execute_result"
    }
   ],
   "source": [
    "if object in [x for x in part2_df.dtypes]:    \n",
    "    part2_df.iloc[3, 1], part2_df.iloc[4, 1] = part2_df.iloc[3, 1][:-1], part2_df.iloc[4, 1][:-1]\n",
    "for x in part2_df:\n",
    "    if \"Count\" in x or \"count\" in x:\n",
    "        part2_df[x] = part2_df[x].astype(int)\n",
    "    else:\n",
    "        part2_df[x] = part2_df[x].astype(float)\n",
    "part2_df"
   ]
  },
  {
   "cell_type": "markdown",
   "id": "9576aa86",
   "metadata": {},
   "source": [
    "Recall from the notes that \n",
    "\\begin{align}\n",
    "\\Delta\\phi = \\frac{2\\pi}{\\lambda}\\Delta x\n",
    "\\end{align}\n",
    "where $\\Delta\\phi$ is the change in phase, $\\lambda$ is the wavelength, and $\\Delta s$ is the difference in path length. Rearranging and solving for the wavelength yields\n",
    "\\begin{align}\n",
    "\\lambda = \\frac{2\\pi}{\\Delta\\phi}\\Delta x\n",
    "\\end{align}\n",
    "For minima we have $\\Delta\\phi=(2n+1)\\phi$ and for maxima we have  $\\Delta\\pi=2n\\pi$ where $n\\in\\mathbb{Z}$ in order for the minima and maxima to correspond to complete destructive and constructive interference, respectively. Since we counted minimum we have $\\Delta\\phi=(2n+1)\\pi$. Substituting this phase difference yields\n",
    "\\begin{align}\n",
    "\\lambda = \\frac{2}{2n+1}\\Delta x\n",
    "\\end{align}\n",
    "For the zeroeth order mode we have \n",
    "\\begin{align}\n",
    "\\lambda = 2\\Delta x\n",
    "\\end{align}\n",
    "Since we know that $\\frac{\\Delta s}{N} = \\Delta x$ we have\n",
    "\\begin{align}\\label{eq:part2}\n",
    "\\lambda = 2\\frac{\\Delta s}{N}\n",
    "\\end{align}"
   ]
  },
  {
   "cell_type": "code",
   "execution_count": 6,
   "id": "28ecd877",
   "metadata": {
    "ExecuteTime": {
     "end_time": "2023-06-18T02:30:55.507733Z",
     "start_time": "2023-06-18T02:30:55.491629Z"
    }
   },
   "outputs": [
    {
     "data": {
      "text/html": [
       "<div>\n",
       "<style scoped>\n",
       "    .dataframe tbody tr th:only-of-type {\n",
       "        vertical-align: middle;\n",
       "    }\n",
       "\n",
       "    .dataframe tbody tr th {\n",
       "        vertical-align: top;\n",
       "    }\n",
       "\n",
       "    .dataframe thead th {\n",
       "        text-align: right;\n",
       "    }\n",
       "</style>\n",
       "<table border=\"1\" class=\"dataframe\">\n",
       "  <thead>\n",
       "    <tr style=\"text-align: right;\">\n",
       "      <th></th>\n",
       "      <th>Count of min (\\pm sqrt) [LEFT]</th>\n",
       "      <th>Count of min (\\pm sqrt) [RIGHT]</th>\n",
       "      <th>\\Delta s \\pm .5 um</th>\n",
       "      <th>Wavelength (𝜇m)</th>\n",
       "    </tr>\n",
       "  </thead>\n",
       "  <tbody>\n",
       "    <tr>\n",
       "      <th>1</th>\n",
       "      <td>30</td>\n",
       "      <td>30</td>\n",
       "      <td>10.5</td>\n",
       "      <td>0.700000</td>\n",
       "    </tr>\n",
       "    <tr>\n",
       "      <th>2</th>\n",
       "      <td>34</td>\n",
       "      <td>34</td>\n",
       "      <td>10.5</td>\n",
       "      <td>0.617647</td>\n",
       "    </tr>\n",
       "    <tr>\n",
       "      <th>3</th>\n",
       "      <td>35</td>\n",
       "      <td>35</td>\n",
       "      <td>11.5</td>\n",
       "      <td>0.657143</td>\n",
       "    </tr>\n",
       "    <tr>\n",
       "      <th>4</th>\n",
       "      <td>50</td>\n",
       "      <td>51</td>\n",
       "      <td>16.5</td>\n",
       "      <td>0.653465</td>\n",
       "    </tr>\n",
       "    <tr>\n",
       "      <th>5</th>\n",
       "      <td>50</td>\n",
       "      <td>51</td>\n",
       "      <td>17.0</td>\n",
       "      <td>0.673267</td>\n",
       "    </tr>\n",
       "    <tr>\n",
       "      <th>6</th>\n",
       "      <td>47</td>\n",
       "      <td>49</td>\n",
       "      <td>17.0</td>\n",
       "      <td>0.708333</td>\n",
       "    </tr>\n",
       "    <tr>\n",
       "      <th>7</th>\n",
       "      <td>80</td>\n",
       "      <td>80</td>\n",
       "      <td>22.5</td>\n",
       "      <td>0.562500</td>\n",
       "    </tr>\n",
       "  </tbody>\n",
       "</table>\n",
       "</div>"
      ],
      "text/plain": [
       "0  Count of min (\\pm sqrt) [LEFT]  Count of min (\\pm sqrt) [RIGHT]  \\\n",
       "1                              30                               30   \n",
       "2                              34                               34   \n",
       "3                              35                               35   \n",
       "4                              50                               51   \n",
       "5                              50                               51   \n",
       "6                              47                               49   \n",
       "7                              80                               80   \n",
       "\n",
       "0  \\Delta s \\pm .5 um  Wavelength (𝜇m)  \n",
       "1                10.5         0.700000  \n",
       "2                10.5         0.617647  \n",
       "3                11.5         0.657143  \n",
       "4                16.5         0.653465  \n",
       "5                17.0         0.673267  \n",
       "6                17.0         0.708333  \n",
       "7                22.5         0.562500  "
      ]
     },
     "execution_count": 6,
     "metadata": {},
     "output_type": "execute_result"
    }
   ],
   "source": [
    "part2_df[\"Wavelength (𝜇m)\"] = (4 * part2_df[\"\\Delta s \\pm .5 um\"] / \n",
    "    (part2_df[\"Count of min (\\pm sqrt) [LEFT]\"] + \n",
    "     part2_df[\"Count of min (\\pm sqrt) [RIGHT]\"]))\n",
    "part2_df"
   ]
  },
  {
   "cell_type": "markdown",
   "id": "92567443",
   "metadata": {
    "ExecuteTime": {
     "end_time": "2023-06-17T23:55:03.148222Z",
     "start_time": "2023-06-17T23:55:03.135689Z"
    }
   },
   "source": [
    "## Calculation Part 2"
   ]
  },
  {
   "cell_type": "code",
   "execution_count": 7,
   "id": "2add3b27",
   "metadata": {
    "ExecuteTime": {
     "end_time": "2023-06-18T02:30:55.523749Z",
     "start_time": "2023-06-18T02:30:55.507733Z"
    }
   },
   "outputs": [
    {
     "data": {
      "text/markdown": [
       "0.65 𝜇m"
      ],
      "text/plain": [
       "<IPython.core.display.Markdown object>"
      ]
     },
     "execution_count": 7,
     "metadata": {},
     "output_type": "execute_result"
    }
   ],
   "source": [
    "final_wavelength = np.average(part2_df.iloc[:,-1])\n",
    "md(latp(np.round(final_wavelength, 2)) + \" 𝜇m\")"
   ]
  },
  {
   "cell_type": "markdown",
   "id": "d56b61e7",
   "metadata": {},
   "source": [
    "Now to find the average number of minima and the corresponding uncertainty. Since we were simply counting, the uncertainty is 1 over the square root of the counts. "
   ]
  },
  {
   "cell_type": "code",
   "execution_count": 25,
   "id": "790cd964",
   "metadata": {
    "ExecuteTime": {
     "end_time": "2023-06-18T02:52:22.842269Z",
     "start_time": "2023-06-18T02:52:22.819424Z"
    }
   },
   "outputs": [
    {
     "data": {
      "text/plain": [
       "([30.0, 34.0, 35.0, 50.5, 50.5, 48.0, 80.0],\n",
       " [0.12909944487358055,\n",
       "  0.12126781251816647,\n",
       "  0.11952286093343935,\n",
       "  0.09950859653474027,\n",
       "  0.09950859653474027,\n",
       "  0.1020842287157852,\n",
       "  0.07905694150420949])"
      ]
     },
     "execution_count": 25,
     "metadata": {},
     "output_type": "execute_result"
    }
   ],
   "source": [
    "fun = ( a + b ) / 2\n",
    "counts_averages, counts_uncertainties = [], []\n",
    "row_list = range(part2_df.shape[0])\n",
    "for row in row_list:\n",
    "    left, right = part2_df.iloc[row, 0], part2_df.iloc[row, 1]\n",
    "    expct, unc = general_with_arrays([left, right], [1/np.sqrt(left), 1/np.sqrt(right)], fun)\n",
    "    counts_averages.append(expct)\n",
    "    counts_uncertainties.append(unc)\n",
    "counts_averages, counts_uncertainties"
   ]
  },
  {
   "cell_type": "markdown",
   "id": "003541d2",
   "metadata": {},
   "source": [
    "Since we averaged the number of minima observed from each interference pattern we now use equation \\ref{eq:part2}\n",
    "\n",
    "Note that the function named general_with_arrays uses the following the find the best estimate: \n",
    "\n",
    "lambdify(symbol_list[:2 * len(row_list)], fun)(*symbol_list[:2 * len(row_list)])\n"
   ]
  },
  {
   "cell_type": "code",
   "execution_count": 26,
   "id": "96c401ce",
   "metadata": {
    "ExecuteTime": {
     "end_time": "2023-06-18T02:52:31.093895Z",
     "start_time": "2023-06-18T02:52:31.077758Z"
    }
   },
   "outputs": [
    {
     "data": {
      "text/latex": [
       "$\\displaystyle \\frac{2 a}{7 h} + \\frac{2 b}{7 i} + \\frac{2 c}{7 j} + \\frac{2 d}{7 k} + \\frac{2 e}{7 l} + \\frac{2 f}{7 m} + \\frac{2 g}{7 n}$"
      ],
      "text/plain": [
       "2*a/(7*h) + 2*b/(7*i) + 2*c/(7*j) + 2*d/(7*k) + 2*e/(7*l) + 2*f/(7*m) + 2*g/(7*n)"
      ]
     },
     "execution_count": 26,
     "metadata": {},
     "output_type": "execute_result"
    }
   ],
   "source": [
    "fun = 0 \n",
    "for row in row_list:\n",
    "    fun += 2*(symbol_list[row] / symbol_list[row + len(row_list)]) / (len(row_list))\n",
    "fun"
   ]
  },
  {
   "cell_type": "markdown",
   "id": "d2472776",
   "metadata": {},
   "source": [
    "In alphabetical order, a through g are the values for $\\Delta s$, whereas h through n are the values for $N$, and this sum is the expectation value of the wavelength of the LASER."
   ]
  },
  {
   "cell_type": "code",
   "execution_count": 39,
   "id": "98e7f280",
   "metadata": {
    "ExecuteTime": {
     "end_time": "2023-06-18T02:59:49.331237Z",
     "start_time": "2023-06-18T02:59:49.293642Z"
    }
   },
   "outputs": [
    {
     "data": {
      "text/markdown": [
       "Thus we have for the wavelength \\begin{equation} \\lambda = 0.65\\pm 0.009 \\text{ 𝜇m} \\end{equation}"
      ],
      "text/plain": [
       "<IPython.core.display.Markdown object>"
      ]
     },
     "execution_count": 39,
     "metadata": {},
     "output_type": "execute_result"
    }
   ],
   "source": [
    "part2_expectation_inputs = s_array\n",
    "part2_uncertainty_inputs = len(s_array) * [.5]\n",
    "s_array = [x for x in part2_df[\"\\Delta s \\pm .5 um\"]]\n",
    "for row in row_list:\n",
    "    part2_expectation_inputs.append(counts_averages[row])\n",
    "    part2_uncertainty_inputs.append(counts_uncertainties[row])\n",
    "part2_wavelength, part2_unc = general_with_arrays(part2_expectation_inputs, part2_uncertainty_inputs, fun)\n",
    "md(\"Thus we have for the wavelength \\\\begin{equation} \\\\lambda = \" \n",
    "   + latp(np.round(part2_wavelength, 2)) + \"\\\\pm \" + latp(np.round(part2_unc, 3)) + \" \\\\text{ 𝜇m} \"\n",
    "  + \"\\\\end{equation}\")"
   ]
  },
  {
   "cell_type": "code",
   "execution_count": null,
   "id": "94258b4d",
   "metadata": {},
   "outputs": [],
   "source": []
  }
 ],
 "metadata": {
  "kernelspec": {
   "display_name": "Python 3 (ipykernel)",
   "language": "python",
   "name": "python3"
  },
  "language_info": {
   "codemirror_mode": {
    "name": "ipython",
    "version": 3
   },
   "file_extension": ".py",
   "mimetype": "text/x-python",
   "name": "python",
   "nbconvert_exporter": "python",
   "pygments_lexer": "ipython3",
   "version": "3.9.13"
  },
  "latex_envs": {
   "LaTeX_envs_menu_present": true,
   "autoclose": false,
   "autocomplete": true,
   "bibliofile": "biblio.bib",
   "cite_by": "apalike",
   "current_citInitial": 1,
   "eqLabelWithNumbers": true,
   "eqNumInitial": 1,
   "hotkeys": {
    "equation": "Ctrl-E",
    "itemize": "Ctrl-I"
   },
   "labels_anchors": false,
   "latex_user_defs": false,
   "report_style_numbering": false,
   "user_envs_cfg": false
  },
  "toc": {
   "base_numbering": 1,
   "nav_menu": {},
   "number_sections": true,
   "sideBar": false,
   "skip_h1_title": false,
   "title_cell": "Table of Contents",
   "title_sidebar": "Contents",
   "toc_cell": false,
   "toc_position": {
    "height": "168px",
    "left": "856.533px",
    "top": "63.9px",
    "width": "156.8px"
   },
   "toc_section_display": false,
   "toc_window_display": true
  },
  "varInspector": {
   "cols": {
    "lenName": 16,
    "lenType": 16,
    "lenVar": 40
   },
   "kernels_config": {
    "python": {
     "delete_cmd_postfix": "",
     "delete_cmd_prefix": "del ",
     "library": "var_list.py",
     "varRefreshCmd": "print(var_dic_list())"
    },
    "r": {
     "delete_cmd_postfix": ") ",
     "delete_cmd_prefix": "rm(",
     "library": "var_list.r",
     "varRefreshCmd": "cat(var_dic_list()) "
    }
   },
   "types_to_exclude": [
    "module",
    "function",
    "builtin_function_or_method",
    "instance",
    "_Feature"
   ],
   "window_display": false
  }
 },
 "nbformat": 4,
 "nbformat_minor": 5
}
