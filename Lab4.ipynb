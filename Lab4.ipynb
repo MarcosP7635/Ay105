{
 "cells": [
  {
   "cell_type": "markdown",
   "id": "72a3d558",
   "metadata": {},
   "source": [
    "\\section{5/2 Lecture Notes: Spectroscopy}\n",
    "Integral Field spectroscopy can also spatially resolve the spectra. \n",
    "\n",
    "Radio sources are useless without optical spectroscopy since you need to know how far the object is. \n",
    "\n",
    "Fourier transform of the time domain (path length) to get a spectrum.\n",
    "\n",
    "Phase velocity of light depends on the index of refraction $v = c/n$ and $n$ the index of refraction is wavelength dependent. \n",
    "\n",
    "Location of maxima and minima in n-slit experiment is dependent on wavelength. Depending what order you're looking at, $\\sin(\\theta_n) = n\\lambda_n/g$. \n",
    "\n",
    "Spatial resolution $A = \\lambda/\\Delta\\lambda=nN$ where $n$ is the diffraction order and $N$ is the number of slits. \n",
    "\n",
    "\n",
    "Blaze angle (at order 0 there is no wavelength resolution and that's also where most of the light is)\n",
    "so now we have light reflect off of saw tooth triangular cross sections of glass at an angle $\\theta_B$. Common blaze gratings are manufactured in what is called the Littrow configuration. (check out wikipedia). There will be a difference in phase, changing the interference, and the incoming light will then peak where desired.\n",
    "\n",
    "Measure the angle of outgoing light for the index of refraction. Index of refraction decreases with wavelength (1.62/1.60). Even with gloves don't touch the prism, and especially the grating. Don't force the slit to jaw together. Put a ruler in the photo.   \n",
    "\n",
    "##Lab Notes\n"
   ]
  },
  {
   "cell_type": "code",
   "execution_count": 32,
   "id": "e5bbf85c",
   "metadata": {},
   "outputs": [
    {
     "data": {
      "text/latex": [
       "$\\displaystyle \\hbar$"
      ],
      "text/plain": [
       "hbar"
      ]
     },
     "execution_count": 32,
     "metadata": {},
     "output_type": "execute_result"
    }
   ],
   "source": [
    "import numpy as np\n",
    "import matplotlib.pyplot as plt\n",
    "from astropy.io import fits\n",
    "import math\n",
    "from scipy.optimize import curve_fit\n",
    "import glob\n",
    "import os\n",
    "import sys\n",
    "import matplotlib.backends.backend_pdf\n",
    "import matplotlib.gridspec as gridspec\n",
    "from scipy.stats import norm\n",
    "from scipy.stats import lognorm\n",
    "from scipy import linalg\n",
    "import pprint\n",
    "import re\n",
    "plt.rc('font', family='serif')\n",
    "from matplotlib import rc\n",
    "import pandas as pd\n",
    "from astropy import constants as const\n",
    "from astropy import units as units\n",
    "from IPython.display import Markdown as md\n",
    "import sympy\n",
    "import pandas\n",
    "from sympy import integrate, diff, sqrt, cos, sin, pi, exp, log\n",
    "from sympy.abc import * \n",
    "i = sqrt(-1)\n",
    "import numpy as np\n",
    "import sympy.printing as printing\n",
    "latp = printing.latex\n",
    "hbar = sympy.symbols(\"hbar\", real=True)\n",
    "import mpmath \n",
    "import plotly.express as px\n",
    "import plotly.graph_objs as go\n",
    "hbar"
   ]
  },
  {
   "cell_type": "markdown",
   "id": "37f6c70d",
   "metadata": {},
   "source": [
    "We now follow the directions in the background for the following derivations.\n",
    "\\begin{align}\n",
    "&\\text{Grating Equation}\\quad\\ m\\lambda\\frac{1}{a} = \\sin\\alpha\\pm\\sin\\beta\\\\\n",
    "&\\text{Since we use a reflective grating}\\quad\\ m\\lambda\\frac{1}{a} = \\sin\\alpha+\\sin\\beta\\\\ \n",
    "&\\text{Taking the partial derivative with respect to }\\lambda\\quad\\  \n",
    "\\frac{m}{a} = \\frac{\\partial \\beta}{\\partial \\lambda}\\cos\\beta\\\\ \n",
    "&\\text{Rearranging}\\quad\\  \\frac{m}{a\\cos\\beta} = \\frac{\\partial \\beta}{\\partial \\lambda}\\\\\n",
    "&\\text{Rearranging the grating Equation}\\quad\\ \\lambda = \\frac{a}{m}(\\sin\\alpha+\\sin\\beta)\\\\\n",
    "&\\text{Multiplying the above two lines}\\quad\\  \\frac{m}{a\\cos\\beta}\\frac{a}{m}(\\sin\\alpha+\\sin\\beta) = \\lambda\\frac{\\partial \\beta}{\\partial \\lambda}\\\\\n",
    "&\\text{Simplifying the left side}\\quad\\  \\frac{\\sin\\alpha+\\sin\\beta}{\\cos\\beta } = \\lambda\\frac{\\partial \\beta}{\\partial \\lambda}\\\\\n",
    "&\\text{Since }\\alpha -2\\theta=\\beta \\quad\\ \\frac{\\sin(\\beta+2\\theta)+\\sin\\beta}{\\cos\\beta } = \\lambda\\frac{\\partial \\beta}{\\partial \\lambda}\\\\\n",
    "&\\text{Simplifying and substituting tangent}\\quad\\ \\frac{\\sin(\\beta+2\\theta)}{\\cos\\beta } + \\tan( \\beta) = \\lambda\\frac{\\partial \\beta}{\\partial \\lambda}\\\\\n",
    "&\\text{Since }\\sin(a+b)= \\sin(a)\\cos(b)+\\cos(a)\\sin(b)\\quad\\ \\frac{\\sin(2\\theta)\\cos(\\beta)+\\cos(2\\theta)\\sin(\\beta)}{\\cos\\beta } + \\tan( \\beta) = \\lambda\\frac{\\partial \\beta}{\\partial \\lambda}\\\\\n",
    "&\\text{Simplifying and factoring}\\quad\\  \n",
    "\\sin(2\\theta) + \\tan( \\beta)(1+\\cos(2\\theta)) = \\lambda\\frac{\\partial \\beta}{\\partial \\lambda}\\\\ \n",
    "&\\text{Since }2\\cos^2(\\theta)-1=\\cos(2\\theta)\\quad\\ \n",
    "\\sin(2\\theta) + 2\\tan(\\beta)\\cos^2(\\theta) = \\lambda\\frac{\\partial \\beta}{\\partial \\lambda}\\\\ \n",
    "&\\blacksquare\\nonumber\n",
    "\\end{align}"
   ]
  },
  {
   "cell_type": "markdown",
   "id": "59281812",
   "metadata": {},
   "source": [
    "\\begin{align}\n",
    "&\\text{Grating Equation}\\quad\\ \\frac{m\\lambda}{a} = \\sin(\\alpha)+\\sin(\\beta)\\\\\n",
    "&\\text{Since }2\\theta=\\alpha-\\beta\\quad\\ \\frac{m\\lambda}{a} = \\sin(\\alpha)+\\sin(\\alpha-2\\theta)\\\\ \n",
    "&\\text{Since }2\\theta=\\alpha-\\beta\\quad\\ \\frac{m\\lambda}{a} = \\sin(\\alpha)+\\sin(\\alpha-2\\theta)\\\\ \n",
    "&\\text{Sine addition formula}\\quad\\ \\frac{m\\lambda}{a} = \\sin\\alpha(1+\\cos(2\\theta))-\\cos(\\alpha)\\sin(2\\theta)\\\\\n",
    "&\\text{Trigonometric identity}\\quad\\ \\frac{m\\lambda}{a} = 2\\sin\\alpha\\cos^2(\\theta))-\\cos(\\alpha)\\sin(2\\theta)\\\\\n",
    "&\\text{Sine addition formula}\\quad\\ \\frac{m\\lambda}{a} =  2\\sin\\alpha\\cos^2(\\theta))-2\\cos(\\theta)\\cos(\\alpha)\\sin(\\theta)\\\\\n",
    "&\\text{Rearranging}\\quad\\ \\frac{m\\lambda}{2a\\cos\\theta} =  \\sin\\alpha\\cos(\\theta))-\\cos(\\alpha)\\sin(\\theta)\\\\ \n",
    "&\\text{Sine difference formula}\\quad\\ \\frac{m\\lambda}{2a\\cos\\theta} =\n",
    "\\sin(\\alpha-\\theta)\\\\\n",
    "&\\text{Solve for }\\alpha\\quad\\ \\arcsin\\left(\\frac{m\\lambda}{2a\\cos\\theta}\\right)+\\theta =\n",
    "\\alpha\n",
    "\\end{align}"
   ]
  },
  {
   "cell_type": "markdown",
   "id": "e879487b",
   "metadata": {},
   "source": [
    "\\begin{align}\n",
    "    &\\text{We know}\\quad\\ D=i-A+\\arcsin\\left(n\\sin(A-\\arcsin\\left(\\frac{\\sin   i}{n}\\right)\\right)\n",
    "\\end{align}"
   ]
  },
  {
   "cell_type": "code",
   "execution_count": 174,
   "id": "f2bf9a69",
   "metadata": {},
   "outputs": [
    {
     "ename": "KeyboardInterrupt",
     "evalue": "",
     "output_type": "error",
     "traceback": [
      "\u001b[1;31m---------------------------------------------------------------------------\u001b[0m",
      "\u001b[1;31mKeyboardInterrupt\u001b[0m                         Traceback (most recent call last)",
      "\u001b[1;32m~\\AppData\\Local\\Temp\\ipykernel_4004\\3181722548.py\u001b[0m in \u001b[0;36m<module>\u001b[1;34m\u001b[0m\n\u001b[0;32m      1\u001b[0m \u001b[0mD\u001b[0m \u001b[1;33m=\u001b[0m \u001b[0msymbols\u001b[0m\u001b[1;33m(\u001b[0m\u001b[1;34m\"i\"\u001b[0m\u001b[1;33m)\u001b[0m \u001b[1;33m-\u001b[0m \u001b[0mA\u001b[0m \u001b[1;33m+\u001b[0m \u001b[0masin\u001b[0m\u001b[1;33m(\u001b[0m\u001b[0mn\u001b[0m\u001b[1;33m*\u001b[0m\u001b[0msin\u001b[0m\u001b[1;33m(\u001b[0m\u001b[0mA\u001b[0m \u001b[1;33m-\u001b[0m \u001b[0masin\u001b[0m\u001b[1;33m(\u001b[0m\u001b[0msin\u001b[0m\u001b[1;33m(\u001b[0m\u001b[0msymbols\u001b[0m\u001b[1;33m(\u001b[0m\u001b[1;34m\"i\"\u001b[0m\u001b[1;33m)\u001b[0m\u001b[1;33m)\u001b[0m\u001b[1;33m/\u001b[0m\u001b[0mn\u001b[0m \u001b[1;33m)\u001b[0m \u001b[1;33m)\u001b[0m \u001b[1;33m)\u001b[0m\u001b[1;33m\u001b[0m\u001b[1;33m\u001b[0m\u001b[0m\n\u001b[1;32m----> 2\u001b[1;33m \u001b[0mmed\u001b[0m \u001b[1;33m=\u001b[0m \u001b[0msolve\u001b[0m\u001b[1;33m(\u001b[0m\u001b[0mEq\u001b[0m\u001b[1;33m(\u001b[0m\u001b[0mdiff\u001b[0m\u001b[1;33m(\u001b[0m\u001b[0mD\u001b[0m\u001b[1;33m,\u001b[0m \u001b[0msymbols\u001b[0m\u001b[1;33m(\u001b[0m\u001b[1;34m\"i\"\u001b[0m\u001b[1;33m)\u001b[0m\u001b[1;33m)\u001b[0m\u001b[1;33m,\u001b[0m\u001b[1;36m0\u001b[0m\u001b[1;33m)\u001b[0m\u001b[1;33m,\u001b[0m \u001b[0msymbols\u001b[0m\u001b[1;33m(\u001b[0m\u001b[1;34m\"i\"\u001b[0m\u001b[1;33m)\u001b[0m\u001b[1;33m)\u001b[0m\u001b[1;33m\u001b[0m\u001b[1;33m\u001b[0m\u001b[0m\n\u001b[0m\u001b[0;32m      3\u001b[0m \u001b[0mmed\u001b[0m\u001b[1;33m\u001b[0m\u001b[1;33m\u001b[0m\u001b[0m\n",
      "\u001b[1;32m~\\anaconda3\\lib\\site-packages\\sympy\\solvers\\solvers.py\u001b[0m in \u001b[0;36msolve\u001b[1;34m(f, *symbols, **flags)\u001b[0m\n\u001b[0;32m   1104\u001b[0m     \u001b[1;31m###########################################################################\u001b[0m\u001b[1;33m\u001b[0m\u001b[1;33m\u001b[0m\u001b[0m\n\u001b[0;32m   1105\u001b[0m     \u001b[1;32mif\u001b[0m \u001b[0mbare_f\u001b[0m\u001b[1;33m:\u001b[0m\u001b[1;33m\u001b[0m\u001b[1;33m\u001b[0m\u001b[0m\n\u001b[1;32m-> 1106\u001b[1;33m         \u001b[0msolution\u001b[0m \u001b[1;33m=\u001b[0m \u001b[0m_solve\u001b[0m\u001b[1;33m(\u001b[0m\u001b[0mf\u001b[0m\u001b[1;33m[\u001b[0m\u001b[1;36m0\u001b[0m\u001b[1;33m]\u001b[0m\u001b[1;33m,\u001b[0m \u001b[1;33m*\u001b[0m\u001b[0msymbols\u001b[0m\u001b[1;33m,\u001b[0m \u001b[1;33m**\u001b[0m\u001b[0mflags\u001b[0m\u001b[1;33m)\u001b[0m\u001b[1;33m\u001b[0m\u001b[1;33m\u001b[0m\u001b[0m\n\u001b[0m\u001b[0;32m   1107\u001b[0m     \u001b[1;32melse\u001b[0m\u001b[1;33m:\u001b[0m\u001b[1;33m\u001b[0m\u001b[1;33m\u001b[0m\u001b[0m\n\u001b[0;32m   1108\u001b[0m         \u001b[0msolution\u001b[0m \u001b[1;33m=\u001b[0m \u001b[0m_solve_system\u001b[0m\u001b[1;33m(\u001b[0m\u001b[0mf\u001b[0m\u001b[1;33m,\u001b[0m \u001b[0msymbols\u001b[0m\u001b[1;33m,\u001b[0m \u001b[1;33m**\u001b[0m\u001b[0mflags\u001b[0m\u001b[1;33m)\u001b[0m\u001b[1;33m\u001b[0m\u001b[1;33m\u001b[0m\u001b[0m\n",
      "\u001b[1;32m~\\anaconda3\\lib\\site-packages\\sympy\\solvers\\solvers.py\u001b[0m in \u001b[0;36m_solve\u001b[1;34m(f, *symbols, **flags)\u001b[0m\n\u001b[0;32m   1554\u001b[0m                         \u001b[1;31m# solutions in the un-rewritten form below\u001b[0m\u001b[1;33m\u001b[0m\u001b[1;33m\u001b[0m\u001b[0m\n\u001b[0;32m   1555\u001b[0m                         \u001b[0mflags\u001b[0m\u001b[1;33m[\u001b[0m\u001b[1;34m'check'\u001b[0m\u001b[1;33m]\u001b[0m \u001b[1;33m=\u001b[0m \u001b[1;32mFalse\u001b[0m\u001b[1;33m\u001b[0m\u001b[1;33m\u001b[0m\u001b[0m\n\u001b[1;32m-> 1556\u001b[1;33m                         \u001b[0mresult\u001b[0m \u001b[1;33m=\u001b[0m \u001b[0m_solve\u001b[0m\u001b[1;33m(\u001b[0m\u001b[0mnewf\u001b[0m\u001b[1;33m,\u001b[0m \u001b[0msymbol\u001b[0m\u001b[1;33m,\u001b[0m \u001b[1;33m**\u001b[0m\u001b[0mflags\u001b[0m\u001b[1;33m)\u001b[0m\u001b[1;33m\u001b[0m\u001b[1;33m\u001b[0m\u001b[0m\n\u001b[0m\u001b[0;32m   1557\u001b[0m                         \u001b[0mflags\u001b[0m\u001b[1;33m[\u001b[0m\u001b[1;34m'check'\u001b[0m\u001b[1;33m]\u001b[0m \u001b[1;33m=\u001b[0m \u001b[0mcheck\u001b[0m\u001b[1;33m\u001b[0m\u001b[1;33m\u001b[0m\u001b[0m\n\u001b[0;32m   1558\u001b[0m \u001b[1;33m\u001b[0m\u001b[0m\n",
      "\u001b[1;32m~\\anaconda3\\lib\\site-packages\\sympy\\solvers\\solvers.py\u001b[0m in \u001b[0;36m_solve\u001b[1;34m(f, *symbols, **flags)\u001b[0m\n\u001b[0;32m   1571\u001b[0m                     \u001b[1;31m# if no Functions left, we can proceed with usual solve\u001b[0m\u001b[1;33m\u001b[0m\u001b[1;33m\u001b[0m\u001b[0m\n\u001b[0;32m   1572\u001b[0m                     \u001b[1;32mif\u001b[0m \u001b[1;32mnot\u001b[0m \u001b[0mftry\u001b[0m\u001b[1;33m.\u001b[0m\u001b[0mhas\u001b[0m\u001b[1;33m(\u001b[0m\u001b[0msymbol\u001b[0m\u001b[1;33m)\u001b[0m\u001b[1;33m:\u001b[0m\u001b[1;33m\u001b[0m\u001b[1;33m\u001b[0m\u001b[0m\n\u001b[1;32m-> 1573\u001b[1;33m                         \u001b[0mcv_sols\u001b[0m \u001b[1;33m=\u001b[0m \u001b[0m_solve\u001b[0m\u001b[1;33m(\u001b[0m\u001b[0mftry\u001b[0m\u001b[1;33m,\u001b[0m \u001b[0mt\u001b[0m\u001b[1;33m,\u001b[0m \u001b[1;33m**\u001b[0m\u001b[0mflags\u001b[0m\u001b[1;33m)\u001b[0m\u001b[1;33m\u001b[0m\u001b[1;33m\u001b[0m\u001b[0m\n\u001b[0m\u001b[0;32m   1574\u001b[0m                         \u001b[0mcv_inv\u001b[0m \u001b[1;33m=\u001b[0m \u001b[0m_solve\u001b[0m\u001b[1;33m(\u001b[0m\u001b[0mt\u001b[0m \u001b[1;33m-\u001b[0m \u001b[0mf1\u001b[0m\u001b[1;33m,\u001b[0m \u001b[0msymbol\u001b[0m\u001b[1;33m,\u001b[0m \u001b[1;33m**\u001b[0m\u001b[0mflags\u001b[0m\u001b[1;33m)\u001b[0m\u001b[1;33m[\u001b[0m\u001b[1;36m0\u001b[0m\u001b[1;33m]\u001b[0m\u001b[1;33m\u001b[0m\u001b[1;33m\u001b[0m\u001b[0m\n\u001b[0;32m   1575\u001b[0m                         \u001b[0msols\u001b[0m \u001b[1;33m=\u001b[0m \u001b[0mlist\u001b[0m\u001b[1;33m(\u001b[0m\u001b[1;33m)\u001b[0m\u001b[1;33m\u001b[0m\u001b[1;33m\u001b[0m\u001b[0m\n",
      "\u001b[1;32m~\\anaconda3\\lib\\site-packages\\sympy\\solvers\\solvers.py\u001b[0m in \u001b[0;36m_solve\u001b[1;34m(f, *symbols, **flags)\u001b[0m\n\u001b[0;32m   1710\u001b[0m         \u001b[0mflags\u001b[0m\u001b[1;33m.\u001b[0m\u001b[0mpop\u001b[0m\u001b[1;33m(\u001b[0m\u001b[1;34m'tsolve'\u001b[0m\u001b[1;33m,\u001b[0m \u001b[1;32mNone\u001b[0m\u001b[1;33m)\u001b[0m  \u001b[1;31m# allow tsolve to be used on next pass\u001b[0m\u001b[1;33m\u001b[0m\u001b[1;33m\u001b[0m\u001b[0m\n\u001b[0;32m   1711\u001b[0m         \u001b[1;32mtry\u001b[0m\u001b[1;33m:\u001b[0m\u001b[1;33m\u001b[0m\u001b[1;33m\u001b[0m\u001b[0m\n\u001b[1;32m-> 1712\u001b[1;33m             \u001b[0msoln\u001b[0m \u001b[1;33m=\u001b[0m \u001b[0m_tsolve\u001b[0m\u001b[1;33m(\u001b[0m\u001b[0mf_num\u001b[0m\u001b[1;33m,\u001b[0m \u001b[0msymbol\u001b[0m\u001b[1;33m,\u001b[0m \u001b[1;33m**\u001b[0m\u001b[0mflags\u001b[0m\u001b[1;33m)\u001b[0m\u001b[1;33m\u001b[0m\u001b[1;33m\u001b[0m\u001b[0m\n\u001b[0m\u001b[0;32m   1713\u001b[0m             \u001b[1;32mif\u001b[0m \u001b[0msoln\u001b[0m \u001b[1;32mis\u001b[0m \u001b[1;32mnot\u001b[0m \u001b[1;32mNone\u001b[0m\u001b[1;33m:\u001b[0m\u001b[1;33m\u001b[0m\u001b[1;33m\u001b[0m\u001b[0m\n\u001b[0;32m   1714\u001b[0m                 \u001b[0mresult\u001b[0m \u001b[1;33m=\u001b[0m \u001b[0msoln\u001b[0m\u001b[1;33m\u001b[0m\u001b[1;33m\u001b[0m\u001b[0m\n",
      "\u001b[1;32m~\\anaconda3\\lib\\site-packages\\sympy\\solvers\\solvers.py\u001b[0m in \u001b[0;36m_tsolve\u001b[1;34m(eq, sym, **flags)\u001b[0m\n\u001b[0;32m   2683\u001b[0m         \u001b[0mrewrite\u001b[0m \u001b[1;33m=\u001b[0m \u001b[0mlhs\u001b[0m\u001b[1;33m.\u001b[0m\u001b[0mrewrite\u001b[0m\u001b[1;33m(\u001b[0m\u001b[0mexp\u001b[0m\u001b[1;33m)\u001b[0m\u001b[1;33m\u001b[0m\u001b[1;33m\u001b[0m\u001b[0m\n\u001b[0;32m   2684\u001b[0m         \u001b[1;32mif\u001b[0m \u001b[0mrewrite\u001b[0m \u001b[1;33m!=\u001b[0m \u001b[0mlhs\u001b[0m\u001b[1;33m:\u001b[0m\u001b[1;33m\u001b[0m\u001b[1;33m\u001b[0m\u001b[0m\n\u001b[1;32m-> 2685\u001b[1;33m             \u001b[1;32mreturn\u001b[0m \u001b[0m_solve\u001b[0m\u001b[1;33m(\u001b[0m\u001b[0mrewrite\u001b[0m \u001b[1;33m-\u001b[0m \u001b[0mrhs\u001b[0m\u001b[1;33m,\u001b[0m \u001b[0msym\u001b[0m\u001b[1;33m,\u001b[0m \u001b[1;33m**\u001b[0m\u001b[0mflags\u001b[0m\u001b[1;33m)\u001b[0m\u001b[1;33m\u001b[0m\u001b[1;33m\u001b[0m\u001b[0m\n\u001b[0m\u001b[0;32m   2686\u001b[0m     \u001b[1;32mexcept\u001b[0m \u001b[0mNotImplementedError\u001b[0m\u001b[1;33m:\u001b[0m\u001b[1;33m\u001b[0m\u001b[1;33m\u001b[0m\u001b[0m\n\u001b[0;32m   2687\u001b[0m         \u001b[1;32mpass\u001b[0m\u001b[1;33m\u001b[0m\u001b[1;33m\u001b[0m\u001b[0m\n",
      "\u001b[1;32m~\\anaconda3\\lib\\site-packages\\sympy\\solvers\\solvers.py\u001b[0m in \u001b[0;36m_solve\u001b[1;34m(f, *symbols, **flags)\u001b[0m\n\u001b[0;32m   1684\u001b[0m         \u001b[1;32mif\u001b[0m \u001b[0mflags\u001b[0m\u001b[1;33m.\u001b[0m\u001b[0mpop\u001b[0m\u001b[1;33m(\u001b[0m\u001b[1;34m'_unrad'\u001b[0m\u001b[1;33m,\u001b[0m \u001b[1;32mTrue\u001b[0m\u001b[1;33m)\u001b[0m\u001b[1;33m:\u001b[0m\u001b[1;33m\u001b[0m\u001b[1;33m\u001b[0m\u001b[0m\n\u001b[0;32m   1685\u001b[0m             \u001b[1;32mtry\u001b[0m\u001b[1;33m:\u001b[0m\u001b[1;33m\u001b[0m\u001b[1;33m\u001b[0m\u001b[0m\n\u001b[1;32m-> 1686\u001b[1;33m                 \u001b[0mu\u001b[0m \u001b[1;33m=\u001b[0m \u001b[0munrad\u001b[0m\u001b[1;33m(\u001b[0m\u001b[0mf_num\u001b[0m\u001b[1;33m,\u001b[0m \u001b[0msymbol\u001b[0m\u001b[1;33m)\u001b[0m\u001b[1;33m\u001b[0m\u001b[1;33m\u001b[0m\u001b[0m\n\u001b[0m\u001b[0;32m   1687\u001b[0m             \u001b[1;32mexcept\u001b[0m \u001b[1;33m(\u001b[0m\u001b[0mValueError\u001b[0m\u001b[1;33m,\u001b[0m \u001b[0mNotImplementedError\u001b[0m\u001b[1;33m)\u001b[0m\u001b[1;33m:\u001b[0m\u001b[1;33m\u001b[0m\u001b[1;33m\u001b[0m\u001b[0m\n\u001b[0;32m   1688\u001b[0m                 \u001b[0mu\u001b[0m \u001b[1;33m=\u001b[0m \u001b[1;32mFalse\u001b[0m\u001b[1;33m\u001b[0m\u001b[1;33m\u001b[0m\u001b[0m\n",
      "\u001b[1;32m~\\anaconda3\\lib\\site-packages\\sympy\\solvers\\solvers.py\u001b[0m in \u001b[0;36munrad\u001b[1;34m(eq, *syms, **flags)\u001b[0m\n\u001b[0;32m   3517\u001b[0m \u001b[1;33m\u001b[0m\u001b[0m\n\u001b[0;32m   3518\u001b[0m     \u001b[0mflags\u001b[0m\u001b[1;33m.\u001b[0m\u001b[0mupdate\u001b[0m\u001b[1;33m(\u001b[0m\u001b[0mdict\u001b[0m\u001b[1;33m(\u001b[0m\u001b[0mcov\u001b[0m\u001b[1;33m=\u001b[0m\u001b[0mcov\u001b[0m\u001b[1;33m,\u001b[0m \u001b[0mn\u001b[0m\u001b[1;33m=\u001b[0m\u001b[0mlen\u001b[0m\u001b[1;33m(\u001b[0m\u001b[0mrterms\u001b[0m\u001b[1;33m)\u001b[0m\u001b[1;33m,\u001b[0m \u001b[0mrpt\u001b[0m\u001b[1;33m=\u001b[0m\u001b[0mrpt\u001b[0m\u001b[1;33m)\u001b[0m\u001b[1;33m)\u001b[0m\u001b[1;33m\u001b[0m\u001b[1;33m\u001b[0m\u001b[0m\n\u001b[1;32m-> 3519\u001b[1;33m     \u001b[0mneq\u001b[0m \u001b[1;33m=\u001b[0m \u001b[0munrad\u001b[0m\u001b[1;33m(\u001b[0m\u001b[0meq\u001b[0m\u001b[1;33m,\u001b[0m \u001b[1;33m*\u001b[0m\u001b[0msyms\u001b[0m\u001b[1;33m,\u001b[0m \u001b[1;33m**\u001b[0m\u001b[0mflags\u001b[0m\u001b[1;33m)\u001b[0m\u001b[1;33m\u001b[0m\u001b[1;33m\u001b[0m\u001b[0m\n\u001b[0m\u001b[0;32m   3520\u001b[0m     \u001b[1;32mif\u001b[0m \u001b[0mneq\u001b[0m\u001b[1;33m:\u001b[0m\u001b[1;33m\u001b[0m\u001b[1;33m\u001b[0m\u001b[0m\n\u001b[0;32m   3521\u001b[0m         \u001b[0meq\u001b[0m\u001b[1;33m,\u001b[0m \u001b[0mcov\u001b[0m \u001b[1;33m=\u001b[0m \u001b[0mneq\u001b[0m\u001b[1;33m\u001b[0m\u001b[1;33m\u001b[0m\u001b[0m\n",
      "\u001b[1;32m~\\anaconda3\\lib\\site-packages\\sympy\\solvers\\solvers.py\u001b[0m in \u001b[0;36munrad\u001b[1;34m(eq, *syms, **flags)\u001b[0m\n\u001b[0;32m   3300\u001b[0m     \u001b[0meq\u001b[0m \u001b[1;33m=\u001b[0m \u001b[0mpowdenest\u001b[0m\u001b[1;33m(\u001b[0m\u001b[0mfactor_terms\u001b[0m\u001b[1;33m(\u001b[0m\u001b[0meq\u001b[0m\u001b[1;33m,\u001b[0m \u001b[0mradical\u001b[0m\u001b[1;33m=\u001b[0m\u001b[1;32mTrue\u001b[0m\u001b[1;33m,\u001b[0m \u001b[0mclear\u001b[0m\u001b[1;33m=\u001b[0m\u001b[1;32mTrue\u001b[0m\u001b[1;33m)\u001b[0m\u001b[1;33m)\u001b[0m\u001b[1;33m\u001b[0m\u001b[1;33m\u001b[0m\u001b[0m\n\u001b[0;32m   3301\u001b[0m     \u001b[0meq\u001b[0m \u001b[1;33m=\u001b[0m \u001b[0meq\u001b[0m\u001b[1;33m.\u001b[0m\u001b[0mas_numer_denom\u001b[0m\u001b[1;33m(\u001b[0m\u001b[1;33m)\u001b[0m\u001b[1;33m[\u001b[0m\u001b[1;36m0\u001b[0m\u001b[1;33m]\u001b[0m\u001b[1;33m\u001b[0m\u001b[1;33m\u001b[0m\u001b[0m\n\u001b[1;32m-> 3302\u001b[1;33m     \u001b[0meq\u001b[0m \u001b[1;33m=\u001b[0m \u001b[0m_mexpand\u001b[0m\u001b[1;33m(\u001b[0m\u001b[0meq\u001b[0m\u001b[1;33m,\u001b[0m \u001b[0mrecursive\u001b[0m\u001b[1;33m=\u001b[0m\u001b[1;32mTrue\u001b[0m\u001b[1;33m)\u001b[0m\u001b[1;33m\u001b[0m\u001b[1;33m\u001b[0m\u001b[0m\n\u001b[0m\u001b[0;32m   3303\u001b[0m     \u001b[1;32mif\u001b[0m \u001b[0meq\u001b[0m\u001b[1;33m.\u001b[0m\u001b[0mis_number\u001b[0m\u001b[1;33m:\u001b[0m\u001b[1;33m\u001b[0m\u001b[1;33m\u001b[0m\u001b[0m\n\u001b[0;32m   3304\u001b[0m         \u001b[1;32mreturn\u001b[0m\u001b[1;33m\u001b[0m\u001b[1;33m\u001b[0m\u001b[0m\n",
      "\u001b[1;32m~\\anaconda3\\lib\\site-packages\\sympy\\core\\function.py\u001b[0m in \u001b[0;36m_mexpand\u001b[1;34m(expr, recursive)\u001b[0m\n\u001b[0;32m   2843\u001b[0m     \u001b[0mwas\u001b[0m \u001b[1;33m=\u001b[0m \u001b[1;32mNone\u001b[0m\u001b[1;33m\u001b[0m\u001b[1;33m\u001b[0m\u001b[0m\n\u001b[0;32m   2844\u001b[0m     \u001b[1;32mwhile\u001b[0m \u001b[0mwas\u001b[0m \u001b[1;33m!=\u001b[0m \u001b[0mexpr\u001b[0m\u001b[1;33m:\u001b[0m\u001b[1;33m\u001b[0m\u001b[1;33m\u001b[0m\u001b[0m\n\u001b[1;32m-> 2845\u001b[1;33m         \u001b[0mwas\u001b[0m\u001b[1;33m,\u001b[0m \u001b[0mexpr\u001b[0m \u001b[1;33m=\u001b[0m \u001b[0mexpr\u001b[0m\u001b[1;33m,\u001b[0m \u001b[0mexpand_mul\u001b[0m\u001b[1;33m(\u001b[0m\u001b[0mexpand_multinomial\u001b[0m\u001b[1;33m(\u001b[0m\u001b[0mexpr\u001b[0m\u001b[1;33m)\u001b[0m\u001b[1;33m)\u001b[0m\u001b[1;33m\u001b[0m\u001b[1;33m\u001b[0m\u001b[0m\n\u001b[0m\u001b[0;32m   2846\u001b[0m         \u001b[1;32mif\u001b[0m \u001b[1;32mnot\u001b[0m \u001b[0mrecursive\u001b[0m\u001b[1;33m:\u001b[0m\u001b[1;33m\u001b[0m\u001b[1;33m\u001b[0m\u001b[0m\n\u001b[0;32m   2847\u001b[0m             \u001b[1;32mbreak\u001b[0m\u001b[1;33m\u001b[0m\u001b[1;33m\u001b[0m\u001b[0m\n",
      "\u001b[1;32m~\\anaconda3\\lib\\site-packages\\sympy\\core\\function.py\u001b[0m in \u001b[0;36mexpand_mul\u001b[1;34m(expr, deep)\u001b[0m\n\u001b[0;32m   2866\u001b[0m \u001b[1;33m\u001b[0m\u001b[0m\n\u001b[0;32m   2867\u001b[0m     \"\"\"\n\u001b[1;32m-> 2868\u001b[1;33m     return sympify(expr).expand(deep=deep, mul=True, power_exp=False,\n\u001b[0m\u001b[0;32m   2869\u001b[0m     power_base=False, basic=False, multinomial=False, log=False)\n\u001b[0;32m   2870\u001b[0m \u001b[1;33m\u001b[0m\u001b[0m\n",
      "\u001b[1;32m~\\anaconda3\\lib\\site-packages\\sympy\\core\\cache.py\u001b[0m in \u001b[0;36mwrapper\u001b[1;34m(*args, **kwargs)\u001b[0m\n\u001b[0;32m     68\u001b[0m         \u001b[1;32mdef\u001b[0m \u001b[0mwrapper\u001b[0m\u001b[1;33m(\u001b[0m\u001b[1;33m*\u001b[0m\u001b[0margs\u001b[0m\u001b[1;33m,\u001b[0m \u001b[1;33m**\u001b[0m\u001b[0mkwargs\u001b[0m\u001b[1;33m)\u001b[0m\u001b[1;33m:\u001b[0m\u001b[1;33m\u001b[0m\u001b[1;33m\u001b[0m\u001b[0m\n\u001b[0;32m     69\u001b[0m             \u001b[1;32mtry\u001b[0m\u001b[1;33m:\u001b[0m\u001b[1;33m\u001b[0m\u001b[1;33m\u001b[0m\u001b[0m\n\u001b[1;32m---> 70\u001b[1;33m                 \u001b[0mretval\u001b[0m \u001b[1;33m=\u001b[0m \u001b[0mcfunc\u001b[0m\u001b[1;33m(\u001b[0m\u001b[1;33m*\u001b[0m\u001b[0margs\u001b[0m\u001b[1;33m,\u001b[0m \u001b[1;33m**\u001b[0m\u001b[0mkwargs\u001b[0m\u001b[1;33m)\u001b[0m\u001b[1;33m\u001b[0m\u001b[1;33m\u001b[0m\u001b[0m\n\u001b[0m\u001b[0;32m     71\u001b[0m             \u001b[1;32mexcept\u001b[0m \u001b[0mTypeError\u001b[0m \u001b[1;32mas\u001b[0m \u001b[0me\u001b[0m\u001b[1;33m:\u001b[0m\u001b[1;33m\u001b[0m\u001b[1;33m\u001b[0m\u001b[0m\n\u001b[0;32m     72\u001b[0m                 \u001b[1;32mif\u001b[0m \u001b[1;32mnot\u001b[0m \u001b[0me\u001b[0m\u001b[1;33m.\u001b[0m\u001b[0margs\u001b[0m \u001b[1;32mor\u001b[0m \u001b[1;32mnot\u001b[0m \u001b[0me\u001b[0m\u001b[1;33m.\u001b[0m\u001b[0margs\u001b[0m\u001b[1;33m[\u001b[0m\u001b[1;36m0\u001b[0m\u001b[1;33m]\u001b[0m\u001b[1;33m.\u001b[0m\u001b[0mstartswith\u001b[0m\u001b[1;33m(\u001b[0m\u001b[1;34m'unhashable type:'\u001b[0m\u001b[1;33m)\u001b[0m\u001b[1;33m:\u001b[0m\u001b[1;33m\u001b[0m\u001b[1;33m\u001b[0m\u001b[0m\n",
      "\u001b[1;32m~\\anaconda3\\lib\\site-packages\\sympy\\core\\expr.py\u001b[0m in \u001b[0;36mexpand\u001b[1;34m(self, deep, modulus, power_base, power_exp, mul, log, multinomial, basic, **hints)\u001b[0m\n\u001b[0;32m   3622\u001b[0m             \u001b[1;32mif\u001b[0m \u001b[0muse_hint\u001b[0m\u001b[1;33m:\u001b[0m\u001b[1;33m\u001b[0m\u001b[1;33m\u001b[0m\u001b[0m\n\u001b[0;32m   3623\u001b[0m                 \u001b[0mhint\u001b[0m \u001b[1;33m=\u001b[0m \u001b[1;34m'_eval_expand_'\u001b[0m \u001b[1;33m+\u001b[0m \u001b[0mhint\u001b[0m\u001b[1;33m\u001b[0m\u001b[1;33m\u001b[0m\u001b[0m\n\u001b[1;32m-> 3624\u001b[1;33m                 \u001b[0mexpr\u001b[0m\u001b[1;33m,\u001b[0m \u001b[0mhit\u001b[0m \u001b[1;33m=\u001b[0m \u001b[0mExpr\u001b[0m\u001b[1;33m.\u001b[0m\u001b[0m_expand_hint\u001b[0m\u001b[1;33m(\u001b[0m\u001b[0mexpr\u001b[0m\u001b[1;33m,\u001b[0m \u001b[0mhint\u001b[0m\u001b[1;33m,\u001b[0m \u001b[0mdeep\u001b[0m\u001b[1;33m=\u001b[0m\u001b[0mdeep\u001b[0m\u001b[1;33m,\u001b[0m \u001b[1;33m**\u001b[0m\u001b[0mhints\u001b[0m\u001b[1;33m)\u001b[0m\u001b[1;33m\u001b[0m\u001b[1;33m\u001b[0m\u001b[0m\n\u001b[0m\u001b[0;32m   3625\u001b[0m \u001b[1;33m\u001b[0m\u001b[0m\n\u001b[0;32m   3626\u001b[0m         \u001b[1;32mwhile\u001b[0m \u001b[1;32mTrue\u001b[0m\u001b[1;33m:\u001b[0m\u001b[1;33m\u001b[0m\u001b[1;33m\u001b[0m\u001b[0m\n",
      "\u001b[1;32m~\\anaconda3\\lib\\site-packages\\sympy\\core\\expr.py\u001b[0m in \u001b[0;36m_expand_hint\u001b[1;34m(expr, hint, deep, **hints)\u001b[0m\n\u001b[0;32m   3555\u001b[0m             \u001b[0msargs\u001b[0m \u001b[1;33m=\u001b[0m \u001b[1;33m[\u001b[0m\u001b[1;33m]\u001b[0m\u001b[1;33m\u001b[0m\u001b[1;33m\u001b[0m\u001b[0m\n\u001b[0;32m   3556\u001b[0m             \u001b[1;32mfor\u001b[0m \u001b[0marg\u001b[0m \u001b[1;32min\u001b[0m \u001b[0mexpr\u001b[0m\u001b[1;33m.\u001b[0m\u001b[0margs\u001b[0m\u001b[1;33m:\u001b[0m\u001b[1;33m\u001b[0m\u001b[1;33m\u001b[0m\u001b[0m\n\u001b[1;32m-> 3557\u001b[1;33m                 \u001b[0marg\u001b[0m\u001b[1;33m,\u001b[0m \u001b[0marghit\u001b[0m \u001b[1;33m=\u001b[0m \u001b[0mExpr\u001b[0m\u001b[1;33m.\u001b[0m\u001b[0m_expand_hint\u001b[0m\u001b[1;33m(\u001b[0m\u001b[0marg\u001b[0m\u001b[1;33m,\u001b[0m \u001b[0mhint\u001b[0m\u001b[1;33m,\u001b[0m \u001b[1;33m**\u001b[0m\u001b[0mhints\u001b[0m\u001b[1;33m)\u001b[0m\u001b[1;33m\u001b[0m\u001b[1;33m\u001b[0m\u001b[0m\n\u001b[0m\u001b[0;32m   3558\u001b[0m                 \u001b[0mhit\u001b[0m \u001b[1;33m|=\u001b[0m \u001b[0marghit\u001b[0m\u001b[1;33m\u001b[0m\u001b[1;33m\u001b[0m\u001b[0m\n\u001b[0;32m   3559\u001b[0m                 \u001b[0msargs\u001b[0m\u001b[1;33m.\u001b[0m\u001b[0mappend\u001b[0m\u001b[1;33m(\u001b[0m\u001b[0marg\u001b[0m\u001b[1;33m)\u001b[0m\u001b[1;33m\u001b[0m\u001b[1;33m\u001b[0m\u001b[0m\n",
      "\u001b[1;32m~\\anaconda3\\lib\\site-packages\\sympy\\core\\expr.py\u001b[0m in \u001b[0;36m_expand_hint\u001b[1;34m(expr, hint, deep, **hints)\u001b[0m\n\u001b[0;32m   3563\u001b[0m \u001b[1;33m\u001b[0m\u001b[0m\n\u001b[0;32m   3564\u001b[0m         \u001b[1;32mif\u001b[0m \u001b[0mhasattr\u001b[0m\u001b[1;33m(\u001b[0m\u001b[0mexpr\u001b[0m\u001b[1;33m,\u001b[0m \u001b[0mhint\u001b[0m\u001b[1;33m)\u001b[0m\u001b[1;33m:\u001b[0m\u001b[1;33m\u001b[0m\u001b[1;33m\u001b[0m\u001b[0m\n\u001b[1;32m-> 3565\u001b[1;33m             \u001b[0mnewexpr\u001b[0m \u001b[1;33m=\u001b[0m \u001b[0mgetattr\u001b[0m\u001b[1;33m(\u001b[0m\u001b[0mexpr\u001b[0m\u001b[1;33m,\u001b[0m \u001b[0mhint\u001b[0m\u001b[1;33m)\u001b[0m\u001b[1;33m(\u001b[0m\u001b[1;33m**\u001b[0m\u001b[0mhints\u001b[0m\u001b[1;33m)\u001b[0m\u001b[1;33m\u001b[0m\u001b[1;33m\u001b[0m\u001b[0m\n\u001b[0m\u001b[0;32m   3566\u001b[0m             \u001b[1;32mif\u001b[0m \u001b[0mnewexpr\u001b[0m \u001b[1;33m!=\u001b[0m \u001b[0mexpr\u001b[0m\u001b[1;33m:\u001b[0m\u001b[1;33m\u001b[0m\u001b[1;33m\u001b[0m\u001b[0m\n\u001b[0;32m   3567\u001b[0m                 \u001b[1;32mreturn\u001b[0m \u001b[1;33m(\u001b[0m\u001b[0mnewexpr\u001b[0m\u001b[1;33m,\u001b[0m \u001b[1;32mTrue\u001b[0m\u001b[1;33m)\u001b[0m\u001b[1;33m\u001b[0m\u001b[1;33m\u001b[0m\u001b[0m\n",
      "\u001b[1;32m~\\anaconda3\\lib\\site-packages\\sympy\\core\\mul.py\u001b[0m in \u001b[0;36m_eval_expand_mul\u001b[1;34m(self, **hints)\u001b[0m\n\u001b[0;32m    972\u001b[0m             \u001b[1;32mif\u001b[0m \u001b[0msums\u001b[0m\u001b[1;33m:\u001b[0m\u001b[1;33m\u001b[0m\u001b[1;33m\u001b[0m\u001b[0m\n\u001b[0;32m    973\u001b[0m                 \u001b[0mdeep\u001b[0m \u001b[1;33m=\u001b[0m \u001b[0mhints\u001b[0m\u001b[1;33m.\u001b[0m\u001b[0mget\u001b[0m\u001b[1;33m(\u001b[0m\u001b[1;34m\"deep\"\u001b[0m\u001b[1;33m,\u001b[0m \u001b[1;32mFalse\u001b[0m\u001b[1;33m)\u001b[0m\u001b[1;33m\u001b[0m\u001b[1;33m\u001b[0m\u001b[0m\n\u001b[1;32m--> 974\u001b[1;33m                 \u001b[0mterms\u001b[0m \u001b[1;33m=\u001b[0m \u001b[0mself\u001b[0m\u001b[1;33m.\u001b[0m\u001b[0mfunc\u001b[0m\u001b[1;33m.\u001b[0m\u001b[0m_expandsums\u001b[0m\u001b[1;33m(\u001b[0m\u001b[0msums\u001b[0m\u001b[1;33m)\u001b[0m\u001b[1;33m\u001b[0m\u001b[1;33m\u001b[0m\u001b[0m\n\u001b[0m\u001b[0;32m    975\u001b[0m                 \u001b[0margs\u001b[0m \u001b[1;33m=\u001b[0m \u001b[1;33m[\u001b[0m\u001b[1;33m]\u001b[0m\u001b[1;33m\u001b[0m\u001b[1;33m\u001b[0m\u001b[0m\n\u001b[0;32m    976\u001b[0m                 \u001b[1;32mfor\u001b[0m \u001b[0mterm\u001b[0m \u001b[1;32min\u001b[0m \u001b[0mterms\u001b[0m\u001b[1;33m:\u001b[0m\u001b[1;33m\u001b[0m\u001b[1;33m\u001b[0m\u001b[0m\n",
      "\u001b[1;32m~\\anaconda3\\lib\\site-packages\\sympy\\core\\mul.py\u001b[0m in \u001b[0;36m_expandsums\u001b[1;34m(sums)\u001b[0m\n\u001b[0;32m    937\u001b[0m         \u001b[0mright\u001b[0m \u001b[1;33m=\u001b[0m \u001b[0mMul\u001b[0m\u001b[1;33m.\u001b[0m\u001b[0m_expandsums\u001b[0m\u001b[1;33m(\u001b[0m\u001b[0msums\u001b[0m\u001b[1;33m[\u001b[0m\u001b[0mL\u001b[0m\u001b[1;33m//\u001b[0m\u001b[1;36m2\u001b[0m\u001b[1;33m:\u001b[0m\u001b[1;33m]\u001b[0m\u001b[1;33m)\u001b[0m\u001b[1;33m\u001b[0m\u001b[1;33m\u001b[0m\u001b[0m\n\u001b[0;32m    938\u001b[0m \u001b[1;33m\u001b[0m\u001b[0m\n\u001b[1;32m--> 939\u001b[1;33m         \u001b[0mterms\u001b[0m \u001b[1;33m=\u001b[0m \u001b[1;33m[\u001b[0m\u001b[0mMul\u001b[0m\u001b[1;33m(\u001b[0m\u001b[0ma\u001b[0m\u001b[1;33m,\u001b[0m \u001b[0mb\u001b[0m\u001b[1;33m)\u001b[0m \u001b[1;32mfor\u001b[0m \u001b[0ma\u001b[0m \u001b[1;32min\u001b[0m \u001b[0mleft\u001b[0m \u001b[1;32mfor\u001b[0m \u001b[0mb\u001b[0m \u001b[1;32min\u001b[0m \u001b[0mright\u001b[0m\u001b[1;33m]\u001b[0m\u001b[1;33m\u001b[0m\u001b[1;33m\u001b[0m\u001b[0m\n\u001b[0m\u001b[0;32m    940\u001b[0m         \u001b[0madded\u001b[0m \u001b[1;33m=\u001b[0m \u001b[0mAdd\u001b[0m\u001b[1;33m(\u001b[0m\u001b[1;33m*\u001b[0m\u001b[0mterms\u001b[0m\u001b[1;33m)\u001b[0m\u001b[1;33m\u001b[0m\u001b[1;33m\u001b[0m\u001b[0m\n\u001b[0;32m    941\u001b[0m         \u001b[1;32mreturn\u001b[0m \u001b[0mAdd\u001b[0m\u001b[1;33m.\u001b[0m\u001b[0mmake_args\u001b[0m\u001b[1;33m(\u001b[0m\u001b[0madded\u001b[0m\u001b[1;33m)\u001b[0m  \u001b[1;31m# it may have collapsed down to one term\u001b[0m\u001b[1;33m\u001b[0m\u001b[1;33m\u001b[0m\u001b[0m\n",
      "\u001b[1;32m~\\anaconda3\\lib\\site-packages\\sympy\\core\\mul.py\u001b[0m in \u001b[0;36m<listcomp>\u001b[1;34m(.0)\u001b[0m\n\u001b[0;32m    937\u001b[0m         \u001b[0mright\u001b[0m \u001b[1;33m=\u001b[0m \u001b[0mMul\u001b[0m\u001b[1;33m.\u001b[0m\u001b[0m_expandsums\u001b[0m\u001b[1;33m(\u001b[0m\u001b[0msums\u001b[0m\u001b[1;33m[\u001b[0m\u001b[0mL\u001b[0m\u001b[1;33m//\u001b[0m\u001b[1;36m2\u001b[0m\u001b[1;33m:\u001b[0m\u001b[1;33m]\u001b[0m\u001b[1;33m)\u001b[0m\u001b[1;33m\u001b[0m\u001b[1;33m\u001b[0m\u001b[0m\n\u001b[0;32m    938\u001b[0m \u001b[1;33m\u001b[0m\u001b[0m\n\u001b[1;32m--> 939\u001b[1;33m         \u001b[0mterms\u001b[0m \u001b[1;33m=\u001b[0m \u001b[1;33m[\u001b[0m\u001b[0mMul\u001b[0m\u001b[1;33m(\u001b[0m\u001b[0ma\u001b[0m\u001b[1;33m,\u001b[0m \u001b[0mb\u001b[0m\u001b[1;33m)\u001b[0m \u001b[1;32mfor\u001b[0m \u001b[0ma\u001b[0m \u001b[1;32min\u001b[0m \u001b[0mleft\u001b[0m \u001b[1;32mfor\u001b[0m \u001b[0mb\u001b[0m \u001b[1;32min\u001b[0m \u001b[0mright\u001b[0m\u001b[1;33m]\u001b[0m\u001b[1;33m\u001b[0m\u001b[1;33m\u001b[0m\u001b[0m\n\u001b[0m\u001b[0;32m    940\u001b[0m         \u001b[0madded\u001b[0m \u001b[1;33m=\u001b[0m \u001b[0mAdd\u001b[0m\u001b[1;33m(\u001b[0m\u001b[1;33m*\u001b[0m\u001b[0mterms\u001b[0m\u001b[1;33m)\u001b[0m\u001b[1;33m\u001b[0m\u001b[1;33m\u001b[0m\u001b[0m\n\u001b[0;32m    941\u001b[0m         \u001b[1;32mreturn\u001b[0m \u001b[0mAdd\u001b[0m\u001b[1;33m.\u001b[0m\u001b[0mmake_args\u001b[0m\u001b[1;33m(\u001b[0m\u001b[0madded\u001b[0m\u001b[1;33m)\u001b[0m  \u001b[1;31m# it may have collapsed down to one term\u001b[0m\u001b[1;33m\u001b[0m\u001b[1;33m\u001b[0m\u001b[0m\n",
      "\u001b[1;32m~\\anaconda3\\lib\\site-packages\\sympy\\core\\cache.py\u001b[0m in \u001b[0;36mwrapper\u001b[1;34m(*args, **kwargs)\u001b[0m\n\u001b[0;32m     68\u001b[0m         \u001b[1;32mdef\u001b[0m \u001b[0mwrapper\u001b[0m\u001b[1;33m(\u001b[0m\u001b[1;33m*\u001b[0m\u001b[0margs\u001b[0m\u001b[1;33m,\u001b[0m \u001b[1;33m**\u001b[0m\u001b[0mkwargs\u001b[0m\u001b[1;33m)\u001b[0m\u001b[1;33m:\u001b[0m\u001b[1;33m\u001b[0m\u001b[1;33m\u001b[0m\u001b[0m\n\u001b[0;32m     69\u001b[0m             \u001b[1;32mtry\u001b[0m\u001b[1;33m:\u001b[0m\u001b[1;33m\u001b[0m\u001b[1;33m\u001b[0m\u001b[0m\n\u001b[1;32m---> 70\u001b[1;33m                 \u001b[0mretval\u001b[0m \u001b[1;33m=\u001b[0m \u001b[0mcfunc\u001b[0m\u001b[1;33m(\u001b[0m\u001b[1;33m*\u001b[0m\u001b[0margs\u001b[0m\u001b[1;33m,\u001b[0m \u001b[1;33m**\u001b[0m\u001b[0mkwargs\u001b[0m\u001b[1;33m)\u001b[0m\u001b[1;33m\u001b[0m\u001b[1;33m\u001b[0m\u001b[0m\n\u001b[0m\u001b[0;32m     71\u001b[0m             \u001b[1;32mexcept\u001b[0m \u001b[0mTypeError\u001b[0m \u001b[1;32mas\u001b[0m \u001b[0me\u001b[0m\u001b[1;33m:\u001b[0m\u001b[1;33m\u001b[0m\u001b[1;33m\u001b[0m\u001b[0m\n\u001b[0;32m     72\u001b[0m                 \u001b[1;32mif\u001b[0m \u001b[1;32mnot\u001b[0m \u001b[0me\u001b[0m\u001b[1;33m.\u001b[0m\u001b[0margs\u001b[0m \u001b[1;32mor\u001b[0m \u001b[1;32mnot\u001b[0m \u001b[0me\u001b[0m\u001b[1;33m.\u001b[0m\u001b[0margs\u001b[0m\u001b[1;33m[\u001b[0m\u001b[1;36m0\u001b[0m\u001b[1;33m]\u001b[0m\u001b[1;33m.\u001b[0m\u001b[0mstartswith\u001b[0m\u001b[1;33m(\u001b[0m\u001b[1;34m'unhashable type:'\u001b[0m\u001b[1;33m)\u001b[0m\u001b[1;33m:\u001b[0m\u001b[1;33m\u001b[0m\u001b[1;33m\u001b[0m\u001b[0m\n",
      "\u001b[1;32m~\\anaconda3\\lib\\site-packages\\sympy\\core\\operations.py\u001b[0m in \u001b[0;36m__new__\u001b[1;34m(cls, evaluate, _sympify, *args)\u001b[0m\n\u001b[0;32m     99\u001b[0m         \u001b[0mis_commutative\u001b[0m \u001b[1;33m=\u001b[0m \u001b[1;32mnot\u001b[0m \u001b[0mnc_part\u001b[0m\u001b[1;33m\u001b[0m\u001b[1;33m\u001b[0m\u001b[0m\n\u001b[0;32m    100\u001b[0m         \u001b[0mobj\u001b[0m \u001b[1;33m=\u001b[0m \u001b[0mcls\u001b[0m\u001b[1;33m.\u001b[0m\u001b[0m_from_args\u001b[0m\u001b[1;33m(\u001b[0m\u001b[0mc_part\u001b[0m \u001b[1;33m+\u001b[0m \u001b[0mnc_part\u001b[0m\u001b[1;33m,\u001b[0m \u001b[0mis_commutative\u001b[0m\u001b[1;33m)\u001b[0m\u001b[1;33m\u001b[0m\u001b[1;33m\u001b[0m\u001b[0m\n\u001b[1;32m--> 101\u001b[1;33m         \u001b[0mobj\u001b[0m \u001b[1;33m=\u001b[0m \u001b[0mcls\u001b[0m\u001b[1;33m.\u001b[0m\u001b[0m_exec_constructor_postprocessors\u001b[0m\u001b[1;33m(\u001b[0m\u001b[0mobj\u001b[0m\u001b[1;33m)\u001b[0m\u001b[1;33m\u001b[0m\u001b[1;33m\u001b[0m\u001b[0m\n\u001b[0m\u001b[0;32m    102\u001b[0m \u001b[1;33m\u001b[0m\u001b[0m\n\u001b[0;32m    103\u001b[0m         \u001b[1;32mif\u001b[0m \u001b[0morder_symbols\u001b[0m \u001b[1;32mis\u001b[0m \u001b[1;32mnot\u001b[0m \u001b[1;32mNone\u001b[0m\u001b[1;33m:\u001b[0m\u001b[1;33m\u001b[0m\u001b[1;33m\u001b[0m\u001b[0m\n",
      "\u001b[1;32m~\\anaconda3\\lib\\site-packages\\sympy\\core\\basic.py\u001b[0m in \u001b[0;36m_exec_constructor_postprocessors\u001b[1;34m(cls, obj)\u001b[0m\n\u001b[0;32m   1933\u001b[0m                     \u001b[1;32mif\u001b[0m \u001b[0mcls\u001b[0m \u001b[1;32min\u001b[0m \u001b[0mBasic\u001b[0m\u001b[1;33m.\u001b[0m\u001b[0m_constructor_postprocessor_mapping\u001b[0m\u001b[1;33m\u001b[0m\u001b[1;33m\u001b[0m\u001b[0m\n\u001b[0;32m   1934\u001b[0m                 )\n\u001b[1;32m-> 1935\u001b[1;33m                 \u001b[1;32mfor\u001b[0m \u001b[0mk\u001b[0m\u001b[1;33m,\u001b[0m \u001b[0mv\u001b[0m \u001b[1;32min\u001b[0m \u001b[0mchain\u001b[0m\u001b[1;33m.\u001b[0m\u001b[0mfrom_iterable\u001b[0m\u001b[1;33m(\u001b[0m\u001b[0mpostprocessor_mappings\u001b[0m\u001b[1;33m)\u001b[0m\u001b[1;33m:\u001b[0m\u001b[1;33m\u001b[0m\u001b[1;33m\u001b[0m\u001b[0m\n\u001b[0m\u001b[0;32m   1936\u001b[0m                     \u001b[0mpostprocessors\u001b[0m\u001b[1;33m[\u001b[0m\u001b[0mk\u001b[0m\u001b[1;33m]\u001b[0m\u001b[1;33m.\u001b[0m\u001b[0mextend\u001b[0m\u001b[1;33m(\u001b[0m\u001b[1;33m[\u001b[0m\u001b[0mj\u001b[0m \u001b[1;32mfor\u001b[0m \u001b[0mj\u001b[0m \u001b[1;32min\u001b[0m \u001b[0mv\u001b[0m \u001b[1;32mif\u001b[0m \u001b[0mj\u001b[0m \u001b[1;32mnot\u001b[0m \u001b[1;32min\u001b[0m \u001b[0mpostprocessors\u001b[0m\u001b[1;33m[\u001b[0m\u001b[0mk\u001b[0m\u001b[1;33m]\u001b[0m\u001b[1;33m]\u001b[0m\u001b[1;33m)\u001b[0m\u001b[1;33m\u001b[0m\u001b[1;33m\u001b[0m\u001b[0m\n\u001b[0;32m   1937\u001b[0m             \u001b[1;32mexcept\u001b[0m \u001b[0mTypeError\u001b[0m\u001b[1;33m:\u001b[0m\u001b[1;33m\u001b[0m\u001b[1;33m\u001b[0m\u001b[0m\n",
      "\u001b[1;32m~\\anaconda3\\lib\\site-packages\\sympy\\core\\basic.py\u001b[0m in \u001b[0;36m<genexpr>\u001b[1;34m(.0)\u001b[0m\n\u001b[0;32m   1931\u001b[0m                     \u001b[0mBasic\u001b[0m\u001b[1;33m.\u001b[0m\u001b[0m_constructor_postprocessor_mapping\u001b[0m\u001b[1;33m[\u001b[0m\u001b[0mcls\u001b[0m\u001b[1;33m]\u001b[0m\u001b[1;33m.\u001b[0m\u001b[0mitems\u001b[0m\u001b[1;33m(\u001b[0m\u001b[1;33m)\u001b[0m\u001b[1;33m\u001b[0m\u001b[1;33m\u001b[0m\u001b[0m\n\u001b[0;32m   1932\u001b[0m                     \u001b[1;32mfor\u001b[0m \u001b[0mcls\u001b[0m \u001b[1;32min\u001b[0m \u001b[0mtype\u001b[0m\u001b[1;33m(\u001b[0m\u001b[0mi\u001b[0m\u001b[1;33m)\u001b[0m\u001b[1;33m.\u001b[0m\u001b[0mmro\u001b[0m\u001b[1;33m(\u001b[0m\u001b[1;33m)\u001b[0m\u001b[1;33m\u001b[0m\u001b[1;33m\u001b[0m\u001b[0m\n\u001b[1;32m-> 1933\u001b[1;33m                     \u001b[1;32mif\u001b[0m \u001b[0mcls\u001b[0m \u001b[1;32min\u001b[0m \u001b[0mBasic\u001b[0m\u001b[1;33m.\u001b[0m\u001b[0m_constructor_postprocessor_mapping\u001b[0m\u001b[1;33m\u001b[0m\u001b[1;33m\u001b[0m\u001b[0m\n\u001b[0m\u001b[0;32m   1934\u001b[0m                 )\n\u001b[0;32m   1935\u001b[0m                 \u001b[1;32mfor\u001b[0m \u001b[0mk\u001b[0m\u001b[1;33m,\u001b[0m \u001b[0mv\u001b[0m \u001b[1;32min\u001b[0m \u001b[0mchain\u001b[0m\u001b[1;33m.\u001b[0m\u001b[0mfrom_iterable\u001b[0m\u001b[1;33m(\u001b[0m\u001b[0mpostprocessor_mappings\u001b[0m\u001b[1;33m)\u001b[0m\u001b[1;33m:\u001b[0m\u001b[1;33m\u001b[0m\u001b[1;33m\u001b[0m\u001b[0m\n",
      "\u001b[1;31mKeyboardInterrupt\u001b[0m: "
     ]
    }
   ],
   "source": [
    "D = symbols(\"i\") - A + asin(n*sin(A - asin(sin(symbols(\"i\"))/n ) ) )\n",
    "med = solve(Eq(diff(D, symbols(\"i\")),0), symbols(\"i\"))\n",
    "med"
   ]
  },
  {
   "cell_type": "code",
   "execution_count": 135,
   "id": "5c00dced",
   "metadata": {},
   "outputs": [
    {
     "data": {
      "text/html": [
       "<div>\n",
       "<style scoped>\n",
       "    .dataframe tbody tr th:only-of-type {\n",
       "        vertical-align: middle;\n",
       "    }\n",
       "\n",
       "    .dataframe tbody tr th {\n",
       "        vertical-align: top;\n",
       "    }\n",
       "\n",
       "    .dataframe thead th {\n",
       "        text-align: right;\n",
       "    }\n",
       "</style>\n",
       "<table border=\"1\" class=\"dataframe\">\n",
       "  <thead>\n",
       "    <tr style=\"text-align: right;\">\n",
       "      <th></th>\n",
       "      <th>Slit Width Microns</th>\n",
       "      <th>Separation Between Each Line (mm) on Screen</th>\n",
       "      <th>Rotational Stage Reading When Blazed</th>\n",
       "      <th>Rotational stage reading when the diffraction grating is normal to the beam</th>\n",
       "      <th>Brighter Further Line Separation From Incoming Beam</th>\n",
       "      <th>Dimmer Closer Line Separation From Incoming Beam</th>\n",
       "    </tr>\n",
       "  </thead>\n",
       "  <tbody>\n",
       "    <tr>\n",
       "      <th>0</th>\n",
       "      <td>15 \\pm .5</td>\n",
       "      <td>5 mm \\pm .5 mm</td>\n",
       "      <td>97 degrees 55 arcminutes \\pm 5 arcminutes</td>\n",
       "      <td>95 degrees 35 arcminutes \\pm 5 arcminutes</td>\n",
       "      <td>74 \\pm .7 mm</td>\n",
       "      <td>64 \\pm .7 mm</td>\n",
       "    </tr>\n",
       "    <tr>\n",
       "      <th>1</th>\n",
       "      <td>19.5 \\pm .5</td>\n",
       "      <td>5 cm \\pm 0.5 mm</td>\n",
       "      <td>98 degrees 10 arcminutes \\pm 5 arcminutes</td>\n",
       "      <td>95 degrees 25 arcminutes \\pm 5 arcminutes</td>\n",
       "      <td>75.5 mm \\pm 0.7 mm</td>\n",
       "      <td>70.0 mm \\pm 0.7 mm</td>\n",
       "    </tr>\n",
       "    <tr>\n",
       "      <th>2</th>\n",
       "      <td>8 \\pm 0.5</td>\n",
       "      <td>Not Recorded</td>\n",
       "      <td>97 degrees and 50 arcminutes \\pm 5 arcminutes</td>\n",
       "      <td>96 degrees and 5 arcminutes \\pm 5 arcminutes</td>\n",
       "      <td>86.0 mm \\pm 0.7 mm</td>\n",
       "      <td>76.5 mm \\pm 0.7 mm</td>\n",
       "    </tr>\n",
       "  </tbody>\n",
       "</table>\n",
       "</div>"
      ],
      "text/plain": [
       "  Slit Width Microns Separation Between Each Line (mm) on Screen  \\\n",
       "0          15 \\pm .5                              5 mm \\pm .5 mm   \n",
       "1        19.5 \\pm .5                             5 cm \\pm 0.5 mm   \n",
       "2          8 \\pm 0.5                                Not Recorded   \n",
       "\n",
       "            Rotational Stage Reading When Blazed  \\\n",
       "0      97 degrees 55 arcminutes \\pm 5 arcminutes   \n",
       "1      98 degrees 10 arcminutes \\pm 5 arcminutes   \n",
       "2  97 degrees and 50 arcminutes \\pm 5 arcminutes   \n",
       "\n",
       "  Rotational stage reading when the diffraction grating is normal to the beam  \\\n",
       "0          95 degrees 35 arcminutes \\pm 5 arcminutes                            \n",
       "1          95 degrees 25 arcminutes \\pm 5 arcminutes                            \n",
       "2       96 degrees and 5 arcminutes \\pm 5 arcminutes                            \n",
       "\n",
       "  Brighter Further Line Separation From Incoming Beam  \\\n",
       "0                                       74 \\pm .7 mm    \n",
       "1                                 75.5 mm \\pm 0.7 mm    \n",
       "2                                 86.0 mm \\pm 0.7 mm    \n",
       "\n",
       "  Dimmer Closer Line Separation From Incoming Beam  \n",
       "0                                     64 \\pm .7 mm  \n",
       "1                               70.0 mm \\pm 0.7 mm  \n",
       "2                               76.5 mm \\pm 0.7 mm  "
      ]
     },
     "execution_count": 135,
     "metadata": {},
     "output_type": "execute_result"
    }
   ],
   "source": [
    "data = pd.read_csv(\"lab4 - The Cooler First Order.csv\")\n",
    "data, end_of_data = data.iloc[:3,:], data.iloc[3:,:]\n",
    "end_of_data = [x for x in end_of_data.iloc[:,0] if len(str(x))>0\n",
    "              if type(x) is str]\n",
    "data"
   ]
  },
  {
   "cell_type": "code",
   "execution_count": 96,
   "id": "94d14362",
   "metadata": {},
   "outputs": [
    {
     "name": "stdout",
     "output_type": "stream",
     "text": [
      "distance from diffraction grating to red line on our piece of paper 97.5 \\pm 0.7 mm\n",
      "1200 lines/mm diffraction grating\n"
     ]
    }
   ],
   "source": [
    "for note in end_of_data:\n",
    "    print(note)"
   ]
  },
  {
   "cell_type": "code",
   "execution_count": 199,
   "id": "69aec6c1",
   "metadata": {},
   "outputs": [
    {
     "data": {
      "text/plain": [
       "{15.0: 0.5, 19.5: 0.5, 8.0: 0.5}"
      ]
     },
     "execution_count": 199,
     "metadata": {},
     "output_type": "execute_result"
    }
   ],
   "source": [
    "def convert_data(element):\n",
    "    try:\n",
    "        expected_val, uncertainty = [float(x) for x \n",
    "            in element.split(\" \")\n",
    "            if len(x)>0 and (x[-1].isnumeric() or x[0].isnumeric())]\n",
    "        return expected_val, uncertainty\n",
    "    except: \n",
    "        try: \n",
    "            expected_val, arcmin, uncertainty = [float(x) for x \n",
    "            in element.split(\" \")\n",
    "            if x[-1].isnumeric() or x[0].isnumeric()]\n",
    "            expected_val = expected_val + arcmin / 60\n",
    "            return expected_val, uncertainty / 60\n",
    "        except:\n",
    "            return \"NA\"\n",
    "def arr_to_dict(arr):\n",
    "    out = {}\n",
    "    for pair in arr:\n",
    "        out[pair[0]] = pair[1]\n",
    "    return out\n",
    "def convert_col(df, col):\n",
    "    return arr_to_dict([convert_data(x) for x in data[col]])\n",
    "slit_widths = convert_col(data, 'Slit Width Microns')\n",
    "slit_widths"
   ]
  },
  {
   "cell_type": "markdown",
   "id": "76624aa0",
   "metadata": {},
   "source": [
    "We now perform an average weighted linearly by the slit width, since it should be proportional to the photon flux on the screen. "
   ]
  },
  {
   "cell_type": "code",
   "execution_count": 200,
   "id": "e7915af5",
   "metadata": {},
   "outputs": [],
   "source": [
    "weights = [x for x in slit_widths.keys()]\n",
    "n = len(weights)"
   ]
  },
  {
   "cell_type": "code",
   "execution_count": 201,
   "id": "23c87095",
   "metadata": {
    "scrolled": true
   },
   "outputs": [
    {
     "data": {
      "text/plain": [
       "{1.7106964440920107: 0.000839721927886212}"
      ]
     },
     "execution_count": 201,
     "metadata": {},
     "output_type": "execute_result"
    }
   ],
   "source": [
    "def weighted_average(data, col, weights, coeff=1):\n",
    "    column = convert_col(data, col)\n",
    "    keys = coeff * np.array([x for x in column.keys()])\n",
    "    unc = coeff * [x for x in column.values()][0] / np.sqrt(\n",
    "            len(weights))\n",
    "    return { np.sum(np.array([weights[col] * keys[col] for \n",
    "            col in range(data.shape[0])])) / np.sum(weights) : unc }\n",
    "average_angle_blazed = weighted_average(data, \n",
    "        'Rotational Stage Reading When Blazed', weights, np.pi/180)\n",
    "average_angle_blazed"
   ]
  },
  {
   "cell_type": "code",
   "execution_count": 202,
   "id": "b6fc48c4",
   "metadata": {},
   "outputs": [
    {
     "data": {
      "text/plain": [
       "{1.668551875977677: 0.000839721927886212}"
      ]
     },
     "execution_count": 202,
     "metadata": {},
     "output_type": "execute_result"
    }
   ],
   "source": [
    "col = 'Rotational stage reading when the diffraction grating is normal to the beam'\n",
    "average_angle_zeroed = weighted_average(data, col, weights, np.pi/180)\n",
    "average_angle_zeroed "
   ]
  },
  {
   "cell_type": "code",
   "execution_count": 203,
   "id": "aa0f0cf4",
   "metadata": {},
   "outputs": [
    {
     "data": {
      "text/plain": [
       "{76.94705882352942: 0.40414518843273806}"
      ]
     },
     "execution_count": 203,
     "metadata": {},
     "output_type": "execute_result"
    }
   ],
   "source": [
    "brighter_further = weighted_average(data, \n",
    "    'Brighter Further Line Separation From Incoming Beam', weights)\n",
    "brighter_further"
   ]
  },
  {
   "cell_type": "code",
   "execution_count": 204,
   "id": "4b365b2d",
   "metadata": {},
   "outputs": [
    {
     "data": {
      "text/plain": [
       "{69.10588235294118: 0.40414518843273806}"
      ]
     },
     "execution_count": 204,
     "metadata": {},
     "output_type": "execute_result"
    }
   ],
   "source": [
    "dimmer_closer = weighted_average(data, \n",
    "    'Dimmer Closer Line Separation From Incoming Beam', weights)\n",
    "dimmer_closer"
   ]
  },
  {
   "cell_type": "markdown",
   "id": "4674d7ea",
   "metadata": {},
   "source": [
    "I have written a publicly available error propagation Python script on Github, which I make use of here. The purpose of this file is to have a set of functions that can calculate error propagation.\n",
    "All inputs will be dictionaries of the form\n",
    "\n",
    "dict = {value1: uncertainty1, value2: uncertainty2, ...}\n",
    "\n",
    "All outputs will be lists of the form (value, uncertainty).\n",
    "All uncertanties should be listed as nonnegative real numbers.\n",
    "For the general() function to calculate the exact uncertainty,\n",
    "the syntax for defining functions used here:\n",
    "\n",
    "https://www.askpython.com/python/examples/derivatives-in-python-sympy\n",
    "\n",
    "should be used.\n",
    "The purpose of symbol_list list is to have up to 26 variable names to take\n",
    "partial differentials in general()\n",
    "All functions used in the general function must use the first n letters of\n",
    "the alphabet as their variables"
   ]
  },
  {
   "cell_type": "code",
   "execution_count": 205,
   "id": "f48daf2d",
   "metadata": {
    "scrolled": true
   },
   "outputs": [
    {
     "name": "stdout",
     "output_type": "stream",
     "text": [
      "(3.50656581341894, 1.8267621151828408)\n"
     ]
    }
   ],
   "source": [
    "a, b, c, d, e, f, g, h, i, j, k, l, m = symbols('a b c d e f g h i j k l m')\n",
    "n, o, p, q, r, s, t, u, v, w, x, y, z = symbols('n o p q r s t u v w x y z')\n",
    "symbol_list = (a, b, c, d, e, f, g, h, i, j, k, l, m, n, o, p, q, r, s, t, u, v,\n",
    "w, x, y, z)\n",
    "\n",
    "def general (dict, fun):\n",
    "    #can only take up to 26 inputs\n",
    "    #its output is of the form (exact uncertainty, maximum uncertainty)\n",
    "    sum_squares = 0\n",
    "\n",
    "    try:\n",
    "        keys = np.array(list(dict.keys()))\n",
    "        values = np.array(list(dict.values()))\n",
    "        for index in range(len(keys)):\n",
    "            diff_f = fun.diff(symbol_list[index])\n",
    "            lam_f = lambdify(symbol_list[0:len(keys)], diff_f)\n",
    "            sum_squares += (lam_f(*keys) * values[index]) ** 2\n",
    "        lam_og = lambdify(symbol_list[0:len(keys)], fun)\n",
    "        best_est = lam_og(*keys)\n",
    "    except:\n",
    "        print(\"Singular uncertainty entered\")\n",
    "        keys = list(dict.keys())\n",
    "        keys = float(keys[0])\n",
    "        values = list(dict.values())\n",
    "        values = float(values[0])\n",
    "        diff_f = fun.diff(symbol_list[0])\n",
    "        lam_f = lambdify(symbol_list[0], diff_f)\n",
    "        sum_squares += (lam_f(keys) * values) ** 2\n",
    "        lam_og = lambdify(symbol_list[0], fun)\n",
    "        lam_og(keys)\n",
    "\n",
    "    uncertainty = math.sqrt(sum_squares)\n",
    "\n",
    "    return (best_est, uncertainty)\n",
    "#a = x, y = b, c = theta\n",
    "fun = (a + 2) / (a + (b * cos(4 * c * np.pi / 180)))\n",
    "dict = {10:2, 7:1, 40:3}\n",
    "print(general(dict, fun))"
   ]
  },
  {
   "cell_type": "markdown",
   "id": "4a097ba3",
   "metadata": {},
   "source": [
    "a = l1, b = linear separations (brigth lines)\n",
    "\n",
    "c is the starting angle, d is the grating angle\n",
    "\n",
    "e is $\\alpha$ and will be a function of the c and d. \n",
    "\n",
    "f is $\\beta$ and will be a function of e, a, and b. \n",
    "\n",
    "g is $\\lambda$ will be a function of e and f."
   ]
  },
  {
   "cell_type": "code",
   "execution_count": 206,
   "id": "419ad5a7",
   "metadata": {
    "scrolled": true
   },
   "outputs": [
    {
     "data": {
      "text/markdown": [
       "Where atan is arctan, a is the angle on rotional stage, b is the angle on the rotational stage when normal to the incoming beam, d is the distance from the diffraction grating to an arbitrary line normal to the incoming beam,c is the distance from the spectral feature on the screenfrom the incoming beam along the same arbitrary line we have for the wavelength in nanometers\\begin{equation}\\lambda=833.333333333333 \\sin{\\left(a - b \\right)} + 833.333333333333 \\sin{\\left(- a + b + \\operatorname{atan}{\\left(\\frac{c}{d} \\right)} \\right)}\\end{equation}"
      ],
      "text/plain": [
       "<IPython.core.display.Markdown object>"
      ]
     },
     "execution_count": 206,
     "metadata": {},
     "output_type": "execute_result"
    }
   ],
   "source": [
    "arctan = atan\n",
    "angle_when_blazed, angle_when_zeroed = symbols(\"a b\")\n",
    "d_n, grating_to_red_line = symbols(\"c d\")\n",
    "alpha = angle_when_blazed - angle_when_zeroed\n",
    "beta = arctan(d_n / grating_to_red_line) - alpha\n",
    "wavelength = 10**6 * (1/1200) * (sin(alpha) + sin(beta))\n",
    "md(\"Where atan is arctan, a is the angle on rotional stage, b\" \n",
    "   \" is the angle on the rotational stage when normal to the \" \n",
    "   \"incoming beam, d is the distance from the diffraction grating\"\n",
    "   \" to an arbitrary line normal to the incoming beam,\" +  \n",
    "   \"c is the distance from the spectral feature on the screen\" + \n",
    "    \"from the incoming beam along the same arbitrary line\" + \n",
    "   \" we have for the wavelength in nanometers\\\\begin{equation}\" + \n",
    "   \"\\\\lambda=\" + latp(simplify(wavelength)) +\"\\\\end{equation}\")"
   ]
  },
  {
   "cell_type": "code",
   "execution_count": 213,
   "id": "dcd35c5d",
   "metadata": {},
   "outputs": [
    {
     "data": {
      "text/markdown": [
       "We have for the wavelength of the brighter emission line in the doublet\\begin{equation}\\Large\\lambda=508.252648723968\\pm2.74364673383703\\end{equation}"
      ],
      "text/plain": [
       "<IPython.core.display.Markdown object>"
      ]
     },
     "execution_count": 213,
     "metadata": {},
     "output_type": "execute_result"
    }
   ],
   "source": [
    "averaged_dict = (average_angle_zeroed | average_angle_blazed |\n",
    "            brighter_further | {97.5:.7} )\n",
    "lam_brighter_further = general(averaged_dict, wavelength)\n",
    "md(\"We have for the wavelength of the brighter emission line in the doublet\" \n",
    "   + \"\\\\begin{equation}\\\\Large\\\\lambda=\" + latp(lam_brighter_further[0]) + \n",
    "   \"\\\\pm\" + latp(lam_brighter_further[1]) + \"\\\\end{equation}\")"
   ]
  },
  {
   "cell_type": "code",
   "execution_count": 216,
   "id": "3eb802ae",
   "metadata": {},
   "outputs": [
    {
     "data": {
      "text/markdown": [
       "We have for the wavelength of the brighter emission line in thedoublet \\begin{equation}\\Large\\lambda=474.989240424089\\pm2.88615877888694\\end{equation}"
      ],
      "text/plain": [
       "<IPython.core.display.Markdown object>"
      ]
     },
     "execution_count": 216,
     "metadata": {},
     "output_type": "execute_result"
    }
   ],
   "source": [
    "averaged_dict = (average_angle_zeroed | average_angle_blazed |\n",
    "            dimmer_closer | {97.5:.7} )\n",
    "lam_dimmer_closer = general(averaged_dict, wavelength)\n",
    "md(\"We have for the wavelength of the brighter emission line in the\" +\n",
    "   \"doublet \\\\begin{equation}\\\\Large\\\\lambda=\" + \n",
    "   latp(lam_dimmer_closer[0]) + \n",
    "   \"\\\\pm\" + latp(lam_dimmer_closer[1]) + \"\\\\end{equation}\")"
   ]
  },
  {
   "cell_type": "code",
   "execution_count": 208,
   "id": "f03f2e64",
   "metadata": {},
   "outputs": [
    {
     "data": {
      "text/plain": [
       "[(5.102890579244702e-07, 3.922286771499865e-09),\n",
       " (5.179946754817732e-07, 3.887052352269226e-09),\n",
       " (5.573517119714388e-07, 3.4763810423286545e-09)]"
      ]
     },
     "execution_count": 208,
     "metadata": {},
     "output_type": "execute_result"
    }
   ],
   "source": [
    "e = d - c  \n",
    "f = arctan( b / a) - e\n",
    "g = 10**-3 / (1200) * (sin(e) + sin(f))\n",
    "b_arr = [74.0, 75.5, 86.0]\n",
    "c_arr = np.pi * np.array([95+35/60, 95 + 25/60, 96 + 5/60]) / 180\n",
    "d_arr = np.pi * np.array([97+55/60, 98 + 10/60, 97 + 50/60]) / 180\n",
    "angle_unc = 5 * np.pi / ( 60 * 180 )\n",
    "output = [general({97.5:.7, b_arr[i]:.7, c_arr[i]:angle_unc, \n",
    "                d_arr[i]:angle_unc}, g) for i in range(len(b_arr))]\n",
    "output"
   ]
  },
  {
   "cell_type": "code",
   "execution_count": null,
   "id": "2e22e7e9",
   "metadata": {},
   "outputs": [],
   "source": []
  },
  {
   "cell_type": "code",
   "execution_count": null,
   "id": "69df090d",
   "metadata": {},
   "outputs": [],
   "source": [
    "    "
   ]
  },
  {
   "cell_type": "markdown",
   "id": "dea0029c",
   "metadata": {},
   "source": []
  },
  {
   "cell_type": "code",
   "execution_count": null,
   "id": "8ee46881",
   "metadata": {},
   "outputs": [],
   "source": []
  },
  {
   "cell_type": "code",
   "execution_count": null,
   "id": "156c4e7c",
   "metadata": {},
   "outputs": [],
   "source": []
  },
  {
   "cell_type": "code",
   "execution_count": null,
   "id": "ca159856",
   "metadata": {},
   "outputs": [],
   "source": []
  },
  {
   "cell_type": "code",
   "execution_count": null,
   "id": "0c695cf9",
   "metadata": {},
   "outputs": [],
   "source": []
  },
  {
   "cell_type": "code",
   "execution_count": null,
   "id": "1ff12347",
   "metadata": {},
   "outputs": [],
   "source": []
  },
  {
   "cell_type": "code",
   "execution_count": null,
   "id": "58315814",
   "metadata": {},
   "outputs": [],
   "source": []
  },
  {
   "cell_type": "code",
   "execution_count": null,
   "id": "11118ee4",
   "metadata": {},
   "outputs": [],
   "source": []
  },
  {
   "cell_type": "code",
   "execution_count": null,
   "id": "85d289e0",
   "metadata": {},
   "outputs": [],
   "source": []
  },
  {
   "cell_type": "code",
   "execution_count": null,
   "id": "73a57e03",
   "metadata": {},
   "outputs": [],
   "source": []
  },
  {
   "cell_type": "code",
   "execution_count": null,
   "id": "d89daf04",
   "metadata": {},
   "outputs": [],
   "source": []
  },
  {
   "cell_type": "markdown",
   "id": "a9da9e76",
   "metadata": {},
   "source": []
  }
 ],
 "metadata": {
  "kernelspec": {
   "display_name": "Python 3 (ipykernel)",
   "language": "python",
   "name": "python3"
  },
  "language_info": {
   "codemirror_mode": {
    "name": "ipython",
    "version": 3
   },
   "file_extension": ".py",
   "mimetype": "text/x-python",
   "name": "python",
   "nbconvert_exporter": "python",
   "pygments_lexer": "ipython3",
   "version": "3.9.13"
  },
  "latex_envs": {
   "LaTeX_envs_menu_present": true,
   "autoclose": false,
   "autocomplete": true,
   "bibliofile": "biblio.bib",
   "cite_by": "apalike",
   "current_citInitial": 1,
   "eqLabelWithNumbers": true,
   "eqNumInitial": 1,
   "hotkeys": {
    "equation": "Ctrl-E",
    "itemize": "Ctrl-I"
   },
   "labels_anchors": false,
   "latex_user_defs": false,
   "report_style_numbering": false,
   "user_envs_cfg": false
  },
  "toc": {
   "base_numbering": 1,
   "nav_menu": {},
   "number_sections": true,
   "sideBar": true,
   "skip_h1_title": false,
   "title_cell": "Table of Contents",
   "title_sidebar": "Contents",
   "toc_cell": false,
   "toc_position": {
    "height": "calc(100% - 180px)",
    "left": "10px",
    "top": "150px",
    "width": "165px"
   },
   "toc_section_display": true,
   "toc_window_display": true
  },
  "varInspector": {
   "cols": {
    "lenName": 16,
    "lenType": 16,
    "lenVar": 40
   },
   "kernels_config": {
    "python": {
     "delete_cmd_postfix": "",
     "delete_cmd_prefix": "del ",
     "library": "var_list.py",
     "varRefreshCmd": "print(var_dic_list())"
    },
    "r": {
     "delete_cmd_postfix": ") ",
     "delete_cmd_prefix": "rm(",
     "library": "var_list.r",
     "varRefreshCmd": "cat(var_dic_list()) "
    }
   },
   "types_to_exclude": [
    "module",
    "function",
    "builtin_function_or_method",
    "instance",
    "_Feature"
   ],
   "window_display": false
  }
 },
 "nbformat": 4,
 "nbformat_minor": 5
}
