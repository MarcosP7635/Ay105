{
 "cells": [
  {
   "cell_type": "code",
   "execution_count": 32,
   "id": "e5bbf85c",
   "metadata": {},
   "outputs": [
    {
     "data": {
      "text/latex": [
       "$\\displaystyle \\hbar$"
      ],
      "text/plain": [
       "hbar"
      ]
     },
     "execution_count": 32,
     "metadata": {},
     "output_type": "execute_result"
    }
   ],
   "source": [
    "import numpy as np\n",
    "import matplotlib.pyplot as plt\n",
    "from astropy.io import fits\n",
    "import math\n",
    "from scipy.optimize import curve_fit\n",
    "import glob\n",
    "import os\n",
    "import sys\n",
    "import matplotlib.backends.backend_pdf\n",
    "import matplotlib.gridspec as gridspec\n",
    "from scipy.stats import norm\n",
    "from scipy.stats import lognorm\n",
    "from scipy import linalg\n",
    "import pprint\n",
    "import re\n",
    "plt.rc('font', family='serif')\n",
    "from matplotlib import rc\n",
    "import pandas as pd\n",
    "from astropy import constants as const\n",
    "from astropy import units as units\n",
    "from IPython.display import Markdown as md\n",
    "import sympy\n",
    "import pandas\n",
    "from sympy import integrate, diff, sqrt, cos, sin, pi, exp, log\n",
    "from sympy.abc import * \n",
    "i = sqrt(-1)\n",
    "import numpy as np\n",
    "import sympy.printing as printing\n",
    "latp = printing.latex\n",
    "hbar = sympy.symbols(\"hbar\", real=True)\n",
    "import mpmath \n",
    "import plotly.express as px\n",
    "import plotly.graph_objs as go\n",
    "hbar"
   ]
  },
  {
   "cell_type": "markdown",
   "id": "0e783c00",
   "metadata": {},
   "source": [
    "We now follow the directions in the background for the following derivations.\n",
    "\\begin{align}\n",
    "&\\text{Grating Equation}\\quad\\ m\\lambda\\frac{1}{a} = \\sin\\alpha\\pm\\sin\\beta\\\\\n",
    "&\\text{Since we use a reflective grating}\\quad\\ m\\lambda\\frac{1}{a} = \\sin\\alpha+\\sin\\beta\\\\ \n",
    "&\\text{Taking the partial derivative with respect to }\\lambda\\quad\\  \n",
    "\\frac{m}{a} = \\frac{\\partial \\beta}{\\partial \\lambda}\\cos\\beta\\\\ \n",
    "&\\text{Rearranging}\\quad\\  \\frac{m}{a\\cos\\beta} = \\frac{\\partial \\beta}{\\partial \\lambda}\\\\\n",
    "&\\text{Rearranging the grating Equation}\\quad\\ \\lambda = \\frac{a}{m}(\\sin\\alpha+\\sin\\beta)\\\\\n",
    "&\\text{Multiplying the above two lines}\\quad\\  \\frac{m}{a\\cos\\beta}\\frac{a}{m}(\\sin\\alpha+\\sin\\beta) = \\lambda\\frac{\\partial \\beta}{\\partial \\lambda}\\\\\n",
    "&\\text{Simplifying the left side}\\quad\\  \\frac{\\sin\\alpha+\\sin\\beta}{\\cos\\beta } = \\lambda\\frac{\\partial \\beta}{\\partial \\lambda}\\\\\n",
    "&\\text{Since }\\alpha -2\\theta=\\beta \\quad\\ \\frac{\\sin(\\beta+2\\theta)+\\sin\\beta}{\\cos\\beta } = \\lambda\\frac{\\partial \\beta}{\\partial \\lambda}\\\\\n",
    "&\\text{Simplifying and substituting tangent}\\quad\\ \\frac{\\sin(\\beta+2\\theta)}{\\cos\\beta } + \\tan( \\beta) = \\lambda\\frac{\\partial \\beta}{\\partial \\lambda}\\\\\n",
    "&\\text{Since }\\sin(a+b)= \\sin(a)\\cos(b)+\\cos(a)\\sin(b)\\quad\\ \\frac{\\sin(2\\theta)\\cos(\\beta)+\\cos(2\\theta)\\sin(\\beta)}{\\cos\\beta } + \\tan( \\beta) = \\lambda\\frac{\\partial \\beta}{\\partial \\lambda}\\\\\n",
    "&\\text{Simplifying and factoring}\\quad\\  \n",
    "\\sin(2\\theta) + \\tan( \\beta)(1+\\cos(2\\theta)) = \\lambda\\frac{\\partial \\beta}{\\partial \\lambda}\\\\ \n",
    "&\\text{Since }2\\cos^2(\\theta)-1=\\cos(2\\theta)\\quad\\ \n",
    "\\sin(2\\theta) + 2\\tan(\\beta)\\cos^2(\\theta) = \\lambda\\frac{\\partial \\beta}{\\partial \\lambda}\\\\ \n",
    "&\\blacksquare\\nonumber\n",
    "\\end{align}"
   ]
  },
  {
   "cell_type": "markdown",
   "id": "b53449a6",
   "metadata": {},
   "source": [
    "\\begin{align}\n",
    "&\\text{Grating Equation}\\quad\\ \\frac{m\\lambda}{a} = \\sin(\\alpha)+\\sin(\\beta)\\\\\n",
    "&\\text{Since }2\\theta=\\alpha-\\beta\\quad\\ \\frac{m\\lambda}{a} = \\sin(\\alpha)+\\sin(\\alpha-2\\theta)\\\\ \n",
    "&\\text{Since }2\\theta=\\alpha-\\beta\\quad\\ \\frac{m\\lambda}{a} = \\sin(\\alpha)+\\sin(\\alpha-2\\theta)\\\\ \n",
    "&\\text{Sine addition formula}\\quad\\ \\frac{m\\lambda}{a} = \\sin\\alpha(1+\\cos(2\\theta))-\\cos(\\alpha)\\sin(2\\theta)\\\\\n",
    "&\\text{Trigonometric identity}\\quad\\ \\frac{m\\lambda}{a} = 2\\sin\\alpha\\cos^2(\\theta))-\\cos(\\alpha)\\sin(2\\theta)\\\\\n",
    "&\\text{Sine addition formula}\\quad\\ \\frac{m\\lambda}{a} =  2\\sin\\alpha\\cos^2(\\theta))-2\\cos(\\theta)\\cos(\\alpha)\\sin(\\theta)\\\\\n",
    "&\\text{Rearranging}\\quad\\ \\frac{m\\lambda}{2a\\cos\\theta} =  \\sin\\alpha\\cos(\\theta))-\\cos(\\alpha)\\sin(\\theta)\\\\ \n",
    "&\\text{Sine difference formula}\\quad\\ \\frac{m\\lambda}{2a\\cos\\theta} =\n",
    "\\sin(\\alpha-\\theta)\\\\\n",
    "&\\text{Solve for }\\alpha\\quad\\ \\arcsin\\left(\\frac{m\\lambda}{2a\\cos\\theta}\\right)+\\theta =\n",
    "\\alpha\n",
    "\\end{align}"
   ]
  },
  {
   "cell_type": "markdown",
   "id": "fdbf8263",
   "metadata": {},
   "source": [
    "\\begin{align}\n",
    "    &\\text{We know}\\quad\\ D=i-A+\\arcsin\\left(n\\sin(A-\\arcsin\\left(\\frac{\\sin   i}{n}\\right)\\right)\n",
    "\\end{align}"
   ]
  },
  {
   "cell_type": "markdown",
   "id": "b72bb7c9",
   "metadata": {},
   "source": [
    "The desired result can be derived by differentiating both sides with respect to $i$ and then solving for $n.$ Since at the desired $n$, $\\frac{dD}{di}=0$ one can use trigonometric identities to algebraically rearrange and solve for $n$. "
   ]
  },
  {
   "cell_type": "code",
   "execution_count": 135,
   "id": "fef2d7dd",
   "metadata": {},
   "outputs": [
    {
     "data": {
      "text/html": [
       "<div>\n",
       "<style scoped>\n",
       "    .dataframe tbody tr th:only-of-type {\n",
       "        vertical-align: middle;\n",
       "    }\n",
       "\n",
       "    .dataframe tbody tr th {\n",
       "        vertical-align: top;\n",
       "    }\n",
       "\n",
       "    .dataframe thead th {\n",
       "        text-align: right;\n",
       "    }\n",
       "</style>\n",
       "<table border=\"1\" class=\"dataframe\">\n",
       "  <thead>\n",
       "    <tr style=\"text-align: right;\">\n",
       "      <th></th>\n",
       "      <th>Slit Width Microns</th>\n",
       "      <th>Separation Between Each Line (mm) on Screen</th>\n",
       "      <th>Rotational Stage Reading When Blazed</th>\n",
       "      <th>Rotational stage reading when the diffraction grating is normal to the beam</th>\n",
       "      <th>Brighter Further Line Separation From Incoming Beam</th>\n",
       "      <th>Dimmer Closer Line Separation From Incoming Beam</th>\n",
       "    </tr>\n",
       "  </thead>\n",
       "  <tbody>\n",
       "    <tr>\n",
       "      <th>0</th>\n",
       "      <td>15 \\pm .5</td>\n",
       "      <td>5 mm \\pm .5 mm</td>\n",
       "      <td>97 degrees 55 arcminutes \\pm 5 arcminutes</td>\n",
       "      <td>95 degrees 35 arcminutes \\pm 5 arcminutes</td>\n",
       "      <td>74 \\pm .7 mm</td>\n",
       "      <td>64 \\pm .7 mm</td>\n",
       "    </tr>\n",
       "    <tr>\n",
       "      <th>1</th>\n",
       "      <td>19.5 \\pm .5</td>\n",
       "      <td>5 cm \\pm 0.5 mm</td>\n",
       "      <td>98 degrees 10 arcminutes \\pm 5 arcminutes</td>\n",
       "      <td>95 degrees 25 arcminutes \\pm 5 arcminutes</td>\n",
       "      <td>75.5 mm \\pm 0.7 mm</td>\n",
       "      <td>70.0 mm \\pm 0.7 mm</td>\n",
       "    </tr>\n",
       "    <tr>\n",
       "      <th>2</th>\n",
       "      <td>8 \\pm 0.5</td>\n",
       "      <td>Not Recorded</td>\n",
       "      <td>97 degrees and 50 arcminutes \\pm 5 arcminutes</td>\n",
       "      <td>96 degrees and 5 arcminutes \\pm 5 arcminutes</td>\n",
       "      <td>86.0 mm \\pm 0.7 mm</td>\n",
       "      <td>76.5 mm \\pm 0.7 mm</td>\n",
       "    </tr>\n",
       "  </tbody>\n",
       "</table>\n",
       "</div>"
      ],
      "text/plain": [
       "  Slit Width Microns Separation Between Each Line (mm) on Screen  \\\n",
       "0          15 \\pm .5                              5 mm \\pm .5 mm   \n",
       "1        19.5 \\pm .5                             5 cm \\pm 0.5 mm   \n",
       "2          8 \\pm 0.5                                Not Recorded   \n",
       "\n",
       "            Rotational Stage Reading When Blazed  \\\n",
       "0      97 degrees 55 arcminutes \\pm 5 arcminutes   \n",
       "1      98 degrees 10 arcminutes \\pm 5 arcminutes   \n",
       "2  97 degrees and 50 arcminutes \\pm 5 arcminutes   \n",
       "\n",
       "  Rotational stage reading when the diffraction grating is normal to the beam  \\\n",
       "0          95 degrees 35 arcminutes \\pm 5 arcminutes                            \n",
       "1          95 degrees 25 arcminutes \\pm 5 arcminutes                            \n",
       "2       96 degrees and 5 arcminutes \\pm 5 arcminutes                            \n",
       "\n",
       "  Brighter Further Line Separation From Incoming Beam  \\\n",
       "0                                       74 \\pm .7 mm    \n",
       "1                                 75.5 mm \\pm 0.7 mm    \n",
       "2                                 86.0 mm \\pm 0.7 mm    \n",
       "\n",
       "  Dimmer Closer Line Separation From Incoming Beam  \n",
       "0                                     64 \\pm .7 mm  \n",
       "1                               70.0 mm \\pm 0.7 mm  \n",
       "2                               76.5 mm \\pm 0.7 mm  "
      ]
     },
     "execution_count": 135,
     "metadata": {},
     "output_type": "execute_result"
    }
   ],
   "source": [
    "data = pd.read_csv(\"lab4 - The Cooler First Order.csv\")\n",
    "data, end_of_data = data.iloc[:3,:], data.iloc[3:,:]\n",
    "end_of_data = [x for x in end_of_data.iloc[:,0] if len(str(x))>0\n",
    "              if type(x) is str]\n",
    "data"
   ]
  },
  {
   "cell_type": "code",
   "execution_count": 96,
   "id": "8b0ff921",
   "metadata": {},
   "outputs": [
    {
     "name": "stdout",
     "output_type": "stream",
     "text": [
      "distance from diffraction grating to red line on our piece of paper 97.5 \\pm 0.7 mm\n",
      "1200 lines/mm diffraction grating\n"
     ]
    }
   ],
   "source": [
    "for note in end_of_data:\n",
    "    print(note)"
   ]
  },
  {
   "cell_type": "code",
   "execution_count": 199,
   "id": "776cb040",
   "metadata": {},
   "outputs": [
    {
     "data": {
      "text/plain": [
       "{15.0: 0.5, 19.5: 0.5, 8.0: 0.5}"
      ]
     },
     "execution_count": 199,
     "metadata": {},
     "output_type": "execute_result"
    }
   ],
   "source": [
    "def convert_data(element):\n",
    "    try:\n",
    "        expected_val, uncertainty = [float(x) for x \n",
    "            in element.split(\" \")\n",
    "            if len(x)>0 and (x[-1].isnumeric() or x[0].isnumeric())]\n",
    "        return expected_val, uncertainty\n",
    "    except: \n",
    "        try: \n",
    "            expected_val, arcmin, uncertainty = [float(x) for x \n",
    "            in element.split(\" \")\n",
    "            if x[-1].isnumeric() or x[0].isnumeric()]\n",
    "            expected_val = expected_val + arcmin / 60\n",
    "            return expected_val, uncertainty / 60\n",
    "        except:\n",
    "            return \"NA\"\n",
    "def arr_to_dict(arr):\n",
    "    out = {}\n",
    "    for pair in arr:\n",
    "        out[pair[0]] = pair[1]\n",
    "    return out\n",
    "def convert_col(df, col):\n",
    "    return arr_to_dict([convert_data(x) for x in data[col]])\n",
    "slit_widths = convert_col(data, 'Slit Width Microns')\n",
    "slit_widths"
   ]
  },
  {
   "cell_type": "markdown",
   "id": "e4c25281",
   "metadata": {},
   "source": [
    "We now perform an average weighted linearly by the slit width, since it should be proportional to the photon flux on the screen. "
   ]
  },
  {
   "cell_type": "code",
   "execution_count": 200,
   "id": "21f35913",
   "metadata": {},
   "outputs": [],
   "source": [
    "weights = [x for x in slit_widths.keys()]\n",
    "n = len(weights)"
   ]
  },
  {
   "cell_type": "code",
   "execution_count": 201,
   "id": "0284cc6d",
   "metadata": {
    "scrolled": true
   },
   "outputs": [
    {
     "data": {
      "text/plain": [
       "{1.7106964440920107: 0.000839721927886212}"
      ]
     },
     "execution_count": 201,
     "metadata": {},
     "output_type": "execute_result"
    }
   ],
   "source": [
    "def weighted_average(data, col, weights, coeff=1):\n",
    "    column = convert_col(data, col)\n",
    "    keys = coeff * np.array([x for x in column.keys()])\n",
    "    unc = coeff * [x for x in column.values()][0] / np.sqrt(\n",
    "            len(weights))\n",
    "    return { np.sum(np.array([weights[col] * keys[col] for \n",
    "            col in range(data.shape[0])])) / np.sum(weights) : unc }\n",
    "average_angle_blazed = weighted_average(data, \n",
    "        'Rotational Stage Reading When Blazed', weights, np.pi/180)\n",
    "average_angle_blazed"
   ]
  },
  {
   "cell_type": "code",
   "execution_count": 202,
   "id": "4b802d56",
   "metadata": {},
   "outputs": [
    {
     "data": {
      "text/plain": [
       "{1.668551875977677: 0.000839721927886212}"
      ]
     },
     "execution_count": 202,
     "metadata": {},
     "output_type": "execute_result"
    }
   ],
   "source": [
    "col = 'Rotational stage reading when the diffraction grating is normal to the beam'\n",
    "average_angle_zeroed = weighted_average(data, col, weights, np.pi/180)\n",
    "average_angle_zeroed "
   ]
  },
  {
   "cell_type": "code",
   "execution_count": 203,
   "id": "9196c9f7",
   "metadata": {},
   "outputs": [
    {
     "data": {
      "text/plain": [
       "{76.94705882352942: 0.40414518843273806}"
      ]
     },
     "execution_count": 203,
     "metadata": {},
     "output_type": "execute_result"
    }
   ],
   "source": [
    "brighter_further = weighted_average(data, \n",
    "    'Brighter Further Line Separation From Incoming Beam', weights)\n",
    "brighter_further"
   ]
  },
  {
   "cell_type": "code",
   "execution_count": 204,
   "id": "a74b1b1d",
   "metadata": {},
   "outputs": [
    {
     "data": {
      "text/plain": [
       "{69.10588235294118: 0.40414518843273806}"
      ]
     },
     "execution_count": 204,
     "metadata": {},
     "output_type": "execute_result"
    }
   ],
   "source": [
    "dimmer_closer = weighted_average(data, \n",
    "    'Dimmer Closer Line Separation From Incoming Beam', weights)\n",
    "dimmer_closer"
   ]
  },
  {
   "cell_type": "markdown",
   "id": "0c39629e",
   "metadata": {},
   "source": [
    "I have written a publicly available error propagation Python script on Github, which I make use of here. The purpose of this file is to have a set of functions that can calculate error propagation.\n",
    "All inputs will be dictionaries of the form\n",
    "\n",
    "dict = {value1: uncertainty1, value2: uncertainty2, ...}\n",
    "\n",
    "All outputs will be lists of the form (value, uncertainty).\n",
    "All uncertanties should be listed as nonnegative real numbers.\n",
    "For the general() function to calculate the exact uncertainty,\n",
    "the syntax for defining functions used here:\n",
    "\n",
    "https://www.askpython.com/python/examples/derivatives-in-python-sympy\n",
    "\n",
    "should be used.\n",
    "The purpose of symbol_list list is to have up to 26 variable names to take\n",
    "partial differentials in general()\n",
    "All functions used in the general function must use the first n letters of\n",
    "the alphabet as their variables"
   ]
  },
  {
   "cell_type": "code",
   "execution_count": 205,
   "id": "af557eec",
   "metadata": {
    "scrolled": true
   },
   "outputs": [
    {
     "name": "stdout",
     "output_type": "stream",
     "text": [
      "(3.50656581341894, 1.8267621151828408)\n"
     ]
    }
   ],
   "source": [
    "a, b, c, d, e, f, g, h, i, j, k, l, m = symbols('a b c d e f g h i j k l m')\n",
    "n, o, p, q, r, s, t, u, v, w, x, y, z = symbols('n o p q r s t u v w x y z')\n",
    "symbol_list = (a, b, c, d, e, f, g, h, i, j, k, l, m, n, o, p, q, r, s, t, u, v,\n",
    "w, x, y, z)\n",
    "\n",
    "def general (dict, fun):\n",
    "    #can only take up to 26 inputs\n",
    "    #its output is of the form (exact uncertainty, maximum uncertainty)\n",
    "    sum_squares = 0\n",
    "\n",
    "    try:\n",
    "        keys = np.array(list(dict.keys()))\n",
    "        values = np.array(list(dict.values()))\n",
    "        for index in range(len(keys)):\n",
    "            diff_f = fun.diff(symbol_list[index])\n",
    "            lam_f = lambdify(symbol_list[0:len(keys)], diff_f)\n",
    "            sum_squares += (lam_f(*keys) * values[index]) ** 2\n",
    "        lam_og = lambdify(symbol_list[0:len(keys)], fun)\n",
    "        best_est = lam_og(*keys)\n",
    "    except:\n",
    "        print(\"Singular uncertainty entered\")\n",
    "        keys = list(dict.keys())\n",
    "        keys = float(keys[0])\n",
    "        values = list(dict.values())\n",
    "        values = float(values[0])\n",
    "        diff_f = fun.diff(symbol_list[0])\n",
    "        lam_f = lambdify(symbol_list[0], diff_f)\n",
    "        sum_squares += (lam_f(keys) * values) ** 2\n",
    "        lam_og = lambdify(symbol_list[0], fun)\n",
    "        lam_og(keys)\n",
    "\n",
    "    uncertainty = math.sqrt(sum_squares)\n",
    "\n",
    "    return (best_est, uncertainty)\n",
    "#a = x, y = b, c = theta\n",
    "fun = (a + 2) / (a + (b * cos(4 * c * np.pi / 180)))\n",
    "dict = {10:2, 7:1, 40:3}\n",
    "print(general(dict, fun))"
   ]
  },
  {
   "cell_type": "markdown",
   "id": "bf3108e5",
   "metadata": {},
   "source": [
    "a = l1, b = linear separations (brigth lines)\n",
    "\n",
    "c is the starting angle, d is the grating angle\n",
    "\n",
    "e is $\\alpha$ and will be a function of the c and d. \n",
    "\n",
    "f is $\\beta$ and will be a function of e, a, and b. \n",
    "\n",
    "g is $\\lambda$ will be a function of e and f."
   ]
  },
  {
   "cell_type": "code",
   "execution_count": 206,
   "id": "3f30e69d",
   "metadata": {
    "scrolled": true
   },
   "outputs": [
    {
     "data": {
      "text/markdown": [
       "Where atan is arctan, a is the angle on rotional stage, b is the angle on the rotational stage when normal to the incoming beam, d is the distance from the diffraction grating to an arbitrary line normal to the incoming beam,c is the distance from the spectral feature on the screenfrom the incoming beam along the same arbitrary line we have for the wavelength in nanometers\\begin{equation}\\lambda=833.333333333333 \\sin{\\left(a - b \\right)} + 833.333333333333 \\sin{\\left(- a + b + \\operatorname{atan}{\\left(\\frac{c}{d} \\right)} \\right)}\\end{equation}"
      ],
      "text/plain": [
       "<IPython.core.display.Markdown object>"
      ]
     },
     "execution_count": 206,
     "metadata": {},
     "output_type": "execute_result"
    }
   ],
   "source": [
    "arctan = atan\n",
    "angle_when_blazed, angle_when_zeroed = symbols(\"a b\")\n",
    "d_n, grating_to_red_line = symbols(\"c d\")\n",
    "alpha = angle_when_blazed - angle_when_zeroed\n",
    "beta = arctan(d_n / grating_to_red_line) - alpha\n",
    "wavelength = 10**6 * (1/1200) * (sin(alpha) + sin(beta))\n",
    "md(\"Where atan is arctan, a is the angle on rotional stage, b\" \n",
    "   \" is the angle on the rotational stage when normal to the \" \n",
    "   \"incoming beam, d is the distance from the diffraction grating\"\n",
    "   \" to an arbitrary line normal to the incoming beam,\" +  \n",
    "   \"c is the distance from the spectral feature on the screen\" + \n",
    "    \"from the incoming beam along the same arbitrary line\" + \n",
    "   \" we have for the wavelength in nanometers\\\\begin{equation}\" + \n",
    "   \"\\\\lambda=\" + latp(simplify(wavelength)) +\"\\\\end{equation}\")"
   ]
  },
  {
   "cell_type": "code",
   "execution_count": 234,
   "id": "22db8091",
   "metadata": {
    "scrolled": true
   },
   "outputs": [
    {
     "data": {
      "text/markdown": [
       "We have for the wavelength of the brighter emission linein the doublet in nm\\begin{equation}\\Large\\lambda=508.252648723968\\pm2.74364673383703\\end{equation}"
      ],
      "text/plain": [
       "<IPython.core.display.Markdown object>"
      ]
     },
     "execution_count": 234,
     "metadata": {},
     "output_type": "execute_result"
    }
   ],
   "source": [
    "averaged_dict = (average_angle_zeroed | average_angle_blazed |\n",
    "            brighter_further | {97.5:.7} )\n",
    "lam_brighter_further = general(averaged_dict, wavelength)\n",
    "md(\"We have for the wavelength of the brighter emission line\" + \n",
    "   \"in the doublet in nm\" +  \"\\\\begin{equation}\\\\Large\\\\lambda=\" + \n",
    "   latp(lam_brighter_further[0]) + \"\\\\pm\" + \n",
    "   latp(lam_brighter_further[1]) + \"\\\\end{equation}\")"
   ]
  },
  {
   "cell_type": "code",
   "execution_count": 224,
   "id": "5a4ae1ad",
   "metadata": {},
   "outputs": [
    {
     "data": {
      "text/markdown": [
       "We have for the wavelength of the brighter emission line in the doublet in nm\\begin{equation}\\Large\\lambda=474.989240424089\\pm2.88615877888694\\end{equation}"
      ],
      "text/plain": [
       "<IPython.core.display.Markdown object>"
      ]
     },
     "execution_count": 224,
     "metadata": {},
     "output_type": "execute_result"
    }
   ],
   "source": [
    "averaged_dict = (average_angle_zeroed | average_angle_blazed |\n",
    "            dimmer_closer | {97.5:.7} )\n",
    "lam_dimmer_closer = general(averaged_dict, wavelength)\n",
    "md(\"We have for the wavelength of the brighter emission line in the\" +\n",
    "   \" doublet in nm\\\\begin{equation}\\\\Large\\\\lambda=\" + \n",
    "   latp(lam_dimmer_closer[0]) + \n",
    "   \"\\\\pm\" + latp(lam_dimmer_closer[1]) + \"\\\\end{equation}\")"
   ]
  },
  {
   "cell_type": "code",
   "execution_count": 237,
   "id": "f00274ed",
   "metadata": {},
   "outputs": [
    {
     "data": {
      "text/markdown": [
       "We have for the wavelengths and uncertainties of the doublet\\begin{equation}\\left[ \\left( 5.1028905792447 \\cdot 10^{-7}, \\  3.92228677149986 \\cdot 10^{-9}\\right), \\  \\left( 5.17994675481773 \\cdot 10^{-7}, \\  3.88705235226923 \\cdot 10^{-9}\\right), \\  \\left( 5.57351711971439 \\cdot 10^{-7}, \\  3.47638104232865 \\cdot 10^{-9}\\right)\\right]\\end{equation}and for the width of each slit and their uncertainty in microns, respectively\\begin{equation}{15.0: 0.5, 19.5: 0.5, 8.0: 0.5}\\end{equation}"
      ],
      "text/plain": [
       "<IPython.core.display.Markdown object>"
      ]
     },
     "execution_count": 237,
     "metadata": {},
     "output_type": "execute_result"
    }
   ],
   "source": [
    "e = d - c  \n",
    "f = arctan( b / a) - e\n",
    "g = 10**-3 / (1200) * (sin(e) + sin(f))\n",
    "b_arr = [74.0, 75.5, 86.0]\n",
    "c_arr = np.pi * np.array([95+35/60, 95 + 25/60, 96 + 5/60]) / 180\n",
    "d_arr = np.pi * np.array([97+55/60, 98 + 10/60, 97 + 50/60]) / 180\n",
    "angle_unc = 5 * np.pi / ( 60 * 180 )\n",
    "output = [general({97.5:.7, b_arr[i]:.7, c_arr[i]:angle_unc, \n",
    "                d_arr[i]:angle_unc}, g) for i in range(len(b_arr))]\n",
    "md(\"We have for the wavelengths and uncertainties of the doublet\"\n",
    "   \"\\\\begin{equation}\" + latp(output) + \"\\\\end{equation}\"+ \n",
    "   \"and for the width of each slit and their uncertainty in microns, respectively\" + \n",
    "   \"\\\\begin{equation}\" + str(slit_widths) + \"\\\\end{equation}\")"
   ]
  },
  {
   "cell_type": "markdown",
   "id": "176b98fd",
   "metadata": {},
   "source": [
    "# Discussion\n",
    "As expected, the spectral resolution somewhat increased with smaller slit widths, but the doublet reflected by the diffraction grating onto the screen was noticeably dimmer. Although a smaller slit width can allow for a higher spectral resolution via the grating equation, it can also act as a field stop and decrease the flux of light onto the screen. For instance, if one were using a CCD instead of a screen, then for a dim light source then the total photon counts would decrease, potentially impacting the science goals of the experiment or observation. Thus, a smaller slit width is not always monotonically better, and one must carefully weigh the trade-off between photon throughput and spectral resolution. For instance, a slit is too thin may create unnecessary uncertainty in the depth of a spectral feature that is of interest to the investigation. \n",
    "\n",
    "The focal lengths of collimating biconvex lenses were not particularly significant because as long as an image was formed on the screen, then changing the distance of the screen would simply make the image larger, smaller, or out of focus. Any damage or aberrations in any of the components in the optical train, or misallignment in the vertical plane would be detrimental to the spectral resolution. In practice, systematic errors and noise due to the process with which we measured each distance used in the wavelength calculation were easily the largest sources of error. \n",
    "\n",
    "Similar findings would be expected for the zeroeth order, but of course without spectral resolution playing a role since the zeroeth order cannot resolve spectral features. \n",
    "\n",
    "Were part 2 of the experiment possible without time constraints, the values measured would be substituted into the Equation for spectral resolution derived above in this report, and it would be expected to be smaller than the same value of diffraction grating spectrographs. "
   ]
  },
  {
   "cell_type": "code",
   "execution_count": 225,
   "id": "52aec0c8",
   "metadata": {},
   "outputs": [
    {
     "data": {
      "text/markdown": [
       "If we instead seek to find a singular wavelength for the entire doublet then we have in nm\\begin{equation}\\large\\lambda=5.28545148459227 \\cdot 10^{-7}\\pm2.17193785863177 \\cdot 10^{-9}\\end{equation}"
      ],
      "text/plain": [
       "<IPython.core.display.Markdown object>"
      ]
     },
     "execution_count": 225,
     "metadata": {},
     "output_type": "execute_result"
    }
   ],
   "source": [
    "md(\"If we instead seek to find a singular wavelength for the entire\"\n",
    "  + \" doublet then we have in meters\\\\begin{equation}\\\\large\\\\lambda=\" + \n",
    "  latp(np.average([x[0] for x in output])) + \"\\\\pm\" + \n",
    "   latp(np.average([x[1] for x in output]/np.sqrt(len(output)))) + \n",
    "  \"\\\\end{equation}\") "
   ]
  },
  {
   "cell_type": "markdown",
   "id": "9ea1b476",
   "metadata": {},
   "source": [
    "Each member of the lab group contributed equally, since we implemented a system where after each set of measurements, we would rotate who was participating in what role. "
   ]
  },
  {
   "cell_type": "code",
   "execution_count": 240,
   "id": "1148dca6",
   "metadata": {},
   "outputs": [
    {
     "name": "stderr",
     "output_type": "stream",
     "text": [
      "[NbConvertApp] Converting notebook Lab4.ipynb to latex\n",
      "[NbConvertApp] Writing 60519 bytes to Lab4.tex\n"
     ]
    }
   ],
   "source": [
    "!jupyter nbconvert --to latex Lab4.ipynb"
   ]
  },
  {
   "cell_type": "code",
   "execution_count": null,
   "id": "43b21dba",
   "metadata": {},
   "outputs": [],
   "source": []
  },
  {
   "cell_type": "code",
   "execution_count": null,
   "id": "5005506c",
   "metadata": {},
   "outputs": [],
   "source": []
  },
  {
   "cell_type": "code",
   "execution_count": null,
   "id": "bc22dad2",
   "metadata": {},
   "outputs": [],
   "source": []
  },
  {
   "cell_type": "code",
   "execution_count": null,
   "id": "ab53777b",
   "metadata": {},
   "outputs": [],
   "source": []
  },
  {
   "cell_type": "code",
   "execution_count": null,
   "id": "3f471720",
   "metadata": {},
   "outputs": [],
   "source": []
  },
  {
   "cell_type": "code",
   "execution_count": null,
   "id": "c0da1dd1",
   "metadata": {},
   "outputs": [],
   "source": []
  },
  {
   "cell_type": "code",
   "execution_count": null,
   "id": "8b567143",
   "metadata": {},
   "outputs": [],
   "source": []
  },
  {
   "cell_type": "code",
   "execution_count": null,
   "id": "b1d7afe7",
   "metadata": {},
   "outputs": [],
   "source": []
  },
  {
   "cell_type": "code",
   "execution_count": null,
   "id": "ff055aab",
   "metadata": {},
   "outputs": [],
   "source": []
  },
  {
   "cell_type": "markdown",
   "id": "9de5d331",
   "metadata": {},
   "source": []
  }
 ],
 "metadata": {
  "kernelspec": {
   "display_name": "Python 3 (ipykernel)",
   "language": "python",
   "name": "python3"
  },
  "language_info": {
   "codemirror_mode": {
    "name": "ipython",
    "version": 3
   },
   "file_extension": ".py",
   "mimetype": "text/x-python",
   "name": "python",
   "nbconvert_exporter": "python",
   "pygments_lexer": "ipython3",
   "version": "3.9.13"
  },
  "latex_envs": {
   "LaTeX_envs_menu_present": true,
   "autoclose": false,
   "autocomplete": true,
   "bibliofile": "biblio.bib",
   "cite_by": "apalike",
   "current_citInitial": 1,
   "eqLabelWithNumbers": true,
   "eqNumInitial": 1,
   "hotkeys": {
    "equation": "Ctrl-E",
    "itemize": "Ctrl-I"
   },
   "labels_anchors": false,
   "latex_user_defs": false,
   "report_style_numbering": false,
   "user_envs_cfg": false
  },
  "toc": {
   "base_numbering": 1,
   "nav_menu": {},
   "number_sections": true,
   "sideBar": true,
   "skip_h1_title": false,
   "title_cell": "Table of Contents",
   "title_sidebar": "Contents",
   "toc_cell": false,
   "toc_position": {
    "height": "calc(100% - 180px)",
    "left": "10px",
    "top": "150px",
    "width": "165px"
   },
   "toc_section_display": true,
   "toc_window_display": true
  },
  "varInspector": {
   "cols": {
    "lenName": 16,
    "lenType": 16,
    "lenVar": 40
   },
   "kernels_config": {
    "python": {
     "delete_cmd_postfix": "",
     "delete_cmd_prefix": "del ",
     "library": "var_list.py",
     "varRefreshCmd": "print(var_dic_list())"
    },
    "r": {
     "delete_cmd_postfix": ") ",
     "delete_cmd_prefix": "rm(",
     "library": "var_list.r",
     "varRefreshCmd": "cat(var_dic_list()) "
    }
   },
   "types_to_exclude": [
    "module",
    "function",
    "builtin_function_or_method",
    "instance",
    "_Feature"
   ],
   "window_display": false
  }
 },
 "nbformat": 4,
 "nbformat_minor": 5
}
